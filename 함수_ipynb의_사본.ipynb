{
  "nbformat": 4,
  "nbformat_minor": 0,
  "metadata": {
    "colab": {
      "name": "함수.ipynb의 사본",
      "provenance": [],
      "collapsed_sections": [],
      "authorship_tag": "ABX9TyPhTsvrszu95PNfJtDtlolR",
      "include_colab_link": true
    },
    "kernelspec": {
      "name": "python3",
      "display_name": "Python 3"
    },
    "language_info": {
      "name": "python"
    }
  },
  "cells": [
    {
      "cell_type": "markdown",
      "metadata": {
        "id": "view-in-github",
        "colab_type": "text"
      },
      "source": [
        "<a href=\"https://colab.research.google.com/github/boramkim0514/KOIPA_AI/blob/main/%ED%95%A8%EC%88%98_ipynb%EC%9D%98_%EC%82%AC%EB%B3%B8.ipynb\" target=\"_parent\"><img src=\"https://colab.research.google.com/assets/colab-badge.svg\" alt=\"Open In Colab\"/></a>"
      ]
    },
    {
      "cell_type": "markdown",
      "metadata": {
        "id": "mGXmLmahd1My"
      },
      "source": [
        "# 함수?\n",
        "특정 기능을 수행하는 일련의 명령\n",
        "필요시 호출 가능\n",
        "\n",
        "매개변수:  괄호 내부에 넣는 여러가지 자료들\n",
        "리턴 값:  함수의 최종 결과\n",
        "\n",
        "함수 선언:  함수가 어떤 매개변수를 받아 동작 후 어떤 값을 반환할 지 적은 것"
      ]
    },
    {
      "cell_type": "code",
      "metadata": {
        "colab": {
          "base_uri": "https://localhost:8080/"
        },
        "id": "veiNXbjEeS28",
        "outputId": "9aa4a08e-4886-4e9e-ffdf-dce1f64fa3bf"
      },
      "source": [
        "def func(mylist): # funn()  함수 호출 후 \n",
        "    return sum(mylist) # 매개변수  mylist 합산한 값을 반환하라\n",
        "\n",
        "    number = [1, 2, 3] # number 변수에 리스트 값을 할당 \n",
        "print(func(number)) #매개 변수 number   동작 후 리턴 값을  출력하라"
      ],
      "execution_count": null,
      "outputs": [
        {
          "output_type": "stream",
          "text": [
            "6\n"
          ],
          "name": "stdout"
        }
      ]
    },
    {
      "cell_type": "markdown",
      "metadata": {
        "id": "mpFuid-kfC0a"
      },
      "source": [
        "# 함수 종류\n",
        "1 )  인스턴스 함수\n",
        "문자열 -  replace, format, lower(), upper()\n",
        "자료 구조 관련 -  append, expand\n",
        "\n",
        "2) 내장 함수\n",
        "len, range, print\n"
      ]
    },
    {
      "cell_type": "code",
      "metadata": {
        "colab": {
          "base_uri": "https://localhost:8080/"
        },
        "id": "O8dL4G0If6Tb",
        "outputId": "0e084e1a-0b0e-461b-8f47-393a5327a0e9"
      },
      "source": [
        "#  내장함수  사용해보기\n",
        "a = [1, 2, 3, 4] # 리스트를 변수 a에 담기\n",
        "length = len(a)  # length에 변수 a를  가지고  len() 함수  실행한 값을 넣자\n",
        "print(length)  #변수 length 값 출력"
      ],
      "execution_count": null,
      "outputs": [
        {
          "output_type": "stream",
          "text": [
            "4\n"
          ],
          "name": "stdout"
        }
      ]
    },
    {
      "cell_type": "code",
      "metadata": {
        "colab": {
          "base_uri": "https://localhost:8080/"
        },
        "id": "3S3Hs-J3f-lx",
        "outputId": "d73f8159-9804-4a4d-eb69-af3c8872c2d1"
      },
      "source": [
        "print(len(a))  #함수를 직접 넣어도 되는군"
      ],
      "execution_count": null,
      "outputs": [
        {
          "output_type": "stream",
          "text": [
            "4\n"
          ],
          "name": "stdout"
        }
      ]
    },
    {
      "cell_type": "code",
      "metadata": {
        "colab": {
          "base_uri": "https://localhost:8080/",
          "height": 246
        },
        "id": "OlOkAMNAgBoI",
        "outputId": "994f3f16-4b71-421b-862e-0bb0fc07e6dd"
      },
      "source": [
        "a = [1, 2, 3, 4]\n",
        "ran = range(a)\n",
        "print(ran)"
      ],
      "execution_count": null,
      "outputs": [
        {
          "output_type": "error",
          "ename": "TypeError",
          "evalue": "ignored",
          "traceback": [
            "\u001b[0;31m---------------------------------------------------------------------------\u001b[0m",
            "\u001b[0;31mTypeError\u001b[0m                                 Traceback (most recent call last)",
            "\u001b[0;32m<ipython-input-25-36745c7340b1>\u001b[0m in \u001b[0;36m<module>\u001b[0;34m()\u001b[0m\n\u001b[1;32m      1\u001b[0m \u001b[0ma\u001b[0m \u001b[0;34m=\u001b[0m \u001b[0;34m[\u001b[0m\u001b[0;36m1\u001b[0m\u001b[0;34m,\u001b[0m \u001b[0;36m2\u001b[0m\u001b[0;34m,\u001b[0m \u001b[0;36m3\u001b[0m\u001b[0;34m,\u001b[0m \u001b[0;36m4\u001b[0m\u001b[0;34m]\u001b[0m\u001b[0;34m\u001b[0m\u001b[0;34m\u001b[0m\u001b[0m\n\u001b[0;32m----> 2\u001b[0;31m \u001b[0mran\u001b[0m \u001b[0;34m=\u001b[0m \u001b[0mrange\u001b[0m\u001b[0;34m(\u001b[0m\u001b[0ma\u001b[0m\u001b[0;34m)\u001b[0m\u001b[0;34m\u001b[0m\u001b[0;34m\u001b[0m\u001b[0m\n\u001b[0m\u001b[1;32m      3\u001b[0m \u001b[0mprint\u001b[0m\u001b[0;34m(\u001b[0m\u001b[0mran\u001b[0m\u001b[0;34m)\u001b[0m\u001b[0;34m\u001b[0m\u001b[0;34m\u001b[0m\u001b[0m\n",
            "\u001b[0;31mTypeError\u001b[0m: 'list' object cannot be interpreted as an integer"
          ]
        }
      ]
    },
    {
      "cell_type": "code",
      "metadata": {
        "colab": {
          "base_uri": "https://localhost:8080/",
          "height": 246
        },
        "id": "Lgi3DyFGgng7",
        "outputId": "89b73040-d271-4f83-a988-2eb37060ac3b"
      },
      "source": [
        "a = (1, 2, 3, 4) #range 함수에  튜플형태도 안들어가짐\n",
        "ran = range(a) \n",
        "print(ran)"
      ],
      "execution_count": null,
      "outputs": [
        {
          "output_type": "error",
          "ename": "TypeError",
          "evalue": "ignored",
          "traceback": [
            "\u001b[0;31m---------------------------------------------------------------------------\u001b[0m",
            "\u001b[0;31mTypeError\u001b[0m                                 Traceback (most recent call last)",
            "\u001b[0;32m<ipython-input-24-d551d6966fec>\u001b[0m in \u001b[0;36m<module>\u001b[0;34m()\u001b[0m\n\u001b[1;32m      1\u001b[0m \u001b[0ma\u001b[0m \u001b[0;34m=\u001b[0m \u001b[0;34m(\u001b[0m\u001b[0;36m1\u001b[0m\u001b[0;34m,\u001b[0m \u001b[0;36m2\u001b[0m\u001b[0;34m,\u001b[0m \u001b[0;36m3\u001b[0m\u001b[0;34m,\u001b[0m \u001b[0;36m4\u001b[0m\u001b[0;34m)\u001b[0m\u001b[0;34m\u001b[0m\u001b[0;34m\u001b[0m\u001b[0m\n\u001b[0;32m----> 2\u001b[0;31m \u001b[0mran\u001b[0m \u001b[0;34m=\u001b[0m \u001b[0mrange\u001b[0m\u001b[0;34m(\u001b[0m\u001b[0ma\u001b[0m\u001b[0;34m)\u001b[0m\u001b[0;34m\u001b[0m\u001b[0;34m\u001b[0m\u001b[0m\n\u001b[0m\u001b[1;32m      3\u001b[0m \u001b[0mprint\u001b[0m\u001b[0;34m(\u001b[0m\u001b[0mran\u001b[0m\u001b[0;34m)\u001b[0m\u001b[0;34m\u001b[0m\u001b[0;34m\u001b[0m\u001b[0m\n",
            "\u001b[0;31mTypeError\u001b[0m: 'tuple' object cannot be interpreted as an integer"
          ]
        }
      ]
    },
    {
      "cell_type": "code",
      "metadata": {
        "colab": {
          "base_uri": "https://localhost:8080/"
        },
        "id": "bDoorvBng1P4",
        "outputId": "a5778a7f-6b07-4dd3-a611-2650affb7fa6"
      },
      "source": [
        "# range()는 1부터 9까지 숫자 리스트를 자동으로 만들어줌\n",
        "ran = range(1, 10)\n",
        "print(ran)  #리스트가 안보이고 인덱스 범위만 나옴"
      ],
      "execution_count": null,
      "outputs": [
        {
          "output_type": "stream",
          "text": [
            "range(1, 10)\n"
          ],
          "name": "stdout"
        }
      ]
    },
    {
      "cell_type": "code",
      "metadata": {
        "colab": {
          "base_uri": "https://localhost:8080/"
        },
        "id": "WSLgIkUE4etQ",
        "outputId": "95560213-19ef-468c-8fe4-2529a52d327e"
      },
      "source": [
        "list(range(5)) #0부터 5-1 까지 정수로 범위를 만듬"
      ],
      "execution_count": null,
      "outputs": [
        {
          "output_type": "execute_result",
          "data": {
            "text/plain": [
              "[0, 1, 2, 3, 4]"
            ]
          },
          "metadata": {
            "tags": []
          },
          "execution_count": 6
        }
      ]
    },
    {
      "cell_type": "code",
      "metadata": {
        "colab": {
          "base_uri": "https://localhost:8080/"
        },
        "id": "tcz1cN6Z5H5n",
        "outputId": "74e1da6f-e91f-439e-bc7c-3d1389e6b480"
      },
      "source": [
        "list(range(2,5))"
      ],
      "execution_count": null,
      "outputs": [
        {
          "output_type": "execute_result",
          "data": {
            "text/plain": [
              "[2, 3, 4]"
            ]
          },
          "metadata": {
            "tags": []
          },
          "execution_count": 7
        }
      ]
    },
    {
      "cell_type": "code",
      "metadata": {
        "colab": {
          "base_uri": "https://localhost:8080/"
        },
        "id": "TDwr0NSW5NEP",
        "outputId": "ba5282cd-21b3-40ce-b92a-afd87f350500"
      },
      "source": [
        "list(range(1, 10, 2)) # 1 부터 9(10-1)까지, 2 간격 차이만큼 범위 정수 범위 만듬"
      ],
      "execution_count": null,
      "outputs": [
        {
          "output_type": "execute_result",
          "data": {
            "text/plain": [
              "[1, 3, 5, 7, 9]"
            ]
          },
          "metadata": {
            "tags": []
          },
          "execution_count": 8
        }
      ]
    },
    {
      "cell_type": "code",
      "metadata": {
        "colab": {
          "base_uri": "https://localhost:8080/",
          "height": 209
        },
        "id": "1V9D1GophR95",
        "outputId": "98185669-de70-4963-d5aa-15f1c59e8203"
      },
      "source": [
        "ran.shape  #배열 형태도 아님 그럼 뭐지?  배열이 어떻게 생겼나?  "
      ],
      "execution_count": null,
      "outputs": [
        {
          "output_type": "error",
          "ename": "AttributeError",
          "evalue": "ignored",
          "traceback": [
            "\u001b[0;31m---------------------------------------------------------------------------\u001b[0m",
            "\u001b[0;31mAttributeError\u001b[0m                            Traceback (most recent call last)",
            "\u001b[0;32m<ipython-input-22-99b9fa15a213>\u001b[0m in \u001b[0;36m<module>\u001b[0;34m()\u001b[0m\n\u001b[0;32m----> 1\u001b[0;31m \u001b[0mran\u001b[0m\u001b[0;34m.\u001b[0m\u001b[0mshape\u001b[0m\u001b[0;34m\u001b[0m\u001b[0;34m\u001b[0m\u001b[0m\n\u001b[0m",
            "\u001b[0;31mAttributeError\u001b[0m: 'range' object has no attribute 'shape'"
          ]
        }
      ]
    },
    {
      "cell_type": "code",
      "metadata": {
        "colab": {
          "base_uri": "https://localhost:8080/"
        },
        "id": "NhA4pMzw51td",
        "outputId": "ab6f06af-b460-4130-88f2-4ac40ddac0ab"
      },
      "source": [
        "list(range(0,5)) #0부터 5-1까지의 정수로 범위를 만듬"
      ],
      "execution_count": null,
      "outputs": [
        {
          "output_type": "execute_result",
          "data": {
            "text/plain": [
              "[0, 1, 2, 3, 4]"
            ]
          },
          "metadata": {
            "tags": []
          },
          "execution_count": 9
        }
      ]
    },
    {
      "cell_type": "code",
      "metadata": {
        "colab": {
          "base_uri": "https://localhost:8080/"
        },
        "id": "WUYwJutLhX7r",
        "outputId": "6ce681e6-31b3-47de-db55-f49c4f9be595"
      },
      "source": [
        "#  인스턴스  함수\n",
        "a.append(5) #list a 에 정수 5 넣기\n",
        "print(a)"
      ],
      "execution_count": null,
      "outputs": [
        {
          "output_type": "stream",
          "text": [
            "[1, 2, 3, 4, 5]\n"
          ],
          "name": "stdout"
        }
      ]
    },
    {
      "cell_type": "code",
      "metadata": {
        "colab": {
          "base_uri": "https://localhost:8080/"
        },
        "id": "qSADnGZoiCTv",
        "outputId": "317425d0-7358-40d1-a64e-258b9b2ce3f4"
      },
      "source": [
        "a.append(len(a)) # 중복값도 추가로 더해진다\n",
        "print(a)"
      ],
      "execution_count": null,
      "outputs": [
        {
          "output_type": "stream",
          "text": [
            "[1, 2, 3, 4, 5, 5]\n"
          ],
          "name": "stdout"
        }
      ]
    },
    {
      "cell_type": "code",
      "metadata": {
        "colab": {
          "base_uri": "https://localhost:8080/"
        },
        "id": "qz29H-JxijXr",
        "outputId": "16e20730-de6c-41ec-de82-c78f6c751d30"
      },
      "source": [
        "b = range(5)\n",
        "print(b)"
      ],
      "execution_count": null,
      "outputs": [
        {
          "output_type": "stream",
          "text": [
            "range(0, 5)\n"
          ],
          "name": "stdout"
        }
      ]
    },
    {
      "cell_type": "code",
      "metadata": {
        "colab": {
          "base_uri": "https://localhost:8080/",
          "height": 195
        },
        "id": "7drUznM56RUO",
        "outputId": "f4fe730e-4016-49e6-a949-99be66eeb623"
      },
      "source": [
        "n = 10\n",
        "a = range(0, n/2) # range 안의 매개변수는 항상 정수! 여야 함"
      ],
      "execution_count": null,
      "outputs": [
        {
          "output_type": "error",
          "ename": "TypeError",
          "evalue": "ignored",
          "traceback": [
            "\u001b[0;31m---------------------------------------------------------------------------\u001b[0m",
            "\u001b[0;31mTypeError\u001b[0m                                 Traceback (most recent call last)",
            "\u001b[0;32m<ipython-input-10-f9cacce676a5>\u001b[0m in \u001b[0;36m<module>\u001b[0;34m()\u001b[0m\n\u001b[1;32m      1\u001b[0m \u001b[0mn\u001b[0m \u001b[0;34m=\u001b[0m \u001b[0;36m10\u001b[0m\u001b[0;34m\u001b[0m\u001b[0;34m\u001b[0m\u001b[0m\n\u001b[0;32m----> 2\u001b[0;31m \u001b[0ma\u001b[0m \u001b[0;34m=\u001b[0m \u001b[0mrange\u001b[0m\u001b[0;34m(\u001b[0m\u001b[0;36m0\u001b[0m\u001b[0;34m,\u001b[0m \u001b[0mn\u001b[0m\u001b[0;34m/\u001b[0m\u001b[0;36m2\u001b[0m\u001b[0;34m)\u001b[0m\u001b[0;34m\u001b[0m\u001b[0;34m\u001b[0m\u001b[0m\n\u001b[0m",
            "\u001b[0;31mTypeError\u001b[0m: 'float' object cannot be interpreted as an integer"
          ]
        }
      ]
    },
    {
      "cell_type": "code",
      "metadata": {
        "colab": {
          "base_uri": "https://localhost:8080/"
        },
        "id": "a9KR_xNj6VFu",
        "outputId": "2583ce28-61ec-487d-b1bb-2d21d0babfc7"
      },
      "source": [
        "n = 10\n",
        "a = range(0, n // 2) #  정수 나누기 연산자(소수점 자리 이하 버리고 정수만 남김)\n",
        "list(a)  # 0, 1, 2, 3, 4, 6, 7, 8, 9까지 /2 로 나누고 정수만 남김"
      ],
      "execution_count": null,
      "outputs": [
        {
          "output_type": "execute_result",
          "data": {
            "text/plain": [
              "[0, 1, 2, 3, 4]"
            ]
          },
          "metadata": {
            "tags": []
          },
          "execution_count": 15
        }
      ]
    },
    {
      "cell_type": "code",
      "metadata": {
        "colab": {
          "base_uri": "https://localhost:8080/"
        },
        "id": "9Ns6ShL-irOz",
        "outputId": "6f338ba6-5d67-45d3-bdcf-42b5ceaa18b4"
      },
      "source": [
        "a.append(b)\n",
        "print(a)"
      ],
      "execution_count": null,
      "outputs": [
        {
          "output_type": "stream",
          "text": [
            "[1, 2, 3, 4, 5, 5, range(0, 5), range(0, 5)]\n"
          ],
          "name": "stdout"
        }
      ]
    },
    {
      "cell_type": "code",
      "metadata": {
        "colab": {
          "base_uri": "https://localhost:8080/"
        },
        "id": "yEfN3Kw1i4wl",
        "outputId": "ed1c9cc4-ace9-489f-d100-c0382b66c961"
      },
      "source": [
        "type(b) #range가 자료형인가??  "
      ],
      "execution_count": null,
      "outputs": [
        {
          "output_type": "execute_result",
          "data": {
            "text/plain": [
              "range"
            ]
          },
          "metadata": {
            "tags": []
          },
          "execution_count": 33
        }
      ]
    },
    {
      "cell_type": "code",
      "metadata": {
        "colab": {
          "base_uri": "https://localhost:8080/"
        },
        "id": "gNtMktVni-BW",
        "outputId": "581cc921-2276-4800-e825-29dfaf7ac08f"
      },
      "source": [
        "def print_2_times():\n",
        "    print(\"Hi\")\n",
        "    print(\"Hi\")\n",
        "print_2_times()"
      ],
      "execution_count": null,
      "outputs": [
        {
          "output_type": "stream",
          "text": [
            "Hi\n",
            "Hi\n"
          ],
          "name": "stdout"
        }
      ]
    },
    {
      "cell_type": "markdown",
      "metadata": {
        "id": "qpHCYDdm8mmP"
      },
      "source": [
        "# 함수의 정의\n",
        "def 키워드를 활용\n",
        "def 키워드 뒤에 함수 이름이 옴\n",
        "함수 이름 뒤에 소괄호() 이용해서 parameter or argument 작성"
      ]
    },
    {
      "cell_type": "markdown",
      "metadata": {
        "id": "w6WtpMiSkMDL"
      },
      "source": [
        "# 함수의 구현\n",
        "함수 뒤에 콜론 (:)을 붙여서 수행할 코드 블럭을 만듬  "
      ]
    },
    {
      "cell_type": "code",
      "metadata": {
        "id": "sKBG8UPI9DCL"
      },
      "source": [
        "def add(x, y): #def 키워드를 활용해 함수 이름 add가 왔고, 이름 안 소괄호 안에 parameter/argument x,y 를 어떻게 받을지 정의하겠다\n",
        "    n = x + y # 수행할 코드는 입력 받은 x, y를 합해준 처리를 하고 변수 n에 넣어주어라\n",
        "    return n # n을 반환해라"
      ],
      "execution_count": null,
      "outputs": []
    },
    {
      "cell_type": "code",
      "metadata": {
        "colab": {
          "base_uri": "https://localhost:8080/"
        },
        "id": "_ENb5CpV9G0_",
        "outputId": "736562fd-8f3e-4b52-9f65-cb3b6cdb7c1b"
      },
      "source": [
        "result = add(100, 200) #result라는 변수에 add함수안의 파라미터/아규먼트 100, 200을 받아 합해주고 result라는 변수에 넣어주어라 \n",
        "print(result) #result 변수 속 함수 처리된 값을 출력하라"
      ],
      "execution_count": null,
      "outputs": [
        {
          "output_type": "stream",
          "text": [
            "300\n"
          ],
          "name": "stdout"
        }
      ]
    },
    {
      "cell_type": "code",
      "metadata": {
        "id": "bh9LGG5_9JF2"
      },
      "source": [
        "def mul(x, y): #def 키워드를 활용해 mul이라는 함수를 정의하자, mul 함수 속 파라미터/아규먼트 x, y 를 받고 \n",
        "    n = x * y # n 변수에 x * y를 곱해서 담아주자\n",
        "    return n  # n 값을 반환하라"
      ],
      "execution_count": null,
      "outputs": []
    },
    {
      "cell_type": "code",
      "metadata": {
        "colab": {
          "base_uri": "https://localhost:8080/"
        },
        "id": "seRPUE1v-6n4",
        "outputId": "ec135f78-f452-41be-84b0-57bedf2ad807"
      },
      "source": [
        "print(add(10, 20)) #add 함수 안에 입력된 파라미터 10, 20을 정의된 과정대로 처리하고 값을 출력하라\n",
        "print(mul(10, 20)) # 10, 20 파라미터를 mul 함수 안에 입력한 후 정의된 mul 함수 연산을 처리해서 그 값을 출력하라"
      ],
      "execution_count": null,
      "outputs": [
        {
          "output_type": "stream",
          "text": [
            "30\n",
            "200\n"
          ],
          "name": "stdout"
        }
      ]
    },
    {
      "cell_type": "markdown",
      "metadata": {
        "id": "ehpOCqn2--i-"
      },
      "source": [
        "# 함수가 사용되어지는 과정\n",
        "함수가 호출되면 흐름이 호출자(caller) 함수(callee)로 변경된다"
      ]
    },
    {
      "cell_type": "code",
      "metadata": {
        "colab": {
          "base_uri": "https://localhost:8080/"
        },
        "id": "InDEeRoz_0W3",
        "outputId": "18c3ec53-f6a1-4777-ad62-5db3173b8814"
      },
      "source": [
        "def div(x, y): #def 키워드 활용해 함수 이름을 div로 지어주고, 그 안에 파라미터/아규먼트를 x,y로 받아주자\n",
        "    print(f\"나누기 수행: {x} / {y}\") # x와 y 값을 넣어준 상태로 \n",
        "    return x / y #리턴 x / y 나누기\n",
        "\n",
        "print(\"Hello\") # 문자열 출력\n",
        "c = div(10, 3) # c 변수에 div 함수에 10, 3 이라는 파라미터 넣고 연산 처리한 값을 담아주자 \n",
        "print(c) # 변수 c에 담긴 값을 반환해라"
      ],
      "execution_count": null,
      "outputs": [
        {
          "output_type": "stream",
          "text": [
            "Hello\n",
            "나누기 수행: 10 / 3\n",
            "3.3333333333333335\n"
          ],
          "name": "stdout"
        }
      ]
    },
    {
      "cell_type": "markdown",
      "metadata": {
        "id": "m2w1-yvFAmTf"
      },
      "source": [
        "# 함수의 네이밍\n",
        " * 함수의 기능이 담기도록 이름\n",
        " * "
      ]
    }
  ]
}