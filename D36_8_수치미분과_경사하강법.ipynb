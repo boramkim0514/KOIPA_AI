{
  "nbformat": 4,
  "nbformat_minor": 0,
  "metadata": {
    "colab": {
      "name": "D36_8.수치미분과 경사하강법.ipynb",
      "provenance": [],
      "collapsed_sections": [],
      "authorship_tag": "ABX9TyNXn5i/XRKU1MygkSboB4ZY",
      "include_colab_link": true
    },
    "kernelspec": {
      "name": "python3",
      "display_name": "Python 3"
    },
    "language_info": {
      "name": "python"
    },
    "widgets": {
      "application/vnd.jupyter.widget-state+json": {
        "555e3e32f04a472684d91314d90f1b77": {
          "model_module": "@jupyter-widgets/controls",
          "model_name": "HBoxModel",
          "state": {
            "_view_name": "HBoxView",
            "_dom_classes": [],
            "_model_name": "HBoxModel",
            "_view_module": "@jupyter-widgets/controls",
            "_model_module_version": "1.5.0",
            "_view_count": null,
            "_view_module_version": "1.5.0",
            "box_style": "",
            "layout": "IPY_MODEL_2b96eaa201ed46499e5435ab6b49f17b",
            "_model_module": "@jupyter-widgets/controls",
            "children": [
              "IPY_MODEL_864669fa54db430a834b080a7ada9ee8",
              "IPY_MODEL_321951af874c4ab2b92e72756b5e5aca"
            ]
          }
        },
        "2b96eaa201ed46499e5435ab6b49f17b": {
          "model_module": "@jupyter-widgets/base",
          "model_name": "LayoutModel",
          "state": {
            "_view_name": "LayoutView",
            "grid_template_rows": null,
            "right": null,
            "justify_content": null,
            "_view_module": "@jupyter-widgets/base",
            "overflow": null,
            "_model_module_version": "1.2.0",
            "_view_count": null,
            "flex_flow": null,
            "width": null,
            "min_width": null,
            "border": null,
            "align_items": null,
            "bottom": null,
            "_model_module": "@jupyter-widgets/base",
            "top": null,
            "grid_column": null,
            "overflow_y": null,
            "overflow_x": null,
            "grid_auto_flow": null,
            "grid_area": null,
            "grid_template_columns": null,
            "flex": null,
            "_model_name": "LayoutModel",
            "justify_items": null,
            "grid_row": null,
            "max_height": null,
            "align_content": null,
            "visibility": null,
            "align_self": null,
            "height": null,
            "min_height": null,
            "padding": null,
            "grid_auto_rows": null,
            "grid_gap": null,
            "max_width": null,
            "order": null,
            "_view_module_version": "1.2.0",
            "grid_template_areas": null,
            "object_position": null,
            "object_fit": null,
            "grid_auto_columns": null,
            "margin": null,
            "display": null,
            "left": null
          }
        },
        "864669fa54db430a834b080a7ada9ee8": {
          "model_module": "@jupyter-widgets/controls",
          "model_name": "FloatProgressModel",
          "state": {
            "_view_name": "ProgressView",
            "style": "IPY_MODEL_061e4f8010aa4571a42b15215577618c",
            "_dom_classes": [],
            "description": "  0%",
            "_model_name": "FloatProgressModel",
            "bar_style": "danger",
            "max": 10000,
            "_view_module": "@jupyter-widgets/controls",
            "_model_module_version": "1.5.0",
            "value": 0,
            "_view_count": null,
            "_view_module_version": "1.5.0",
            "orientation": "horizontal",
            "min": 0,
            "description_tooltip": null,
            "_model_module": "@jupyter-widgets/controls",
            "layout": "IPY_MODEL_44b632912a794d218f1e0b0e6f5784c8"
          }
        },
        "321951af874c4ab2b92e72756b5e5aca": {
          "model_module": "@jupyter-widgets/controls",
          "model_name": "HTMLModel",
          "state": {
            "_view_name": "HTMLView",
            "style": "IPY_MODEL_ae93a96440b64af3a73b81eb3679fe61",
            "_dom_classes": [],
            "description": "",
            "_model_name": "HTMLModel",
            "placeholder": "​",
            "_view_module": "@jupyter-widgets/controls",
            "_model_module_version": "1.5.0",
            "value": " 0/10000 [00:06&lt;?, ?it/s]",
            "_view_count": null,
            "_view_module_version": "1.5.0",
            "description_tooltip": null,
            "_model_module": "@jupyter-widgets/controls",
            "layout": "IPY_MODEL_e29a08066852404fab88d73a7ccbe19d"
          }
        },
        "061e4f8010aa4571a42b15215577618c": {
          "model_module": "@jupyter-widgets/controls",
          "model_name": "ProgressStyleModel",
          "state": {
            "_view_name": "StyleView",
            "_model_name": "ProgressStyleModel",
            "description_width": "initial",
            "_view_module": "@jupyter-widgets/base",
            "_model_module_version": "1.5.0",
            "_view_count": null,
            "_view_module_version": "1.2.0",
            "bar_color": null,
            "_model_module": "@jupyter-widgets/controls"
          }
        },
        "44b632912a794d218f1e0b0e6f5784c8": {
          "model_module": "@jupyter-widgets/base",
          "model_name": "LayoutModel",
          "state": {
            "_view_name": "LayoutView",
            "grid_template_rows": null,
            "right": null,
            "justify_content": null,
            "_view_module": "@jupyter-widgets/base",
            "overflow": null,
            "_model_module_version": "1.2.0",
            "_view_count": null,
            "flex_flow": null,
            "width": null,
            "min_width": null,
            "border": null,
            "align_items": null,
            "bottom": null,
            "_model_module": "@jupyter-widgets/base",
            "top": null,
            "grid_column": null,
            "overflow_y": null,
            "overflow_x": null,
            "grid_auto_flow": null,
            "grid_area": null,
            "grid_template_columns": null,
            "flex": null,
            "_model_name": "LayoutModel",
            "justify_items": null,
            "grid_row": null,
            "max_height": null,
            "align_content": null,
            "visibility": null,
            "align_self": null,
            "height": null,
            "min_height": null,
            "padding": null,
            "grid_auto_rows": null,
            "grid_gap": null,
            "max_width": null,
            "order": null,
            "_view_module_version": "1.2.0",
            "grid_template_areas": null,
            "object_position": null,
            "object_fit": null,
            "grid_auto_columns": null,
            "margin": null,
            "display": null,
            "left": null
          }
        },
        "ae93a96440b64af3a73b81eb3679fe61": {
          "model_module": "@jupyter-widgets/controls",
          "model_name": "DescriptionStyleModel",
          "state": {
            "_view_name": "StyleView",
            "_model_name": "DescriptionStyleModel",
            "description_width": "",
            "_view_module": "@jupyter-widgets/base",
            "_model_module_version": "1.5.0",
            "_view_count": null,
            "_view_module_version": "1.2.0",
            "_model_module": "@jupyter-widgets/controls"
          }
        },
        "e29a08066852404fab88d73a7ccbe19d": {
          "model_module": "@jupyter-widgets/base",
          "model_name": "LayoutModel",
          "state": {
            "_view_name": "LayoutView",
            "grid_template_rows": null,
            "right": null,
            "justify_content": null,
            "_view_module": "@jupyter-widgets/base",
            "overflow": null,
            "_model_module_version": "1.2.0",
            "_view_count": null,
            "flex_flow": null,
            "width": null,
            "min_width": null,
            "border": null,
            "align_items": null,
            "bottom": null,
            "_model_module": "@jupyter-widgets/base",
            "top": null,
            "grid_column": null,
            "overflow_y": null,
            "overflow_x": null,
            "grid_auto_flow": null,
            "grid_area": null,
            "grid_template_columns": null,
            "flex": null,
            "_model_name": "LayoutModel",
            "justify_items": null,
            "grid_row": null,
            "max_height": null,
            "align_content": null,
            "visibility": null,
            "align_self": null,
            "height": null,
            "min_height": null,
            "padding": null,
            "grid_auto_rows": null,
            "grid_gap": null,
            "max_width": null,
            "order": null,
            "_view_module_version": "1.2.0",
            "grid_template_areas": null,
            "object_position": null,
            "object_fit": null,
            "grid_auto_columns": null,
            "margin": null,
            "display": null,
            "left": null
          }
        }
      }
    }
  },
  "cells": [
    {
      "cell_type": "markdown",
      "metadata": {
        "id": "view-in-github",
        "colab_type": "text"
      },
      "source": [
        "<a href=\"https://colab.research.google.com/github/boramkim0514/KOIPA_AI/blob/main/D36_8_%EC%88%98%EC%B9%98%EB%AF%B8%EB%B6%84%EA%B3%BC_%EA%B2%BD%EC%82%AC%ED%95%98%EA%B0%95%EB%B2%95.ipynb\" target=\"_parent\"><img src=\"https://colab.research.google.com/assets/colab-badge.svg\" alt=\"Open In Colab\"/></a>"
      ]
    },
    {
      "cell_type": "markdown",
      "metadata": {
        "id": "WxuxrASYWz2i"
      },
      "source": [
        "# 미분(기울기)\n",
        "* 한 순간(매우 작은 변화) 변화량(기울기) 구하는 것 ex) 0.1-0.5 초 일때 변화량\n",
        "\n",
        "\n",
        "$$\\frac{ df(x) }{ dx }  = \\lim_{h\\to 0} \\frac{f(x+h) - f(x)}{ h }$$"
      ]
    },
    {
      "cell_type": "code",
      "metadata": {
        "id": "6FMHQvN_X58n"
      },
      "source": [
        "import numpy as np\n",
        "\n",
        "# 수치 미분\n",
        "\n",
        "# 미분의 나쁜 구현\n",
        "def numerical_diff(f, x): # f 미분 대상 함수, x인 순간의 기울기 구하기 위함)\n",
        "    '''\n",
        "    f : 미분 대상함수\n",
        "    x : x인 순간의 기울기를 구하기 위함\n",
        "    '''\n",
        "\n",
        "    # 순간을 구하기 위해서 h를 0으로 설정하는 것 아닌, 0에 아주 가까운 숫자로 지정\n",
        "    # 1. 분모에 0이 올 수 없음\n",
        "    # 2. 변화량 구하는 것이기 때문에 0은 아님\n",
        "\n",
        "    h = 10e-50 \n",
        "    return (f(x+h) - f(x)) / h\n"
      ],
      "execution_count": null,
      "outputs": []
    },
    {
      "cell_type": "markdown",
      "metadata": {
        "id": "xCbJ6UHYZEFS"
      },
      "source": [
        "너무 작은 숫자 나눗셈의 경우, 컴퓨팅 시스템상 부동 소수점 오류 발생(반올림 오차)\n"
      ]
    },
    {
      "cell_type": "code",
      "metadata": {
        "colab": {
          "base_uri": "https://localhost:8080/"
        },
        "id": "nppPvb3cZVt_",
        "outputId": "d64ffcf8-cf85-41c9-8474-861f509fb341"
      },
      "source": [
        "np.float32(10e-50)"
      ],
      "execution_count": null,
      "outputs": [
        {
          "output_type": "execute_result",
          "data": {
            "text/plain": [
              "0.0"
            ]
          },
          "metadata": {
            "tags": []
          },
          "execution_count": 24
        }
      ]
    },
    {
      "cell_type": "code",
      "metadata": {
        "colab": {
          "base_uri": "https://localhost:8080/"
        },
        "id": "k5cCCgenZZHY",
        "outputId": "e46a79a4-3c97-4616-ce60-1dfbb8127904"
      },
      "source": [
        "1 / np.float32(10e-50)"
      ],
      "execution_count": null,
      "outputs": [
        {
          "output_type": "stream",
          "text": [
            "/usr/local/lib/python3.7/dist-packages/ipykernel_launcher.py:1: RuntimeWarning: divide by zero encountered in true_divide\n",
            "  \"\"\"Entry point for launching an IPython kernel.\n"
          ],
          "name": "stderr"
        },
        {
          "output_type": "execute_result",
          "data": {
            "text/plain": [
              "inf"
            ]
          },
          "metadata": {
            "tags": []
          },
          "execution_count": 25
        }
      ]
    },
    {
      "cell_type": "markdown",
      "metadata": {
        "id": "WfP-_0nFZeo4"
      },
      "source": [
        "# 전방차분과 중앙차분을 이용한 미분"
      ]
    },
    {
      "cell_type": "markdown",
      "metadata": {
        "id": "aJVKh_FV2JZJ"
      },
      "source": [
        "$$\n",
        "\\frac{ df(x) }{ dx }  = \\lim_{h\\to 0} \\frac{f(x+h) - f(x-h)}{ 2h }\n",
        "$$"
      ]
    },
    {
      "cell_type": "code",
      "metadata": {
        "id": "EQUXK1sNgNHx"
      },
      "source": [
        "# 향상된 미분 함수 구현\n",
        "def numerical_diff(f, x):\n",
        "    h = 1e-4 #0.0001이 제일 적당\n",
        "    return (f(x+h)- f(x-h)) / (2*h)"
      ],
      "execution_count": null,
      "outputs": []
    },
    {
      "cell_type": "markdown",
      "metadata": {
        "id": "9vkbkhYMgtPB"
      },
      "source": [
        "**수치미분**\n",
        "실제 $x$ 를 집어 넣고 미분을 계산하는 것 "
      ]
    },
    {
      "cell_type": "markdown",
      "metadata": {
        "id": "db5EYcN7g1gv"
      },
      "source": [
        "\n",
        "# 수치미분의 예시\n",
        "$$\n",
        "f(x) = y = 0.01x^2 + 0.1x\n",
        "$$"
      ]
    },
    {
      "cell_type": "code",
      "metadata": {
        "id": "QE0fHTSDg-zv"
      },
      "source": [
        "def function_1(x):\n",
        "    return 0.01*x**2 + 0.1*x"
      ],
      "execution_count": null,
      "outputs": []
    },
    {
      "cell_type": "code",
      "metadata": {
        "id": "OgS8X4yLhMvy"
      },
      "source": [
        "import numpy as np\n",
        "import matplotlib.pyplot as plt"
      ],
      "execution_count": null,
      "outputs": []
    },
    {
      "cell_type": "code",
      "metadata": {
        "colab": {
          "base_uri": "https://localhost:8080/",
          "height": 279
        },
        "id": "iJpd2UwMhQbw",
        "outputId": "e5b2c448-4849-4660-b101-5095521d9017"
      },
      "source": [
        "x = np.arange(0.0, 20.0, 0.1)\n",
        "y = function_1(x)\n",
        "\n",
        "plt.xlabel(f\"x\")\n",
        "plt.ylabel(f\"$\\$f(x)$\")\n",
        "plt.plot(x, y)\n",
        "plt.show()"
      ],
      "execution_count": null,
      "outputs": [
        {
          "output_type": "display_data",
          "data": {
            "image/png": "[encoded data removed]",
            "text/plain": [
              "<Figure size 432x288 with 1 Axes>"
            ]
          },
          "metadata": {
            "tags": [],
            "needs_background": "light"
          }
        }
      ]
    },
    {
      "cell_type": "code",
      "metadata": {
        "colab": {
          "base_uri": "https://localhost:8080/"
        },
        "id": "Kb8zkBtshXYf",
        "outputId": "cca4e58f-0d96-41d5-816e-8246c82a4b6a"
      },
      "source": [
        "print(\"x가 5일 때의 미분값 : {:.1f}\".format(numerical_diff(function_1, 5)))\n",
        "print(\"x가 10일 때의 미분값 : {:.1f}\".format(numerical_diff(function_1, 10)))"
      ],
      "execution_count": null,
      "outputs": [
        {
          "output_type": "stream",
          "text": [
            "x가 5일 때의 미분값 : 0.2\n",
            "x가 10일 때의 미분값 : 0.3\n"
          ],
          "name": "stdout"
        }
      ]
    },
    {
      "cell_type": "code",
      "metadata": {
        "id": "g5_3cVUNiU0_"
      },
      "source": [
        "# 미분값을 이용한 접선의 시각화\n",
        "# 코드가 기니 보기로만 "
      ],
      "execution_count": null,
      "outputs": []
    },
    {
      "cell_type": "code",
      "metadata": {
        "colab": {
          "base_uri": "https://localhost:8080/"
        },
        "id": "mK13yxww_89P",
        "outputId": "793b21f0-61b3-47f8-aa16-cb3c502b86dc"
      },
      "source": [
        "print(\"1 {:.3f}\".format(numerical_diff(function_1, 5)))"
      ],
      "execution_count": null,
      "outputs": [
        {
          "output_type": "stream",
          "text": [
            "1 0.200\n"
          ],
          "name": "stdout"
        }
      ]
    },
    {
      "cell_type": "code",
      "metadata": {
        "id": "3FP5eNZY_8HP"
      },
      "source": [
        ""
      ],
      "execution_count": null,
      "outputs": []
    },
    {
      "cell_type": "markdown",
      "metadata": {
        "id": "6LojTwN1jEQh"
      },
      "source": [
        "# 편미분\n",
        "* 2개 이상의 인수($x$)에 대한 미분\n",
        "* 여러개 인수 중 하나만 미분 하는 것"
      ]
    },
    {
      "cell_type": "markdown",
      "metadata": {
        "id": "iDOgXvozosxv"
      },
      "source": [
        "\n",
        "$$\n",
        "f(x_0, x_1) = x^2_0 + x^2_1\n",
        "$$"
      ]
    },
    {
      "cell_type": "code",
      "metadata": {
        "id": "FIgZmE_QjHIb"
      },
      "source": [
        "#인수, 변수 같은 개념\n",
        "\n",
        "# x :  배열\n",
        "def function_2(x):\n",
        "    return x[0]**2 + x[1]** 2\n",
        "    #return np.sum(x**2)"
      ],
      "execution_count": null,
      "outputs": []
    },
    {
      "cell_type": "markdown",
      "metadata": {
        "id": "L06CR-DOo8wv"
      },
      "source": [
        "## 문제 2 \n",
        "$x_0=3, x_1=4$ 일 때 $x_0$에 대한 편미분 $\\frac{\\partial f}{\\partial x_0}$를 구하시오. `답 : 약 6.0"
      ]
    },
    {
      "cell_type": "code",
      "metadata": {
        "id": "yxQxUzY9mg9P"
      },
      "source": [
        "#편미분 코딩 구현 \n",
        "\n",
        "def function_tmp1(x0):\n",
        "    #return f(x)[0]**2 + f(x)[1]**2\n",
        "    return x0**2 + 4.0**2"
      ],
      "execution_count": null,
      "outputs": []
    },
    {
      "cell_type": "code",
      "metadata": {
        "colab": {
          "base_uri": "https://localhost:8080/"
        },
        "id": "fUs_h5dLnIZI",
        "outputId": "01d1b32b-69ab-4f6d-e0b3-e018b267a5c2"
      },
      "source": [
        "print(\"x0가 3, x1=4 일 때의 미분값 : {:.1f}\".format(numerical_diff(function_tmp1, 3.0)))"
      ],
      "execution_count": null,
      "outputs": [
        {
          "output_type": "stream",
          "text": [
            "x0가 3, x1=4 일 때의 미분값 : 6.0\n"
          ],
          "name": "stdout"
        }
      ]
    },
    {
      "cell_type": "code",
      "metadata": {
        "colab": {
          "base_uri": "https://localhost:8080/"
        },
        "id": "Jx2YQa35qxiY",
        "outputId": "502e72e7-9240-4eeb-eb63-94bf73c92423"
      },
      "source": [
        "x = np.arange(0.0, 20.0, 0.1)\n",
        "x.shape"
      ],
      "execution_count": null,
      "outputs": [
        {
          "output_type": "execute_result",
          "data": {
            "text/plain": [
              "(200,)"
            ]
          },
          "metadata": {
            "tags": []
          },
          "execution_count": 36
        }
      ]
    },
    {
      "cell_type": "markdown",
      "metadata": {
        "id": "yuTgfpWWpDJ_"
      },
      "source": [
        "## 문제 2\n",
        "$x_0=3, x_1=4$ 일 때 $x_1$에 대한 편미분 $\\frac{\\partial f}{\\partial x_1}$를 구하시오. `답 : 약 8.0`"
      ]
    },
    {
      "cell_type": "markdown",
      "metadata": {
        "id": "pBxThzKcrQBA"
      },
      "source": [
        "일반적으로 상수 대입을 먼저 하고 미분을 한다"
      ]
    },
    {
      "cell_type": "code",
      "metadata": {
        "colab": {
          "base_uri": "https://localhost:8080/"
        },
        "id": "0eOULaFJnaQ4",
        "outputId": "a5cba97b-4cfb-4434-f219-0b4969b7bb8b"
      },
      "source": [
        "# 편미분 \n",
        "\n",
        "def function_tmp2(x1):\n",
        "    return 3.00 ** 2 + x1 ** 2\n",
        "print(\"x0가 3, x1=4 일 때의 미분값 : {:.1f}\".format(numerical_diff(function_tmp2, 4.0)))"
      ],
      "execution_count": null,
      "outputs": [
        {
          "output_type": "stream",
          "text": [
            "x0가 3, x1=4 일 때의 미분값 : 8.0\n"
          ],
          "name": "stdout"
        }
      ]
    },
    {
      "cell_type": "markdown",
      "metadata": {
        "id": "ooTfVfXyofIv"
      },
      "source": [
        "# 기울기( gradient) \n",
        "$x_0$에 대한 기울기와 $x_1의 기울기를 따로 구해서 확인했으나, \n",
        "\n",
        "* 각 방향의( $x_0$, $x_1$ ) 기울기를 하나로 묶어서 벡터화(1차원 배열화) 시킨다.\n",
        "\n",
        "* 즉 우리는 $(\\frac{\\partial f}{\\partial x_0},\\frac{\\partial f}{\\partial x_1})$를 구할 것이다.\n"
      ]
    },
    {
      "cell_type": "code",
      "metadata": {
        "id": "X_32Gb_Jrkeo"
      },
      "source": [
        "#이해야할 코드 vs 구현해야할 코드 \n",
        "#이건 연습 x, 함수 의미/원리 파악만\n",
        "\n",
        "def numerical_gradient(f, x): #x(에 각각의 좌표가 들어옴)\n",
        "    h = 1e-4\n",
        "    #(기울기 배열의 모양은 x의 모양으로 들어옴)\n",
        "    grad = np.zeros_like(x) #x와 shape이 같은 0으로 채워진 배열을 만든다.\n",
        "\n",
        "## x 가 일차원 배열이라 가정할 때\n",
        "    \n",
        "    for idx in range(x.size):\n",
        "        #각 x에 대한 편미분(2개 이상의 인수에 대한 미분) 수행\n",
        "        tmp_val = x[idx] # x0 x1 같은 것임\n",
        "\n",
        "        # f(x+h) 계산\n",
        "        x[idx] = tmp_val + h # 목표로 하고 있는 x의 변화량을 구하기 위함\n",
        "        fxh1 = f(x) #변화량 준 (tmp_val+ h) x에 대한 전방차분 구하기\n",
        "        \n",
        "        # f(x-h) 계산 \n",
        "        x[idx] = tmp_val - h #후방차분\n",
        "        fxh2 = f(x)\n",
        "\n",
        "        grad[idx] = (fxh1-fxh2) / (2*h) #미분 수행 () 괄호 꼭 칠것 아니면 결과값이 이상하게 나옴\n",
        "        x[idx] = tmp_val # 원래 값으로 복원 \n",
        "    return grad "
      ],
      "execution_count": null,
      "outputs": []
    },
    {
      "cell_type": "code",
      "metadata": {
        "colab": {
          "base_uri": "https://localhost:8080/"
        },
        "id": "sPUJ4-haxu9H",
        "outputId": "b530a9e8-140e-4a07-a152-a555065d41c5"
      },
      "source": [
        "x = np.array([3.0, 4.0])\n",
        "print (\"x = [3, 4]일때 기울기 배열 : {}\".format(numerical_gradient(function_2, x)))\n",
        "\n",
        "x = np.array([1.0, 2.0])\n",
        "print (\"x = [1, 2]일때 기울기 배열 : {}\".format(numerical_gradient(function_2, x)))"
      ],
      "execution_count": null,
      "outputs": [
        {
          "output_type": "stream",
          "text": [
            "x = [3, 4]일때 기울기 배열 : [6. 8.]\n",
            "x = [1, 2]일때 기울기 배열 : [2. 4.]\n"
          ],
          "name": "stdout"
        }
      ]
    },
    {
      "cell_type": "code",
      "metadata": {
        "colab": {
          "base_uri": "https://localhost:8080/"
        },
        "id": "NHM701p7qjF_",
        "outputId": "17cca6d5-eb86-47dc-e446-40526465985d"
      },
      "source": [
        "x"
      ],
      "execution_count": null,
      "outputs": [
        {
          "output_type": "execute_result",
          "data": {
            "text/plain": [
              "array([1., 2.])"
            ]
          },
          "metadata": {
            "tags": []
          },
          "execution_count": 40
        }
      ]
    },
    {
      "cell_type": "markdown",
      "metadata": {
        "id": "Edl-p14MWS0p"
      },
      "source": [
        "# 기울기(gradient)\n",
        "\n",
        "- 최소 지점으로 가기 위한 $x_0$의 방향과 크기, 최소지점으로 가기 위한 $x_1의 방향과 크기\n",
        "- 기울기가 가리키는 쪽은 각 장소에서 함수 출력의 결과값이 가장 작은 곳\n",
        "\n",
        "\n"
      ]
    },
    {
      "cell_type": "markdown",
      "metadata": {
        "id": "fhaxwdyYyOtF"
      },
      "source": [
        "* 화살표의 길이 기울기(변화량)가 크다 \n",
        "* 방향은 최소 지점을 향한다"
      ]
    },
    {
      "cell_type": "markdown",
      "metadata": {
        "id": "hb3scLBVZV1b"
      },
      "source": [
        "# 경사 하강법(경사법)(Gradient Descent)\n",
        "\n",
        "- 데이터의 차원이 달라서 그래프가 복잡해짐\n"
      ]
    },
    {
      "cell_type": "markdown",
      "metadata": {
        "id": "uYfnd-9ucO79"
      },
      "source": [
        "# 경사하강법의 원리\n",
        "* 현 위치에서 기울어진 방향으로 일정 거리만큼 이동\n",
        "    - 갱신되는 위치(좌표)가 일정한게 아니라, 미분 값을 보고 갱신해야 할 수치를 일정하게 **조정** \n",
        "    - 합습률( *learning rate* $\\eta$** )\n",
        "* 이동한 곳에서도 미분을 통해 기울기 구하고, 기울기 구한 방향으로 이동\n",
        "*최소점을 찾는 지점까지 반복(step)\n"
      ]
    },
    {
      "cell_type": "markdown",
      "metadata": {
        "id": "Yi6u7uGterEN"
      },
      "source": [
        "### 경사 하강법 구현"
      ]
    },
    {
      "cell_type": "code",
      "metadata": {
        "id": "d4rA0hgCe1GB"
      },
      "source": [
        "def gradient_descent(f, init_x, lr=0.01, step_num=100 ): # 초기 x 지점\n",
        "    x = init_x\n",
        "\n",
        "    for i in range(step_num): \n",
        "        #1 . 미분을 통해 기울기 배열 구하기\n",
        "        grads =numerical_gradient(f, x) # x의 변화량 분에 기울기 변화\n",
        "        print(\"좌표 : {} /  기울기 : {}\".format(x, grads)) #현 위치의 기울기 같이 보겠다\n",
        "        \n",
        "        #2. 경사하강법 공식을 이용한 좌표 갱신 \n",
        "        x = x - lr*grads\n",
        "\n",
        "    #최종 갱신된 좌표 나옴\n",
        "    return x \n"
      ],
      "execution_count": null,
      "outputs": []
    },
    {
      "cell_type": "code",
      "metadata": {
        "id": "0oqHNTacjZ-m"
      },
      "source": [
        "def function_2(x):\n",
        "    return np.sum(x**2)"
      ],
      "execution_count": null,
      "outputs": []
    },
    {
      "cell_type": "code",
      "metadata": {
        "colab": {
          "base_uri": "https://localhost:8080/"
        },
        "id": "5pKfcX5Fjm2a",
        "outputId": "c26ecfd3-9d85-4095-e0fc-24c2e2fc3127"
      },
      "source": [
        "start_x = np.array([-3.0, 4.0])\n",
        "gradient_descent(function_2, start_x, lr=0.1)"
      ],
      "execution_count": null,
      "outputs": [
        {
          "output_type": "stream",
          "text": [
            "좌표 : [-3.  4.] /  기울기 : [-6.  8.]\n",
            "좌표 : [-2.4  3.2] /  기울기 : [-4.8  6.4]\n",
            "좌표 : [-1.92  2.56] /  기울기 : [-3.84  5.12]\n",
            "좌표 : [-1.536  2.048] /  기울기 : [-3.072  4.096]\n",
            "좌표 : [-1.2288  1.6384] /  기울기 : [-2.4576  3.2768]\n",
            "좌표 : [-0.98304  1.31072] /  기울기 : [-1.96608  2.62144]\n",
            "좌표 : [-0.786432  1.048576] /  기울기 : [-1.572864  2.097152]\n",
            "좌표 : [-0.6291456  0.8388608] /  기울기 : [-1.2582912  1.6777216]\n",
            "좌표 : [-0.50331648  0.67108864] /  기울기 : [-1.00663296  1.34217728]\n",
            "좌표 : [-0.40265318  0.53687091] /  기울기 : [-0.80530637  1.07374182]\n",
            "좌표 : [-0.32212255  0.42949673] /  기울기 : [-0.64424509  0.85899346]\n",
            "좌표 : [-0.25769804  0.34359738] /  기울기 : [-0.51539608  0.68719477]\n",
            "좌표 : [-0.20615843  0.27487791] /  기울기 : [-0.41231686  0.54975581]\n",
            "좌표 : [-0.16492674  0.21990233] /  기울기 : [-0.32985349  0.43980465]\n",
            "좌표 : [-0.1319414   0.17592186] /  기울기 : [-0.26388279  0.35184372]\n",
            "좌표 : [-0.10555312  0.14073749] /  기울기 : [-0.21110623  0.28147498]\n",
            "좌표 : [-0.08444249  0.11258999] /  기울기 : [-0.16888499  0.22517998]\n",
            "좌표 : [-0.06755399  0.09007199] /  기울기 : [-0.13510799  0.18014399]\n",
            "좌표 : [-0.0540432   0.07205759] /  기울기 : [-0.10808639  0.14411519]\n",
            "좌표 : [-0.04323456  0.05764608] /  기울기 : [-0.08646911  0.11529215]\n",
            "좌표 : [-0.03458765  0.04611686] /  기울기 : [-0.06917529  0.09223372]\n",
            "좌표 : [-0.02767012  0.03689349] /  기울기 : [-0.05534023  0.07378698]\n",
            "좌표 : [-0.02213609  0.02951479] /  기울기 : [-0.04427219  0.05902958]\n",
            "좌표 : [-0.01770887  0.02361183] /  기울기 : [-0.03541775  0.04722366]\n",
            "좌표 : [-0.0141671   0.01888947] /  기울기 : [-0.0283342   0.03777893]\n",
            "좌표 : [-0.01133368  0.01511157] /  기울기 : [-0.02266736  0.03022315]\n",
            "좌표 : [-0.00906694  0.01208926] /  기울기 : [-0.01813389  0.02417852]\n",
            "좌표 : [-0.00725355  0.00967141] /  기울기 : [-0.01450711  0.01934281]\n",
            "좌표 : [-0.00580284  0.00773713] /  기울기 : [-0.01160569  0.01547425]\n",
            "좌표 : [-0.00464228  0.0061897 ] /  기울기 : [-0.00928455  0.0123794 ]\n",
            "좌표 : [-0.00371382  0.00495176] /  기울기 : [-0.00742764  0.00990352]\n",
            "좌표 : [-0.00297106  0.00396141] /  기울기 : [-0.00594211  0.00792282]\n",
            "좌표 : [-0.00237684  0.00316913] /  기울기 : [-0.00475369  0.00633825]\n",
            "좌표 : [-0.00190148  0.0025353 ] /  기울기 : [-0.00380295  0.0050706 ]\n",
            "좌표 : [-0.00152118  0.00202824] /  기울기 : [-0.00304236  0.00405648]\n",
            "좌표 : [-0.00121694  0.00162259] /  기울기 : [-0.00243389  0.00324519]\n",
            "좌표 : [-0.00097356  0.00129807] /  기울기 : [-0.00194711  0.00259615]\n",
            "좌표 : [-0.00077884  0.00103846] /  기울기 : [-0.00155769  0.00207692]\n",
            "좌표 : [-0.00062308  0.00083077] /  기울기 : [-0.00124615  0.00166153]\n",
            "좌표 : [-0.00049846  0.00066461] /  기울기 : [-0.00099692  0.00132923]\n",
            "좌표 : [-0.00039877  0.00053169] /  기울기 : [-0.00079754  0.00106338]\n",
            "좌표 : [-0.00031901  0.00042535] /  기울기 : [-0.00063803  0.00085071]\n",
            "좌표 : [-0.00025521  0.00034028] /  기울기 : [-0.00051042  0.00068056]\n",
            "좌표 : [-0.00020417  0.00027223] /  기울기 : [-0.00040834  0.00054445]\n",
            "좌표 : [-0.00016334  0.00021778] /  기울기 : [-0.00032667  0.00043556]\n",
            "좌표 : [-0.00013067  0.00017422] /  기울기 : [-0.00026134  0.00034845]\n",
            "좌표 : [-0.00010453  0.00013938] /  기울기 : [-0.00020907  0.00027876]\n",
            "좌표 : [-8.36277945e-05  1.11503726e-04] /  기울기 : [-0.00016726  0.00022301]\n",
            "좌표 : [-6.69022356e-05  8.92029808e-05] /  기울기 : [-0.0001338   0.00017841]\n",
            "좌표 : [-5.35217885e-05  7.13623846e-05] /  기울기 : [-0.00010704  0.00014272]\n",
            "좌표 : [-4.28174308e-05  5.70899077e-05] /  기울기 : [-8.56348616e-05  1.14179815e-04]\n",
            "좌표 : [-3.42539446e-05  4.56719262e-05] /  기울기 : [-6.85078892e-05  9.13438523e-05]\n",
            "좌표 : [-2.74031557e-05  3.65375409e-05] /  기울기 : [-5.48063114e-05  7.30750819e-05]\n",
            "좌표 : [-2.19225246e-05  2.92300327e-05] /  기울기 : [-4.38450491e-05  5.84600655e-05]\n",
            "좌표 : [-1.75380196e-05  2.33840262e-05] /  기울기 : [-3.50760393e-05  4.67680524e-05]\n",
            "좌표 : [-1.40304157e-05  1.87072210e-05] /  기울기 : [-2.80608314e-05  3.74144419e-05]\n",
            "좌표 : [-1.12243326e-05  1.49657768e-05] /  기울기 : [-2.24486651e-05  2.99315535e-05]\n",
            "좌표 : [-8.97946606e-06  1.19726214e-05] /  기울기 : [-1.79589321e-05  2.39452428e-05]\n",
            "좌표 : [-7.18357285e-06  9.57809713e-06] /  기울기 : [-1.43671457e-05  1.91561943e-05]\n",
            "좌표 : [-5.74685828e-06  7.66247770e-06] /  기울기 : [-1.14937166e-05  1.53249554e-05]\n",
            "좌표 : [-4.59748662e-06  6.12998216e-06] /  기울기 : [-9.19497325e-06  1.22599643e-05]\n",
            "좌표 : [-3.67798930e-06  4.90398573e-06] /  기울기 : [-7.35597860e-06  9.80797146e-06]\n",
            "좌표 : [-2.94239144e-06  3.92318858e-06] /  기울기 : [-5.88478288e-06  7.84637717e-06]\n",
            "좌표 : [-2.35391315e-06  3.13855087e-06] /  기울기 : [-4.70782630e-06  6.27710174e-06]\n",
            "좌표 : [-1.88313052e-06  2.51084069e-06] /  기울기 : [-3.76626104e-06  5.02168139e-06]\n",
            "좌표 : [-1.50650442e-06  2.00867256e-06] /  기울기 : [-3.01300883e-06  4.01734511e-06]\n",
            "좌표 : [-1.20520353e-06  1.60693804e-06] /  기울기 : [-2.41040707e-06  3.21387609e-06]\n",
            "좌표 : [-9.64162827e-07  1.28555044e-06] /  기울기 : [-1.92832565e-06  2.57110087e-06]\n",
            "좌표 : [-7.71330261e-07  1.02844035e-06] /  기울기 : [-1.54266052e-06  2.05688070e-06]\n",
            "좌표 : [-6.17064209e-07  8.22752279e-07] /  기울기 : [-1.23412842e-06  1.64550456e-06]\n",
            "좌표 : [-4.93651367e-07  6.58201823e-07] /  기울기 : [-9.87302734e-07  1.31640365e-06]\n",
            "좌표 : [-3.94921094e-07  5.26561458e-07] /  기울기 : [-7.89842188e-07  1.05312292e-06]\n",
            "좌표 : [-3.15936875e-07  4.21249167e-07] /  기울기 : [-6.31873750e-07  8.42498333e-07]\n",
            "좌표 : [-2.52749500e-07  3.36999333e-07] /  기울기 : [-5.05499000e-07  6.73998667e-07]\n",
            "좌표 : [-2.02199600e-07  2.69599467e-07] /  기울기 : [-4.04399200e-07  5.39198933e-07]\n",
            "좌표 : [-1.61759680e-07  2.15679573e-07] /  기울기 : [-3.23519360e-07  4.31359147e-07]\n",
            "좌표 : [-1.29407744e-07  1.72543659e-07] /  기울기 : [-2.58815488e-07  3.45087317e-07]\n",
            "좌표 : [-1.03526195e-07  1.38034927e-07] /  기울기 : [-2.07052390e-07  2.76069854e-07]\n",
            "좌표 : [-8.28209562e-08  1.10427942e-07] /  기울기 : [-1.65641912e-07  2.20855883e-07]\n",
            "좌표 : [-6.62567649e-08  8.83423532e-08] /  기울기 : [-1.32513530e-07  1.76684706e-07]\n",
            "좌표 : [-5.30054119e-08  7.06738826e-08] /  기울기 : [-1.06010824e-07  1.41347765e-07]\n",
            "좌표 : [-4.24043296e-08  5.65391061e-08] /  기울기 : [-8.48086591e-08  1.13078212e-07]\n",
            "좌표 : [-3.39234636e-08  4.52312849e-08] /  기울기 : [-6.78469273e-08  9.04625697e-08]\n",
            "좌표 : [-2.71387709e-08  3.61850279e-08] /  기울기 : [-5.42775418e-08  7.23700558e-08]\n",
            "좌표 : [-2.17110167e-08  2.89480223e-08] /  기울기 : [-4.34220335e-08  5.78960446e-08]\n",
            "좌표 : [-1.73688134e-08  2.31584178e-08] /  기울기 : [-3.47376268e-08  4.63168357e-08]\n",
            "좌표 : [-1.38950507e-08  1.85267343e-08] /  기울기 : [-2.77901014e-08  3.70534686e-08]\n",
            "좌표 : [-1.11160406e-08  1.48213874e-08] /  기울기 : [-2.22320811e-08  2.96427748e-08]\n",
            "좌표 : [-8.89283245e-09  1.18571099e-08] /  기울기 : [-1.77856649e-08  2.37142199e-08]\n",
            "좌표 : [-7.11426596e-09  9.48568795e-09] /  기울기 : [-1.42285319e-08  1.89713759e-08]\n",
            "좌표 : [-5.69141277e-09  7.58855036e-09] /  기울기 : [-1.13828255e-08  1.51771007e-08]\n",
            "좌표 : [-4.55313022e-09  6.07084029e-09] /  기울기 : [-9.10626043e-09  1.21416806e-08]\n",
            "좌표 : [-3.64250417e-09  4.85667223e-09] /  기울기 : [-7.28500835e-09  9.71334446e-09]\n",
            "좌표 : [-2.91400334e-09  3.88533778e-09] /  기울기 : [-5.82800668e-09  7.77067557e-09]\n",
            "좌표 : [-2.33120267e-09  3.10827023e-09] /  기울기 : [-4.66240534e-09  6.21654046e-09]\n",
            "좌표 : [-1.86496214e-09  2.48661618e-09] /  기울기 : [-3.72992427e-09  4.97323236e-09]\n",
            "좌표 : [-1.49196971e-09  1.98929295e-09] /  기울기 : [-2.98393942e-09  3.97858589e-09]\n",
            "좌표 : [-1.19357577e-09  1.59143436e-09] /  기울기 : [-2.38715153e-09  3.18286871e-09]\n",
            "좌표 : [-9.54860614e-10  1.27314749e-09] /  기울기 : [-1.90972123e-09  2.54629497e-09]\n",
            "좌표 : [-7.63888491e-10  1.01851799e-09] /  기울기 : [-1.52777698e-09  2.03703598e-09]\n"
          ],
          "name": "stdout"
        },
        {
          "output_type": "execute_result",
          "data": {
            "text/plain": [
              "array([-6.11110793e-10,  8.14814391e-10])"
            ]
          },
          "metadata": {
            "tags": []
          },
          "execution_count": 43
        }
      ]
    },
    {
      "cell_type": "markdown",
      "metadata": {
        "id": "MnnHc3hMjmD6"
      },
      "source": [
        "** 학습률(Learning Rate)이 너무 크거나 작으면?\n",
        "\n",
        "\n",
        "\n",
        "\n"
      ]
    },
    {
      "cell_type": "code",
      "metadata": {
        "colab": {
          "base_uri": "https://localhost:8080/"
        },
        "id": "YrR1qqGcl4az",
        "outputId": "80774f28-ada4-43fb-e5f4-0783f242b14e"
      },
      "source": [
        "#학습률이 너무 클 때, lr=10.0\n",
        "\n",
        "start_x = np.array([-3.0, 4.0])\n",
        "result = gradient_descent(function_2, start_x, lr=10.0)\n",
        "print(\"LR: {}\".format(result))"
      ],
      "execution_count": null,
      "outputs": [
        {
          "output_type": "stream",
          "text": [
            "좌표 : [-3.  4.] /  기울기 : [-6.  8.]\n",
            "좌표 : [ 57. -76.] /  기울기 : [ 114.         -152.00000001]\n",
            "좌표 : [-1083.00000003  1444.00000007] /  기울기 : [-2165.99999927  2888.00000213]\n",
            "좌표 : [ 20576.99999267 -27436.00002124] /  기울기 : [ 41154.00075912 -54872.00021744]\n",
            "좌표 : [-390963.00759858  521284.00215314] /  기울기 : [-781925.96435547 1042568.05419922]\n",
            "좌표 : [ 7428296.63595611 -9904396.53983905] /  기울기 : [ 14856562.5 -19808750. ]\n",
            "좌표 : [-1.41137328e+08  1.88183103e+08] /  기울기 : [-2.8224e+08  3.7632e+08]\n",
            "좌표 : [ 2.68126267e+09 -3.57501690e+09] /  기울기 : [ 5.36576e+09 -7.14752e+09]\n",
            "좌표 : [-5.09763373e+10  6.79001831e+10] /  기울기 : [-9.9614720e+10  1.3631488e+11]\n",
            "좌표 : [ 9.45170863e+11 -1.29524862e+12] /  기울기 : [2.68435456e+12 0.00000000e+00]\n",
            "좌표 : [-2.58983747e+13 -1.29524862e+12] /  기울기 : [0. 0.]\n",
            "좌표 : [-2.58983747e+13 -1.29524862e+12] /  기울기 : [0. 0.]\n",
            "좌표 : [-2.58983747e+13 -1.29524862e+12] /  기울기 : [0. 0.]\n",
            "좌표 : [-2.58983747e+13 -1.29524862e+12] /  기울기 : [0. 0.]\n",
            "좌표 : [-2.58983747e+13 -1.29524862e+12] /  기울기 : [0. 0.]\n",
            "좌표 : [-2.58983747e+13 -1.29524862e+12] /  기울기 : [0. 0.]\n",
            "좌표 : [-2.58983747e+13 -1.29524862e+12] /  기울기 : [0. 0.]\n",
            "좌표 : [-2.58983747e+13 -1.29524862e+12] /  기울기 : [0. 0.]\n",
            "좌표 : [-2.58983747e+13 -1.29524862e+12] /  기울기 : [0. 0.]\n",
            "좌표 : [-2.58983747e+13 -1.29524862e+12] /  기울기 : [0. 0.]\n",
            "좌표 : [-2.58983747e+13 -1.29524862e+12] /  기울기 : [0. 0.]\n",
            "좌표 : [-2.58983747e+13 -1.29524862e+12] /  기울기 : [0. 0.]\n",
            "좌표 : [-2.58983747e+13 -1.29524862e+12] /  기울기 : [0. 0.]\n",
            "좌표 : [-2.58983747e+13 -1.29524862e+12] /  기울기 : [0. 0.]\n",
            "좌표 : [-2.58983747e+13 -1.29524862e+12] /  기울기 : [0. 0.]\n",
            "좌표 : [-2.58983747e+13 -1.29524862e+12] /  기울기 : [0. 0.]\n",
            "좌표 : [-2.58983747e+13 -1.29524862e+12] /  기울기 : [0. 0.]\n",
            "좌표 : [-2.58983747e+13 -1.29524862e+12] /  기울기 : [0. 0.]\n",
            "좌표 : [-2.58983747e+13 -1.29524862e+12] /  기울기 : [0. 0.]\n",
            "좌표 : [-2.58983747e+13 -1.29524862e+12] /  기울기 : [0. 0.]\n",
            "좌표 : [-2.58983747e+13 -1.29524862e+12] /  기울기 : [0. 0.]\n",
            "좌표 : [-2.58983747e+13 -1.29524862e+12] /  기울기 : [0. 0.]\n",
            "좌표 : [-2.58983747e+13 -1.29524862e+12] /  기울기 : [0. 0.]\n",
            "좌표 : [-2.58983747e+13 -1.29524862e+12] /  기울기 : [0. 0.]\n",
            "좌표 : [-2.58983747e+13 -1.29524862e+12] /  기울기 : [0. 0.]\n",
            "좌표 : [-2.58983747e+13 -1.29524862e+12] /  기울기 : [0. 0.]\n",
            "좌표 : [-2.58983747e+13 -1.29524862e+12] /  기울기 : [0. 0.]\n",
            "좌표 : [-2.58983747e+13 -1.29524862e+12] /  기울기 : [0. 0.]\n",
            "좌표 : [-2.58983747e+13 -1.29524862e+12] /  기울기 : [0. 0.]\n",
            "좌표 : [-2.58983747e+13 -1.29524862e+12] /  기울기 : [0. 0.]\n",
            "좌표 : [-2.58983747e+13 -1.29524862e+12] /  기울기 : [0. 0.]\n",
            "좌표 : [-2.58983747e+13 -1.29524862e+12] /  기울기 : [0. 0.]\n",
            "좌표 : [-2.58983747e+13 -1.29524862e+12] /  기울기 : [0. 0.]\n",
            "좌표 : [-2.58983747e+13 -1.29524862e+12] /  기울기 : [0. 0.]\n",
            "좌표 : [-2.58983747e+13 -1.29524862e+12] /  기울기 : [0. 0.]\n",
            "좌표 : [-2.58983747e+13 -1.29524862e+12] /  기울기 : [0. 0.]\n",
            "좌표 : [-2.58983747e+13 -1.29524862e+12] /  기울기 : [0. 0.]\n",
            "좌표 : [-2.58983747e+13 -1.29524862e+12] /  기울기 : [0. 0.]\n",
            "좌표 : [-2.58983747e+13 -1.29524862e+12] /  기울기 : [0. 0.]\n",
            "좌표 : [-2.58983747e+13 -1.29524862e+12] /  기울기 : [0. 0.]\n",
            "좌표 : [-2.58983747e+13 -1.29524862e+12] /  기울기 : [0. 0.]\n",
            "좌표 : [-2.58983747e+13 -1.29524862e+12] /  기울기 : [0. 0.]\n",
            "좌표 : [-2.58983747e+13 -1.29524862e+12] /  기울기 : [0. 0.]\n",
            "좌표 : [-2.58983747e+13 -1.29524862e+12] /  기울기 : [0. 0.]\n",
            "좌표 : [-2.58983747e+13 -1.29524862e+12] /  기울기 : [0. 0.]\n",
            "좌표 : [-2.58983747e+13 -1.29524862e+12] /  기울기 : [0. 0.]\n",
            "좌표 : [-2.58983747e+13 -1.29524862e+12] /  기울기 : [0. 0.]\n",
            "좌표 : [-2.58983747e+13 -1.29524862e+12] /  기울기 : [0. 0.]\n",
            "좌표 : [-2.58983747e+13 -1.29524862e+12] /  기울기 : [0. 0.]\n",
            "좌표 : [-2.58983747e+13 -1.29524862e+12] /  기울기 : [0. 0.]\n",
            "좌표 : [-2.58983747e+13 -1.29524862e+12] /  기울기 : [0. 0.]\n",
            "좌표 : [-2.58983747e+13 -1.29524862e+12] /  기울기 : [0. 0.]\n",
            "좌표 : [-2.58983747e+13 -1.29524862e+12] /  기울기 : [0. 0.]\n",
            "좌표 : [-2.58983747e+13 -1.29524862e+12] /  기울기 : [0. 0.]\n",
            "좌표 : [-2.58983747e+13 -1.29524862e+12] /  기울기 : [0. 0.]\n",
            "좌표 : [-2.58983747e+13 -1.29524862e+12] /  기울기 : [0. 0.]\n",
            "좌표 : [-2.58983747e+13 -1.29524862e+12] /  기울기 : [0. 0.]\n",
            "좌표 : [-2.58983747e+13 -1.29524862e+12] /  기울기 : [0. 0.]\n",
            "좌표 : [-2.58983747e+13 -1.29524862e+12] /  기울기 : [0. 0.]\n",
            "좌표 : [-2.58983747e+13 -1.29524862e+12] /  기울기 : [0. 0.]\n",
            "좌표 : [-2.58983747e+13 -1.29524862e+12] /  기울기 : [0. 0.]\n",
            "좌표 : [-2.58983747e+13 -1.29524862e+12] /  기울기 : [0. 0.]\n",
            "좌표 : [-2.58983747e+13 -1.29524862e+12] /  기울기 : [0. 0.]\n",
            "좌표 : [-2.58983747e+13 -1.29524862e+12] /  기울기 : [0. 0.]\n",
            "좌표 : [-2.58983747e+13 -1.29524862e+12] /  기울기 : [0. 0.]\n",
            "좌표 : [-2.58983747e+13 -1.29524862e+12] /  기울기 : [0. 0.]\n",
            "좌표 : [-2.58983747e+13 -1.29524862e+12] /  기울기 : [0. 0.]\n",
            "좌표 : [-2.58983747e+13 -1.29524862e+12] /  기울기 : [0. 0.]\n",
            "좌표 : [-2.58983747e+13 -1.29524862e+12] /  기울기 : [0. 0.]\n",
            "좌표 : [-2.58983747e+13 -1.29524862e+12] /  기울기 : [0. 0.]\n",
            "좌표 : [-2.58983747e+13 -1.29524862e+12] /  기울기 : [0. 0.]\n",
            "좌표 : [-2.58983747e+13 -1.29524862e+12] /  기울기 : [0. 0.]\n",
            "좌표 : [-2.58983747e+13 -1.29524862e+12] /  기울기 : [0. 0.]\n",
            "좌표 : [-2.58983747e+13 -1.29524862e+12] /  기울기 : [0. 0.]\n",
            "좌표 : [-2.58983747e+13 -1.29524862e+12] /  기울기 : [0. 0.]\n",
            "좌표 : [-2.58983747e+13 -1.29524862e+12] /  기울기 : [0. 0.]\n",
            "좌표 : [-2.58983747e+13 -1.29524862e+12] /  기울기 : [0. 0.]\n",
            "좌표 : [-2.58983747e+13 -1.29524862e+12] /  기울기 : [0. 0.]\n",
            "좌표 : [-2.58983747e+13 -1.29524862e+12] /  기울기 : [0. 0.]\n",
            "좌표 : [-2.58983747e+13 -1.29524862e+12] /  기울기 : [0. 0.]\n",
            "좌표 : [-2.58983747e+13 -1.29524862e+12] /  기울기 : [0. 0.]\n",
            "좌표 : [-2.58983747e+13 -1.29524862e+12] /  기울기 : [0. 0.]\n",
            "좌표 : [-2.58983747e+13 -1.29524862e+12] /  기울기 : [0. 0.]\n",
            "좌표 : [-2.58983747e+13 -1.29524862e+12] /  기울기 : [0. 0.]\n",
            "좌표 : [-2.58983747e+13 -1.29524862e+12] /  기울기 : [0. 0.]\n",
            "좌표 : [-2.58983747e+13 -1.29524862e+12] /  기울기 : [0. 0.]\n",
            "좌표 : [-2.58983747e+13 -1.29524862e+12] /  기울기 : [0. 0.]\n",
            "좌표 : [-2.58983747e+13 -1.29524862e+12] /  기울기 : [0. 0.]\n",
            "좌표 : [-2.58983747e+13 -1.29524862e+12] /  기울기 : [0. 0.]\n",
            "좌표 : [-2.58983747e+13 -1.29524862e+12] /  기울기 : [0. 0.]\n",
            "LR: [-2.58983747e+13 -1.29524862e+12]\n"
          ],
          "name": "stdout"
        }
      ]
    },
    {
      "cell_type": "markdown",
      "metadata": {
        "id": "hsmnFfIImJuh"
      },
      "source": [
        "기울기가 너무 크면 발산"
      ]
    },
    {
      "cell_type": "code",
      "metadata": {
        "colab": {
          "base_uri": "https://localhost:8080/"
        },
        "id": "UAXU3ejKnY1M",
        "outputId": "c0213904-8afe-4a5c-8f5f-3336267249d6"
      },
      "source": [
        "# 학습률이 너무 작은 예\n",
        "start_x = np.array([-3.0, 4.0])\n",
        "result = gradient_descent(function_2, start_x, lr=1e-10)\n",
        "print(\"Learning Rate 1e-10 : {}\".format(result))"
      ],
      "execution_count": null,
      "outputs": [
        {
          "output_type": "stream",
          "text": [
            "좌표 : [-3.  4.] /  기울기 : [-6.  8.]\n",
            "좌표 : [-3.  4.] /  기울기 : [-6.  8.]\n",
            "좌표 : [-3.  4.] /  기울기 : [-6.  8.]\n",
            "좌표 : [-3.  4.] /  기울기 : [-6.  8.]\n",
            "좌표 : [-3.  4.] /  기울기 : [-6.          7.99999999]\n",
            "좌표 : [-3.  4.] /  기울기 : [-5.99999999  7.99999999]\n",
            "좌표 : [-3.  4.] /  기울기 : [-5.99999999  7.99999999]\n",
            "좌표 : [-3.          3.99999999] /  기울기 : [-5.99999999  7.99999999]\n",
            "좌표 : [-3.          3.99999999] /  기울기 : [-5.99999999  7.99999999]\n",
            "좌표 : [-2.99999999  3.99999999] /  기울기 : [-5.99999999  7.99999999]\n",
            "좌표 : [-2.99999999  3.99999999] /  기울기 : [-5.99999999  7.99999998]\n",
            "좌표 : [-2.99999999  3.99999999] /  기울기 : [-5.99999999  7.99999998]\n",
            "좌표 : [-2.99999999  3.99999999] /  기울기 : [-5.99999999  7.99999998]\n",
            "좌표 : [-2.99999999  3.99999999] /  기울기 : [-5.99999998  7.99999998]\n",
            "좌표 : [-2.99999999  3.99999999] /  기울기 : [-5.99999998  7.99999998]\n",
            "좌표 : [-2.99999999  3.99999999] /  기울기 : [-5.99999998  7.99999998]\n",
            "좌표 : [-2.99999999  3.99999999] /  기울기 : [-5.99999998  7.99999997]\n",
            "좌표 : [-2.99999999  3.99999999] /  기울기 : [-5.99999998  7.99999997]\n",
            "좌표 : [-2.99999999  3.99999999] /  기울기 : [-5.99999998  7.99999997]\n",
            "좌표 : [-2.99999999  3.99999998] /  기울기 : [-5.99999998  7.99999997]\n",
            "좌표 : [-2.99999999  3.99999998] /  기울기 : [-5.99999998  7.99999997]\n",
            "좌표 : [-2.99999999  3.99999998] /  기울기 : [-5.99999997  7.99999997]\n",
            "좌표 : [-2.99999999  3.99999998] /  기울기 : [-5.99999997  7.99999996]\n",
            "좌표 : [-2.99999999  3.99999998] /  기울기 : [-5.99999997  7.99999996]\n",
            "좌표 : [-2.99999999  3.99999998] /  기울기 : [-5.99999997  7.99999996]\n",
            "좌표 : [-2.99999998  3.99999998] /  기울기 : [-5.99999997  7.99999996]\n",
            "좌표 : [-2.99999998  3.99999998] /  기울기 : [-5.99999997  7.99999996]\n",
            "좌표 : [-2.99999998  3.99999998] /  기울기 : [-5.99999997  7.99999996]\n",
            "좌표 : [-2.99999998  3.99999998] /  기울기 : [-5.99999997  7.99999996]\n",
            "좌표 : [-2.99999998  3.99999998] /  기울기 : [-5.99999997  7.99999995]\n",
            "좌표 : [-2.99999998  3.99999998] /  기울기 : [-5.99999996  7.99999995]\n",
            "좌표 : [-2.99999998  3.99999998] /  기울기 : [-5.99999996  7.99999995]\n",
            "좌표 : [-2.99999998  3.99999997] /  기울기 : [-5.99999996  7.99999995]\n",
            "좌표 : [-2.99999998  3.99999997] /  기울기 : [-5.99999996  7.99999995]\n",
            "좌표 : [-2.99999998  3.99999997] /  기울기 : [-5.99999996  7.99999995]\n",
            "좌표 : [-2.99999998  3.99999997] /  기울기 : [-5.99999996  7.99999994]\n",
            "좌표 : [-2.99999998  3.99999997] /  기울기 : [-5.99999996  7.99999994]\n",
            "좌표 : [-2.99999998  3.99999997] /  기울기 : [-5.99999996  7.99999994]\n",
            "좌표 : [-2.99999998  3.99999997] /  기울기 : [-5.99999995  7.99999994]\n",
            "좌표 : [-2.99999998  3.99999997] /  기울기 : [-5.99999995  7.99999994]\n",
            "좌표 : [-2.99999998  3.99999997] /  기울기 : [-5.99999995  7.99999994]\n",
            "좌표 : [-2.99999998  3.99999997] /  기울기 : [-5.99999995  7.99999993]\n",
            "좌표 : [-2.99999997  3.99999997] /  기울기 : [-5.99999995  7.99999993]\n",
            "좌표 : [-2.99999997  3.99999997] /  기울기 : [-5.99999995  7.99999993]\n",
            "좌표 : [-2.99999997  3.99999996] /  기울기 : [-5.99999995  7.99999993]\n",
            "좌표 : [-2.99999997  3.99999996] /  기울기 : [-5.99999995  7.99999993]\n",
            "좌표 : [-2.99999997  3.99999996] /  기울기 : [-5.99999994  7.99999993]\n",
            "좌표 : [-2.99999997  3.99999996] /  기울기 : [-5.99999994  7.99999992]\n",
            "좌표 : [-2.99999997  3.99999996] /  기울기 : [-5.99999994  7.99999992]\n",
            "좌표 : [-2.99999997  3.99999996] /  기울기 : [-5.99999994  7.99999992]\n",
            "좌표 : [-2.99999997  3.99999996] /  기울기 : [-5.99999994  7.99999992]\n",
            "좌표 : [-2.99999997  3.99999996] /  기울기 : [-5.99999994  7.99999992]\n",
            "좌표 : [-2.99999997  3.99999996] /  기울기 : [-5.99999994  7.99999992]\n",
            "좌표 : [-2.99999997  3.99999996] /  기울기 : [-5.99999994  7.99999992]\n",
            "좌표 : [-2.99999997  3.99999996] /  기울기 : [-5.99999994  7.99999991]\n",
            "좌표 : [-2.99999997  3.99999996] /  기울기 : [-5.99999993  7.99999991]\n",
            "좌표 : [-2.99999997  3.99999996] /  기울기 : [-5.99999993  7.99999991]\n",
            "좌표 : [-2.99999997  3.99999995] /  기울기 : [-5.99999993  7.99999991]\n",
            "좌표 : [-2.99999997  3.99999995] /  기울기 : [-5.99999993  7.99999991]\n",
            "좌표 : [-2.99999996  3.99999995] /  기울기 : [-5.99999993  7.99999991]\n",
            "좌표 : [-2.99999996  3.99999995] /  기울기 : [-5.99999993  7.9999999 ]\n",
            "좌표 : [-2.99999996  3.99999995] /  기울기 : [-5.99999993  7.9999999 ]\n",
            "좌표 : [-2.99999996  3.99999995] /  기울기 : [-5.99999993  7.9999999 ]\n",
            "좌표 : [-2.99999996  3.99999995] /  기울기 : [-5.99999992  7.9999999 ]\n",
            "좌표 : [-2.99999996  3.99999995] /  기울기 : [-5.99999992  7.9999999 ]\n",
            "좌표 : [-2.99999996  3.99999995] /  기울기 : [-5.99999992  7.9999999 ]\n",
            "좌표 : [-2.99999996  3.99999995] /  기울기 : [-5.99999992  7.99999989]\n",
            "좌표 : [-2.99999996  3.99999995] /  기울기 : [-5.99999992  7.99999989]\n",
            "좌표 : [-2.99999996  3.99999995] /  기울기 : [-5.99999992  7.99999989]\n",
            "좌표 : [-2.99999996  3.99999994] /  기울기 : [-5.99999992  7.99999989]\n",
            "좌표 : [-2.99999996  3.99999994] /  기울기 : [-5.99999992  7.99999989]\n",
            "좌표 : [-2.99999996  3.99999994] /  기울기 : [-5.99999991  7.99999989]\n",
            "좌표 : [-2.99999996  3.99999994] /  기울기 : [-5.99999991  7.99999988]\n",
            "좌표 : [-2.99999996  3.99999994] /  기울기 : [-5.99999991  7.99999988]\n",
            "좌표 : [-2.99999996  3.99999994] /  기울기 : [-5.99999991  7.99999988]\n",
            "좌표 : [-2.99999995  3.99999994] /  기울기 : [-5.99999991  7.99999988]\n",
            "좌표 : [-2.99999995  3.99999994] /  기울기 : [-5.99999991  7.99999988]\n",
            "좌표 : [-2.99999995  3.99999994] /  기울기 : [-5.99999991  7.99999988]\n",
            "좌표 : [-2.99999995  3.99999994] /  기울기 : [-5.99999991  7.99999988]\n",
            "좌표 : [-2.99999995  3.99999994] /  기울기 : [-5.99999991  7.99999987]\n",
            "좌표 : [-2.99999995  3.99999994] /  기울기 : [-5.9999999   7.99999987]\n",
            "좌표 : [-2.99999995  3.99999994] /  기울기 : [-5.9999999   7.99999987]\n",
            "좌표 : [-2.99999995  3.99999993] /  기울기 : [-5.9999999   7.99999987]\n",
            "좌표 : [-2.99999995  3.99999993] /  기울기 : [-5.9999999   7.99999987]\n",
            "좌표 : [-2.99999995  3.99999993] /  기울기 : [-5.9999999   7.99999987]\n",
            "좌표 : [-2.99999995  3.99999993] /  기울기 : [-5.9999999   7.99999986]\n",
            "좌표 : [-2.99999995  3.99999993] /  기울기 : [-5.9999999   7.99999986]\n",
            "좌표 : [-2.99999995  3.99999993] /  기울기 : [-5.9999999   7.99999986]\n",
            "좌표 : [-2.99999995  3.99999993] /  기울기 : [-5.99999989  7.99999986]\n",
            "좌표 : [-2.99999995  3.99999993] /  기울기 : [-5.99999989  7.99999986]\n",
            "좌표 : [-2.99999995  3.99999993] /  기울기 : [-5.99999989  7.99999986]\n",
            "좌표 : [-2.99999995  3.99999993] /  기울기 : [-5.99999989  7.99999985]\n",
            "좌표 : [-2.99999994  3.99999993] /  기울기 : [-5.99999989  7.99999985]\n",
            "좌표 : [-2.99999994  3.99999993] /  기울기 : [-5.99999989  7.99999985]\n",
            "좌표 : [-2.99999994  3.99999992] /  기울기 : [-5.99999989  7.99999985]\n",
            "좌표 : [-2.99999994  3.99999992] /  기울기 : [-5.99999989  7.99999985]\n",
            "좌표 : [-2.99999994  3.99999992] /  기울기 : [-5.99999988  7.99999985]\n",
            "좌표 : [-2.99999994  3.99999992] /  기울기 : [-5.99999988  7.99999984]\n",
            "좌표 : [-2.99999994  3.99999992] /  기울기 : [-5.99999988  7.99999984]\n",
            "좌표 : [-2.99999994  3.99999992] /  기울기 : [-5.99999988  7.99999984]\n",
            "Learning Rate 1e-10 : [-2.99999994  3.99999992]\n"
          ],
          "name": "stdout"
        }
      ]
    },
    {
      "cell_type": "markdown",
      "metadata": {
        "id": "sIAZu2D-nwa7"
      },
      "source": [
        "기울기가 너무 작으면 최소지점으로 가지 못하고 갱신이 끝난다"
      ]
    },
    {
      "cell_type": "markdown",
      "metadata": {
        "id": "3GGF7VgaoHAi"
      },
      "source": [
        "# 신경망에서의 Gradeint Descent\n",
        "손실값(loss)를 최소로 하는 모델 파라미터 구하는 과정\n",
        "**최적화(optimization)**\n",
        "* 신경망에서의 모델 파라미터는?\n",
        "    * **가중치(W)와 편향(b)에 의해 성능이 바뀜\n",
        "* Loss를 최소화 하기 위한 가중치와 편향을 구하는 과정을 최적화하는 함수(optimizer)\n",
        "* 경사하강법은 여러 최적화 기법의 일종\n",
        "\n",
        "**신경망의 학습**\n",
        "Loss 값을 최소화 시키는 가중치와 편향을 구한다\n",
        "\n",
        "미분은 어떻게 쓰이나?\n"
      ]
    },
    {
      "cell_type": "markdown",
      "metadata": {
        "id": "TI0dGt90qwK7"
      },
      "source": [
        "에타 w Loss에 대한 기울기"
      ]
    },
    {
      "cell_type": "code",
      "metadata": {
        "id": "6SzX2AMXwTCL"
      },
      "source": [
        "# 실습에 필요한 함수들\n",
        "import numpy as np\n",
        "def sigmoid(x):\n",
        "    return 1 / (1 + np.exp(-x))\n",
        "def softmax(x):\n",
        "    if x.ndim == 2:\n",
        "        x = x.T\n",
        "        x = x - np.max(x, axis=0)\n",
        "        y = np.exp(x) / np.sum(np.exp(x), axis=0)\n",
        "        return y.T \n",
        "    x = x - np.max(x) # 오버플로 대책\n",
        "    return np.exp(x) / np.sum(np.exp(x))\n",
        "def cross_entropy_error(y, t):\n",
        "    if y.ndim == 1:\n",
        "        t = t.reshape(1, t.size)\n",
        "        y = y.reshape(1, y.size)\n",
        "    # 훈련 데이터가 원-핫 벡터라면 정답 레이블의 인덱스로 반환\n",
        "    if t.size == y.size:\n",
        "        t = t.argmax(axis=1)\n",
        "    batch_size = y.shape[0]\n",
        "    return -np.sum(np.log(y[np.arange(batch_size), t] + 1e-7)) / batch_size\n",
        "def numerical_gradient(f, x):\n",
        "    h = 1e-4 # 0.0001\n",
        "    grad = np.zeros_like(x)\n",
        "    it = np.nditer(x, flags=['multi_index'], op_flags=['readwrite'])\n",
        "    while not it.finished:\n",
        "        idx = it.multi_index\n",
        "        tmp_val = x[idx]\n",
        "        x[idx] = float(tmp_val) + h\n",
        "        fxh1 = f(x) # f(x+h)\n",
        "        x[idx] = tmp_val - h \n",
        "        fxh2 = f(x) # f(x-h)\n",
        "        grad[idx] = (fxh1 - fxh2) / (2*h)\n",
        "        x[idx] = tmp_val # 값 복원\n",
        "        it.iternext()   \n",
        "    return grad"
      ],
      "execution_count": null,
      "outputs": []
    },
    {
      "cell_type": "markdown",
      "metadata": {
        "id": "vB7rNn68wUDl"
      },
      "source": [
        "# Simple Net 만들기\n",
        "* 입력을 두개 받는 [x1, x_2] 3개의 뉴런을 가진 신경망\n",
        "* 편향 고려x, 가중치만 사용\n",
        "\n"
      ]
    },
    {
      "cell_type": "code",
      "metadata": {
        "id": "YHN0QhJ_wiFh"
      },
      "source": [
        "# 신경망 클래스\n",
        "\n",
        "class SimpleNet:\n",
        "   \n",
        "    # 초기화에서는?\n",
        "    # 신경망이 초기에 가지고 있어야 할 매개변수를 세팅\n",
        "    # 신경망 매개변수 초기화 작업을 생성자인 __init__ 메소드에서 수행\n",
        "\n",
        "    def __init__(self):\n",
        "        # 1) 정규분포 랜덤 * 0.01 기본으로 사용\n",
        "        # 2) 카이밍 히 초기값 (He 초기값) - ReLU Activation Function으로 사용할 때 사용하는 초기화 방식\n",
        "        # 3) 사비에르 초깃값(글로로트 초깃값) (Xavier 초깃값) - Sigmoid를 Activation Function으로 사용할 때 \n",
        "        self.W = np.random.randn(2, 3) * 0.01 # (1)번 방식\n",
        "\n",
        "    def predict(self, x): #예측\n",
        "        return x @ self.W \n",
        "\n",
        "    def loss(self, x, t):\n",
        "        #손실(loss)을 구할 때 필요한것 \n",
        "        # 예측값 y, 정답(t), loss 함수(cross entropy error)\n",
        "        z = self.predict(x)\n",
        "        y = softmax(z) \n",
        "\n",
        "        loss = cross_entropy_error(y, t)\n",
        "        return loss\n"
      ],
      "execution_count": null,
      "outputs": []
    },
    {
      "cell_type": "code",
      "metadata": {
        "colab": {
          "base_uri": "https://localhost:8080/"
        },
        "id": "rp6dgbZNx3aq",
        "outputId": "aaf82c65-9d1e-4b36-8273-6d6bccc33825"
      },
      "source": [
        "W = np.random.randn(2, 3) \n",
        "W"
      ],
      "execution_count": null,
      "outputs": [
        {
          "output_type": "execute_result",
          "data": {
            "text/plain": [
              "array([[-1.40992289, -0.47540825, -1.3666352 ],\n",
              "       [ 1.59277152, -0.36652974, -0.72910837]])"
            ]
          },
          "metadata": {
            "tags": []
          },
          "execution_count": 48
        }
      ]
    },
    {
      "cell_type": "code",
      "metadata": {
        "colab": {
          "base_uri": "https://localhost:8080/"
        },
        "id": "9tghPflH8BKR",
        "outputId": "c700df65-61f5-4479-a714-d703428f07d8"
      },
      "source": [
        "SimpleNet().W"
      ],
      "execution_count": null,
      "outputs": [
        {
          "output_type": "execute_result",
          "data": {
            "text/plain": [
              "array([[-0.00634148, -0.00374924, -0.00458073],\n",
              "       [-0.01088691,  0.0072216 ,  0.01855918]])"
            ]
          },
          "metadata": {
            "tags": []
          },
          "execution_count": 49
        }
      ]
    },
    {
      "cell_type": "code",
      "metadata": {
        "colab": {
          "base_uri": "https://localhost:8080/"
        },
        "id": "8dSeCwawx31D",
        "outputId": "a920f657-d4e4-47ec-84fe-6444c34a0fc3"
      },
      "source": [
        "net = SimpleNet()\n",
        "print(\"가중치: \\n{}\".format(net.W))"
      ],
      "execution_count": null,
      "outputs": [
        {
          "output_type": "stream",
          "text": [
            "가중치: \n",
            "[[-0.0089655   0.00431097  0.00724922]\n",
            " [-0.00677907 -0.00364855  0.00819676]]\n"
          ],
          "name": "stdout"
        }
      ]
    },
    {
      "cell_type": "code",
      "metadata": {
        "colab": {
          "base_uri": "https://localhost:8080/"
        },
        "id": "e4lK3v9Bzi_R",
        "outputId": "0e52d1a3-3ae5-4788-e3ce-4d9670cff1be"
      },
      "source": [
        "x = np.array([0.6, 0.9])\n",
        "p = net.predict(x)\n",
        "\n",
        "print(\"예측값 : {}\".format(p))"
      ],
      "execution_count": null,
      "outputs": [
        {
          "output_type": "stream",
          "text": [
            "예측값 : [-0.01148047 -0.00069711  0.01172661]\n"
          ],
          "name": "stdout"
        }
      ]
    },
    {
      "cell_type": "code",
      "metadata": {
        "colab": {
          "base_uri": "https://localhost:8080/"
        },
        "id": "9XfQ95AnzzVb",
        "outputId": "e3d0a58d-2f06-4685-f578-6c0b7411c57f"
      },
      "source": [
        "# loss 구해보기\n",
        "t = np.array([0, 0, 1])\n",
        "t_error = np.array([1, 0, 0])\n",
        "\n",
        "print(\"정답 잘 예측 했을 때 Loss : {:.3f}\".format(net.loss(x, t))) # loss 함수를 호출 시 나오는 값이 정해진 값인 \"상수\"가 됨\n",
        "print(\"정답 잘못 예측 했을 때 loss : {:.3f}\".format(net.loss(x, t_error))) "
      ],
      "execution_count": null,
      "outputs": [
        {
          "output_type": "stream",
          "text": [
            "정답 잘 예측 했을 때 Loss : 1.087\n",
            "정답 잘못 예측 했을 때 loss : 1.110\n"
          ],
          "name": "stdout"
        }
      ]
    },
    {
      "cell_type": "code",
      "metadata": {
        "id": "sOZXS-av0yYh"
      },
      "source": [
        "# 1. Loss 구하기 위한 함수 \n",
        "# 2. W에 대한 .. \n",
        "# dL / dW\n",
        "\n",
        "# net.loss를 미분할 함수를 따로 만든 것임(W에 대한..)\n",
        "def f(W): # W를 함수로 만듬\n",
        "    return net.loss(x, t) #실행 식힌 즉시 상수가 되는데, 그걸 loss를 미분할 함수를 따로 만든 것임 wdp eogks \n",
        "\n",
        "# 혹은\n",
        "# loss_W = lambda W : net.loss(x, y)\n",
        "\n",
        "# dL / 함수를 미분 하려면 필요한것은?\n",
        "#가중치 w 값에 대한 미분을 구할 함수를 만든것임\n",
        "# w 증가 에이치 만큼 했을 때 함수 "
      ],
      "execution_count": null,
      "outputs": []
    },
    {
      "cell_type": "markdown",
      "metadata": {
        "id": "D0OYPdsy3uT6"
      },
      "source": [
        "\n"
      ]
    },
    {
      "cell_type": "code",
      "metadata": {
        "colab": {
          "base_uri": "https://localhost:8080/"
        },
        "id": "kEBSZgkH5u3x",
        "outputId": "3c892d98-83ed-42e7-aff2-632e12109b9e"
      },
      "source": [
        "# Loss 를 구하는 함수 f\n",
        "\n",
        "dW = numerical_gradient(f, net.W) #네트워크가 가지고 있는 가중치가 이 함수에 의해서 기울기가 얼만큼 변화가 될 것인가를 본 것임\n",
        "print(dW)"
      ],
      "execution_count": null,
      "outputs": [
        {
          "output_type": "stream",
          "text": [
            "[[ 0.19773781  0.19988162 -0.39761943]\n",
            " [ 0.29660671  0.29982244 -0.59642915]]\n"
          ],
          "name": "stdout"
        }
      ]
    },
    {
      "cell_type": "markdown",
      "metadata": {
        "id": "mO-n_xQz6DeX"
      },
      "source": [
        "# 학습이 가능한 MNIST 신경망 구현\n",
        "* 2층 신경망\n",
        "* 1층 은닉층 뉴런 개수 100개\n",
        "    * 활성화 함수 시그모이드 함수\n",
        "* 2층 출력층 뉴런 개수 10개\n",
        "    * 활성화 함수 `softmax` 사용\n",
        "* loss 함수 `cross entropy_error`\n",
        "\n",
        "----\n",
        "\n",
        "* `predict` 에서 `softmax` 사용\n",
        "* 클래스 내부에 기울기 배열을 구하는 `numerical_gradient_params를 구현\n",
        "\n"
      ]
    },
    {
      "cell_type": "code",
      "metadata": {
        "id": "_hpJ3wDqZbI0"
      },
      "source": [
        "# class TowLayerNet:\n",
        "\n",
        "#     def __init__(self, input_size=28*28, hidden_size=100, output_size=10, weight_init_std=0.01):\n",
        "#     '''\n",
        "#     input_size : 입력 데이터 shape(N, 28* 28)\n",
        "#     hidden_size : 은닉층의 뉴런 개수\n",
        "#     output_size : 출력층의 뉴런 개수\n",
        "#     weight_init_std : 정규 분포 랜덤값에 표준편차 0.01 적용 위함\n",
        "#     '''\n",
        "    \n",
        "#     self.params = {}\n",
        "\n",
        "#     #1 층 매개변수 초기화 \n",
        "#     #가중치 : w1 랜덤, 편향 : b1 (0으로 들어갈 것)\n",
        "  \n",
        "#     self.params[\"W1\"] = np.random.randn(input_size, hidden_size) * weight_init_std \n",
        "#     self.params[\"B1\"] = np.zeros(hidden_size)\n",
        "    \n",
        "#     #2 층 가중치 : w2, 편향 : b2 \n",
        "#     self.params[\"W2\"] = np.random.randn(100, 10) * weight_init_std\n",
        "#     self.params[\"B2\"] = np.zeros(output_size)\n",
        "\n",
        "#     def predict(self, x):\n",
        "#     # 마지막 출력층에서 softmax 사용할 것\n",
        "#     # 가중치 편향 패킹\n",
        "\n",
        "#     W1, W2 = self.params[\"W1\"], self.params[\"W2\"]\n",
        "#     b1, b2 = self.params[\"B1\"], self.params[\"B2\"]\n",
        "\n",
        "\n",
        "#     #1 은닉층 계산 \n",
        "#     z1 = x @ W1 +b1\n",
        "#     a1 = sigmoid(z1)\n",
        "\n",
        "#     #2 출력층 계산\n",
        "#     z2 = a1 @ W2 + b2\n",
        "#     y = softmax(z2)\n",
        "\n",
        "#     return y\n",
        "    \n",
        "#     # loss에 필요한 것 : y 예측, t: 정답\n",
        "#     def loss(self, x, t): #\n",
        "#     y = self.predict(x)\n",
        "#     loss_value = cross_entropy_error(y, t)\n",
        "    \n",
        "#     return loss\n",
        "\n",
        "#   # 미분(numerical_gradient)을 이용한 \"각 매개변수 별 기울기 배열 구하기\" 매개변수의 로스의 미분값\n",
        "#   # 매개변수 설정 반드시 할 것.\n",
        "#     def numerical_gradient_params(self):\n",
        "#         loss_W = lambda W : netloss(x, t)\n",
        "\n",
        "#     # 각 층에서 구해지는 기울기를 저장할 딕셔너리 설정 / 각 파라미터(매개변수)의 미분을 구하는 함수\n",
        "#         grads = {}\n",
        "\n",
        "#         print(\"-- 미분 시작--\")\n",
        "#         # 1층 매개변수에 대한 기울기 구하기 : loss에 대한 W1, b1의 기울기 grads에 저장 \n",
        "\n",
        "#         grads['W1'] = numerical_gradient(loss_W, self.params[\"W1\"]) # dL/ dW1\n",
        "#         grads['B1'] = numerical_gradient(loss_W, self.params[\"B1\"]) # dL / db1\n",
        "#         # 2층 매개변수에 대한 기울기 구하기 \n",
        "#         grads['W2'] = numerical_gradient(loss_W, self.params[\"W2\"]) # dL / dW2\n",
        "#         grads['B2'] = numerical_gradient(loss_W, self.params[\"B2\"]) # dL / dW2\n",
        " \n",
        "#     # 저장할 것 : 각 매개변수의 기울기들(W1, W2, b1, b2)을 저장\n",
        "#     # 나중에 이 기울기들로 경사하강법 수행 예정\n",
        "        \n",
        "#         print(\"--미분 끝--\")\n",
        "#         return grads\n",
        "    "
      ],
      "execution_count": null,
      "outputs": []
    },
    {
      "cell_type": "code",
      "metadata": {
        "id": "nYa4cpT2DH9I"
      },
      "source": [
        ""
      ],
      "execution_count": null,
      "outputs": []
    },
    {
      "cell_type": "code",
      "metadata": {
        "id": "CYudaoFP7xUQ"
      },
      "source": [
        "class TwoLayerNet:\n",
        "  def __init__(self, input_size=28*28, hidden_size=100, output_size=10, weight_init_std=0.01):\n",
        "    '''\n",
        "      input_size : 입력 데이터의 개수 28*28\n",
        "      hidden_size : 은닉층의 뉴런 개수\n",
        "      output_size : 출력층의 뉴런 개수\n",
        "      weight_init_std : 정규 분포 랜덤값에 표준편차 0.01를 적용하기 위함\n",
        "    '''\n",
        "    self.params = {}\n",
        "    # 1층 가중치 : W1, 편향 : b1\n",
        "    # 2층 가중치 : W2, 편향 : b2\n",
        "    # YOUR CODE HERE\n",
        "    # 가중치 : 정규 분표 랜덤으로 만들기\n",
        "    # 편향  : 0으로 채워진 배열로 초기화.\n",
        "   \n",
        "    # 1층 매개변수 초기화\n",
        "    \n",
        "    self.params[\"W1\"] = np.random.randn(input_size, hidden_size) * weight_init_std\n",
        "    self.params[\"b1\"] = np.zeros(hidden_size)\n",
        "    \n",
        "    # 2층 매개변수 초기화\n",
        "    self.params[\"W2\"] = np.random.randn(hidden_size, output_size) * weight_init_std\n",
        "    self.params[\"b2\"] = np.zeros(output_size)\n",
        "  \n",
        "  def predict(self, x):\n",
        "    # 마지막 출력층에서 softmax 사용할 것.\n",
        "    # YOUR CODE HERE\n",
        "    W1, b1 = self.params[\"W1\"], self.params[\"b1\"]\n",
        "    W2, b2 = self.params[\"W2\"], self.params[\"b2\"]\n",
        "    # 1층 은닉층 계산\n",
        "    z1 = x @ W1 + b1\n",
        "    a1 = sigmoid(z1)\n",
        "    # 2층 출력층 계산\n",
        "    z2 = a1 @ W2 + b2\n",
        "    y = softmax(z2)\n",
        "  \n",
        "    return y\n",
        "  # 매개변수 설정 반드시 할 것.\n",
        "  # loss를 구하기 위해 필요한 거 : y, t\n",
        "  \n",
        "  def loss(self, x, t):\n",
        "    # YOUR CODE HERE\n",
        "    y = self.predict(x)\n",
        "    loss_val = cross_entropy_error(y, t)\n",
        "    return loss_val\n",
        "  # 미분(numerical_gradient)을 이용한 \"각 매개변수 별 기울기 배열 구하기\"\n",
        "  # 매개변수 설정 반드시 할 것.\n",
        "  \n",
        "  def numerical_gradient_params(self, x, t):\n",
        "    # 각 층에서 구해지는 기울기를 저장할 딕셔너리\n",
        "    #  저장할 것 : 각 매개변수의 기울기들(W1, W2, b1, b2)을 저장.\n",
        "    #            나중에 이 기울기들로 경사하강법 수행 예정\n",
        "    grads = {}\n",
        "    print(\"----- 미분 시작 -----\")\n",
        "    loss_param_f = lambda p : self.loss(x, t)\n",
        "   \n",
        "    # 1층 매개변수에 대한 기울기 구하기 : loss에 대한 W1, b1의 기울기를 grads에 저장\n",
        "    grads[\"W1\"] = numerical_gradient(loss_param_f, self.params[\"W1\"]) # dL / dW1\n",
        "    grads[\"b1\"] = numerical_gradient(loss_param_f, self.params['b1']) # dL / db1\n",
        "   \n",
        "    # 2층 매개변수에 대한 기울기 구하기 : loss에 대한 W2, b2의 기울기를 grads에 저장\n",
        "    grads[\"W2\"] = numerical_gradient(loss_param_f, self.params[\"W2\"]) # dL / dW2\n",
        "    grads[\"b2\"] = numerical_gradient(loss_param_f, self.params[\"b2\"]) # dL / db2\n",
        "    print(\"----- 미분 끝 -----\")\n",
        "    return grads"
      ],
      "execution_count": null,
      "outputs": []
    },
    {
      "cell_type": "code",
      "metadata": {
        "colab": {
          "base_uri": "https://localhost:8080/"
        },
        "id": "1NhLGPW3bbL4",
        "outputId": "e1daa9e3-9071-4f6d-b066-afed1f580daf"
      },
      "source": [
        "from tensorflow.keras import datasets\n",
        "mnist = datasets.mnist\n",
        "\n",
        "(X_train, t_train), (X_test, t_test) = mnist.load_data()\n",
        "\n",
        "X_train.shape, t_train.shape\n"
      ],
      "execution_count": null,
      "outputs": [
        {
          "output_type": "execute_result",
          "data": {
            "text/plain": [
              "((60000, 28, 28), (60000,))"
            ]
          },
          "metadata": {
            "tags": []
          },
          "execution_count": 57
        }
      ]
    },
    {
      "cell_type": "markdown",
      "metadata": {
        "id": "wmYqv_mK5A74"
      },
      "source": [
        "### 데이터 전처리 "
      ]
    },
    {
      "cell_type": "markdown",
      "metadata": {
        "id": "c6k0a9KV5OyC"
      },
      "source": [
        "t_train, t_test : OHE 해볼 예정\n",
        "X_ train, X_test : (N, 28*28) 형태로 평탄화"
      ]
    },
    {
      "cell_type": "code",
      "metadata": {
        "colab": {
          "base_uri": "https://localhost:8080/"
        },
        "id": "wnXMTGT95ikP",
        "outputId": "c93f936f-f461-47fc-e694-4190e7562415"
      },
      "source": [
        "import tensorflow as tf\n",
        "\n",
        "t_train_one_hot = tf.one_hot(t_train, 10).numpy()\n",
        "t_test_one_hot = tf.one_hot(t_test, 10).numpy()\n",
        "\n",
        "t_train_one_hot.shape, t_test_one_hot.shape"
      ],
      "execution_count": null,
      "outputs": [
        {
          "output_type": "execute_result",
          "data": {
            "text/plain": [
              "((60000, 10), (10000, 10))"
            ]
          },
          "metadata": {
            "tags": []
          },
          "execution_count": 58
        }
      ]
    },
    {
      "cell_type": "code",
      "metadata": {
        "colab": {
          "base_uri": "https://localhost:8080/"
        },
        "id": "EeKKbAJO5v0f",
        "outputId": "664874b0-cf2e-4dde-f155-b8d43b4af5ac"
      },
      "source": [
        "# X_train, X_test 평탄화 시키기 (N, 28 * 28)\n",
        "\n",
        "X_train = X_train.reshape(X_train.shape[0], -1) # 데이터 갯수\n",
        "X_test = X_test.reshape(X_test.shape[0], -1)\n",
        "\n",
        "X_train.shape, X_test.shape"
      ],
      "execution_count": null,
      "outputs": [
        {
          "output_type": "execute_result",
          "data": {
            "text/plain": [
              "((60000, 784), (10000, 784))"
            ]
          },
          "metadata": {
            "tags": []
          },
          "execution_count": 59
        }
      ]
    },
    {
      "cell_type": "markdown",
      "metadata": {
        "id": "m37PDtsn6BTQ"
      },
      "source": [
        "## 이미지 데이터 정규화\n",
        "* 이미지 데이터는 항상 0 - 255 사이의 정수값을 기본적으로 갖는다\n",
        "\n",
        "* 0 부터 255 라는 숫자의 차이는 매우 큰 데이터 끼리의 차이이기 때문에 0~1 사이로 정규화 \n",
        "\n",
        "* 255.0 으로 나누어서 최소를 0, 최대를 1로 갖는 이미지 만들어주기 \n",
        "\n",
        "* 거의 일반적으로 입력 이미지의 픽셀값을 0~ 1사이로 맞추는게 젤 괜찮음\n"
      ]
    },
    {
      "cell_type": "code",
      "metadata": {
        "id": "3Gx0P0YI6xJQ"
      },
      "source": [
        "X_train = X_train/ 255.0\n",
        "X_test = X_test/ 255.0"
      ],
      "execution_count": null,
      "outputs": []
    },
    {
      "cell_type": "markdown",
      "metadata": {
        "id": "bba7m1ic63Z3"
      },
      "source": [
        "# 훈련을 위한 하이퍼파라미터 설정\n",
        "* 미니배치 갯수 선정 \n",
        "* 훈련 반복 횟수 설정 = 경사하강법 적용 횟수\n",
        "* 학습률 선정\n",
        "\n"
      ]
    },
    {
      "cell_type": "code",
      "metadata": {
        "id": "nQCGLS427M6o"
      },
      "source": [
        "# 반복 횟수 설정\n",
        "iter_nums = 10000\n",
        "\n",
        "# 미니 배치 설정 \n",
        "train_size = X_train.shape[0]\n",
        "batch_size = 100\n",
        "\n",
        "#학습률 \n",
        "learning_rate = 0.1"
      ],
      "execution_count": null,
      "outputs": []
    },
    {
      "cell_type": "code",
      "metadata": {
        "id": "WnWvcVhY8IvP"
      },
      "source": [
        "# 신경망 만들기\n",
        "net = TwoLayerNet()"
      ],
      "execution_count": null,
      "outputs": []
    },
    {
      "cell_type": "code",
      "metadata": {
        "id": "Zb5fJgVi7cPC",
        "colab": {
          "base_uri": "https://localhost:8080/",
          "height": 512,
          "referenced_widgets": [
            "555e3e32f04a472684d91314d90f1b77",
            "2b96eaa201ed46499e5435ab6b49f17b",
            "864669fa54db430a834b080a7ada9ee8",
            "321951af874c4ab2b92e72756b5e5aca",
            "061e4f8010aa4571a42b15215577618c",
            "44b632912a794d218f1e0b0e6f5784c8",
            "ae93a96440b64af3a73b81eb3679fe61",
            "e29a08066852404fab88d73a7ccbe19d"
          ]
        },
        "outputId": "575b1ef9-a9a0-4537-be75-1b7c38b3fac2"
      },
      "source": [
        "# 반복문 돌릴때 시각화 패키지\n",
        "from tqdm import tqdm_notebook\n",
        "\n",
        "for i in tqdm_notebook(range(iter_nums)):\n",
        "\n",
        "    #1. 미니 배치 인덱스 선정( 마스크 만들기)\n",
        "    # train_size(60000)개 중 batch_size(100)개 만큼의 랜덤한 인덱스 뽑기\n",
        "    batch_mask = np.random.choice(train_size, batch_size)\n",
        "\n",
        "    #미니 배치 만들기\n",
        "    X_batch = X_train[batch_mask]\n",
        "    t_batch = t_train[batch_mask]\n",
        "\n",
        "    #2. 각 매개변수의 기울기 배열 구하기(미분 수행)\n",
        "    # 기울기를 알아야 경사하강법(최적화)를 수행할 수 있음!\n",
        "    grads = net.numerical_gradient_params(X_batch, t_batch)\n",
        "\n",
        "    # 기울기 구했으면 경사하강법 해주기\n",
        "    # grads 딕셔너리 키 값이 params의 딕셔너리 키 값과 같음\n",
        "    keys = [\"W1\", \"W2\", \"b1\", \"b2\"]\n",
        "\n",
        "    # 경사하강법\n",
        "    for key in keys:\n",
        "        net.params[key] = net.params[key] - (learning_rate * grads[key])\n",
        "    \n",
        "    #갱신된 loss 확인\n",
        "    loss = net.loss(X_batch, t_batch)\n",
        "    print(\"Step {} -> Loss : {}\".format(i+1, loss))"
      ],
      "execution_count": null,
      "outputs": [
        {
          "output_type": "stream",
          "text": [
            "/usr/local/lib/python3.7/dist-packages/ipykernel_launcher.py:4: TqdmDeprecationWarning: This function will be removed in tqdm==5.0.0\n",
            "Please use `tqdm.notebook.tqdm` instead of `tqdm.tqdm_notebook`\n",
            "  after removing the cwd from sys.path.\n"
          ],
          "name": "stderr"
        },
        {
          "output_type": "display_data",
          "data": {
            "application/vnd.jupyter.widget-view+json": {
              "model_id": "555e3e32f04a472684d91314d90f1b77",
              "version_minor": 0,
              "version_major": 2
            },
            "text/plain": [
              "HBox(children=(FloatProgress(value=0.0, max=10000.0), HTML(value='')))"
            ]
          },
          "metadata": {
            "tags": []
          }
        },
        {
          "output_type": "stream",
          "text": [
            "----- 미분 시작 -----\n"
          ],
          "name": "stdout"
        },
        {
          "output_type": "error",
          "ename": "KeyboardInterrupt",
          "evalue": "ignored",
          "traceback": [
            "\u001b[0;31m---------------------------------------------------------------------------\u001b[0m",
            "\u001b[0;31mKeyboardInterrupt\u001b[0m                         Traceback (most recent call last)",
            "\u001b[0;32m<ipython-input-68-67f6a98b7656>\u001b[0m in \u001b[0;36m<module>\u001b[0;34m()\u001b[0m\n\u001b[1;32m     14\u001b[0m     \u001b[0;31m#2. 각 매개변수의 기울기 배열 구하기(미분 수행)\u001b[0m\u001b[0;34m\u001b[0m\u001b[0;34m\u001b[0m\u001b[0;34m\u001b[0m\u001b[0m\n\u001b[1;32m     15\u001b[0m     \u001b[0;31m# 기울기를 알아야 경사하강법(최적화)를 수행할 수 있음!\u001b[0m\u001b[0;34m\u001b[0m\u001b[0;34m\u001b[0m\u001b[0;34m\u001b[0m\u001b[0m\n\u001b[0;32m---> 16\u001b[0;31m     \u001b[0mgrads\u001b[0m \u001b[0;34m=\u001b[0m \u001b[0mnet\u001b[0m\u001b[0;34m.\u001b[0m\u001b[0mnumerical_gradient_params\u001b[0m\u001b[0;34m(\u001b[0m\u001b[0mX_batch\u001b[0m\u001b[0;34m,\u001b[0m \u001b[0mt_batch\u001b[0m\u001b[0;34m)\u001b[0m\u001b[0;34m\u001b[0m\u001b[0;34m\u001b[0m\u001b[0m\n\u001b[0m\u001b[1;32m     17\u001b[0m \u001b[0;34m\u001b[0m\u001b[0m\n\u001b[1;32m     18\u001b[0m     \u001b[0;31m# 기울기 구했으면 경사하강법 해주기\u001b[0m\u001b[0;34m\u001b[0m\u001b[0;34m\u001b[0m\u001b[0;34m\u001b[0m\u001b[0m\n",
            "\u001b[0;32m<ipython-input-56-6fc5d71f5434>\u001b[0m in \u001b[0;36mnumerical_gradient_params\u001b[0;34m(self, x, t)\u001b[0m\n\u001b[1;32m     56\u001b[0m \u001b[0;34m\u001b[0m\u001b[0m\n\u001b[1;32m     57\u001b[0m     \u001b[0;31m# 1층 매개변수에 대한 기울기 구하기 : loss에 대한 W1, b1의 기울기를 grads에 저장\u001b[0m\u001b[0;34m\u001b[0m\u001b[0;34m\u001b[0m\u001b[0;34m\u001b[0m\u001b[0m\n\u001b[0;32m---> 58\u001b[0;31m     \u001b[0mgrads\u001b[0m\u001b[0;34m[\u001b[0m\u001b[0;34m\"W1\"\u001b[0m\u001b[0;34m]\u001b[0m \u001b[0;34m=\u001b[0m \u001b[0mnumerical_gradient\u001b[0m\u001b[0;34m(\u001b[0m\u001b[0mloss_param_f\u001b[0m\u001b[0;34m,\u001b[0m \u001b[0mself\u001b[0m\u001b[0;34m.\u001b[0m\u001b[0mparams\u001b[0m\u001b[0;34m[\u001b[0m\u001b[0;34m\"W1\"\u001b[0m\u001b[0;34m]\u001b[0m\u001b[0;34m)\u001b[0m \u001b[0;31m# dL / dW1\u001b[0m\u001b[0;34m\u001b[0m\u001b[0;34m\u001b[0m\u001b[0m\n\u001b[0m\u001b[1;32m     59\u001b[0m     \u001b[0mgrads\u001b[0m\u001b[0;34m[\u001b[0m\u001b[0;34m\"b1\"\u001b[0m\u001b[0;34m]\u001b[0m \u001b[0;34m=\u001b[0m \u001b[0mnumerical_gradient\u001b[0m\u001b[0;34m(\u001b[0m\u001b[0mloss_param_f\u001b[0m\u001b[0;34m,\u001b[0m \u001b[0mself\u001b[0m\u001b[0;34m.\u001b[0m\u001b[0mparams\u001b[0m\u001b[0;34m[\u001b[0m\u001b[0;34m'b1'\u001b[0m\u001b[0;34m]\u001b[0m\u001b[0;34m)\u001b[0m \u001b[0;31m# dL / db1\u001b[0m\u001b[0;34m\u001b[0m\u001b[0;34m\u001b[0m\u001b[0m\n\u001b[1;32m     60\u001b[0m \u001b[0;34m\u001b[0m\u001b[0m\n",
            "\u001b[0;32m<ipython-input-46-5b4ae30eca2f>\u001b[0m in \u001b[0;36mnumerical_gradient\u001b[0;34m(f, x)\u001b[0m\n\u001b[1;32m     30\u001b[0m         \u001b[0mfxh1\u001b[0m \u001b[0;34m=\u001b[0m \u001b[0mf\u001b[0m\u001b[0;34m(\u001b[0m\u001b[0mx\u001b[0m\u001b[0;34m)\u001b[0m \u001b[0;31m# f(x+h)\u001b[0m\u001b[0;34m\u001b[0m\u001b[0;34m\u001b[0m\u001b[0m\n\u001b[1;32m     31\u001b[0m         \u001b[0mx\u001b[0m\u001b[0;34m[\u001b[0m\u001b[0midx\u001b[0m\u001b[0;34m]\u001b[0m \u001b[0;34m=\u001b[0m \u001b[0mtmp_val\u001b[0m \u001b[0;34m-\u001b[0m \u001b[0mh\u001b[0m\u001b[0;34m\u001b[0m\u001b[0;34m\u001b[0m\u001b[0m\n\u001b[0;32m---> 32\u001b[0;31m         \u001b[0mfxh2\u001b[0m \u001b[0;34m=\u001b[0m \u001b[0mf\u001b[0m\u001b[0;34m(\u001b[0m\u001b[0mx\u001b[0m\u001b[0;34m)\u001b[0m \u001b[0;31m# f(x-h)\u001b[0m\u001b[0;34m\u001b[0m\u001b[0;34m\u001b[0m\u001b[0m\n\u001b[0m\u001b[1;32m     33\u001b[0m         \u001b[0mgrad\u001b[0m\u001b[0;34m[\u001b[0m\u001b[0midx\u001b[0m\u001b[0;34m]\u001b[0m \u001b[0;34m=\u001b[0m \u001b[0;34m(\u001b[0m\u001b[0mfxh1\u001b[0m \u001b[0;34m-\u001b[0m \u001b[0mfxh2\u001b[0m\u001b[0;34m)\u001b[0m \u001b[0;34m/\u001b[0m \u001b[0;34m(\u001b[0m\u001b[0;36m2\u001b[0m\u001b[0;34m*\u001b[0m\u001b[0mh\u001b[0m\u001b[0;34m)\u001b[0m\u001b[0;34m\u001b[0m\u001b[0;34m\u001b[0m\u001b[0m\n\u001b[1;32m     34\u001b[0m         \u001b[0mx\u001b[0m\u001b[0;34m[\u001b[0m\u001b[0midx\u001b[0m\u001b[0;34m]\u001b[0m \u001b[0;34m=\u001b[0m \u001b[0mtmp_val\u001b[0m \u001b[0;31m# 값 복원\u001b[0m\u001b[0;34m\u001b[0m\u001b[0;34m\u001b[0m\u001b[0m\n",
            "\u001b[0;32m<ipython-input-56-6fc5d71f5434>\u001b[0m in \u001b[0;36m<lambda>\u001b[0;34m(p)\u001b[0m\n\u001b[1;32m     53\u001b[0m     \u001b[0mgrads\u001b[0m \u001b[0;34m=\u001b[0m \u001b[0;34m{\u001b[0m\u001b[0;34m}\u001b[0m\u001b[0;34m\u001b[0m\u001b[0;34m\u001b[0m\u001b[0m\n\u001b[1;32m     54\u001b[0m     \u001b[0mprint\u001b[0m\u001b[0;34m(\u001b[0m\u001b[0;34m\"----- 미분 시작 -----\"\u001b[0m\u001b[0;34m)\u001b[0m\u001b[0;34m\u001b[0m\u001b[0;34m\u001b[0m\u001b[0m\n\u001b[0;32m---> 55\u001b[0;31m     \u001b[0mloss_param_f\u001b[0m \u001b[0;34m=\u001b[0m \u001b[0;32mlambda\u001b[0m \u001b[0mp\u001b[0m \u001b[0;34m:\u001b[0m \u001b[0mself\u001b[0m\u001b[0;34m.\u001b[0m\u001b[0mloss\u001b[0m\u001b[0;34m(\u001b[0m\u001b[0mx\u001b[0m\u001b[0;34m,\u001b[0m \u001b[0mt\u001b[0m\u001b[0;34m)\u001b[0m\u001b[0;34m\u001b[0m\u001b[0;34m\u001b[0m\u001b[0m\n\u001b[0m\u001b[1;32m     56\u001b[0m \u001b[0;34m\u001b[0m\u001b[0m\n\u001b[1;32m     57\u001b[0m     \u001b[0;31m# 1층 매개변수에 대한 기울기 구하기 : loss에 대한 W1, b1의 기울기를 grads에 저장\u001b[0m\u001b[0;34m\u001b[0m\u001b[0;34m\u001b[0m\u001b[0;34m\u001b[0m\u001b[0m\n",
            "\u001b[0;32m<ipython-input-56-6fc5d71f5434>\u001b[0m in \u001b[0;36mloss\u001b[0;34m(self, x, t)\u001b[0m\n\u001b[1;32m     41\u001b[0m   \u001b[0;32mdef\u001b[0m \u001b[0mloss\u001b[0m\u001b[0;34m(\u001b[0m\u001b[0mself\u001b[0m\u001b[0;34m,\u001b[0m \u001b[0mx\u001b[0m\u001b[0;34m,\u001b[0m \u001b[0mt\u001b[0m\u001b[0;34m)\u001b[0m\u001b[0;34m:\u001b[0m\u001b[0;34m\u001b[0m\u001b[0;34m\u001b[0m\u001b[0m\n\u001b[1;32m     42\u001b[0m     \u001b[0;31m# YOUR CODE HERE\u001b[0m\u001b[0;34m\u001b[0m\u001b[0;34m\u001b[0m\u001b[0;34m\u001b[0m\u001b[0m\n\u001b[0;32m---> 43\u001b[0;31m     \u001b[0my\u001b[0m \u001b[0;34m=\u001b[0m \u001b[0mself\u001b[0m\u001b[0;34m.\u001b[0m\u001b[0mpredict\u001b[0m\u001b[0;34m(\u001b[0m\u001b[0mx\u001b[0m\u001b[0;34m)\u001b[0m\u001b[0;34m\u001b[0m\u001b[0;34m\u001b[0m\u001b[0m\n\u001b[0m\u001b[1;32m     44\u001b[0m     \u001b[0mloss_val\u001b[0m \u001b[0;34m=\u001b[0m \u001b[0mcross_entropy_error\u001b[0m\u001b[0;34m(\u001b[0m\u001b[0my\u001b[0m\u001b[0;34m,\u001b[0m \u001b[0mt\u001b[0m\u001b[0;34m)\u001b[0m\u001b[0;34m\u001b[0m\u001b[0;34m\u001b[0m\u001b[0m\n\u001b[1;32m     45\u001b[0m     \u001b[0;32mreturn\u001b[0m \u001b[0mloss_val\u001b[0m\u001b[0;34m\u001b[0m\u001b[0;34m\u001b[0m\u001b[0m\n",
            "\u001b[0;32m<ipython-input-56-6fc5d71f5434>\u001b[0m in \u001b[0;36mpredict\u001b[0;34m(self, x)\u001b[0m\n\u001b[1;32m     29\u001b[0m     \u001b[0mW2\u001b[0m\u001b[0;34m,\u001b[0m \u001b[0mb2\u001b[0m \u001b[0;34m=\u001b[0m \u001b[0mself\u001b[0m\u001b[0;34m.\u001b[0m\u001b[0mparams\u001b[0m\u001b[0;34m[\u001b[0m\u001b[0;34m\"W2\"\u001b[0m\u001b[0;34m]\u001b[0m\u001b[0;34m,\u001b[0m \u001b[0mself\u001b[0m\u001b[0;34m.\u001b[0m\u001b[0mparams\u001b[0m\u001b[0;34m[\u001b[0m\u001b[0;34m\"b2\"\u001b[0m\u001b[0;34m]\u001b[0m\u001b[0;34m\u001b[0m\u001b[0;34m\u001b[0m\u001b[0m\n\u001b[1;32m     30\u001b[0m     \u001b[0;31m# 1층 은닉층 계산\u001b[0m\u001b[0;34m\u001b[0m\u001b[0;34m\u001b[0m\u001b[0;34m\u001b[0m\u001b[0m\n\u001b[0;32m---> 31\u001b[0;31m     \u001b[0mz1\u001b[0m \u001b[0;34m=\u001b[0m \u001b[0mx\u001b[0m \u001b[0;34m@\u001b[0m \u001b[0mW1\u001b[0m \u001b[0;34m+\u001b[0m \u001b[0mb1\u001b[0m\u001b[0;34m\u001b[0m\u001b[0;34m\u001b[0m\u001b[0m\n\u001b[0m\u001b[1;32m     32\u001b[0m     \u001b[0ma1\u001b[0m \u001b[0;34m=\u001b[0m \u001b[0msigmoid\u001b[0m\u001b[0;34m(\u001b[0m\u001b[0mz1\u001b[0m\u001b[0;34m)\u001b[0m\u001b[0;34m\u001b[0m\u001b[0;34m\u001b[0m\u001b[0m\n\u001b[1;32m     33\u001b[0m     \u001b[0;31m# 2층 출력층 계산\u001b[0m\u001b[0;34m\u001b[0m\u001b[0;34m\u001b[0m\u001b[0;34m\u001b[0m\u001b[0m\n",
            "\u001b[0;31mKeyboardInterrupt\u001b[0m: "
          ]
        }
      ]
    },
    {
      "cell_type": "markdown",
      "metadata": {
        "id": "ey_Chhkv-2Fh"
      },
      "source": [
        "# 시간이 오래걸리는 이유\n",
        "신경망을 구축 후 신경망 자체 이해하는 좋은 방법은 매개 변수의 개수 세어보는 것"
      ]
    },
    {
      "cell_type": "code",
      "metadata": {
        "colab": {
          "base_uri": "https://localhost:8080/"
        },
        "id": "7KV1Fh4eDViU",
        "outputId": "218094e7-240a-4e68-d65e-e315677888d4"
      },
      "source": [
        "# 1층 매개 변수 갯수\n",
        "net.params['W1'].shape, net.params['b1'].shape"
      ],
      "execution_count": null,
      "outputs": [
        {
          "output_type": "execute_result",
          "data": {
            "text/plain": [
              "((784, 100), (100,))"
            ]
          },
          "metadata": {
            "tags": []
          },
          "execution_count": 66
        }
      ]
    },
    {
      "cell_type": "markdown",
      "metadata": {
        "id": "bpODIMuhEbev"
      },
      "source": [
        "1 층의 W : 78400\n",
        "b : 100개\n",
        "\n",
        "78,500"
      ]
    },
    {
      "cell_type": "code",
      "metadata": {
        "id": "Hlk4O6hzDgnw",
        "colab": {
          "base_uri": "https://localhost:8080/"
        },
        "outputId": "384c3c79-bf3f-4886-a5cd-bd50da4ecfea"
      },
      "source": [
        "# 2층 매개변수 값\n",
        "net.params[\"W2\"].shape, net.params['b2'].shape"
      ],
      "execution_count": null,
      "outputs": [
        {
          "output_type": "execute_result",
          "data": {
            "text/plain": [
              "((100, 10), (10,))"
            ]
          },
          "metadata": {
            "tags": []
          },
          "execution_count": 67
        }
      ]
    },
    {
      "cell_type": "markdown",
      "metadata": {
        "id": "TiBHjEhtEoWY"
      },
      "source": [
        "* 2 층의 W : 1000 개\n",
        "* 2 층의 b : 10개\n",
        "\n",
        "총 1010개"
      ]
    },
    {
      "cell_type": "markdown",
      "metadata": {
        "id": "7YGIFdJCEn8P"
      },
      "source": [
        "신경망의 총 매개변수의 개수는 ? 78500+1010 = 79510개"
      ]
    },
    {
      "cell_type": "code",
      "metadata": {
        "id": "OxpKXSWeEhSl"
      },
      "source": [
        ""
      ],
      "execution_count": null,
      "outputs": []
    }
  ]
}