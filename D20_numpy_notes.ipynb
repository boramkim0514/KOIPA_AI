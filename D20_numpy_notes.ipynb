{
  "nbformat": 4,
  "nbformat_minor": 0,
  "metadata": {
    "colab": {
      "name": "D20.numpy notes.ipynb",
      "provenance": [],
      "authorship_tag": "ABX9TyOgDeLnstGI0n5+9nnFj0Yp",
      "include_colab_link": true
    },
    "kernelspec": {
      "name": "python3",
      "display_name": "Python 3"
    },
    "language_info": {
      "name": "python"
    }
  },
  "cells": [
    {
      "cell_type": "markdown",
      "metadata": {
        "id": "view-in-github",
        "colab_type": "text"
      },
      "source": [
        "<a href=\"https://colab.research.google.com/github/boramkim0514/python01/blob/main/D20_numpy_notes.ipynb\" target=\"_parent\"><img src=\"https://colab.research.google.com/assets/colab-badge.svg\" alt=\"Open In Colab\"/></a>"
      ]
    },
    {
      "cell_type": "code",
      "metadata": {
        "id": "CCrI-yiDJifc"
      },
      "source": [
        "import numpy as np"
      ],
      "execution_count": 1,
      "outputs": []
    },
    {
      "cell_type": "markdown",
      "metadata": {
        "id": "8neP1yzeJ8-i"
      },
      "source": [
        " * numeric python\n",
        " * 수치 연산을 위한 파이썬 라이브러리"
      ]
    },
    {
      "cell_type": "code",
      "metadata": {
        "id": "BBbFhdUlLS3s"
      },
      "source": [
        "# 1. numpy의 배열을 ndarray라고 합니다\n",
        ", python으 list ndarray화 할 수있다\n",
        "py_list =\n",
        "\n",
        "\n",
        "#타입확인"
      ],
      "execution_count": null,
      "outputs": []
    },
    {
      "cell_type": "code",
      "metadata": {
        "id": "z2Z_dbd2J6bV"
      },
      "source": [
        "arange\n",
        "zeros, ones, full\n",
        "linespace\n",
        "random.rand. random. randn. random.uniform\n",
        "random.choice. random.randint\n",
        "**axies**\n",
        "indexing, slicing\n",
        "shape, ndim\n",
        "np.newaxis. np.squeeze\n",
        "ravel flatten reshape broad casting 전치행결 "
      ],
      "execution_count": null,
      "outputs": []
    },
    {
      "cell_type": "markdown",
      "metadata": {
        "id": "WSFf80x9MR8r"
      },
      "source": [
        "#np.full\n",
        "#5로 채워진 다차원배열"
      ]
    },
    {
      "cell_type": "code",
      "metadata": {
        "colab": {
          "base_uri": "https://localhost:8080/"
        },
        "id": "dKDFBozvMRr5",
        "outputId": "e0c3abb5-98a8-4c12-d823-5ff59486a6ba"
      },
      "source": [
        "np.zeros((2, 3))#딥러닝 머신러닝에서 편향(bias) 초기값"
      ],
      "execution_count": 3,
      "outputs": [
        {
          "output_type": "execute_result",
          "data": {
            "text/plain": [
              "array([[0., 0., 0.],\n",
              "       [0., 0., 0.]])"
            ]
          },
          "metadata": {
            "tags": []
          },
          "execution_count": 3
        }
      ]
    },
    {
      "cell_type": "markdown",
      "metadata": {
        "id": "YZLGQRwKLU66"
      },
      "source": [
        "ㅌ"
      ]
    },
    {
      "cell_type": "code",
      "metadata": {
        "colab": {
          "base_uri": "https://localhost:8080/"
        },
        "id": "6-IpywYWMipD",
        "outputId": "5f79f732-ecdf-4628-bfdb-a6f4de5fdf30"
      },
      "source": [
        "np.ones((2,3))"
      ],
      "execution_count": 4,
      "outputs": [
        {
          "output_type": "execute_result",
          "data": {
            "text/plain": [
              "array([[1., 1., 1.],\n",
              "       [1., 1., 1.]])"
            ]
          },
          "metadata": {
            "tags": []
          },
          "execution_count": 4
        }
      ]
    },
    {
      "cell_type": "code",
      "metadata": {
        "colab": {
          "base_uri": "https://localhost:8080/"
        },
        "id": "lQf-7aS-Mk06",
        "outputId": "9d0171d7-483c-4094-d785-009b5ef4bb4b"
      },
      "source": [
        "np.ones((2,3)) * 5"
      ],
      "execution_count": 5,
      "outputs": [
        {
          "output_type": "execute_result",
          "data": {
            "text/plain": [
              "array([[5., 5., 5.],\n",
              "       [5., 5., 5.]])"
            ]
          },
          "metadata": {
            "tags": []
          },
          "execution_count": 5
        }
      ]
    },
    {
      "cell_type": "code",
      "metadata": {
        "colab": {
          "base_uri": "https://localhost:8080/"
        },
        "id": "sLpu7naVMn96",
        "outputId": "c88fc2b5-d7a9-4c48-f1a7-220b2163ed55"
      },
      "source": [
        "np.full((2, 3), 5)"
      ],
      "execution_count": 7,
      "outputs": [
        {
          "output_type": "execute_result",
          "data": {
            "text/plain": [
              "array([[5, 5, 5],\n",
              "       [5, 5, 5]])"
            ]
          },
          "metadata": {
            "tags": []
          },
          "execution_count": 7
        }
      ]
    },
    {
      "cell_type": "markdown",
      "metadata": {
        "id": "9Dqh1Y-FNV_R"
      },
      "source": [
        "#점구간 만들기\n",
        "##, 시각화에서 선을 그을 용도로 보통 사용"
      ]
    },
    {
      "cell_type": "code",
      "metadata": {
        "colab": {
          "base_uri": "https://localhost:8080/"
        },
        "id": "GuFgihJOMqVa",
        "outputId": "86e18c44-0e8e-4a3d-bccf-3bbdd92a156c"
      },
      "source": [
        "\n",
        "np.linspace"
      ],
      "execution_count": 8,
      "outputs": [
        {
          "output_type": "execute_result",
          "data": {
            "text/plain": [
              "<function numpy.linspace>"
            ]
          },
          "metadata": {
            "tags": []
          },
          "execution_count": 8
        }
      ]
    },
    {
      "cell_type": "code",
      "metadata": {
        "colab": {
          "base_uri": "https://localhost:8080/"
        },
        "id": "4Cim00AANCEB",
        "outputId": "61d6fd6c-178d-4572-ede6-e1fa958f0e6b"
      },
      "source": [
        "np.linspace(1, 10, 3) # 1부터 10까지 3개의 수를 균일 구간으로 만들기"
      ],
      "execution_count": 10,
      "outputs": [
        {
          "output_type": "execute_result",
          "data": {
            "text/plain": [
              "array([ 1. ,  5.5, 10. ])"
            ]
          },
          "metadata": {
            "tags": []
          },
          "execution_count": 10
        }
      ]
    },
    {
      "cell_type": "code",
      "metadata": {
        "colab": {
          "base_uri": "https://localhost:8080/"
        },
        "id": "uqiR6Y9jNNnx",
        "outputId": "89f0b915-e747-4eba-9f38-f7a402abc305"
      },
      "source": [
        "np.linspace(1, 10, 4)"
      ],
      "execution_count": 11,
      "outputs": [
        {
          "output_type": "execute_result",
          "data": {
            "text/plain": [
              "array([ 1.,  4.,  7., 10.])"
            ]
          },
          "metadata": {
            "tags": []
          },
          "execution_count": 11
        }
      ]
    },
    {
      "cell_type": "code",
      "metadata": {
        "colab": {
          "base_uri": "https://localhost:8080/"
        },
        "id": "rykroDZpNgjq",
        "outputId": "2d2f266c-7439-49f6-cbc2-b5bcc8aa18f7"
      },
      "source": [
        "np.linspace(1, 10, 5)"
      ],
      "execution_count": 12,
      "outputs": [
        {
          "output_type": "execute_result",
          "data": {
            "text/plain": [
              "array([ 1.  ,  3.25,  5.5 ,  7.75, 10.  ])"
            ]
          },
          "metadata": {
            "tags": []
          },
          "execution_count": 12
        }
      ]
    },
    {
      "cell_type": "markdown",
      "metadata": {
        "id": "3mugR75tNmHZ"
      },
      "source": [
        "#Random을 사용하기 위한 Numpy\n",
        "랜덤배열은 ** 딥러닝** 에서 매개변수 (가중치 W, 편향 b)를 초기화 하기 위해 사용\n",
        "\n",
        "*초기화 : 최초에 가지고 있는 값\n",
        "\n",
        "**번외**\n",
        "*__init__\n",
        "\n",
        "생성자? : 객체 초기화 메소드, 객체를 만들기한 \n",
        "클래스를 이용해서 객체를 만들 때 객체가 처음 가지고 있어야 하는 값을 세팅하는 메소드  \n",
        "\n",
        "객체와 인스턴스 차이?\n",
        "객체가 만들어지는 공간 \n",
        "Heap이라는 메모리공간에 person이라는 객체가 만들어짐, 이 객체가 만들 때 이름과 나이를 넣은 것\n",
        "\n",
        "Heap은 너무나 넓은 메모리 공간, \n",
        "객체를 찾아갈 수 있는 근거가 필요 ->> 이 객채가 어디있는지 알아야 하니까 매무리 16 2진수 메모리 주소값이 변수로 들어가서 넣어서 나온 값, 인스턴스 = 객체 \n",
        "\n",
        "p1이 참조하고 있는 접근, 참조하고 있는 값, \n",
        "변"
      ]
    },
    {
      "cell_type": "code",
      "metadata": {
        "colab": {
          "base_uri": "https://localhost:8080/",
          "height": 139
        },
        "id": "7ur7OXHJNi2h",
        "outputId": "6d775e85-fae8-4a11-ab73-719d56391a61"
      },
      "source": [
        "객체에 대한 이야기\n",
        "##완전 랜덤 만들기\n",
        "정규분포나 균등분포가 아닌 완벽한 랜덤"
      ],
      "execution_count": 13,
      "outputs": [
        {
          "output_type": "error",
          "ename": "SyntaxError",
          "evalue": "ignored",
          "traceback": [
            "\u001b[0;36m  File \u001b[0;32m\"<ipython-input-13-180e5b74d174>\"\u001b[0;36m, line \u001b[0;32m1\u001b[0m\n\u001b[0;31m    객체에 대한 이야기\u001b[0m\n\u001b[0m         ^\u001b[0m\n\u001b[0;31mSyntaxError\u001b[0m\u001b[0;31m:\u001b[0m invalid syntax\n"
          ]
        }
      ]
    },
    {
      "cell_type": "code",
      "metadata": {
        "colab": {
          "base_uri": "https://localhost:8080/"
        },
        "id": "Y16vuWtoTyYv",
        "outputId": "fcc2978b-0fc4-45eb-bfd3-0cc580bfe7cb"
      },
      "source": [
        "np.random.rand(2,3)"
      ],
      "execution_count": 14,
      "outputs": [
        {
          "output_type": "execute_result",
          "data": {
            "text/plain": [
              "array([[0.0113619 , 0.5865853 , 0.2737183 ],\n",
              "       [0.69893039, 0.74737437, 0.27972801]])"
            ]
          },
          "metadata": {
            "tags": []
          },
          "execution_count": 14
        }
      ]
    },
    {
      "cell_type": "code",
      "metadata": {
        "colab": {
          "base_uri": "https://localhost:8080/"
        },
        "id": "nJa0uZQzTze_",
        "outputId": "4c436d2b-d23b-4397-f1f3-c1005b0320d6"
      },
      "source": [
        "np.random.randn(16) #이런 값이 중요하지 않음 분포, 빈도, 양이 중요함 그래서 시각화가 중요!\n"
      ],
      "execution_count": 15,
      "outputs": [
        {
          "output_type": "execute_result",
          "data": {
            "text/plain": [
              "array([-1.40806338,  1.01860594,  0.39387772,  1.61900537,  0.75533382,\n",
              "       -0.17646859, -0.76659284,  0.06950062,  2.07519992, -0.40944537,\n",
              "        1.04992552,  0.80854953, -1.23687428, -0.61080044, -0.10803701,\n",
              "        0.05087828])"
            ]
          },
          "metadata": {
            "tags": []
          },
          "execution_count": 15
        }
      ]
    },
    {
      "cell_type": "markdown",
      "metadata": {
        "id": "P-G3VUihUGZ_"
      },
      "source": [
        "#정규분포 랜덤 : \n",
        "값의 빈도가 평균이 제일 많고, 최대 최소 갈수록 작아지는 형태\n",
        "\n",
        "데칼코마니 제일 딱 가운데 값 50%, median 값=mean\n",
        "\n",
        "(완전)정규분포 일때 미디언과 평균이 같음\n",
        "\n",
        "y축 구간별 값의 빈도수\n",
        "x축 구간?\n",
        "\n",
        "정규분포 랜덤은 딥러닝의 매개변수 초기밧으로 사용 \n",
        "\n",
        "\n"
      ]
    },
    {
      "cell_type": "markdown",
      "metadata": {
        "id": "uKnNSMCXUv5l"
      },
      "source": [
        "## 균등분포 랜덤\n",
        "값의 분포가 값의 구간이 다 똑같음, \n",
        "아주가끔 사용됨 타이밍, 사비에르 등 방법이 있음,\n",
        "구간 값이 필요함 "
      ]
    },
    {
      "cell_type": "code",
      "metadata": {
        "colab": {
          "base_uri": "https://localhost:8080/"
        },
        "id": "Ihxr6CGGUlkf",
        "outputId": "448db5c0-9462-40eb-931b-2507e642bb0d"
      },
      "source": [
        "np.random.uniform(1.0, 3.0, size = (3,4))"
      ],
      "execution_count": 16,
      "outputs": [
        {
          "output_type": "execute_result",
          "data": {
            "text/plain": [
              "array([[1.13115478, 1.56805961, 1.67845368, 2.62942954],\n",
              "       [2.81731684, 1.40366505, 2.87761767, 1.37217682],\n",
              "       [1.01770523, 2.3296312 , 1.17366963, 1.33654146]])"
            ]
          },
          "metadata": {
            "tags": []
          },
          "execution_count": 16
        }
      ]
    },
    {
      "cell_type": "markdown",
      "metadata": {
        "id": "WOCio0v_Vi81"
      },
      "source": [
        "## 정수 랜덤 샘플링\n",
        "* 'np.random.choice'\n",
        "* 샘플링 : 전체(모분포) 일부 표본(일부)를 추출하는 행위\n",
        "* 딥러닝에서 (파이썬)mini-batch를 만들 때 사용\n",
        "\n"
      ]
    },
    {
      "cell_type": "code",
      "metadata": {
        "colab": {
          "base_uri": "https://localhost:8080/"
        },
        "id": "HqSv0N19VKPx",
        "outputId": "08593d11-7dcd-49d4-a0d1-c816f8e7d2c6"
      },
      "source": [
        "np.random.choice(10, size=(2, 3) ) #0-9에서의 정수(배열 내에서도 랜덤 추출이 가능함) 중 랜덤하게 2, 3 배열로 추출하는 방법, 기본은 중복추출, 중복을 제거하는 방법도 존재"
      ],
      "execution_count": 17,
      "outputs": [
        {
          "output_type": "execute_result",
          "data": {
            "text/plain": [
              "array([[9, 3, 3],\n",
              "       [2, 5, 2]])"
            ]
          },
          "metadata": {
            "tags": []
          },
          "execution_count": 17
        }
      ]
    },
    {
      "cell_type": "code",
      "metadata": {
        "colab": {
          "base_uri": "https://localhost:8080/"
        },
        "id": "cGrq2_HbWVKj",
        "outputId": "b98979c6-999f-4bd9-d77d-fd5606e6ccaa"
      },
      "source": [
        "arr = np.arange(1,6) #1-5까지 데이터\n",
        "np.random.choice(arr, size=(2,3))"
      ],
      "execution_count": 18,
      "outputs": [
        {
          "output_type": "execute_result",
          "data": {
            "text/plain": [
              "array([[3, 1, 5],\n",
              "       [1, 2, 1]])"
            ]
          },
          "metadata": {
            "tags": []
          },
          "execution_count": 18
        }
      ]
    },
    {
      "cell_type": "code",
      "metadata": {
        "colab": {
          "base_uri": "https://localhost:8080/"
        },
        "id": "MOAJ2l_NWsYu",
        "outputId": "8cec27b9-e5ff-447a-f34f-e4859e483beb"
      },
      "source": [
        "#비중복 추출\n",
        "np.random.choice(arr, size=(2, 2), replace=False)"
      ],
      "execution_count": 19,
      "outputs": [
        {
          "output_type": "execute_result",
          "data": {
            "text/plain": [
              "array([[4, 2],\n",
              "       [1, 5]])"
            ]
          },
          "metadata": {
            "tags": []
          },
          "execution_count": 19
        }
      ]
    },
    {
      "cell_type": "code",
      "metadata": {
        "colab": {
          "base_uri": "https://localhost:8080/"
        },
        "id": "UMcokp2qWzQN",
        "outputId": "76ae34e8-8976-4536-b977-f7a5b661ab9e"
      },
      "source": [
        "np.random.choice(arr, size=(2, 2), replace=False)"
      ],
      "execution_count": 20,
      "outputs": [
        {
          "output_type": "execute_result",
          "data": {
            "text/plain": [
              "array([[5, 2],\n",
              "       [1, 4]])"
            ]
          },
          "metadata": {
            "tags": []
          },
          "execution_count": 20
        }
      ]
    },
    {
      "cell_type": "code",
      "metadata": {
        "colab": {
          "base_uri": "https://localhost:8080/",
          "height": 213
        },
        "id": "gzMNIywtW3Wl",
        "outputId": "3333a0ad-c647-4589-dce4-861759fc7dd4"
      },
      "source": [
        "np.random.choice(arr, size=(2, 3), replace=False) "
      ],
      "execution_count": 21,
      "outputs": [
        {
          "output_type": "error",
          "ename": "ValueError",
          "evalue": "ignored",
          "traceback": [
            "\u001b[0;31m---------------------------------------------------------------------------\u001b[0m",
            "\u001b[0;31mValueError\u001b[0m                                Traceback (most recent call last)",
            "\u001b[0;32m<ipython-input-21-01a859981634>\u001b[0m in \u001b[0;36m<module>\u001b[0;34m()\u001b[0m\n\u001b[0;32m----> 1\u001b[0;31m \u001b[0mnp\u001b[0m\u001b[0;34m.\u001b[0m\u001b[0mrandom\u001b[0m\u001b[0;34m.\u001b[0m\u001b[0mchoice\u001b[0m\u001b[0;34m(\u001b[0m\u001b[0marr\u001b[0m\u001b[0;34m,\u001b[0m \u001b[0msize\u001b[0m\u001b[0;34m=\u001b[0m\u001b[0;34m(\u001b[0m\u001b[0;36m2\u001b[0m\u001b[0;34m,\u001b[0m \u001b[0;36m3\u001b[0m\u001b[0;34m)\u001b[0m\u001b[0;34m,\u001b[0m \u001b[0mreplace\u001b[0m\u001b[0;34m=\u001b[0m\u001b[0;32mFalse\u001b[0m\u001b[0;34m)\u001b[0m\u001b[0;34m\u001b[0m\u001b[0;34m\u001b[0m\u001b[0m\n\u001b[0m",
            "\u001b[0;32mmtrand.pyx\u001b[0m in \u001b[0;36mnumpy.random.mtrand.RandomState.choice\u001b[0;34m()\u001b[0m\n",
            "\u001b[0;31mValueError\u001b[0m: Cannot take a larger sample than population when 'replace=False'"
          ]
        }
      ]
    },
    {
      "cell_type": "code",
      "metadata": {
        "id": "wEqprrHBXFCd"
      },
      "source": [
        ""
      ],
      "execution_count": null,
      "outputs": []
    },
    {
      "cell_type": "markdown",
      "metadata": {
        "id": "Y3ZRTOOJXGwl"
      },
      "source": [
        "##랜덤 정수 배열 만들기\n",
        "'np.random.randint\n"
      ]
    },
    {
      "cell_type": "code",
      "metadata": {
        "colab": {
          "base_uri": "https://localhost:8080/"
        },
        "id": "8htnkB1bXL_O",
        "outputId": "7abadbe3-da88-46bf-c7b7-5d665ec318f7"
      },
      "source": [
        "arr1 = np.random.randint(1, 100, size=(5,))\n",
        "arr1"
      ],
      "execution_count": 30,
      "outputs": [
        {
          "output_type": "execute_result",
          "data": {
            "text/plain": [
              "array([76, 92,  2, 75, 53])"
            ]
          },
          "metadata": {
            "tags": []
          },
          "execution_count": 30
        }
      ]
    },
    {
      "cell_type": "code",
      "metadata": {
        "colab": {
          "base_uri": "https://localhost:8080/"
        },
        "id": "4zElUpD0XQCr",
        "outputId": "8888f78b-2525-4e83-c500-7c595c58fb33"
      },
      "source": [
        "arr2 = np.random.randint(1, 100, size=(5, 1))\n",
        "arr2"
      ],
      "execution_count": 34,
      "outputs": [
        {
          "output_type": "execute_result",
          "data": {
            "text/plain": [
              "array([[96],\n",
              "       [84],\n",
              "       [16],\n",
              "       [95],\n",
              "       [98]])"
            ]
          },
          "metadata": {
            "tags": []
          },
          "execution_count": 34
        }
      ]
    },
    {
      "cell_type": "markdown",
      "metadata": {
        "id": "qOIQKTC6Xyu3"
      },
      "source": [
        "##다차원배열 관련\n",
        "notion 2.1 데이터와 행렬 참고\n",
        "배열 형태, 형상인가 모델 만드는 방법\n",
        "베열에 대한 이해 꼭 필요!\n",
        "\n"
      ]
    },
    {
      "cell_type": "code",
      "metadata": {
        "id": "a6qNa2FZXiS2"
      },
      "source": [
        ""
      ],
      "execution_count": null,
      "outputs": []
    },
    {
      "cell_type": "markdown",
      "metadata": {
        "id": "_6i4n9p4X-AM"
      },
      "source": [
        "#데이터의 종류\n",
        "## 스칼라 - scalar\n",
        "* 어떠한 실수 $x$라고 정의합니다. \n",
        " ''' python\n",
        "    height = 180.1\n",
        "    age = 34.3\n",
        "'''\n",
        "* 'height , age'를 스칼라라고 함. 단순한 특정한 (상수)값 => 0차원 데이터\n",
        "\n",
        "* \n",
        "\n",
        "\n"
      ]
    },
    {
      "cell_type": "markdown",
      "metadata": {
        "id": "6VHYatdxYkWm"
      },
      "source": [
        "## 벡터 \n",
        "* 실수값 $x$ 가 모여져 있는 것\n",
        "'''python\n",
        "    heights =[180.1, 175.5, 163.3]\n",
        "'''\n",
        "** heights란 백터 생성한 것\n",
        "** 벡터란 스칼라를 모은 것 0차원 scalar를 모은 것 => 1차원 배열\n",
        "    모아진 데이터의 개수가 'N'개 라면 ** N차원 백터라고 함\n",
        "    열(column)벡터를 기본으로 한다. \n",
        "    행의 모양을 하지만 열백터임\n",
        "\n"
      ]
    },
    {
      "cell_type": "code",
      "metadata": {
        "colab": {
          "base_uri": "https://localhost:8080/"
        },
        "id": "paprbsyfZpnc",
        "outputId": "dc3ab864-94f5-4c08-d748-407af5e3c288"
      },
      "source": [
        "# 2.1 데이터와 numpy를 이용한 벡터표현\n",
        "heights_1 = np.array([180.1, 175.5, 163.3])\n",
        "heights_1 "
      ],
      "execution_count": 37,
      "outputs": [
        {
          "output_type": "execute_result",
          "data": {
            "text/plain": [
              "array([180.1, 175.5, 163.3])"
            ]
          },
          "metadata": {
            "tags": []
          },
          "execution_count": 37
        }
      ]
    },
    {
      "cell_type": "code",
      "metadata": {
        "colab": {
          "base_uri": "https://localhost:8080/"
        },
        "id": "U605Z_rtaD20",
        "outputId": "070f013c-c756-41d7-b166-52b2dd2f40c7"
      },
      "source": [
        "heights_2 = np.array([[180.1],\n",
        "                     [175.5], \n",
        "                     [163.3]])\n",
        "heights_2"
      ],
      "execution_count": 41,
      "outputs": [
        {
          "output_type": "execute_result",
          "data": {
            "text/plain": [
              "array([[180.1],\n",
              "       [175.5],\n",
              "       [163.3]])"
            ]
          },
          "metadata": {
            "tags": []
          },
          "execution_count": 41
        }
      ]
    },
    {
      "cell_type": "markdown",
      "metadata": {
        "id": "RT0aPCgUbLmz"
      },
      "source": [
        "##싸이킷런, 텐섶플로우 같은 머신러닝 프레임에서는 무조건 2차원 배열로 받는다\n",
        "    *열백터이지만 \n",
        "\n",
        "    결론, \n",
        "    heights 1 과 heights2는 배열로서 같지 않지만\n",
        "    heights1 1차원열, heights2는 2차원 배열\n",
        "    둘은 같은 벡터\n",
        "    *, 행벡터의 모양을 하고 이쓰나 실제 학적으로 '열백터'. \n",
        "\n",
        "    *heights2는 열의 수가 1개인 열백터 모양을 하고있음\n",
        "\n",
        "    대부분 머신러닝 라이브러리는 기본적인 데이터 취급을 열백터로 하기 때문에 2차원 배열 이상부터 시작한다 \n",
        "    열백터가 기본!!\n",
        "\n",
        "\n"
      ]
    },
    {
      "cell_type": "code",
      "metadata": {
        "id": "rK-I4y6SbLXT"
      },
      "source": [
        "#모든 데이터의 기준은 백터"
      ],
      "execution_count": null,
      "outputs": []
    },
    {
      "cell_type": "markdown",
      "metadata": {
        "id": "l7XCclxZcif8"
      },
      "source": [
        "#모든 데이터의 기준은 백터, \n",
        "과학 물리 모든 값들이 모여져 있음, \n",
        "물리는 방향성이 모은 것\n",
        "\n",
        "* 미분"
      ]
    },
    {
      "cell_type": "markdown",
      "metadata": {
        "id": "k5IpqruWc3a8"
      },
      "source": [
        "## 행렬 matrix\n",
        "* 2 차원 배열\n",
        "1차원 배열인 벡터가 여러개 모인 것, \n"
      ]
    },
    {
      "cell_type": "markdown",
      "metadata": {
        "id": "ALb3YuxedO7K"
      },
      "source": [
        "## 텐서 \n",
        "3차원 이상의 배열 의미\n",
        "3차원 배열(3차원 텐서) 2차원 배열이 모여있다 \n",
        "\n",
        "4차원 배열(4차원 텐서)는 3차원 배열이 모여잇다\n",
        "M'차월 배열, 그냥 텐서\n",
        "\n",
        "텐서 개념 활용 모든 배열의 모양 이야기 가능\n",
        "\n",
        "* 0 랭크"
      ]
    },
    {
      "cell_type": "markdown",
      "metadata": {
        "id": "8CT7PfQ6dbGM"
      },
      "source": [
        "#### 3랭크 텐서 이미지 \n",
        "\n",
        "tensorflow 구글 제공하는 딥러닝 프로엠워크\n",
        "배열을 흘린다(flow)..\n",
        "\n",
        "미리 흘릴 네트워크(신경망) 배열(데이터)를 준비하고 거기에 배열(데이터)을 흘린다.\n",
        "\n",
        "네트워크를 설계/구조화 해서 데이터를 흘려보내는 개념\n",
        "\n"
      ]
    },
    {
      "cell_type": "code",
      "metadata": {
        "id": "Yvtqw858jHcA"
      },
      "source": [
        "#축이란? 데이터가 추가되는 방향의 인덱스\n",
        "#배열의 모양 인식이 목표\n",
        "\n",
        "# axis 는 데이터가 꽤어지는 이유, 왜 이런 결과가 나오는지  이해가 중요!"
      ],
      "execution_count": null,
      "outputs": []
    },
    {
      "cell_type": "markdown",
      "metadata": {
        "id": "ZlY9NQOIkg2H"
      },
      "source": [
        "인덱스 슬라이팅"
      ]
    },
    {
      "cell_type": "code",
      "metadata": {
        "colab": {
          "base_uri": "https://localhost:8080/"
        },
        "id": "vtEuKwpvkjkv",
        "outputId": "348e79ae-2ed4-4fa2-ff62-ac5befd72206"
      },
      "source": [
        "arr= np.arange(1, 37).reshape(3, 4, 3)\n",
        "arr"
      ],
      "execution_count": 43,
      "outputs": [
        {
          "output_type": "execute_result",
          "data": {
            "text/plain": [
              "array([[[ 1,  2,  3],\n",
              "        [ 4,  5,  6],\n",
              "        [ 7,  8,  9],\n",
              "        [10, 11, 12]],\n",
              "\n",
              "       [[13, 14, 15],\n",
              "        [16, 17, 18],\n",
              "        [19, 20, 21],\n",
              "        [22, 23, 24]],\n",
              "\n",
              "       [[25, 26, 27],\n",
              "        [28, 29, 30],\n",
              "        [31, 32, 33],\n",
              "        [34, 35, 36]]])"
            ]
          },
          "metadata": {
            "tags": []
          },
          "execution_count": 43
        }
      ]
    },
    {
      "cell_type": "code",
      "metadata": {
        "colab": {
          "base_uri": "https://localhost:8080/",
          "height": 139
        },
        "id": "vLomxIgMkt9M",
        "outputId": "dc1933d1-a2e2-4714-8b34-1248104ae6e2"
      },
      "source": [
        "arr[(1:3 ,1:3)]"
      ],
      "execution_count": 50,
      "outputs": [
        {
          "output_type": "error",
          "ename": "SyntaxError",
          "evalue": "ignored",
          "traceback": [
            "\u001b[0;36m  File \u001b[0;32m\"<ipython-input-50-f3b60c364000>\"\u001b[0;36m, line \u001b[0;32m1\u001b[0m\n\u001b[0;31m    arr[(1:3 ,1:3)]\u001b[0m\n\u001b[0m          ^\u001b[0m\n\u001b[0;31mSyntaxError\u001b[0m\u001b[0;31m:\u001b[0m invalid syntax\n"
          ]
        }
      ]
    },
    {
      "cell_type": "code",
      "metadata": {
        "colab": {
          "base_uri": "https://localhost:8080/"
        },
        "id": "H_tj7-4zk5yv",
        "outputId": "6d9d46e3-9f0a-4904-963c-f5a7fb9c5676"
      },
      "source": [
        "arr[ : , 1 : 3]"
      ],
      "execution_count": 54,
      "outputs": [
        {
          "output_type": "execute_result",
          "data": {
            "text/plain": [
              "array([[[ 4,  5,  6],\n",
              "        [ 7,  8,  9]],\n",
              "\n",
              "       [[16, 17, 18],\n",
              "        [19, 20, 21]],\n",
              "\n",
              "       [[28, 29, 30],\n",
              "        [31, 32, 33]]])"
            ]
          },
          "metadata": {
            "tags": []
          },
          "execution_count": 54
        }
      ]
    },
    {
      "cell_type": "code",
      "metadata": {
        "colab": {
          "base_uri": "https://localhost:8080/"
        },
        "id": "yT_-XK2ulR5S",
        "outputId": "cf70e5ce-edb3-41ea-bbf8-c38bcee02a17"
      },
      "source": [
        "arr[ : , 1 : 3, 1:]"
      ],
      "execution_count": 53,
      "outputs": [
        {
          "output_type": "execute_result",
          "data": {
            "text/plain": [
              "array([[[ 5,  6],\n",
              "        [ 8,  9]],\n",
              "\n",
              "       [[17, 18],\n",
              "        [20, 21]],\n",
              "\n",
              "       [[29, 30],\n",
              "        [32, 33]]])"
            ]
          },
          "metadata": {
            "tags": []
          },
          "execution_count": 53
        }
      ]
    },
    {
      "cell_type": "code",
      "metadata": {
        "id": "xO905lsPld0u"
      },
      "source": [
        ""
      ],
      "execution_count": 55,
      "outputs": []
    },
    {
      "cell_type": "markdown",
      "metadata": {
        "id": "6bMNYS5QlwYP"
      },
      "source": [
        "# spread 연산자"
      ]
    },
    {
      "cell_type": "code",
      "metadata": {
        "colab": {
          "base_uri": "https://localhost:8080/"
        },
        "id": "lniRgu6RlvI8",
        "outputId": "6982bc9f-8330-4bd5-f7f7-4a5d15a1e9ec"
      },
      "source": [
        "arr = np.arange(36).reshape(2, 3, 3, 2)\n",
        "arr"
      ],
      "execution_count": 57,
      "outputs": [
        {
          "output_type": "execute_result",
          "data": {
            "text/plain": [
              "array([[[[ 0,  1],\n",
              "         [ 2,  3],\n",
              "         [ 4,  5]],\n",
              "\n",
              "        [[ 6,  7],\n",
              "         [ 8,  9],\n",
              "         [10, 11]],\n",
              "\n",
              "        [[12, 13],\n",
              "         [14, 15],\n",
              "         [16, 17]]],\n",
              "\n",
              "\n",
              "       [[[18, 19],\n",
              "         [20, 21],\n",
              "         [22, 23]],\n",
              "\n",
              "        [[24, 25],\n",
              "         [26, 27],\n",
              "         [28, 29]],\n",
              "\n",
              "        [[30, 31],\n",
              "         [32, 33],\n",
              "         [34, 35]]]])"
            ]
          },
          "metadata": {
            "tags": []
          },
          "execution_count": 57
        }
      ]
    },
    {
      "cell_type": "code",
      "metadata": {
        "colab": {
          "base_uri": "https://localhost:8080/"
        },
        "id": "Thp-g6aQl12f",
        "outputId": "df9d17f8-171f-4a03-bca2-fd09ba729556"
      },
      "source": [
        "arr[0, : , : , 0]"
      ],
      "execution_count": 58,
      "outputs": [
        {
          "output_type": "execute_result",
          "data": {
            "text/plain": [
              "array([[ 0,  2,  4],\n",
              "       [ 6,  8, 10],\n",
              "       [12, 14, 16]])"
            ]
          },
          "metadata": {
            "tags": []
          },
          "execution_count": 58
        }
      ]
    },
    {
      "cell_type": "code",
      "metadata": {
        "colab": {
          "base_uri": "https://localhost:8080/"
        },
        "id": "MI6E5COFl-2v",
        "outputId": "ba1959bb-5259-4696-8e14-972b7a729386"
      },
      "source": [
        "arr[0, ... , 0] #spread 연산자 #이미지 처리 할때 함 이런게 있다 정도 -> 외워야함?! "
      ],
      "execution_count": 62,
      "outputs": [
        {
          "output_type": "execute_result",
          "data": {
            "text/plain": [
              "array([[ 0,  2,  4],\n",
              "       [ 6,  8, 10],\n",
              "       [12, 14, 16]])"
            ]
          },
          "metadata": {
            "tags": []
          },
          "execution_count": 62
        }
      ]
    },
    {
      "cell_type": "code",
      "metadata": {
        "id": "b6ddrpGhmHyu"
      },
      "source": [
        ""
      ],
      "execution_count": null,
      "outputs": []
    },
    {
      "cell_type": "markdown",
      "metadata": {
        "id": "BWdy92-5mdKu"
      },
      "source": [
        "# 보통 이미지 데이터를 딥러닝에서 사용하고자 하면\n",
        "\n",
        "4차원 배열 형태로 감\n",
        "N 이미지 갯수\n",
        "H 세로 픽셀\n",
        "W 가로 픽셀\n",
        "C 컬러 RGB GRAYSCALE :1)\n",
        "# 훈련에 사용할 이미지 형상(shape) 확인 : 6000 개 26 세로픽셀, 28 가로 픽셀 , 1그레이스케일\n",
        "스프레드 연산자 (28, 28)\n",
        "images = [ 600000, ... , \n",
        "[0.1111\n",
        "\n",
        "#차원수 확장 개념\n",
        " 원하는 차원 위치에 'np.newaxis 추가\n",
        "\n",
        "matplot lib 흑백이미지 표시\n",
        "\n",
        "arr[0, ... , 0] \n",
        "# images\n",
        "\n",
        "spread \n",
        "\n",
        "####진짜 이미지 데이터 다루는 방법 배우게 될 예정! 오호 ㅎㅎㅎ 재밌겠군! 신기하다!\n",
        "####필터링으로 이미합성\n",
        "\n",
        "\n",
        "numpy np.newazis \n",
        "tensorflow\n",
        "\n"
      ]
    },
    {
      "cell_type": "markdown",
      "metadata": {
        "id": "B0kZ8RJJoseX"
      },
      "source": [
        "#차원 쥐어짜기\n",
        "    np.squeeze \n",
        "    개수가 1인 차원의 내용을 없애는 기법\n",
        "    (1, 28, 28, 1) 데이터를 모으기 위해 배열을 만드는 건데 1개씩만 있어서 쓸모없으니 없앤다?\n",
        "\n",
        "    temp_squeeze = np.squeeze(temp_arr)\n",
        "    temp_squeeze.shape "
      ]
    },
    {
      "cell_type": "markdown",
      "metadata": {
        "id": "JrgHS1_PpRk-"
      },
      "source": [
        "# 평탄화 \n",
        "* 2차원 이상의 배열을 1차원 배열로 평평하게 펴주는 것\n",
        "* 'ravel' 원본 배열을 평탄화시킨 '참조'배열을 만들어냄 (view, reference)\n",
        "*flatten '복사'된 배열\n",
        "\n"
      ]
    },
    {
      "cell_type": "code",
      "metadata": {
        "colab": {
          "base_uri": "https://localhost:8080/"
        },
        "id": "XXL2dYIdpu02",
        "outputId": "1ee3bb70-d140-4af4-ceb7-43e5f897b58c"
      },
      "source": [
        "x = np.random.randint(15, size=(3, 5))\n",
        "x.shape"
      ],
      "execution_count": 63,
      "outputs": [
        {
          "output_type": "execute_result",
          "data": {
            "text/plain": [
              "(3, 5)"
            ]
          },
          "metadata": {
            "tags": []
          },
          "execution_count": 63
        }
      ]
    },
    {
      "cell_type": "code",
      "metadata": {
        "colab": {
          "base_uri": "https://localhost:8080/"
        },
        "id": "Y5bNCDZVp0s-",
        "outputId": "5eeb11ab-7767-4d73-b4f3-982ab803a81d"
      },
      "source": [
        "x"
      ],
      "execution_count": 64,
      "outputs": [
        {
          "output_type": "execute_result",
          "data": {
            "text/plain": [
              "array([[13, 10,  2, 11, 10],\n",
              "       [ 0,  7,  2,  4,  5],\n",
              "       [13,  2,  1,  7,  5]])"
            ]
          },
          "metadata": {
            "tags": []
          },
          "execution_count": 64
        }
      ]
    },
    {
      "cell_type": "code",
      "metadata": {
        "colab": {
          "base_uri": "https://localhost:8080/"
        },
        "id": "tOJA42h6p191",
        "outputId": "638b36c1-dd70-4488-e672-f534bc7fdc75"
      },
      "source": [
        "#ravel\n",
        "temp = np.ravel(x)\n",
        "temp.shape"
      ],
      "execution_count": 65,
      "outputs": [
        {
          "output_type": "execute_result",
          "data": {
            "text/plain": [
              "(15,)"
            ]
          },
          "metadata": {
            "tags": []
          },
          "execution_count": 65
        }
      ]
    },
    {
      "cell_type": "code",
      "metadata": {
        "colab": {
          "base_uri": "https://localhost:8080/"
        },
        "id": "pd1CAuI8p6-F",
        "outputId": "5b667d7e-fd48-4ee4-cef1-7ae83d406608"
      },
      "source": [
        "temp"
      ],
      "execution_count": 66,
      "outputs": [
        {
          "output_type": "execute_result",
          "data": {
            "text/plain": [
              "array([13, 10,  2, 11, 10,  0,  7,  2,  4,  5, 13,  2,  1,  7,  5])"
            ]
          },
          "metadata": {
            "tags": []
          },
          "execution_count": 66
        }
      ]
    },
    {
      "cell_type": "code",
      "metadata": {
        "id": "UXYQ6nusp87W"
      },
      "source": [
        "temp[0] = 100"
      ],
      "execution_count": 68,
      "outputs": []
    },
    {
      "cell_type": "code",
      "metadata": {
        "colab": {
          "base_uri": "https://localhost:8080/"
        },
        "id": "fQPW1UU_qEed",
        "outputId": "2c77a2ee-ffdf-4028-8d23-4b0b7b12e458"
      },
      "source": [
        "x #temp를 바꿨는데 원본이 13에서 100으로 바뀜! shallow copy 개념"
      ],
      "execution_count": 69,
      "outputs": [
        {
          "output_type": "execute_result",
          "data": {
            "text/plain": [
              "array([[100,  10,   2,  11,  10],\n",
              "       [  0,   7,   2,   4,   5],\n",
              "       [ 13,   2,   1,   7,   5]])"
            ]
          },
          "metadata": {
            "tags": []
          },
          "execution_count": 69
        }
      ]
    },
    {
      "cell_type": "code",
      "metadata": {
        "id": "D3b5HTq0qGZ2"
      },
      "source": [
        "#flatten (원본 데이터 안전관리를 위해 deep copy 개념인 flatten을 많이 씀)\n",
        "\n",
        "#메모리 종류 3가지 내부 원리만.. \n",
        "1. stack(local 변수만 들어감)\n",
        "2.heap(계층, 오브젝트)\n",
        "3. static/method/class 변수는 나머지"
      ],
      "execution_count": null,
      "outputs": []
    },
    {
      "cell_type": "markdown",
      "metadata": {
        "id": "4AG2BDpvsU40"
      },
      "source": [
        "#reshape"
      ]
    },
    {
      "cell_type": "code",
      "metadata": {
        "id": "j8fatwLJOnMx"
      },
      "source": [
        "#Data 수집\n",
        "스크래핑 : 한군데서\n",
        "클로링:검색엔진은 다 돌아가서 주기적으로 자료 수집\n",
        "\n",
        "1. 목표 페이지 한군데서 스크래핑(HTML/CSS, API, Selenium)로 자료수집\n",
        "2. 자료저장: csv 파일화, DB(DB-MysQL, MongoDB)\n",
        "실무 - 빅데이터는 hadoop(hdfs) - \n",
        "빅데이터 파이프라인 hadoop eco system(spark, hive, pig, squoop, kafka, flume )\n",
        "\n",
        "분석\n",
        "1.시각화\n",
        "2.전처리(kill)\n",
        "3.모델링(인공지능 머신 AI) + Flask \n",
        "\n"
      ],
      "execution_count": null,
      "outputs": []
    }
  ]
}