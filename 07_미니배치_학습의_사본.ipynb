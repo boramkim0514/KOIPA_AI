{
  "nbformat": 4,
  "nbformat_minor": 0,
  "metadata": {
    "colab": {
      "name": "07. 미니배치 학습의 사본",
      "provenance": [],
      "collapsed_sections": [],
      "include_colab_link": true
    },
    "kernelspec": {
      "name": "python3",
      "display_name": "Python 3"
    },
    "language_info": {
      "name": "python"
    }
  },
  "cells": [
    {
      "cell_type": "markdown",
      "metadata": {
        "id": "view-in-github",
        "colab_type": "text"
      },
      "source": [
        "<a href=\"https://colab.research.google.com/github/boramkim0514/KOIPA_AI/blob/main/07_%EB%AF%B8%EB%8B%88%EB%B0%B0%EC%B9%98_%ED%95%99%EC%8A%B5%EC%9D%98_%EC%82%AC%EB%B3%B8.ipynb\" target=\"_parent\"><img src=\"https://colab.research.google.com/assets/colab-badge.svg\" alt=\"Open In Colab\"/></a>"
      ]
    },
    {
      "cell_type": "markdown",
      "metadata": {
        "id": "TGWxZxfgUxc7"
      },
      "source": [
        "# 배치란?\n",
        "  * 데이터의 묶음\n",
        "  * 묶음 대로 결과물이 계산 된다.\n",
        "    * 100개 데이터를 한꺼번에 묶어서(배치를 만들어서) 입력을 했으면, 거기에 대한 결과물도 100개가 한꺼번에 나온다.\n",
        "  * 배치를 적용한 Loss의 수식은?\n",
        "  * `N`이면 `N`건에 대한 `CEE` 값을 구한 다음( 각각이라곤 했지만 한꺼번에 구해진다 )\n",
        "  * 그 값들을 모두 더하고 `N`에 대한 평균을 구한다.\n",
        "\n",
        "**배치를 적용한 CEE**\n",
        "$$\n",
        "CEE = -\\frac{1}{N}\\sum_n\\;\\sum_{k}t_{nk}\\log{y_{nk}}\n",
        "$$"
      ]
    },
    {
      "cell_type": "markdown",
      "metadata": {
        "id": "AIJMBo4TVJ4a"
      },
      "source": [
        "# 미니배치란?\n",
        "  * `MNIST`의 데이터의 개수는 60,000건\n",
        "  * 신경망이 `MNIST`를 학습 하고, 거기에 대한 평가를 내릴 때 60,000건 모두에 대한 손실 함수의 합을 구해야 할까?\n",
        "  * 데이"
      ]
    },
    {
      "cell_type": "code",
      "metadata": {
        "id": "xvy-PniWcRvK"
      },
      "source": [
        "import tensorflow as tf\n",
        "import matplotlib.pyplot as plt"
      ],
      "execution_count": null,
      "outputs": []
    },
    {
      "cell_type": "code",
      "metadata": {
        "colab": {
          "base_uri": "https://localhost:8080/"
        },
        "id": "ecxMBsbjcX50",
        "outputId": "ccdf59ff-d9bc-4aa8-99e6-8e2fd9f0b094"
      },
      "source": [
        "# # mnist 데이터세트 로딩 (외우세요!)\n",
        "# from tensorflow.keras import datasets\n",
        "# mnist = datasets.mnist\n",
        "\n",
        "# (X_train, y_train), (X_test, y_test) = mnist.load_data()"
      ],
      "execution_count": 1,
      "outputs": [
        {
          "output_type": "stream",
          "text": [
            "Downloading data from https://storage.googleapis.com/tensorflow/tf-keras-datasets/mnist.npz\n",
            "11493376/11490434 [==============================] - 0s 0us/step\n"
          ],
          "name": "stdout"
        }
      ]
    },
    {
      "cell_type": "code",
      "metadata": {
        "id": "xgJ_xDFYvFia"
      },
      "source": [
        "from tensorflow.keras import datasets #tensorflow.keras 라이브러리에서 datasets 가져오기\n",
        "mnist = datasets.mnist #mnist 데이터 세트를 mnist 변수에 담기\n",
        "(X_train, y_train), (X_test, y_test) = mnist.load_data() #mmnist.load_data를 (train set), ( test set) 으로 패킹하기"
      ],
      "execution_count": 20,
      "outputs": []
    },
    {
      "cell_type": "code",
      "metadata": {
        "colab": {
          "base_uri": "https://localhost:8080/"
        },
        "id": "j6DjPwfL3Mrj",
        "outputId": "a0b98f2c-68db-4208-c031-c8f3c0977040"
      },
      "source": [
        "# 패킹한 data set들의 shape 확인 해보자!\n",
        "X_train.shape, y_train.shape, X_test.shape, y_test.shape"
      ],
      "execution_count": 19,
      "outputs": [
        {
          "output_type": "execute_result",
          "data": {
            "text/plain": [
              "((60000, 28, 28), (60000,), (10000, 28, 28), (10000,))"
            ]
          },
          "metadata": {
            "tags": []
          },
          "execution_count": 19
        }
      ]
    },
    {
      "cell_type": "code",
      "metadata": {
        "id": "nTKrGO14cfw5"
      },
      "source": [
        "TRAIN_IMAGE_SIZE = X_train.shape[0] #X_train dataset shape의 0번째 인덱스 값(60000)을 변수 TRAIN_IMAGE_SIZE 담아주자"
      ],
      "execution_count": 28,
      "outputs": []
    },
    {
      "cell_type": "code",
      "metadata": {
        "colab": {
          "base_uri": "https://localhost:8080/"
        },
        "id": "v2y_jcty2U8h",
        "outputId": "7c5b982a-23d1-4edb-ea19-a60d41bbd017"
      },
      "source": [
        "TRAIN_IMAGE_SIZE"
      ],
      "execution_count": 29,
      "outputs": [
        {
          "output_type": "execute_result",
          "data": {
            "text/plain": [
              "60000"
            ]
          },
          "metadata": {
            "tags": []
          },
          "execution_count": 29
        }
      ]
    },
    {
      "cell_type": "code",
      "metadata": {
        "colab": {
          "base_uri": "https://localhost:8080/"
        },
        "id": "PgmwNRJW1BbA",
        "outputId": "474b4ed5-7348-4db6-da0c-ce9354498444"
      },
      "source": [
        "X_train.reshape(TRAIN_IMAGE_SIZE, -1) #reshape을 활용한 평탄화 "
      ],
      "execution_count": 26,
      "outputs": [
        {
          "output_type": "execute_result",
          "data": {
            "text/plain": [
              "array([[0, 0, 0, ..., 0, 0, 0],\n",
              "       [0, 0, 0, ..., 0, 0, 0],\n",
              "       [0, 0, 0, ..., 0, 0, 0],\n",
              "       ...,\n",
              "       [0, 0, 0, ..., 0, 0, 0],\n",
              "       [0, 0, 0, ..., 0, 0, 0],\n",
              "       [0, 0, 0, ..., 0, 0, 0]], dtype=uint8)"
            ]
          },
          "metadata": {
            "tags": []
          },
          "execution_count": 26
        }
      ]
    },
    {
      "cell_type": "code",
      "metadata": {
        "colab": {
          "base_uri": "https://localhost:8080/"
        },
        "id": "1y_ljN0G1ZfY",
        "outputId": "8a3f9c3f-a0e8-451c-9ac4-7f12b6a5cfdc"
      },
      "source": [
        "X_train.shape # reshape 된 결과 확인, "
      ],
      "execution_count": 31,
      "outputs": [
        {
          "output_type": "execute_result",
          "data": {
            "text/plain": [
              "(60000, 784)"
            ]
          },
          "metadata": {
            "tags": []
          },
          "execution_count": 31
        }
      ]
    },
    {
      "cell_type": "markdown",
      "metadata": {
        "id": "K9mH18ZrdC8Z"
      },
      "source": [
        "# y_train One Hot Encoding "
      ]
    },
    {
      "cell_type": "markdown",
      "metadata": {
        "id": "x3-e5mGc6oJP"
      },
      "source": [
        "무계획 coding은 NO!\n",
        "엔코딩 순서를 먼저 생각한 후 순서에 맞춰서 코딩 구현하기!\n",
        "- 배열에 대한 이해가 기초! (행/열)에 대한 기초 변환 과정을 알아야 함\n",
        "\n",
        "1. 1차원 배열을 \n",
        "2. 열백터 형식으로 변환(reshape 사용)\n",
        "3. 원핫엔 코딩"
      ]
    },
    {
      "cell_type": "code",
      "metadata": {
        "colab": {
          "base_uri": "https://localhost:8080/"
        },
        "id": "VEgqHSZ77SYh",
        "outputId": "171e1505-4c9e-40d2-8293-3484226a07e5"
      },
      "source": [
        "y_train #배열 직접 확인 해보기 (1차원 행백터 였음)"
      ],
      "execution_count": 41,
      "outputs": [
        {
          "output_type": "execute_result",
          "data": {
            "text/plain": [
              "array([5, 0, 4, ..., 5, 6, 8], dtype=uint8)"
            ]
          },
          "metadata": {
            "tags": []
          },
          "execution_count": 41
        }
      ]
    },
    {
      "cell_type": "code",
      "metadata": {
        "colab": {
          "base_uri": "https://localhost:8080/"
        },
        "id": "MyC4mbp_kxbS",
        "outputId": "77104598-c619-40d7-9962-c27932be9774"
      },
      "source": [
        "y_train1 = y_train.reshape(-1,1) # y_train을 reshape\n",
        "y_train1 # 배열 찍어서 확인 해보기 (1차원 열백터로 바뀜)"
      ],
      "execution_count": 44,
      "outputs": [
        {
          "output_type": "execute_result",
          "data": {
            "text/plain": [
              "array([[5],\n",
              "       [0],\n",
              "       [4],\n",
              "       ...,\n",
              "       [5],\n",
              "       [6],\n",
              "       [8]], dtype=uint8)"
            ]
          },
          "metadata": {
            "tags": []
          },
          "execution_count": 44
        }
      ]
    },
    {
      "cell_type": "code",
      "metadata": {
        "colab": {
          "base_uri": "https://localhost:8080/"
        },
        "id": "6QQeLX89lD4J",
        "outputId": "20095ca7-b5c4-4bab-b777-22e753c67861"
      },
      "source": [
        "y_train1.shape # shape 확인"
      ],
      "execution_count": 45,
      "outputs": [
        {
          "output_type": "execute_result",
          "data": {
            "text/plain": [
              "(60000, 1)"
            ]
          },
          "metadata": {
            "tags": []
          },
          "execution_count": 45
        }
      ]
    },
    {
      "cell_type": "code",
      "metadata": {
        "colab": {
          "base_uri": "https://localhost:8080/"
        },
        "id": "2RbntLE-dQ9q",
        "outputId": "898f7ed8-c151-4904-a50e-85e99ad57665"
      },
      "source": [
        "from sklearn.preprocessing import OneHotEncoder #사이킷런의 one hot encoder 불러오기\n",
        "y_train_one_hot = OneHotEncoder().fit_transform(y_train1) # y_train1을 OHE로 fit(훈련) 시켜서 변환\n",
        "y_train_one_hot #sparse row format 압축된 형태로 나옴"
      ],
      "execution_count": 46,
      "outputs": [
        {
          "output_type": "execute_result",
          "data": {
            "text/plain": [
              "<60000x10 sparse matrix of type '<class 'numpy.float64'>'\n",
              "\twith 60000 stored elements in Compressed Sparse Row format>"
            ]
          },
          "metadata": {
            "tags": []
          },
          "execution_count": 46
        }
      ]
    },
    {
      "cell_type": "code",
      "metadata": {
        "colab": {
          "base_uri": "https://localhost:8080/"
        },
        "id": "lqIuIvDlmVQ6",
        "outputId": "357611c5-b1ba-4cf9-c79e-c42700a6b92c"
      },
      "source": [
        "y_train_one_hot_arr = y_train_one_hot.toarray()\n",
        "y_train_one_hot_arr.shape"
      ],
      "execution_count": null,
      "outputs": [
        {
          "output_type": "execute_result",
          "data": {
            "text/plain": [
              "(60000, 10)"
            ]
          },
          "metadata": {
            "tags": []
          },
          "execution_count": 37
        }
      ]
    },
    {
      "cell_type": "code",
      "metadata": {
        "colab": {
          "base_uri": "https://localhost:8080/"
        },
        "id": "S76MoeAhmxzh",
        "outputId": "f63a3bd7-6d00-4162-d97b-37d859bb4756"
      },
      "source": [
        "y_train_one_hot_arr"
      ],
      "execution_count": null,
      "outputs": [
        {
          "output_type": "execute_result",
          "data": {
            "text/plain": [
              "array([[0., 0., 0., ..., 0., 0., 0.],\n",
              "       [1., 0., 0., ..., 0., 0., 0.],\n",
              "       [0., 0., 0., ..., 0., 0., 0.],\n",
              "       ...,\n",
              "       [0., 0., 0., ..., 0., 0., 0.],\n",
              "       [0., 0., 0., ..., 0., 0., 0.],\n",
              "       [0., 0., 0., ..., 0., 1., 0.]])"
            ]
          },
          "metadata": {
            "tags": []
          },
          "execution_count": 38
        }
      ]
    },
    {
      "cell_type": "code",
      "metadata": {
        "colab": {
          "base_uri": "https://localhost:8080/"
        },
        "id": "NmPm3M_Sm1zp",
        "outputId": "de5f4ed7-6808-4090-f0ac-31d680ce916b"
      },
      "source": [
        "y_train_one_hot_arr[:4]"
      ],
      "execution_count": null,
      "outputs": [
        {
          "output_type": "execute_result",
          "data": {
            "text/plain": [
              "array([[0., 0., 0., 0., 0., 1., 0., 0., 0., 0.],\n",
              "       [1., 0., 0., 0., 0., 0., 0., 0., 0., 0.],\n",
              "       [0., 0., 0., 0., 1., 0., 0., 0., 0., 0.],\n",
              "       [0., 1., 0., 0., 0., 0., 0., 0., 0., 0.]])"
            ]
          },
          "metadata": {
            "tags": []
          },
          "execution_count": 39
        }
      ]
    },
    {
      "cell_type": "markdown",
      "metadata": {
        "id": "6wxFuBHuioxl"
      },
      "source": [
        "# 미니 배치 구현"
      ]
    },
    {
      "cell_type": "code",
      "metadata": {
        "colab": {
          "base_uri": "https://localhost:8080/"
        },
        "id": "fBV5Bu_KnHgJ",
        "outputId": "1e10b9e5-58bc-44fd-8649-149cc11cb56e"
      },
      "source": [
        "#열심히 안봐도 된다고 하심)\n",
        "import numpy as np\n",
        "\n",
        "#훈련 데이터에서 무작위 10장 추출\n",
        "train_size = X_train.shape[0]  # 전체 훈련 데이터 세트 크기\n",
        "batch_size = 10  # 미니 배치의 사이즈\n",
        "\n",
        "batch_mask = np.random.choice(train_size, batch_size)\n",
        "\n",
        "batch_mask "
      ],
      "execution_count": null,
      "outputs": [
        {
          "output_type": "execute_result",
          "data": {
            "text/plain": [
              "array([58208, 15414, 10559, 21461, 23731, 38054, 14789, 39458, 50112,\n",
              "       59958])"
            ]
          },
          "metadata": {
            "tags": []
          },
          "execution_count": 45
        }
      ]
    },
    {
      "cell_type": "code",
      "metadata": {
        "colab": {
          "base_uri": "https://localhost:8080/"
        },
        "id": "J2PNsfQvsrDa",
        "outputId": "29dbd933-cf74-4681-e6e4-cacdebb985ba"
      },
      "source": [
        ""
      ],
      "execution_count": null,
      "outputs": [
        {
          "output_type": "execute_result",
          "data": {
            "text/plain": [
              "784"
            ]
          },
          "metadata": {
            "tags": []
          },
          "execution_count": 59
        }
      ]
    },
    {
      "cell_type": "code",
      "metadata": {
        "colab": {
          "base_uri": "https://localhost:8080/"
        },
        "id": "cdUTKgUonq7K",
        "outputId": "3d4051ae-d8dc-4604-900a-db78d4706f2f"
      },
      "source": [
        "X_batch = X_train[batch_mask]\n",
        "t_batch = y_train_one_hot_arr[batch_mask]\n",
        "\n",
        "X_batch.shape, t_batch.shape"
      ],
      "execution_count": null,
      "outputs": [
        {
          "output_type": "execute_result",
          "data": {
            "text/plain": [
              "((10, 784), (10, 10))"
            ]
          },
          "metadata": {
            "tags": []
          },
          "execution_count": 46
        }
      ]
    },
    {
      "cell_type": "code",
      "metadata": {
        "id": "MdpTVhPUnXNE"
      },
      "source": [
        "# ver 1 - OHE 되어 있는 형태\n",
        "def cross_entropy_error_v1(y, t):\n",
        "    delta = 1e-6\n",
        "#배치를 사용하지 않은 경우\n",
        "if y.ndim == 1:\n",
        "    # batch size를 강제로 1로 지정\n",
        "    # reshape으로\n",
        "    t = t.reshape(1, -1)\n",
        "    y = y.reshape(1, -1)\n",
        "\n",
        "batch_size = y.shape[0]\n",
        "return =np.sum(t * np.log(y+delta)) / batch_size "
      ],
      "execution_count": null,
      "outputs": []
    },
    {
      "cell_type": "code",
      "metadata": {
        "id": "tlUAI5XNp8wL"
      },
      "source": [
        "# ver 2 - t가 OHE 안되어 있는 형태\n",
        "\n",
        "def cross_entropy_error_v2(y, t):\n",
        "    if y.ndim ==1: \n",
        "        t = t.reshape(1, t.size) \n",
        "        y = y.reshape(1, y.size)\n",
        "\n",
        "    batch_size = y.shape[0]\n",
        "    return -np.sum(np.log(y[np.arange(batch_size), t])) / batch_size \n",
        "    # - 마이너스화\n",
        "    # Sum 합\n",
        "    # np.log로그\n",
        "\n",
        "    batch_size로 랜덤 추출 "
      ],
      "execution_count": null,
      "outputs": []
    },
    {
      "cell_type": "code",
      "metadata": {
        "colab": {
          "base_uri": "https://localhost:8080/"
        },
        "id": "i2epcUlIq1I8",
        "outputId": "6d47b4a2-173c-4c2b-bdc0-73a53985be9a"
      },
      "source": [
        "batch_size"
      ],
      "execution_count": null,
      "outputs": [
        {
          "output_type": "execute_result",
          "data": {
            "text/plain": [
              "10"
            ]
          },
          "metadata": {
            "tags": []
          },
          "execution_count": 62
        }
      ]
    },
    {
      "cell_type": "code",
      "metadata": {
        "id": "JrvOCLs5r7Uq"
      },
      "source": [
        "t = t.reshape(1, t.size) "
      ],
      "execution_count": null,
      "outputs": []
    },
    {
      "cell_type": "code",
      "metadata": {
        "id": "Ufbkxj7ZsEvZ"
      },
      "source": [
        "#제일 안쪾에 있는 변수 \n",
        "# 예시를 만들어보기 \n",
        "batch_size : 5 #y:예측값) \n",
        "t :[2, ] #t 타겟값"
      ],
      "execution_count": null,
      "outputs": []
    },
    {
      "cell_type": "code",
      "metadata": {
        "id": "859bqWdcByEx"
      },
      "source": [
        "t = np.array([0, 0, 1,   0,    0,   0,   0,   0,   0,   0])"
      ],
      "execution_count": 70,
      "outputs": []
    },
    {
      "cell_type": "code",
      "metadata": {
        "colab": {
          "base_uri": "https://localhost:8080/"
        },
        "id": "QbNP4DDSBz8i",
        "outputId": "13fac701-7b59-4e79-dc36-d2fc64fae057"
      },
      "source": [
        "t"
      ],
      "execution_count": 71,
      "outputs": [
        {
          "output_type": "execute_result",
          "data": {
            "text/plain": [
              "array([0, 0, 1, 0, 0, 0, 0, 0, 0, 0])"
            ]
          },
          "metadata": {
            "tags": []
          },
          "execution_count": 71
        }
      ]
    },
    {
      "cell_type": "code",
      "metadata": {
        "colab": {
          "base_uri": "https://localhost:8080/"
        },
        "id": "_EolRTTfB1H4",
        "outputId": "9736d811-cc59-46bb-bed1-5c2a9ab9ddab"
      },
      "source": [
        "type(t)"
      ],
      "execution_count": 72,
      "outputs": [
        {
          "output_type": "execute_result",
          "data": {
            "text/plain": [
              "numpy.ndarray"
            ]
          },
          "metadata": {
            "tags": []
          },
          "execution_count": 72
        }
      ]
    },
    {
      "cell_type": "code",
      "metadata": {
        "id": "A48ab5SoB36Y"
      },
      "source": [
        ""
      ],
      "execution_count": null,
      "outputs": []
    }
  ]
}