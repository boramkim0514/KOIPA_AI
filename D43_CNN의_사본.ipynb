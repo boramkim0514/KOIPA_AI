{
  "nbformat": 4,
  "nbformat_minor": 0,
  "metadata": {
    "colab": {
      "name": "D43_CNN의 사본",
      "provenance": [],
      "include_colab_link": true
    },
    "kernelspec": {
      "name": "python3",
      "display_name": "Python 3"
    },
    "language_info": {
      "name": "python"
    },
    "accelerator": "GPU"
  },
  "cells": [
    {
      "cell_type": "markdown",
      "metadata": {
        "id": "view-in-github",
        "colab_type": "text"
      },
      "source": [
        "<a href=\"https://colab.research.google.com/github/boramkim0514/KOIPA_AI/blob/main/D43_CNN%EC%9D%98_%EC%82%AC%EB%B3%B8.ipynb\" target=\"_parent\"><img src=\"https://colab.research.google.com/assets/colab-badge.svg\" alt=\"Open In Colab\"/></a>"
      ]
    },
    {
      "cell_type": "markdown",
      "metadata": {
        "id": "y7n0OqA-hFq5"
      },
      "source": [
        "# MNIST 데이터 준비 및 시각화"
      ]
    },
    {
      "cell_type": "code",
      "metadata": {
        "id": "Gq_Sz2omhX27"
      },
      "source": [
        "import tensorflow as tf\n",
        "from tensorflow.keras import datasets\n",
        "\n",
        "import matplotlib.pyplot as plt"
      ],
      "execution_count": null,
      "outputs": []
    },
    {
      "cell_type": "code",
      "metadata": {
        "id": "SopkevjRhrTT",
        "colab": {
          "base_uri": "https://localhost:8080/"
        },
        "outputId": "f44dbd7c-7a6a-4469-f5fe-04fe79597095"
      },
      "source": [
        "(X_train, y_train), (X_test, y_test) = datasets.mnist.load_data()"
      ],
      "execution_count": null,
      "outputs": [
        {
          "output_type": "stream",
          "text": [
            "Downloading data from https://storage.googleapis.com/tensorflow/tf-keras-datasets/mnist.npz\n",
            "11493376/11490434 [==============================] - 0s 0us/step\n"
          ],
          "name": "stdout"
        }
      ]
    },
    {
      "cell_type": "markdown",
      "metadata": {
        "id": "V_HRg2iZhx_5"
      },
      "source": [
        "# 이미지 시각화 및 형상(shape)확인 "
      ]
    },
    {
      "cell_type": "code",
      "metadata": {
        "colab": {
          "base_uri": "https://localhost:8080/"
        },
        "id": "Otq7qG9AiFHE",
        "outputId": "2b8e80eb-9739-4494-b964-528f13e9b5b9"
      },
      "source": [
        "image = X_train[0]\n",
        "image.shape"
      ],
      "execution_count": null,
      "outputs": [
        {
          "output_type": "execute_result",
          "data": {
            "text/plain": [
              "(28, 28)"
            ]
          },
          "metadata": {
            "tags": []
          },
          "execution_count": 76
        }
      ]
    },
    {
      "cell_type": "code",
      "metadata": {
        "id": "RLtdl2nBiHa6",
        "colab": {
          "base_uri": "https://localhost:8080/"
        },
        "outputId": "c916aa0f-dd57-4dd0-efc4-c720b6522aa0"
      },
      "source": [
        "image"
      ],
      "execution_count": null,
      "outputs": [
        {
          "output_type": "execute_result",
          "data": {
            "text/plain": [
              "array([[  0,   0,   0,   0,   0,   0,   0,   0,   0,   0,   0,   0,   0,\n",
              "          0,   0,   0,   0,   0,   0,   0,   0,   0,   0,   0,   0,   0,\n",
              "          0,   0],\n",
              "       [  0,   0,   0,   0,   0,   0,   0,   0,   0,   0,   0,   0,   0,\n",
              "          0,   0,   0,   0,   0,   0,   0,   0,   0,   0,   0,   0,   0,\n",
              "          0,   0],\n",
              "       [  0,   0,   0,   0,   0,   0,   0,   0,   0,   0,   0,   0,   0,\n",
              "          0,   0,   0,   0,   0,   0,   0,   0,   0,   0,   0,   0,   0,\n",
              "          0,   0],\n",
              "       [  0,   0,   0,   0,   0,   0,   0,   0,   0,   0,   0,   0,   0,\n",
              "          0,   0,   0,   0,   0,   0,   0,   0,   0,   0,   0,   0,   0,\n",
              "          0,   0],\n",
              "       [  0,   0,   0,   0,   0,   0,   0,   0,   0,   0,   0,   0,   0,\n",
              "          0,   0,   0,   0,   0,   0,   0,   0,   0,   0,   0,   0,   0,\n",
              "          0,   0],\n",
              "       [  0,   0,   0,   0,   0,   0,   0,   0,   0,   0,   0,   0,   3,\n",
              "         18,  18,  18, 126, 136, 175,  26, 166, 255, 247, 127,   0,   0,\n",
              "          0,   0],\n",
              "       [  0,   0,   0,   0,   0,   0,   0,   0,  30,  36,  94, 154, 170,\n",
              "        253, 253, 253, 253, 253, 225, 172, 253, 242, 195,  64,   0,   0,\n",
              "          0,   0],\n",
              "       [  0,   0,   0,   0,   0,   0,   0,  49, 238, 253, 253, 253, 253,\n",
              "        253, 253, 253, 253, 251,  93,  82,  82,  56,  39,   0,   0,   0,\n",
              "          0,   0],\n",
              "       [  0,   0,   0,   0,   0,   0,   0,  18, 219, 253, 253, 253, 253,\n",
              "        253, 198, 182, 247, 241,   0,   0,   0,   0,   0,   0,   0,   0,\n",
              "          0,   0],\n",
              "       [  0,   0,   0,   0,   0,   0,   0,   0,  80, 156, 107, 253, 253,\n",
              "        205,  11,   0,  43, 154,   0,   0,   0,   0,   0,   0,   0,   0,\n",
              "          0,   0],\n",
              "       [  0,   0,   0,   0,   0,   0,   0,   0,   0,  14,   1, 154, 253,\n",
              "         90,   0,   0,   0,   0,   0,   0,   0,   0,   0,   0,   0,   0,\n",
              "          0,   0],\n",
              "       [  0,   0,   0,   0,   0,   0,   0,   0,   0,   0,   0, 139, 253,\n",
              "        190,   2,   0,   0,   0,   0,   0,   0,   0,   0,   0,   0,   0,\n",
              "          0,   0],\n",
              "       [  0,   0,   0,   0,   0,   0,   0,   0,   0,   0,   0,  11, 190,\n",
              "        253,  70,   0,   0,   0,   0,   0,   0,   0,   0,   0,   0,   0,\n",
              "          0,   0],\n",
              "       [  0,   0,   0,   0,   0,   0,   0,   0,   0,   0,   0,   0,  35,\n",
              "        241, 225, 160, 108,   1,   0,   0,   0,   0,   0,   0,   0,   0,\n",
              "          0,   0],\n",
              "       [  0,   0,   0,   0,   0,   0,   0,   0,   0,   0,   0,   0,   0,\n",
              "         81, 240, 253, 253, 119,  25,   0,   0,   0,   0,   0,   0,   0,\n",
              "          0,   0],\n",
              "       [  0,   0,   0,   0,   0,   0,   0,   0,   0,   0,   0,   0,   0,\n",
              "          0,  45, 186, 253, 253, 150,  27,   0,   0,   0,   0,   0,   0,\n",
              "          0,   0],\n",
              "       [  0,   0,   0,   0,   0,   0,   0,   0,   0,   0,   0,   0,   0,\n",
              "          0,   0,  16,  93, 252, 253, 187,   0,   0,   0,   0,   0,   0,\n",
              "          0,   0],\n",
              "       [  0,   0,   0,   0,   0,   0,   0,   0,   0,   0,   0,   0,   0,\n",
              "          0,   0,   0,   0, 249, 253, 249,  64,   0,   0,   0,   0,   0,\n",
              "          0,   0],\n",
              "       [  0,   0,   0,   0,   0,   0,   0,   0,   0,   0,   0,   0,   0,\n",
              "          0,  46, 130, 183, 253, 253, 207,   2,   0,   0,   0,   0,   0,\n",
              "          0,   0],\n",
              "       [  0,   0,   0,   0,   0,   0,   0,   0,   0,   0,   0,   0,  39,\n",
              "        148, 229, 253, 253, 253, 250, 182,   0,   0,   0,   0,   0,   0,\n",
              "          0,   0],\n",
              "       [  0,   0,   0,   0,   0,   0,   0,   0,   0,   0,  24, 114, 221,\n",
              "        253, 253, 253, 253, 201,  78,   0,   0,   0,   0,   0,   0,   0,\n",
              "          0,   0],\n",
              "       [  0,   0,   0,   0,   0,   0,   0,   0,  23,  66, 213, 253, 253,\n",
              "        253, 253, 198,  81,   2,   0,   0,   0,   0,   0,   0,   0,   0,\n",
              "          0,   0],\n",
              "       [  0,   0,   0,   0,   0,   0,  18, 171, 219, 253, 253, 253, 253,\n",
              "        195,  80,   9,   0,   0,   0,   0,   0,   0,   0,   0,   0,   0,\n",
              "          0,   0],\n",
              "       [  0,   0,   0,   0,  55, 172, 226, 253, 253, 253, 253, 244, 133,\n",
              "         11,   0,   0,   0,   0,   0,   0,   0,   0,   0,   0,   0,   0,\n",
              "          0,   0],\n",
              "       [  0,   0,   0,   0, 136, 253, 253, 253, 212, 135, 132,  16,   0,\n",
              "          0,   0,   0,   0,   0,   0,   0,   0,   0,   0,   0,   0,   0,\n",
              "          0,   0],\n",
              "       [  0,   0,   0,   0,   0,   0,   0,   0,   0,   0,   0,   0,   0,\n",
              "          0,   0,   0,   0,   0,   0,   0,   0,   0,   0,   0,   0,   0,\n",
              "          0,   0],\n",
              "       [  0,   0,   0,   0,   0,   0,   0,   0,   0,   0,   0,   0,   0,\n",
              "          0,   0,   0,   0,   0,   0,   0,   0,   0,   0,   0,   0,   0,\n",
              "          0,   0],\n",
              "       [  0,   0,   0,   0,   0,   0,   0,   0,   0,   0,   0,   0,   0,\n",
              "          0,   0,   0,   0,   0,   0,   0,   0,   0,   0,   0,   0,   0,\n",
              "          0,   0]], dtype=uint8)"
            ]
          },
          "metadata": {
            "tags": []
          },
          "execution_count": 77
        }
      ]
    },
    {
      "cell_type": "code",
      "metadata": {
        "colab": {
          "base_uri": "https://localhost:8080/",
          "height": 281
        },
        "id": "5NLaUNT0iKkK",
        "outputId": "f27b54af-b189-4417-8caa-7c838a0b6304"
      },
      "source": [
        "plt.imshow(image, 'gray')\n",
        "plt.title(y_train[0])\n",
        "plt.show()"
      ],
      "execution_count": null,
      "outputs": [
        {
          "output_type": "display_data",
          "data": {
            "image/png": "[encoded data removed]",
            "text/plain": [
              "<Figure size 432x288 with 1 Axes>"
            ]
          },
          "metadata": {
            "tags": [],
            "needs_background": "light"
          }
        }
      ]
    },
    {
      "cell_type": "markdown",
      "metadata": {
        "id": "auvKDM8aiiDB"
      },
      "source": [
        "## CNN 레이어 삽입하기 위한 배열 편집\n",
        "* 4차원 형태의 데이터를 유지해야 한다\n",
        "* `(N, H, W, C)` -> `(배치크기, 높이, 가로, 채널수)`\n",
        "* MNIST 손글씨 이미지 : 높이 - 28px, 가로 -28px, 채널 -1ch\n",
        "* 1장의 이미지 - `(28, 28)`-> `(1, 28, 28, 1)로 바꿔주어야 함"
      ]
    },
    {
      "cell_type": "code",
      "metadata": {
        "colab": {
          "base_uri": "https://localhost:8080/"
        },
        "id": "DHtHHnXpjUSo",
        "outputId": "fc9e4313-b394-4850-8429-9e0025ce192f"
      },
      "source": [
        "image = image[tf.newaxis, ..., tf.newaxis]\n",
        "image.shape"
      ],
      "execution_count": null,
      "outputs": [
        {
          "output_type": "execute_result",
          "data": {
            "text/plain": [
              "(1, 28, 28, 1)"
            ]
          },
          "metadata": {
            "tags": []
          },
          "execution_count": 79
        }
      ]
    },
    {
      "cell_type": "markdown",
      "metadata": {
        "id": "gIMDKYcHkPXC"
      },
      "source": [
        "# Conv 레이어 사용\n",
        "keras의 대표적 CNN 레이어 두가지\n",
        "1. Conv2D\n",
        "* `stride`가 2방향으로 움직인다.(가로, 세로)\n",
        "* 이미지 분석을 위해 사용되는 일반적인 합성곱 레이어\n",
        "\n",
        "2. Conv1D\n",
        "*` stride`가 방향으로 움직인다(세료)\n",
        "* `텍스트 분석을 위해 사용되는 레이어 ( `char CNN` )\n"
      ]
    },
    {
      "cell_type": "markdown",
      "metadata": {
        "id": "7rQyfGWnlphQ"
      },
      "source": [
        "# Conv2D 매개변수 확인(외우기!)\n",
        "* `filters` : 필터 개수($C_{out}$)\n",
        "* `kernel_size` : 필터의 크기( $K_H$, $K_W$)\n",
        "* `strides` : 몇 개의 픽셀을 스킵하면서 필터가 훑게 할지 결정 ( 스트라이드가 커지면 출력 특징맵의 크기가 줄어 든다)\n",
        "* `padding`: 0으로 쌓여진 패딩을 만들 것인지에 대한 설정\n",
        "  * `VALID` : 패딩을 만들지 않는다.\n",
        "  * `SAME`  : 한개 짜리 패딩 생성 - 이미지 주변을 한줄로 감싸기\n",
        "* `activation`: 활성화 함수 지정하기. 따로 지정하지 않고 추후에 레이어로 추가 가능\n",
        "\n"
      ]
    },
    {
      "cell_type": "code",
      "metadata": {
        "colab": {
          "base_uri": "https://localhost:8080/"
        },
        "id": "Uh6_M6zjm5R4",
        "outputId": "2b9d8467-ddb7-4edc-efe1-ea4f4ab579de"
      },
      "source": [
        "# from tensorflow.keras.layers import Conv2D\n",
        "# Conv2D\n",
        "tf.keras.layers.Conv2D(\n",
        "    filters = 3, #필터 개수\n",
        "    kernel_size = (3, 3), #필터 (세로, 가로) 크기 1 x 1 , 3 x 3, 5 x 5, 7 x 7 주로 사용 \n",
        "    strides = (1, 1), #가로, 세로로 움직이는 방향\n",
        "    padding='SAME', #패딩 여부( SAME - 패딩적용, VALID - 패딩 미적용)\n",
        "    activation='relu'\n",
        ")"
      ],
      "execution_count": null,
      "outputs": [
        {
          "output_type": "execute_result",
          "data": {
            "text/plain": [
              "<tensorflow.python.keras.layers.convolutional.Conv2D at 0x7f1dffea33d0>"
            ]
          },
          "metadata": {
            "tags": []
          },
          "execution_count": 80
        }
      ]
    },
    {
      "cell_type": "code",
      "metadata": {
        "colab": {
          "base_uri": "https://localhost:8080/"
        },
        "id": "5Nq4kBB3oC3w",
        "outputId": "d7722613-dc6c-4259-dede-0cb0cdfbf075"
      },
      "source": [
        "# 필터의 세로 가로 크기 및 스트라이드의 세로 가로를 똑같이 하려면 굳이 튜플을 쓸 필욘 없다\n",
        "tf.keras.layers.Conv2D(\n",
        "    filters=3,\n",
        "    kernel_size=3, # 3 x 3 필터\n",
        "    strides=1, # 1 x 1 stride\n",
        "    padding='SAME',\n",
        "    activation='relu'\n",
        ")"
      ],
      "execution_count": null,
      "outputs": [
        {
          "output_type": "execute_result",
          "data": {
            "text/plain": [
              "<tensorflow.python.keras.layers.convolutional.Conv2D at 0x7f1dffecf990>"
            ]
          },
          "metadata": {
            "tags": []
          },
          "execution_count": 81
        }
      ]
    },
    {
      "cell_type": "code",
      "metadata": {
        "colab": {
          "base_uri": "https://localhost:8080/"
        },
        "id": "opyT2Q0yoqPx",
        "outputId": "1121ab9d-b736-467c-c17c-1f636064eb67"
      },
      "source": [
        "image = tf.cast(image, dtype=tf.float32)\n",
        "image.dtype"
      ],
      "execution_count": null,
      "outputs": [
        {
          "output_type": "execute_result",
          "data": {
            "text/plain": [
              "tf.float32"
            ]
          },
          "metadata": {
            "tags": []
          },
          "execution_count": 82
        }
      ]
    },
    {
      "cell_type": "code",
      "metadata": {
        "colab": {
          "base_uri": "https://localhost:8080/"
        },
        "id": "3n6be8IJpBtv",
        "outputId": "03a184f3-f2e5-4313-eb0b-d95ed7c4f49d"
      },
      "source": [
        "layer = tf.keras.layers.Conv2D(filters=5, kernel_size=3, strides=1, padding='SAME') \n",
        "output = layer(image) # image #conv1 연산 이후 Hw, Cout필터 갯수만큼 아웃풋이 나오니까 5채널) 레이어의 하이퍼 파라미터 shape 보고 먼저 계산해보기, 내가 구축한 모델이 어떤식으로 돌아갈지 머리로 그려짐 \n",
        "output.shape"
      ],
      "execution_count": null,
      "outputs": [
        {
          "output_type": "execute_result",
          "data": {
            "text/plain": [
              "TensorShape([1, 28, 28, 5])"
            ]
          },
          "metadata": {
            "tags": []
          },
          "execution_count": 90
        }
      ]
    },
    {
      "cell_type": "markdown",
      "metadata": {
        "id": "drNAreLOqxNv"
      },
      "source": [
        "출력 특징 맵이 5개 !"
      ]
    },
    {
      "cell_type": "code",
      "metadata": {
        "id": "YdNB0Ad-q0n-"
      },
      "source": [
        "# 출력 특징 맵을 시각화 해보기\n",
        "# 제일 앞 원본, 뒤에 특징맵 5개"
      ],
      "execution_count": null,
      "outputs": []
    },
    {
      "cell_type": "code",
      "metadata": {
        "id": "6HIAMEZxrGC_"
      },
      "source": [
        "# plt.imshow(layer)\n",
        "\n",
        "# plt.subplot(6, 1, 1) \n",
        "# plt.plot(layer)\n",
        "\n",
        "\n",
        "# plt.show()"
      ],
      "execution_count": null,
      "outputs": []
    },
    {
      "cell_type": "code",
      "metadata": {
        "colab": {
          "base_uri": "https://localhost:8080/",
          "height": 130
        },
        "id": "2SYJbNbrrQcF",
        "outputId": "1d7961d3-a496-48f7-8103-7fce267585b8"
      },
      "source": [
        "_, axes = plt.subplots(nrows=1, ncols=6, figsize=(20, 10))\n",
        "axes[0].imshow(image[0, ..., 0], cmap='gray')\n",
        "axes[0].set_title(\"Original Image\")\n",
        "\n",
        "for idx, ax in enumerate(axes[1:]):\n",
        "    ax.set_title(\"Output Feature Manp: {}\".format(idx + 1))\n",
        "    ax.imshow(output[0, ..., idx], cmap='gray')\n",
        "\n",
        "plt.show()"
      ],
      "execution_count": null,
      "outputs": [
        {
          "output_type": "display_data",
          "data": {
            "image/png": "[encoded data removed]",
            "text/plain": [
              "<Figure size 1440x720 with 6 Axes>"
            ]
          },
          "metadata": {
            "tags": [],
            "needs_background": "light"
          }
        }
      ]
    },
    {
      "cell_type": "markdown",
      "metadata": {
        "id": "ty4gGCJcwInv"
      },
      "source": [
        "## Filter 시각화 하기\n",
        "* CNN에서 Filter의 역할은 실제 CNN레이어가 이미지의 무엇을 보고 있는가를 이야기\n",
        "* keras의 레이어들은 layer.get_wetights() 함수를 이용해 편향, 가중치 등 볼수 있음"
      ]
    },
    {
      "cell_type": "code",
      "metadata": {
        "id": "WeTa4NqWwYOs"
      },
      "source": [
        "# Conv2D 레이어의 필터 모양: (3, 3, 1, 5) - ( 필터 세로, 필터 가로 , 입력 특징 맵 채널 개수, 출력 특징 맵의 채널 개수)\n",
        "weights = layer.get_weights()"
      ],
      "execution_count": null,
      "outputs": []
    },
    {
      "cell_type": "code",
      "metadata": {
        "colab": {
          "base_uri": "https://localhost:8080/"
        },
        "id": "E0dcdaZ5w8sM",
        "outputId": "df787506-d4f6-4be8-fb03-1709277fbfa0"
      },
      "source": [
        "print(\"가중치(필터)의 형상 : {}\".format(weights[0].shape))\n",
        "print(\"편향의 형상: {}\".format(weights[1].shape))"
      ],
      "execution_count": null,
      "outputs": [
        {
          "output_type": "stream",
          "text": [
            "가중치(필터)의 형상 : (3, 3, 1, 5)\n",
            "편향의 형상: (5,)\n"
          ],
          "name": "stdout"
        }
      ]
    },
    {
      "cell_type": "code",
      "metadata": {
        "colab": {
          "base_uri": "https://localhost:8080/",
          "height": 145
        },
        "id": "Xo3nBKTRxwWd",
        "outputId": "91963727-984c-432b-bfc9-84e7f6149455"
      },
      "source": [
        "_, axes = plt.subplots(nrows=1, ncols=5, figsize=(20, 10))\n",
        "\n",
        "for idx, ax in enumerate(axes):\n",
        "    ax.set_title(\"Filter {}\".format(idx+1))\n",
        "    ax.imshow(weights[0][..., 0, idx], cmap='gray')\n",
        "\n",
        "plt.show()"
      ],
      "execution_count": null,
      "outputs": [
        {
          "output_type": "display_data",
          "data": {
            "image/png": "[encoded data removed]",
            "text/plain": [
              "<Figure size 1440x720 with 5 Axes>"
            ]
          },
          "metadata": {
            "tags": [],
            "needs_background": "light"
          }
        }
      ]
    },
    {
      "cell_type": "markdown",
      "metadata": {
        "id": "SleCYW6_yPP1"
      },
      "source": [
        "# ReLU 레이어 사용\n",
        "* 이미지 분석에서 ReLU가 자주 사용됨\n",
        "* 이미지 데이터에서 음수 데이터는 필요가 없는 데이터이다.\n",
        "  * 필요 없는 음수 데이터는 제거하고, 의미 있는 양수 데이터만 강조하기 위해서 `ReLU`가 일반적으로 사용된다."
      ]
    },
    {
      "cell_type": "code",
      "metadata": {
        "colab": {
          "base_uri": "https://localhost:8080/"
        },
        "id": "xyq2V8SkyzTj",
        "outputId": "a745bd97-0a5c-435c-dfda-2d983d390787"
      },
      "source": [
        "import numpy as np\n",
        "np.min(output), np.max(output)"
      ],
      "execution_count": null,
      "outputs": [
        {
          "output_type": "execute_result",
          "data": {
            "text/plain": [
              "(-201.89801, 294.77368)"
            ]
          },
          "metadata": {
            "tags": []
          },
          "execution_count": 96
        }
      ]
    },
    {
      "cell_type": "code",
      "metadata": {
        "colab": {
          "base_uri": "https://localhost:8080/"
        },
        "id": "NoHgL0g1y5HD",
        "outputId": "28d30946-1647-4c7e-e88a-94ecb7e2324d"
      },
      "source": [
        "act_layer = tf.keras.layers.ReLU()\n",
        "act_output = act_layer(output) #합성곱의 결과가 활성화 레이어로 들어간다\n",
        "act_output.shape"
      ],
      "execution_count": null,
      "outputs": [
        {
          "output_type": "execute_result",
          "data": {
            "text/plain": [
              "TensorShape([1, 28, 28, 5])"
            ]
          },
          "metadata": {
            "tags": []
          },
          "execution_count": 97
        }
      ]
    },
    {
      "cell_type": "markdown",
      "metadata": {
        "id": "iuxd1AmbzPBG"
      },
      "source": [
        "#ReLU 시각화"
      ]
    },
    {
      "cell_type": "code",
      "metadata": {
        "colab": {
          "base_uri": "https://localhost:8080/",
          "height": 130
        },
        "id": "idoTbn8Yzr1a",
        "outputId": "c9b7c0a5-2118-4c64-e6cb-6032cd3da788"
      },
      "source": [
        "_, axes = plt.subplots(nrows=1, ncols=6, figsize=(20, 10))\n",
        "\n",
        "axes[0].imshow(image[0, ..., 0], cmap='gray')\n",
        "axes[0].set_title(\"Original Image\")\n",
        "\n",
        "for idx, ax in enumerate(axes[1:]):\n",
        "    #ax.set_title()\n",
        "    ax.imshow(act_output[0, ..., idx], cmap='gray')"
      ],
      "execution_count": null,
      "outputs": [
        {
          "output_type": "display_data",
          "data": {
            "image/png": "[encoded data removed]",
            "text/plain": [
              "<Figure size 1440x720 with 6 Axes>"
            ]
          },
          "metadata": {
            "tags": [],
            "needs_background": "light"
          }
        }
      ]
    },
    {
      "cell_type": "markdown",
      "metadata": {
        "id": "B55fBV5i0HVW"
      },
      "source": [
        "# MaxPooling 레이어 사용\n",
        "`Pooling`과정을 통해 이미지 축소 및 정보의 종합을 구현할 수 있다."
      ]
    },
    {
      "cell_type": "code",
      "metadata": {
        "colab": {
          "base_uri": "https://localhost:8080/"
        },
        "id": "UrjSuzUK0rpY",
        "outputId": "4b8c7768-f65e-4e2f-f2db-917c85129cf3"
      },
      "source": [
        "pool_layer = tf.keras.layers.MaxPool2D(pool_size=(2, 2), strides=(2, 2), padding='SAME')\n",
        "pool_output = pool_layer(act_output)\n",
        "\n",
        "pool_output.shape"
      ],
      "execution_count": null,
      "outputs": [
        {
          "output_type": "execute_result",
          "data": {
            "text/plain": [
              "TensorShape([1, 14, 14, 5])"
            ]
          },
          "metadata": {
            "tags": []
          },
          "execution_count": 103
        }
      ]
    },
    {
      "cell_type": "markdown",
      "metadata": {
        "id": "cbmj55nh07Ut"
      },
      "source": [
        "# MaxPooling 시각화"
      ]
    },
    {
      "cell_type": "code",
      "metadata": {
        "colab": {
          "base_uri": "https://localhost:8080/",
          "height": 130
        },
        "id": "D22Lqn1Q1JaU",
        "outputId": "1b77e102-428b-4413-bbdb-2368f369a1ec"
      },
      "source": [
        "_, axes = plt.subplots(nrows=1, ncols=6, figsize=(20, 10))\n",
        "\n",
        "axes[0].imshow(image[0, ..., 0], cmap='gray')\n",
        "axes[0].set_title(\"Original Image\")\n",
        "\n",
        "for idx, ax in enumerate(axes[1:]):\n",
        "    ax.set_title(\"MaxPool Output : {}\".format(idx+1))\n",
        "    ax.imshow(pool_output[0, ..., idx], cmap='gray')\n",
        "\n",
        "plt.show()"
      ],
      "execution_count": null,
      "outputs": [
        {
          "output_type": "display_data",
          "data": {
            "image/png": "[encoded data removed]",
            "text/plain": [
              "<Figure size 1440x720 with 6 Axes>"
            ]
          },
          "metadata": {
            "tags": [],
            "needs_background": "light"
          }
        }
      ]
    },
    {
      "cell_type": "markdown",
      "metadata": {
        "id": "SjyLK3il2EN2"
      },
      "source": [
        "**여기까지의 과정을 특징 추출 과정(Feature Extrac)**\n",
        "* MaxPool2D 까지는 특징 추출 과정\n",
        "  * 예측을 하기 위한 과정이 아닌, 데이터 (이미지)에 대한 특징만 추출\n",
        "* 예측을 수행하기 위해서는 `Fully Connected`(전결합) 과정이 필요하다.\n",
        "  * `Dense` 레이어를 사용한다.\n",
        "* `Fully Connected Layer`를 사용하기 위해서는 데이터가 **평탄화**되어 있어야 한다."
      ]
    },
    {
      "cell_type": "code",
      "metadata": {
        "id": "Tflj36kk3Kwd"
      },
      "source": [
        "flatten_layer = tf.keras.layers.Flatten()\n",
        "flatten_output = flatten_layer(pool_output)"
      ],
      "execution_count": null,
      "outputs": []
    },
    {
      "cell_type": "markdown",
      "metadata": {
        "id": "4WPpadvY3TYp"
      },
      "source": [
        "# Dense 레이어 확인\n",
        "* 계산 과정 $WX+b$을 하기 위한 `Dense`레이어. `Fully Connected Layer` 라고도 한다.\n",
        "\n"
      ]
    },
    {
      "cell_type": "code",
      "metadata": {
        "colab": {
          "base_uri": "https://localhost:8080/"
        },
        "id": "csbvIZ_B32Ih",
        "outputId": "f5ca6c3c-ae0f-4e59-bec4-9d1b161acf4c"
      },
      "source": [
        "# 유닛이 32개인 Dense Layer 만들기\n",
        "dense_layer = tf.keras.layers.Dense(32, activation='relu')\n",
        "dense_output = dense_layer(flatten_output)\n",
        "\n",
        "dense_output.shape"
      ],
      "execution_count": null,
      "outputs": [
        {
          "output_type": "execute_result",
          "data": {
            "text/plain": [
              "TensorShape([1, 32])"
            ]
          },
          "metadata": {
            "tags": []
          },
          "execution_count": 109
        }
      ]
    },
    {
      "cell_type": "code",
      "metadata": {
        "colab": {
          "base_uri": "https://localhost:8080/"
        },
        "id": "QIhNnqnN4DMi",
        "outputId": "66bb5d69-6d4c-4fbd-e11b-c2c52c0b0956"
      },
      "source": [
        "# 출력층 설계\n",
        "# 숫자는 10종류니까 출력층의 뉴련 개수도 10개\n",
        "dense_layer2 = tf.keras.layers.Dense(10, activation='relu')\n",
        "dense_output2 = dense_layer2(dense_output)\n",
        "\n",
        "dense_output2.shape"
      ],
      "execution_count": null,
      "outputs": [
        {
          "output_type": "execute_result",
          "data": {
            "text/plain": [
              "TensorShape([1, 10])"
            ]
          },
          "metadata": {
            "tags": []
          },
          "execution_count": 113
        }
      ]
    },
    {
      "cell_type": "code",
      "metadata": {
        "id": "xJ_YISUd4VyZ"
      },
      "source": [
        "#sequential data"
      ],
      "execution_count": null,
      "outputs": []
    },
    {
      "cell_type": "markdown",
      "metadata": {
        "id": "0RhQqYqlEvp9"
      },
      "source": [
        "Sequential Model로 Mnist 분류기 만들기"
      ]
    },
    {
      "cell_type": "code",
      "metadata": {
        "id": "uAsBxIPa4spM"
      },
      "source": [
        "# model = Sequential([\n",
        "#   Flatten(input_shape=(28, 28)),\n",
        "#   Dense(512, activation='relu'),\n",
        "#   Dense(256, activation='relu'),\n",
        "#   Dense(128, activation='relu'),\n",
        "#   Dense(64, activation='relu'),\n",
        "#   Dense(32, activation='relu'),\n",
        "#   Dense(10, activation='softmax'),\n",
        "# ])\n",
        "\n",
        "# model.summary()"
      ],
      "execution_count": null,
      "outputs": []
    },
    {
      "cell_type": "code",
      "metadata": {
        "id": "y8ZfZGCQEDE-"
      },
      "source": [
        "# 레이어 불러오기\n",
        "from tensorflow.keras.layers import Conv2D, ReLu, Maxpool2D, Flatten, Dense, Input\n",
        "from tensorflow.keras.models import Sequential"
      ],
      "execution_count": null,
      "outputs": []
    },
    {
      "cell_type": "code",
      "metadata": {
        "id": "MoMd_bK6EDdH"
      },
      "source": [
        "input.shape()"
      ],
      "execution_count": null,
      "outputs": []
    },
    {
      "cell_type": "code",
      "metadata": {
        "id": "irNzkaTD5Fdw"
      },
      "source": [
        "# # input layer\n",
        "# model = Sequential([layers=\n",
        "#     Input(shape=(28, 28, 1)), #배치는 고려하지 않고, 채널 데이터가지만만 추가\n",
        "#     Conv2D(filter=32, kernel_size=3, padding='SAME'),\n",
        "#     activation='relu'),\n",
        "#     Conv2D(filter=32, kernel_size=3, padding='SAME'),\n",
        "#     activation='relu'),\n",
        "\n",
        "#     Conv2D(filter=32, kernel_size=3, padding='SAME'), \n",
        "#     activation='relu'),\n",
        "#     Conv2D(_ , activation='relu'),\n",
        "\n",
        "# )]\n",
        "\n",
        "# model.summary()            \n",
        "                    \n",
        "                    \n",
        "#                     ])\n",
        "# input = Input(shape=(3, 3, 32)),\n",
        " \n",
        "# model.summary()\n",
        "# # sequential model 만들기                  \n",
        "    \n",
        "# # 2번째 Conv layer + Relu\n",
        "\n",
        "# # Maxpooling Layer\n",
        "# # 3번째 Conv layer + Relu\n",
        "# # 4번째 Conv layer + max pooling\n",
        "\n",
        "# # Flatten layer\n",
        "# # Dense\n",
        "# # ReLu"
      ],
      "execution_count": null,
      "outputs": []
    },
    {
      "cell_type": "code",
      "metadata": {
        "colab": {
          "base_uri": "https://localhost:8080/"
        },
        "id": "DEdxmb82H_NT",
        "outputId": "bf088cf2-1c9b-4dbf-c025-676733069ffa"
      },
      "source": [
        "from tensorflow.keras.models import Sequential\n",
        "from tensorflow.keras.layers import Conv2D, ReLU, MaxPool2D, Flatten, Dense, Input\n",
        "\n",
        "model = Sequential([\n",
        "  Input(shape=(28, 28, 1)),\n",
        "  Conv2D(filters=32, kernel_size=3, padding='SAME'),\n",
        "  ReLU(),\n",
        "  Conv2D(filters=32, kernel_size=3, padding='SAME'),\n",
        "  ReLU(),\n",
        "  MaxPool2D(pool_size=(2, 2)),\n",
        "\n",
        "  Conv2D(filters=64, kernel_size=3, padding='SAME', activation='relu'),\n",
        "  Conv2D(filters=64, kernel_size=3, padding='SAME', activation='relu'),\n",
        "  MaxPool2D(pool_size=(2, 2)),\n",
        "\n",
        "  Flatten(),\n",
        "\n",
        "  Dense(512, activation='relu'),\n",
        "  Dense(10, activation='softmax')\n",
        "])\n",
        "\n",
        "model.summary()"
      ],
      "execution_count": null,
      "outputs": [
        {
          "output_type": "stream",
          "text": [
            "WARNING:tensorflow:Please add `keras.layers.InputLayer` instead of `keras.Input` to Sequential model. `keras.Input` is intended to be used by Functional model.\n",
            "Model: \"sequential\"\n",
            "_________________________________________________________________\n",
            "Layer (type)                 Output Shape              Param #   \n",
            "=================================================================\n",
            "conv2d (Conv2D)              (None, 28, 28, 32)        320       \n",
            "_________________________________________________________________\n",
            "re_lu (ReLU)                 (None, 28, 28, 32)        0         \n",
            "_________________________________________________________________\n",
            "conv2d_1 (Conv2D)            (None, 28, 28, 32)        9248      \n",
            "_________________________________________________________________\n",
            "re_lu_1 (ReLU)               (None, 28, 28, 32)        0         \n",
            "_________________________________________________________________\n",
            "max_pooling2d (MaxPooling2D) (None, 14, 14, 32)        0         \n",
            "_________________________________________________________________\n",
            "conv2d_2 (Conv2D)            (None, 14, 14, 64)        18496     \n",
            "_________________________________________________________________\n",
            "conv2d_3 (Conv2D)            (None, 14, 14, 64)        36928     \n",
            "_________________________________________________________________\n",
            "max_pooling2d_1 (MaxPooling2 (None, 7, 7, 64)          0         \n",
            "_________________________________________________________________\n",
            "flatten (Flatten)            (None, 3136)              0         \n",
            "_________________________________________________________________\n",
            "dense (Dense)                (None, 512)               1606144   \n",
            "_________________________________________________________________\n",
            "dense_1 (Dense)              (None, 10)                5130      \n",
            "=================================================================\n",
            "Total params: 1,676,266\n",
            "Trainable params: 1,676,266\n",
            "Non-trainable params: 0\n",
            "_________________________________________________________________\n"
          ],
          "name": "stdout"
        }
      ]
    },
    {
      "cell_type": "code",
      "metadata": {
        "id": "A-QrTouWHFCG"
      },
      "source": [
        "model.compile(\n",
        "    optimizer='adam', \n",
        "    loss='sparse_categorical_crossentropy',\n",
        "    metrics=['acc']\n",
        ")"
      ],
      "execution_count": null,
      "outputs": []
    },
    {
      "cell_type": "code",
      "metadata": {
        "colab": {
          "base_uri": "https://localhost:8080/"
        },
        "id": "3-Xayfb0H1no",
        "outputId": "3c08a107-d015-43c0-bdb3-be93a0cbe9f7"
      },
      "source": [
        "X_train.shape, y_train.shape"
      ],
      "execution_count": null,
      "outputs": [
        {
          "output_type": "execute_result",
          "data": {
            "text/plain": [
              "((60000, 28, 28), (60000,))"
            ]
          },
          "metadata": {
            "tags": []
          },
          "execution_count": 22
        }
      ]
    },
    {
      "cell_type": "code",
      "metadata": {
        "colab": {
          "base_uri": "https://localhost:8080/"
        },
        "id": "aHHWpWn0IOhn",
        "outputId": "5af3e306-b7ae-4cdb-bd2c-c934d70b50f8"
      },
      "source": [
        "# 차원 추가\n",
        "X_train = X_train[..., tf.newaxis]\n",
        "X_test  = X_test[..., tf.newaxis]\n",
        "\n",
        "X_train.shape, X_test.shape"
      ],
      "execution_count": null,
      "outputs": [
        {
          "output_type": "execute_result",
          "data": {
            "text/plain": [
              "((60000, 28, 28, 1), (10000, 28, 28, 1))"
            ]
          },
          "metadata": {
            "tags": []
          },
          "execution_count": 23
        }
      ]
    },
    {
      "cell_type": "code",
      "metadata": {
        "id": "S-6R9YoHHnsc"
      },
      "source": [
        "X_train = X_train / 255.0\n",
        "X_test = X_test / 255.0"
      ],
      "execution_count": null,
      "outputs": []
    },
    {
      "cell_type": "code",
      "metadata": {
        "colab": {
          "base_uri": "https://localhost:8080/"
        },
        "id": "Rxb-CxukInjg",
        "outputId": "7ce583dc-cc65-466b-b84c-98ea67faa62f"
      },
      "source": [
        "model.fit(X_train,\n",
        "          y_train,\n",
        "          validation_split=0.2,\n",
        "          epochs=10,\n",
        "          batch_size=32,\n",
        "          shuffle=True)"
      ],
      "execution_count": null,
      "outputs": [
        {
          "output_type": "stream",
          "text": [
            "Epoch 1/10\n",
            "1500/1500 [==============================] - 37s 4ms/step - loss: 0.1124 - acc: 0.9650 - val_loss: 0.0452 - val_acc: 0.9860\n",
            "Epoch 2/10\n",
            "1500/1500 [==============================] - 6s 4ms/step - loss: 0.0379 - acc: 0.9879 - val_loss: 0.0375 - val_acc: 0.9899\n",
            "Epoch 3/10\n",
            "1500/1500 [==============================] - 6s 4ms/step - loss: 0.0254 - acc: 0.9916 - val_loss: 0.0337 - val_acc: 0.9899\n",
            "Epoch 4/10\n",
            "1500/1500 [==============================] - 6s 4ms/step - loss: 0.0192 - acc: 0.9939 - val_loss: 0.0414 - val_acc: 0.9886\n",
            "Epoch 5/10\n",
            "1500/1500 [==============================] - 6s 4ms/step - loss: 0.0153 - acc: 0.9951 - val_loss: 0.0308 - val_acc: 0.9919\n",
            "Epoch 6/10\n",
            "1500/1500 [==============================] - 6s 4ms/step - loss: 0.0122 - acc: 0.9962 - val_loss: 0.0346 - val_acc: 0.9909\n",
            "Epoch 7/10\n",
            "1500/1500 [==============================] - 6s 4ms/step - loss: 0.0116 - acc: 0.9964 - val_loss: 0.0298 - val_acc: 0.9922\n",
            "Epoch 8/10\n",
            "1500/1500 [==============================] - 6s 4ms/step - loss: 0.0071 - acc: 0.9977 - val_loss: 0.0615 - val_acc: 0.9892\n",
            "Epoch 9/10\n",
            "1500/1500 [==============================] - 6s 4ms/step - loss: 0.0101 - acc: 0.9967 - val_loss: 0.0383 - val_acc: 0.9918\n",
            "Epoch 10/10\n",
            "1500/1500 [==============================] - 6s 4ms/step - loss: 0.0067 - acc: 0.9981 - val_loss: 0.0427 - val_acc: 0.9903\n"
          ],
          "name": "stdout"
        },
        {
          "output_type": "execute_result",
          "data": {
            "text/plain": [
              "<tensorflow.python.keras.callbacks.History at 0x7f4f0a87f9d0>"
            ]
          },
          "metadata": {
            "tags": []
          },
          "execution_count": 25
        }
      ]
    }
  ]
}