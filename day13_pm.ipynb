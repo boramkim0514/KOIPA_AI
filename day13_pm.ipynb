{
  "nbformat": 4,
  "nbformat_minor": 0,
  "metadata": {
    "colab": {
      "name": "day13_pm",
      "provenance": [],
      "mount_file_id": "1H2GBOY49jvl2hnKOBwKs445_9JrYu6ca",
      "authorship_tag": "ABX9TyOmf1uO0ruBxpXIhyWv7IP7",
      "include_colab_link": true
    },
    "kernelspec": {
      "name": "python3",
      "display_name": "Python 3"
    },
    "language_info": {
      "name": "python"
    }
  },
  "cells": [
    {
      "cell_type": "markdown",
      "metadata": {
        "id": "view-in-github",
        "colab_type": "text"
      },
      "source": [
        "<a href=\"https://colab.research.google.com/github/boramkim0514/python01/blob/main/day13_pm.ipynb\" target=\"_parent\"><img src=\"https://colab.research.google.com/assets/colab-badge.svg\" alt=\"Open In Colab\"/></a>"
      ]
    },
    {
      "cell_type": "markdown",
      "metadata": {
        "id": "oSgDm7Wqce43"
      },
      "source": [
        "#끈기와 성실성의 증명 -> 블로그\n",
        "\n",
        "레퍼런스를 남겨서 github blog 만드는 방법\n",
        "운이 좋아서 검색이 잘 되고 인기가 많아지면 회사에서 연락올 수도 있음\n",
        "대부분 하다가 마는데... 끝까지 하기를 바람 <끈기의 중요성>\n",
        "\n",
        " \n",
        "칼럼 따라쓰거나 함수 구문 하루에 하나씩 정리"
      ]
    },
    {
      "cell_type": "markdown",
      "metadata": {
        "id": "DPj05cqJVnXI"
      },
      "source": [
        " \n",
        "\n",
        "# 예외처리  Try Catch 구문 \n",
        "에러로 프로그램 중단되는 걸 방지(p.185)\n",
        "ie. try, except 구문 \n",
        "\n",
        "notnull 존재하지 않으면 데이터 만들때 사용\n",
        "if not exist \n",
        "isnull\n",
        "notnull \n",
        "\n",
        "#Sub Query  "
      ]
    },
    {
      "cell_type": "markdown",
      "metadata": {
        "id": "J1Y31IH9VCjj"
      },
      "source": [
        ""
      ]
    },
    {
      "cell_type": "markdown",
      "metadata": {
        "id": "F8xmkjB4cUSs"
      },
      "source": [
        "안먹었니? 존재하지 않으면 데이터 만드는 것\n",
        "if not exist \n",
        "isnull\n",
        "notnull \n",
        "program \n",
        "\n",
        "에러로 프로그램 중단되는 걸 방지\n",
        "try, except 구문 "
      ]
    },
    {
      "cell_type": "markdown",
      "metadata": {
        "id": "Q244KNGhcXsr"
      },
      "source": [
        "# 색인 기능 활용해 데이터 활용법 \n",
        "1년간 VVIP (2000명 이상 카드 내역 DB 조회해서 테이블 따로 뽑아서 \n",
        "스페셜 초청권 제주도 스페셜 DB활용범위 어마어마함.. 소비금액에 따라 차별화된 마케팅 전략 수립가능\n",
        "\n",
        "색인기능\n",
        "코딩\n",
        "연산자 알고리즘 20줄 2줄로 짤수 있다니! 예술이라고 느낌!"
      ]
    },
    {
      "cell_type": "markdown",
      "metadata": {
        "id": "hDMhAroFVmcg"
      },
      "source": [
        "# 데이터 승격\n",
        "\n",
        "산술연산 데이터 정렬 p.210"
      ]
    },
    {
      "cell_type": "markdown",
      "metadata": {
        "id": "ucRFVXtzctyV"
      },
      "source": [
        " #다중인덱스 \n",
        " pk unique + not null\n",
        "두개를 묶어서 인뎅싱 하는 것 "
      ]
    },
    {
      "cell_type": "markdown",
      "metadata": {
        "id": "2pR4338AdTnL"
      },
      "source": [
        "\n",
        "예습한 책 내용 반드시 실습해볼것 \n",
        "\n",
        "#Chapter 6 \n",
        "\n",
        "\n",
        "\n",
        "\n"
      ]
    },
    {
      "cell_type": "markdown",
      "metadata": {
        "id": "zNt5OJ-xejn3"
      },
      "source": [
        "https://stackoverflow.com/ 참고"
      ]
    },
    {
      "cell_type": "markdown",
      "metadata": {
        "id": "znGSIaZ0enAM"
      },
      "source": [
        "# Mount pydata-book to Google Drive \n",
        "1. download Github databook form github (refer. p.7)\n",
        "2.Google Cloud 연동 \n",
        " \n",
        "# 코드로 형식 지정됨\n",
        "from google.colab import drive\n",
        "drive.mount('/content/drive')\n",
        "\n",
        "데이터는 가져가되 코딩은 직접 손코딩해보기 \n",
        "완전히 내걸로 소화하기 \n",
        "\n"
      ]
    }
  ]
}