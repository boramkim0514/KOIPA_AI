{
  "nbformat": 4,
  "nbformat_minor": 0,
  "metadata": {
    "colab": {
      "name": "day19_NaverAPI.ipynb",
      "provenance": [],
      "collapsed_sections": [],
      "authorship_tag": "ABX9TyOsYE+v4dR1LqZROcgwdRBM",
      "include_colab_link": true
    },
    "kernelspec": {
      "name": "python3",
      "display_name": "Python 3"
    },
    "language_info": {
      "name": "python"
    }
  },
  "cells": [
    {
      "cell_type": "markdown",
      "metadata": {
        "id": "view-in-github",
        "colab_type": "text"
      },
      "source": [
        "<a href=\"https://colab.research.google.com/github/boramkim0514/python01/blob/main/day19_NaverAPI.ipynb\" target=\"_parent\"><img src=\"https://colab.research.google.com/assets/colab-badge.svg\" alt=\"Open In Colab\"/></a>"
      ]
    },
    {
      "cell_type": "code",
      "metadata": {
        "colab": {
          "base_uri": "https://localhost:8080/"
        },
        "id": "_rlcoPhpT5HJ",
        "outputId": "baf66d6e-03ce-4c27-8615-932acb8098d9"
      },
      "source": [
        "import os\n",
        "import sys\n",
        "import urllib.request\n",
        "\n",
        "client_id = \"Sq1EA9pZEer4C84ljqox\"\n",
        "client_secret = \"l8HIPfKdxA\"\n",
        "\n",
        "\n",
        "\n",
        "encText = urllib.parse.quote(\"데이터분석\")\n",
        "\n",
        "url = \"https://openapi.naver.com/v1/search/webkr?query=\" + encText # json 결과\n",
        "\n",
        "\n",
        "request = urllib.request.Request(url)\n",
        "request.add_header(\"X-Naver-Client-Id\",client_id)\n",
        "request.add_header(\"X-Naver-Client-Secret\",client_secret)\n",
        "response = urllib.request.urlopen(request)\n",
        "rescode = response.getcode()\n",
        "if(rescode==200):\n",
        "    response_body = response.read()\n",
        "    print(response_body.decode('utf-8'))\n",
        "else:\n",
        "    print(\"Error Code:\" + rescode)"
      ],
      "execution_count": 49,
      "outputs": [
        {
          "output_type": "stream",
          "text": [
            "{\n",
            "\"lastBuildDate\": \"Mon, 31 May 2021 17:42:45 +0900\",\n",
            "\"total\": 15253561,\n",
            "\"start\": 1,\n",
            "\"display\": 10,\n",
            "\"items\": [\n",
            "{\n",
            "\"title\": \"국가기술 빅<b>데이터 분석</b>기사 - 데이터자격시험\",\n",
            "\"link\": \"https://www.dataq.or.kr/www/sub/a_07.do\",\n",
            "\"description\": \"정의 <b>데이터 분석</b> 방안 분석 작업 계획 데이터 확보 계획 분석 절차 및 작업 계획 데이터 수집 및 저장 계획 데이터 수집 및 전환 데이터 수집 데이터 유형 및 속성 파악 데이터 변환 데이터 비식별화 데이터 품질... \"\n",
            "\n",
            "},\n",
            "{\n",
            "\"title\": \"빅<b>데이터분석</b>기사 - 나무위키\",\n",
            "\"link\": \"https://namu.wiki/w/%EB%B9%85%EB%8D%B0%EC%9D%B4%ED%84%B0%EB%B6%84%EC%84%9D%EA%B8%B0%EC%82%AC\",\n",
            "\"description\": \"탐색, 분석하고 시각화를 수행한다. (4) 검정과목 - (필기) 빅<b>데이터 분석</b> 기획, 빅데이터 탐색, 빅데이터 모델링, 빅데이터 결과해석 등 4개 과목 - (실기) 빅<b>데이터 분석</b> 실무 (5) 합격기준 - (필기) 100점을... \"\n",
            "\n",
            "},\n",
            "{\n",
            "\"title\": \"국가공인 <b>데이터분석</b> 준전문가 - 데이터자격시험\",\n",
            "\"link\": \"https://www.dataq.or.kr/www/sub/a_06.do\",\n",
            "\"description\": \"플랜 <b>데이터분석</b> R기초와 데이터마트 통계분석 데이터 마트 정형 데이터 마이닝 비정형 데이터 마이닝 데이터 시각화 시각화 인사이트 프로세스 시각화 디자인 시각화 구현 목차 ■ <b>데이터분석</b> 전문가/준전문가... \"\n",
            "\n",
            "},\n",
            "{\n",
            "\"title\": \"국가공인 <b>데이터분석</b> 전문가 - 데이터자격시험\",\n",
            "\"link\": \"https://www.dataq.or.kr/www/sub/a_05.do\",\n",
            "\"description\": \"수립 분석 거버넌스 체계 수립 <b>데이터분석</b> R기초와 데이터 마트 R기초 데이터 마트 결측값 처리와 이상값 검색 통계분석 통계학 개론 기초 통계분석 다변량 분석 시계열 예측 정형 데이터 마이닝 데이터 마이닝... \"\n",
            "\n",
            "},\n",
            "{\n",
            "\"title\": \"통계<b>데이터</b>센터\",\n",
            "\"link\": \"https://data.kostat.go.kr/\",\n",
            "\"description\": \"통계빅<b>데이터</b>센터, 마이크로<b>데이터</b>, 통계 자료, 경제 지표 등 제공.\"\n",
            "\n",
            "},\n",
            "{\n",
            "\"title\": \"고성능 가속 <b>데이터 분석</b> | NVIDIA\",\n",
            "\"link\": \"https://www.nvidia.com/ko-kr/deep-learning-ai/solutions/data-analytics/\",\n",
            "\"description\": \"가속화된 <b>데이터</b> 사이언스는 비용을 낮추면서 가치 생성을 가속화해 엔드 투 엔드 <b>분석</b> 워크플로의 성과를 대폭 향상시킬 수 있습니다.\"\n",
            "\n",
            "},\n",
            "{\n",
            "\"title\": \"빅카인즈(BIG KINDS)\",\n",
            "\"link\": \"https://www.bigkinds.or.kr/\",\n",
            "\"description\": \"뉴스빅<b>데이터 분석</b>시스템, 뉴스 속 키워드 관계망, 주요 이슈, 정보원, 이슈 트렌드 분석 정보 제공\"\n",
            "\n",
            "},\n",
            "{\n",
            "\"title\": \"<b>데이터 분석</b> | 칩 제조 | KLA\",\n",
            "\"link\": \"https://www.kla-tencor.com/ko/products/chip-manufacturing/data-analytics\",\n",
            "\"description\": \"KLA의 칩, 웨이퍼 및 레티클 생산을 위한 <b>데이터 분석</b> 시스템의 종합 포트폴리오는 Klarity, 5D Analyzer, RDC 및 FabVision을 포함합니다.\"\n",
            "\n",
            "},\n",
            "{\n",
            "\"title\": \"SQL 개발자 - <b>데이터</b> 전문가 지식포털\",\n",
            "\"link\": \"https://www.dataq.or.kr/\",\n",
            "\"description\": \"자격소개, 시험정보, 출제문항, 응시자격, 합격기준 등 안내.\"\n",
            "\n",
            "},\n",
            "{\n",
            "\"title\": \"<b>데이터 분석</b>이란? 데이터를 어떻게 분석할까? <b>데이터 분석</b> 예시 알아보기\",\n",
            "\"link\": \"https://www.finereport.com/kr/%EB%8D%B0%EC%9D%B4%ED%84%B0-%EB%B6%84%EC%84%9D/\",\n",
            "\"description\": \"데이터-드라이브 기업은 데이터를 기반으로 의사결정을 내리는데, 이는 이를 뒷받침할 데이터가 있기 때문에 자신의 행동이 성공을 가져다 줄 것이라고 더 확신할 수 있다는 것을 의미합니다. 이 글에서 <b>데이터 분석</b> 이\"\n",
            "\n",
            "}\n",
            "]\n",
            "}\n",
            "\n"
          ],
          "name": "stdout"
        }
      ]
    },
    {
      "cell_type": "code",
      "metadata": {
        "colab": {
          "base_uri": "https://localhost:8080/",
          "height": 134
        },
        "id": "JGb8eKTzT6J3",
        "outputId": "a14d0cf3-b028-4065-ee00-b6252c9ea3db"
      },
      "source": [
        "import os\n",
        "import re\n",
        "import sys\n",
        "import json\n",
        "import pandas as pd \n",
        "import urllib.request\n",
        "\n",
        "client_id = \"Sq1EA9pZEer4C84ljqox\"\n",
        "client_secret = \"l8HIPfKdxA\"\n",
        "\n",
        "query = urllib.parse.quote(input(\"검색어를 입력 하세요 : \"))\n",
        "\n",
        "cols = ['Title', 'Link', 'Description']\n",
        "df = pd.DataFrame(columns=cols)\n",
        "\n",
        "count = 0\n",
        "\n",
        "for i in range(1, 100, 10):\n",
        "    url = \"https://openapi.naver.com/v1/search/webkr?query=\" + query \\\n",
        "+ '&display=' + str(10) + '&start=' + str(i)\n",
        "\n",
        "request = urllib.request.Request(url)\n",
        "request.add_header(\"X-Naver-Client-Id\",client_id)\n",
        "request.add_header(\"X-Naver-Client-Secret\",client_secret)\n",
        "response = urllib.request.urlopen(request)\n",
        "rescode = response.getcode()\n",
        "\n",
        "if(rescode==200):\n",
        "\n",
        "    response_body = response.read()\n",
        "    response_dict = json.loads(response_body.decode('utf-8'))\n",
        "\n",
        "items = response_dict['items']\n",
        "\n",
        "for j in range(0, len(items)):\n",
        "    p = re.compile('<.*?>')\n",
        "    title = re.sub(p, '', items[j]['title'])\n",
        "    link = items[j]['link']\n",
        "    description = re.sub(p, '', items[j]['description'])\n",
        "    df.loc[count] = [title, link, description]\n",
        "print(count, end = ' ')\n",
        "\n",
        "count += 1\n",
        "else:\n",
        "print(\"Error Code:\" + \"rescode)"
      ],
      "execution_count": 62,
      "outputs": [
        {
          "output_type": "error",
          "ename": "SyntaxError",
          "evalue": "ignored",
          "traceback": [
            "\u001b[0;36m  File \u001b[0;32m\"<ipython-input-62-6055da66a77e>\"\u001b[0;36m, line \u001b[0;32m43\u001b[0m\n\u001b[0;31m    else:\u001b[0m\n\u001b[0m       ^\u001b[0m\n\u001b[0;31mSyntaxError\u001b[0m\u001b[0;31m:\u001b[0m invalid syntax\n"
          ]
        }
      ]
    },
    {
      "cell_type": "code",
      "metadata": {
        "colab": {
          "base_uri": "https://localhost:8080/",
          "height": 49
        },
        "id": "Xxic_7UiXqPW",
        "outputId": "8022703d-4029-4d4a-81b2-79916eff826d"
      },
      "source": [
        "df"
      ],
      "execution_count": 37,
      "outputs": [
        {
          "output_type": "execute_result",
          "data": {
            "text/html": [
              "<div>\n",
              "<style scoped>\n",
              "    .dataframe tbody tr th:only-of-type {\n",
              "        vertical-align: middle;\n",
              "    }\n",
              "\n",
              "    .dataframe tbody tr th {\n",
              "        vertical-align: top;\n",
              "    }\n",
              "\n",
              "    .dataframe thead th {\n",
              "        text-align: right;\n",
              "    }\n",
              "</style>\n",
              "<table border=\"1\" class=\"dataframe\">\n",
              "  <thead>\n",
              "    <tr style=\"text-align: right;\">\n",
              "      <th></th>\n",
              "      <th>Title</th>\n",
              "      <th>Link</th>\n",
              "      <th>Description</th>\n",
              "    </tr>\n",
              "  </thead>\n",
              "  <tbody>\n",
              "  </tbody>\n",
              "</table>\n",
              "</div>"
            ],
            "text/plain": [
              "Empty DataFrame\n",
              "Columns: [Title, Link, Description]\n",
              "Index: []"
            ]
          },
          "metadata": {
            "tags": []
          },
          "execution_count": 37
        }
      ]
    },
    {
      "cell_type": "code",
      "metadata": {
        "colab": {
          "base_uri": "https://localhost:8080/"
        },
        "id": "wB3jMm0TZy33",
        "outputId": "07e0294c-4daa-4c63-8a81-ac9ebd4bcc5d"
      },
      "source": [
        "df.shape"
      ],
      "execution_count": 38,
      "outputs": [
        {
          "output_type": "execute_result",
          "data": {
            "text/plain": [
              "(0, 3)"
            ]
          },
          "metadata": {
            "tags": []
          },
          "execution_count": 38
        }
      ]
    },
    {
      "cell_type": "code",
      "metadata": {
        "colab": {
          "base_uri": "https://localhost:8080/",
          "height": 134
        },
        "id": "WcN8TWUMZ5oN",
        "outputId": "6bae4565-316b-459a-98cc-f64f1c11df54"
      },
      "source": [
        "def.index"
      ],
      "execution_count": 39,
      "outputs": [
        {
          "output_type": "error",
          "ename": "SyntaxError",
          "evalue": "ignored",
          "traceback": [
            "\u001b[0;36m  File \u001b[0;32m\"<ipython-input-39-e8460ff505ab>\"\u001b[0;36m, line \u001b[0;32m1\u001b[0m\n\u001b[0;31m    def.index\u001b[0m\n\u001b[0m       ^\u001b[0m\n\u001b[0;31mSyntaxError\u001b[0m\u001b[0;31m:\u001b[0m invalid syntax\n"
          ]
        }
      ]
    },
    {
      "cell_type": "code",
      "metadata": {
        "colab": {
          "base_uri": "https://localhost:8080/"
        },
        "id": "-Q0sU4faZ-sK",
        "outputId": "49491033-0ce1-49ee-de60-3305456b7077"
      },
      "source": [
        "import os\n",
        "import sys\n",
        "import urllib.request\n",
        "\n",
        "client_id = \"Sq1EA9pZEer4C84ljqox\"\n",
        "client_secret = \"l8HIPfKdxA\"\n",
        "\n",
        "\n",
        "\n",
        "encText = urllib.parse.quote(\"데이터분석\")\n",
        "\n",
        "url = \"https://openapi.naver.com/v1/search/webkr?query=\" + encText # json 결과\n",
        "\n",
        "\n",
        "request = urllib.request.Request(url)\n",
        "request.add_header(\"X-Naver-Client-Id\",client_id)\n",
        "request.add_header(\"X-Naver-Client-Secret\",client_secret)\n",
        "response = urllib.request.urlopen(request)\n",
        "rescode = response.getcode()\n",
        "if(rescode==200):\n",
        "    response_body = response.read()\n",
        "    print(response_body.decode('utf-8'))\n",
        "else:\n",
        "    print(\"Error Code:\" + rescode)"
      ],
      "execution_count": 40,
      "outputs": [
        {
          "output_type": "stream",
          "text": [
            "{\n",
            "\"lastBuildDate\": \"Mon, 31 May 2021 17:33:07 +0900\",\n",
            "\"total\": 15252614,\n",
            "\"start\": 1,\n",
            "\"display\": 10,\n",
            "\"items\": [\n",
            "{\n",
            "\"title\": \"빅<b>데이터</b> 기술빅<b>데이터</b>의 <b>분석</b>빅<b>데이터</b>의 <b>분석</b> 인프라<b>분석</b> 인프라 - 레포트월드\",\n",
            "\"link\": \"https://www.reportworld.co.kr/social/s1492776\",\n",
            "\"description\": \"빅<b>데이터</b> 기술,빅<b>데이터</b>의 <b>분석</b>,빅<b>데이터</b>의 <b>분석</b> 인프라,<b>분석</b> 인프라 빅<b>데이터</b>의 <b>분석</b> 기법 1. 텍스트 마이닝은 비/반정형 텍스트 <b>데이터</b>에서 자연어처리 기술을 기반으로 유용한 정보를 추출, 가공하는 것을\"\n",
            "\n",
            "},\n",
            "{\n",
            "\"title\": \"국가기술 빅<b>데이터 분석</b>기사 - 데이터자격시험\",\n",
            "\"link\": \"https://www.dataq.or.kr/www/sub/a_07.do\",\n",
            "\"description\": \"정의 <b>데이터 분석</b> 방안 분석 작업 계획 데이터 확보 계획 분석 절차 및 작업 계획 데이터 수집 및 저장 계획 데이터 수집 및 전환 데이터 수집 데이터 유형 및 속성 파악 데이터 변환 데이터 비식별화 데이터 품질... \"\n",
            "\n",
            "},\n",
            "{\n",
            "\"title\": \"국가공인 <b>데이터분석</b> 준전문가 - 데이터자격시험\",\n",
            "\"link\": \"https://www.dataq.or.kr/www/sub/a_06.do\",\n",
            "\"description\": \"플랜 <b>데이터분석</b> R기초와 데이터마트 통계분석 데이터 마트 정형 데이터 마이닝 비정형 데이터 마이닝 데이터 시각화 시각화 인사이트 프로세스 시각화 디자인 시각화 구현 목차 ■ <b>데이터분석</b> 전문가/준전문가... \"\n",
            "\n",
            "},\n",
            "{\n",
            "\"title\": \"빅<b>데이터분석</b>기사 - 나무위키\",\n",
            "\"link\": \"https://namu.wiki/w/%EB%B9%85%EB%8D%B0%EC%9D%B4%ED%84%B0%EB%B6%84%EC%84%9D%EA%B8%B0%EC%82%AC\",\n",
            "\"description\": \"탐색, 분석하고 시각화를 수행한다. (4) 검정과목 - (필기) 빅<b>데이터 분석</b> 기획, 빅데이터 탐색, 빅데이터 모델링, 빅데이터 결과해석 등 4개 과목 - (실기) 빅<b>데이터 분석</b> 실무 (5) 합격기준 - (필기) 100점을... \"\n",
            "\n",
            "},\n",
            "{\n",
            "\"title\": \"국가공인 <b>데이터분석</b> 전문가 - 데이터자격시험\",\n",
            "\"link\": \"https://www.dataq.or.kr/www/sub/a_05.do\",\n",
            "\"description\": \"수립 분석 거버넌스 체계 수립 <b>데이터분석</b> R기초와 데이터 마트 R기초 데이터 마트 결측값 처리와 이상값 검색 통계분석 통계학 개론 기초 통계분석 다변량 분석 시계열 예측 정형 데이터 마이닝 데이터 마이닝... \"\n",
            "\n",
            "},\n",
            "{\n",
            "\"title\": \"빅<b>데이터 분석</b> 솔루션 텍스톰(Textom)\",\n",
            "\"link\": \"http://www.textom.co.kr/\",\n",
            "\"description\": \"웹 기반의 빅<b>데이터 분석</b> 솔루션! WEB, SNS, 보유<b>데이터 분석</b>이 가능합니다.\"\n",
            "\n",
            "},\n",
            "{\n",
            "\"title\": \"데이터 전문가 포럼 (빅<b>데이터분석</b>기사, ADP, SQLP, DAP 등)\",\n",
            "\"link\": \"https://cafe.naver.com/sqlpd\",\n",
            "\"description\": \"약 6만 명의 회원을 보유한 데이터 전문가 포럼 (빅<b>데이터분석</b>기사, ADP, SQLP, DAP 등)카페 (열매3단계 등급)입니다. 빅<b>데이터분석</b>기사, ADP, ADsP, SQLP, SQLD, DAP, DAsP, 자격증 취득 등 데이터 전문가 커뮤니티입니다.\"\n",
            "\n",
            "},\n",
            "{\n",
            "\"title\": \"데이터에듀(dataedu) – <b>데이터분석</b> 자격시험의 정석 ADsP ADP\",\n",
            "\"link\": \"https://www.dataedu.kr/\",\n",
            "\"description\": \"ADsP 시험을 중심으로 빅<b>데이터</b> 관련 온라인/오프라인 교육 콘텐츠를 제공하고 있습니다\"\n",
            "\n",
            "},\n",
            "{\n",
            "\"title\": \"통계<b>데이터</b>센터\",\n",
            "\"link\": \"https://data.kostat.go.kr/\",\n",
            "\"description\": \"통계빅<b>데이터</b>센터, 마이크로<b>데이터</b>, 통계 자료, 경제 지표 등 제공.\"\n",
            "\n",
            "},\n",
            "{\n",
            "\"title\": \"966회 로또 <b>분석</b>법 국내복권<b>데이터</b>\",\n",
            "\"link\": \"http://m.lottodata.co.kr/\",\n",
            "\"description\": \"966회 로또 <b>분석</b>법 1등 2등 당첨금 싸이트 <b>분석</b>기 통계 <b>분석</b> 전문가 명당 조합 당첨번호 예상번호 조회 로또 번호 복권 당첨\"\n",
            "\n",
            "}\n",
            "]\n",
            "}\n",
            "\n"
          ],
          "name": "stdout"
        }
      ]
    },
    {
      "cell_type": "code",
      "metadata": {
        "colab": {
          "base_uri": "https://localhost:8080/",
          "height": 400
        },
        "id": "Wt8bKe5vb4QP",
        "outputId": "6e8a0143-79e5-4dc7-96da-b60a926b9ddb"
      },
      "source": [
        "import os\n",
        "import re\n",
        "import sys\n",
        "import json\n",
        "import pandas as pd \n",
        "import urllib.request\n",
        "\n",
        "client_id = \"Sq1EA9pZEer4C84ljqox\"\n",
        "client_secret = \"l8HIPfKdxA\"\n",
        "\n",
        "\n",
        "query = urllib.parse.quote(input(\"검색어를 입력 하세요 : \"))\n",
        "\n",
        "cols = ['Title', 'Link', 'Description']\n",
        "kin_df = pd.DataFrame(columns=cols)\n",
        "\n",
        "count = 0\n",
        "\n",
        "for i in range(1, 100, 10):\n",
        "    url = \"https://openapi.naver.com/v1/search/kin?query=\" + query \\\n",
        "+ '&display=' + str(10) + '&start=' + str(i) + '&sort=' + 'sim'\n",
        "\n",
        "request = urllib.request.Request(url)\n",
        "request.add_header(\"X-Naver-Client-Id\",client_id)\n",
        "request.add_header(\"X-Naver-Client-Secret\",client_secret)\n",
        "response = urllib.request.urlopen(request)\n",
        "rescode = response.getcode()\n",
        "\n",
        "if(rescode==200):\n",
        "\n",
        "    response_body = response.read()\n",
        "    response_dict = json.loads(response_body.decode('utf-8'))\n",
        "\n",
        "items = response_dict['items']\n",
        "\n",
        "for j in range(0, len(items)):\n",
        "    p = re.compile('<.*?>')\n",
        "    title = re.sub(p, '', items[j]['title'])\n",
        "    link = items[j]['link']\n",
        "    description = re.sub(p, '', items[j]['description'])\n",
        "    kin_df.loc[count] = [title, link, description]\n",
        "    print(count, end = ' ')\n",
        "    count += 1\n",
        "\n",
        "else:\n",
        "    print(\"Error Code:\" + \"rescode\")\n",
        "\n",
        "kin_df"
      ],
      "execution_count": 47,
      "outputs": [
        {
          "output_type": "stream",
          "text": [
            "검색어를 입력 하세요 : 인공지능\n",
            "0 1 2 3 4 5 6 7 8 9 Error Code:rescode\n"
          ],
          "name": "stdout"
        },
        {
          "output_type": "execute_result",
          "data": {
            "text/html": [
              "<div>\n",
              "<style scoped>\n",
              "    .dataframe tbody tr th:only-of-type {\n",
              "        vertical-align: middle;\n",
              "    }\n",
              "\n",
              "    .dataframe tbody tr th {\n",
              "        vertical-align: top;\n",
              "    }\n",
              "\n",
              "    .dataframe thead th {\n",
              "        text-align: right;\n",
              "    }\n",
              "</style>\n",
              "<table border=\"1\" class=\"dataframe\">\n",
              "  <thead>\n",
              "    <tr style=\"text-align: right;\">\n",
              "      <th></th>\n",
              "      <th>Title</th>\n",
              "      <th>Link</th>\n",
              "      <th>Description</th>\n",
              "    </tr>\n",
              "  </thead>\n",
              "  <tbody>\n",
              "    <tr>\n",
              "      <th>0</th>\n",
              "      <td>인공지능의 프로그램</td>\n",
              "      <td>https://kin.naver.com/qna/detail.nhn?d1id=1&amp;di...</td>\n",
              "      <td>인공지능을 자동시키는 복잡한 프로그램은 어떤... 만들어가듯이 인공지능도 이와 같은...</td>\n",
              "    </tr>\n",
              "    <tr>\n",
              "      <th>1</th>\n",
              "      <td>인공지능, AI가 우리 생활에 미치는 영향</td>\n",
              "      <td>https://kin.naver.com/qna/detail.nhn?d1id=13&amp;d...</td>\n",
              "      <td>인공지능은 무엇인지, 언제 만들어졌는지, 인공지능이 우리 생활에 미치는 좋은 영향,...</td>\n",
              "    </tr>\n",
              "    <tr>\n",
              "      <th>2</th>\n",
              "      <td>인공지능의 특성 문제.. 질문</td>\n",
              "      <td>https://kin.naver.com/qna/detail.nhn?d1id=1&amp;di...</td>\n",
              "      <td>인공지능의 특성 내개 문제가 있는데 도저히 모르겠어요.... 지금 질문하시는분은 인...</td>\n",
              "    </tr>\n",
              "    <tr>\n",
              "      <th>3</th>\n",
              "      <td>인공지능 개발자가 프로그래머에 속해 있나요..?</td>\n",
              "      <td>https://kin.naver.com/qna/detail.nhn?d1id=4&amp;di...</td>\n",
              "      <td>인공지능 개발자가 프로그래머라는 직업에 속해져 있는 건가요 아니면 다른 직업인가요 ...</td>\n",
              "    </tr>\n",
              "    <tr>\n",
              "      <th>4</th>\n",
              "      <td>인공지능 식료품가게나 인공지능 농사꾼</td>\n",
              "      <td>https://kin.naver.com/qna/detail.nhn?d1id=7&amp;di...</td>\n",
              "      <td>인공지능 식료품가게나 인공지능 농사꾼이라든가 인공지능 운전기사라든가 그런 것은 안 ...</td>\n",
              "    </tr>\n",
              "    <tr>\n",
              "      <th>5</th>\n",
              "      <td>교육산업 분야에서 인공지능이 인간이 기존에 해오던...</td>\n",
              "      <td>https://kin.naver.com/qna/detail.nhn?d1id=11&amp;d...</td>\n",
              "      <td>교육산업 분야에서 인공지능이 인간이 기존에 해오던 일을... 영역을 인공지능이 할 ...</td>\n",
              "    </tr>\n",
              "    <tr>\n",
              "      <th>6</th>\n",
              "      <td>인공지능에 대한 토론</td>\n",
              "      <td>https://kin.naver.com/qna/detail.nhn?d1id=11&amp;d...</td>\n",
              "      <td>인공지능의 발달은 인류의 삶을 풍요롭게 할것이다 찬반 토론 준비를 하고 있습니다 저...</td>\n",
              "    </tr>\n",
              "    <tr>\n",
              "      <th>7</th>\n",
              "      <td>국내에서 인공지능 교육을 가장 체계적으로 하는 곳은...</td>\n",
              "      <td>https://kin.naver.com/qna/detail.nhn?d1id=11&amp;d...</td>\n",
              "      <td>커리어 전환을 위해 여러가지 고민을 하고 있는데, 다들 인공지능이 핫하다하니 인공지...</td>\n",
              "    </tr>\n",
              "    <tr>\n",
              "      <th>8</th>\n",
              "      <td>tv인공지능 스피커</td>\n",
              "      <td>https://kin.naver.com/qna/detail.nhn?d1id=1&amp;di...</td>\n",
              "      <td>... 인공지능 스피커를 쓰려고 하는데 sk면 sk에서 쓰는... TV에 연동할 인...</td>\n",
              "    </tr>\n",
              "    <tr>\n",
              "      <th>9</th>\n",
              "      <td>인공지능이 완전히 새로운 것을 헤내는 것이 가능한가요?</td>\n",
              "      <td>https://kin.naver.com/qna/detail.nhn?d1id=3&amp;di...</td>\n",
              "      <td>소설을 쓰는 인공지능이나 그림을 그리는 인공지능도 결국 기존의 것을... 아닌 인공...</td>\n",
              "    </tr>\n",
              "  </tbody>\n",
              "</table>\n",
              "</div>"
            ],
            "text/plain": [
              "                              Title  ...                                        Description\n",
              "0                        인공지능의 프로그램  ...  인공지능을 자동시키는 복잡한 프로그램은 어떤... 만들어가듯이 인공지능도 이와 같은...\n",
              "1           인공지능, AI가 우리 생활에 미치는 영향  ...  인공지능은 무엇인지, 언제 만들어졌는지, 인공지능이 우리 생활에 미치는 좋은 영향,...\n",
              "2                  인공지능의 특성 문제.. 질문  ...  인공지능의 특성 내개 문제가 있는데 도저히 모르겠어요.... 지금 질문하시는분은 인...\n",
              "3        인공지능 개발자가 프로그래머에 속해 있나요..?  ...  인공지능 개발자가 프로그래머라는 직업에 속해져 있는 건가요 아니면 다른 직업인가요 ...\n",
              "4              인공지능 식료품가게나 인공지능 농사꾼  ...  인공지능 식료품가게나 인공지능 농사꾼이라든가 인공지능 운전기사라든가 그런 것은 안 ...\n",
              "5   교육산업 분야에서 인공지능이 인간이 기존에 해오던...   ...  교육산업 분야에서 인공지능이 인간이 기존에 해오던 일을... 영역을 인공지능이 할 ...\n",
              "6                       인공지능에 대한 토론  ...  인공지능의 발달은 인류의 삶을 풍요롭게 할것이다 찬반 토론 준비를 하고 있습니다 저...\n",
              "7  국내에서 인공지능 교육을 가장 체계적으로 하는 곳은...   ...  커리어 전환을 위해 여러가지 고민을 하고 있는데, 다들 인공지능이 핫하다하니 인공지...\n",
              "8                        tv인공지능 스피커  ...  ... 인공지능 스피커를 쓰려고 하는데 sk면 sk에서 쓰는... TV에 연동할 인...\n",
              "9    인공지능이 완전히 새로운 것을 헤내는 것이 가능한가요?  ...  소설을 쓰는 인공지능이나 그림을 그리는 인공지능도 결국 기존의 것을... 아닌 인공...\n",
              "\n",
              "[10 rows x 3 columns]"
            ]
          },
          "metadata": {
            "tags": []
          },
          "execution_count": 47
        }
      ]
    },
    {
      "cell_type": "code",
      "metadata": {
        "colab": {
          "base_uri": "https://localhost:8080/",
          "height": 573
        },
        "id": "7tBryCR_b-SJ",
        "outputId": "7fbe2392-5e4d-4961-fd40-d640d1b433ea"
      },
      "source": [
        "\n"
      ],
      "execution_count": 45,
      "outputs": [
        {
          "output_type": "stream",
          "text": [
            "검색어를 입력 하세요 : 인공지능\n",
            "0 1 2 3 4 5 6 7 8 9 Error Code:rescode\n"
          ],
          "name": "stdout"
        },
        {
          "output_type": "execute_result",
          "data": {
            "text/html": [
              "<div>\n",
              "<style scoped>\n",
              "    .dataframe tbody tr th:only-of-type {\n",
              "        vertical-align: middle;\n",
              "    }\n",
              "\n",
              "    .dataframe tbody tr th {\n",
              "        vertical-align: top;\n",
              "    }\n",
              "\n",
              "    .dataframe thead th {\n",
              "        text-align: right;\n",
              "    }\n",
              "</style>\n",
              "<table border=\"1\" class=\"dataframe\">\n",
              "  <thead>\n",
              "    <tr style=\"text-align: right;\">\n",
              "      <th></th>\n",
              "      <th>Title</th>\n",
              "      <th>Link</th>\n",
              "      <th>Description</th>\n",
              "      <th>Blogger Name</th>\n",
              "      <th>Blogger Link</th>\n",
              "    </tr>\n",
              "  </thead>\n",
              "  <tbody>\n",
              "    <tr>\n",
              "      <th>0</th>\n",
              "      <td>교육사 해군 인공지능 연구역량 강화 기틀 마련(2021)</td>\n",
              "      <td>https://blog.naver.com/ironman236?Redirect=Log...</td>\n",
              "      <td>협약 체결을 통해 교육사는 대학원으로부터 해군 인공지능 교육여건 마련을 위한 지능정...</td>\n",
              "      <td>아이언맨블러그</td>\n",
              "      <td>https://blog.naver.com/ironman236</td>\n",
              "    </tr>\n",
              "    <tr>\n",
              "      <th>1</th>\n",
              "      <td>[다산스마트에듀] 인공지능 통으로 깨치기</td>\n",
              "      <td>https://blog.naver.com/love4u1470?Redirect=Log...</td>\n",
              "      <td>그러나 인공지능이 무엇인가에 대해서 설명하라고하면 머뭇거리는 분들도 많으실겁니다 인...</td>\n",
              "      <td>해피바이러스</td>\n",
              "      <td>https://blog.naver.com/love4u1470</td>\n",
              "    </tr>\n",
              "    <tr>\n",
              "      <th>2</th>\n",
              "      <td>국내 기업 AI(인공지능) 개발 연구 현황</td>\n",
              "      <td>https://blog.naver.com/nabilera1?Redirect=Log&amp;...</td>\n",
              "      <td>파라미터 규모가 클수록 AI 지능도 높아지는 만큼, 네이버의 초거대 AI가 GPT-...</td>\n",
              "      <td>김동균의 소프트웨어아카데미(2004~ )</td>\n",
              "      <td>https://blog.naver.com/nabilera1</td>\n",
              "    </tr>\n",
              "    <tr>\n",
              "      <th>3</th>\n",
              "      <td>광주 인공지능 기업이 한곳에! &amp;lt;광주 AI기업 맞춤형 인재...</td>\n",
              "      <td>https://blog.naver.com/dodreamgj?Redirect=Log&amp;...</td>\n",
              "      <td>인공지능 맞춤형 인재 채용하세요! 광주 인공지능 기업들이 인공지능 중심도시 광주를 ...</td>\n",
              "      <td>광주광역시</td>\n",
              "      <td>https://blog.naver.com/dodreamgj</td>\n",
              "    </tr>\n",
              "    <tr>\n",
              "      <th>4</th>\n",
              "      <td>인공지능 미디어기술, 장애인의 눈과 귀를 열다</td>\n",
              "      <td>https://blog.naver.com/kcc1335?Redirect=Log&amp;lo...</td>\n",
              "      <td>인공지능 미디어기술, 장애인의 눈과 귀를 열다 방통위‧과기정통부, 음성-자막-수어 ...</td>\n",
              "      <td>대한민국 방송통신위원회</td>\n",
              "      <td>https://blog.naver.com/kcc1335</td>\n",
              "    </tr>\n",
              "    <tr>\n",
              "      <th>5</th>\n",
              "      <td>대전 5개 고교 SW동아리 학생들에게 인공지능 활용 멘토 자처</td>\n",
              "      <td>https://blog.naver.com/paichaiuniv?Redirect=Lo...</td>\n",
              "      <td>고등학생들에게 인공지능 활용 멘토로 나선다. 배재대 AI·SW중심대학사업단(단장 정...</td>\n",
              "      <td>최초에서 최고로! 배재대학교 공식블로그</td>\n",
              "      <td>https://blog.naver.com/paichaiuniv</td>\n",
              "    </tr>\n",
              "    <tr>\n",
              "      <th>6</th>\n",
              "      <td>일상에 스며든 인공지능! 확산은 어디까지?</td>\n",
              "      <td>https://blog.naver.com/with_msip?Redirect=Log&amp;...</td>\n",
              "      <td>3월부터 출근하는 인공지능 원어민 선생님, ‘AI 펭톡’ 며칠 푹 자고, 며칠 놀았...</td>\n",
              "      <td>과학기술정보통신부 블로그</td>\n",
              "      <td>https://blog.naver.com/with_msip</td>\n",
              "    </tr>\n",
              "    <tr>\n",
              "      <th>7</th>\n",
              "      <td>메타 도구의 시대, 인공지능과 미래 시장 내다보기</td>\n",
              "      <td>https://blog.naver.com/rabbitt_chu?Redirect=Lo...</td>\n",
              "      <td>진화하는 인공지능과 미래기술, 10년 후 세상을 이끌 기술은 무엇인가? 너무도 빠른...</td>\n",
              "      <td>래빗chu의 Lovely Days♡</td>\n",
              "      <td>https://blog.naver.com/rabbitt_chu</td>\n",
              "    </tr>\n",
              "    <tr>\n",
              "      <th>8</th>\n",
              "      <td>WIT show 2021 후기 (메타버스, 인공지능, 자율주행 로봇 등)</td>\n",
              "      <td>https://brucemoon.net/1198143446</td>\n",
              "      <td>SK텔레콤이 이번에 얘기하는 큰 주제는 2가지, '인공지능'과 '메타버스' 였어요....</td>\n",
              "      <td>bruce, 와이프 몰래 오븐을 지르다</td>\n",
              "      <td>https://brucemoon.net/</td>\n",
              "    </tr>\n",
              "    <tr>\n",
              "      <th>9</th>\n",
              "      <td>[4월 과학의 달] 이것이 인공지능이다</td>\n",
              "      <td>https://blog.daum.net/df5573/17177393</td>\n",
              "      <td>인공지능 , 이제는 어느 정도 사회에 인식되는 낱말입니다 . 그러나 그 개념이나 내...</td>\n",
              "      <td>늘 처음처럼</td>\n",
              "      <td>https://blog.daum.net/df5573</td>\n",
              "    </tr>\n",
              "  </tbody>\n",
              "</table>\n",
              "</div>"
            ],
            "text/plain": [
              "                                      Title  ...                        Blogger Link\n",
              "0           교육사 해군 인공지능 연구역량 강화 기틀 마련(2021)  ...   https://blog.naver.com/ironman236\n",
              "1                    [다산스마트에듀] 인공지능 통으로 깨치기  ...   https://blog.naver.com/love4u1470\n",
              "2                   국내 기업 AI(인공지능) 개발 연구 현황  ...    https://blog.naver.com/nabilera1\n",
              "3   광주 인공지능 기업이 한곳에! &lt;광주 AI기업 맞춤형 인재...   ...    https://blog.naver.com/dodreamgj\n",
              "4                 인공지능 미디어기술, 장애인의 눈과 귀를 열다  ...      https://blog.naver.com/kcc1335\n",
              "5        대전 5개 고교 SW동아리 학생들에게 인공지능 활용 멘토 자처  ...  https://blog.naver.com/paichaiuniv\n",
              "6                   일상에 스며든 인공지능! 확산은 어디까지?  ...    https://blog.naver.com/with_msip\n",
              "7               메타 도구의 시대, 인공지능과 미래 시장 내다보기  ...  https://blog.naver.com/rabbitt_chu\n",
              "8  WIT show 2021 후기 (메타버스, 인공지능, 자율주행 로봇 등)  ...              https://brucemoon.net/\n",
              "9                     [4월 과학의 달] 이것이 인공지능이다  ...        https://blog.daum.net/df5573\n",
              "\n",
              "[10 rows x 5 columns]"
            ]
          },
          "metadata": {
            "tags": []
          },
          "execution_count": 45
        }
      ]
    },
    {
      "cell_type": "code",
      "metadata": {
        "id": "WZ9BpgyGdUN3"
      },
      "source": [
        "#요청변수  활용해서 API  사용해보기"
      ],
      "execution_count": null,
      "outputs": []
    }
  ]
}