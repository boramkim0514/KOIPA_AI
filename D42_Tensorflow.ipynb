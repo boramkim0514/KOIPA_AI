{
  "nbformat": 4,
  "nbformat_minor": 0,
  "metadata": {
    "colab": {
      "name": "D42_Tensorflow.ipynb",
      "provenance": [],
      "collapsed_sections": [],
      "authorship_tag": "ABX9TyNR2hgX2Ys1aUUW2ePvxBR3",
      "include_colab_link": true
    },
    "kernelspec": {
      "name": "python3",
      "display_name": "Python 3"
    },
    "language_info": {
      "name": "python"
    }
  },
  "cells": [
    {
      "cell_type": "markdown",
      "metadata": {
        "id": "view-in-github",
        "colab_type": "text"
      },
      "source": [
        "<a href=\"https://colab.research.google.com/github/boramkim0514/KOIPA_AI/blob/main/D42_Tensorflow.ipynb\" target=\"_parent\"><img src=\"https://colab.research.google.com/assets/colab-badge.svg\" alt=\"Open In Colab\"/></a>"
      ]
    },
    {
      "cell_type": "markdown",
      "metadata": {
        "id": "Sm17opE1cGEV"
      },
      "source": [
        "# Tensorflow?"
      ]
    },
    {
      "cell_type": "markdown",
      "metadata": {
        "id": "uIPacaFzYRmY"
      },
      "source": [
        "Tensor(다차원 배열) flow(흘려보냄)\n",
        "파이썬 신경 안에 TF session \n",
        "layer을 쌓아서 계산시키는 단계\n",
        "계산 내용을 미리 정해놓고, 실제 계산시 필요한 순간(훈련)에 데이터(배열)을 흘려보낸다\n",
        "\n",
        "GPU 설정 메모리 설정 가능\n"
      ]
    },
    {
      "cell_type": "code",
      "metadata": {
        "id": "2vRkAWmQa6mV"
      },
      "source": [
        "import numpy as np\n",
        "import tensorflow as tf"
      ],
      "execution_count": null,
      "outputs": []
    },
    {
      "cell_type": "markdown",
      "metadata": {
        "id": "FNtfmfNIa9tt"
      },
      "source": [
        "#Tensor 만들기"
      ]
    },
    {
      "cell_type": "markdown",
      "metadata": {
        "id": "Ivt3hi9XbNQ2"
      },
      "source": [
        "### tf.constant()"
      ]
    },
    {
      "cell_type": "code",
      "metadata": {
        "colab": {
          "base_uri": "https://localhost:8080/"
        },
        "id": "AyTDy23ObSNE",
        "outputId": "788d8dd5-f93c-4fc1-f8ee-9be37eacafe7"
      },
      "source": [
        "tf.constant([1, 2, 3])"
      ],
      "execution_count": null,
      "outputs": [
        {
          "output_type": "execute_result",
          "data": {
            "text/plain": [
              "<tf.Tensor: shape=(3,), dtype=int32, numpy=array([1, 2, 3], dtype=int32)>"
            ]
          },
          "metadata": {
            "tags": []
          },
          "execution_count": 4
        }
      ]
    },
    {
      "cell_type": "code",
      "metadata": {
        "colab": {
          "base_uri": "https://localhost:8080/"
        },
        "id": "2zAzKfG7BMvW",
        "outputId": "93fbd434-2c9e-4582-b603-0a0e767b8120"
      },
      "source": [
        "tf.constant([[1,2,3],[4,5,6]]) #array는 모두 list로 만드는 건가?"
      ],
      "execution_count": null,
      "outputs": [
        {
          "output_type": "execute_result",
          "data": {
            "text/plain": [
              "<tf.Tensor: shape=(2, 3), dtype=int32, numpy=\n",
              "array([[1, 2, 3],\n",
              "       [4, 5, 6]], dtype=int32)>"
            ]
          },
          "metadata": {
            "tags": []
          },
          "execution_count": 6
        }
      ]
    },
    {
      "cell_type": "code",
      "metadata": {
        "colab": {
          "base_uri": "https://localhost:8080/"
        },
        "id": "GkgNMrbObVUk",
        "outputId": "2eea1946-5b49-4337-c8cd-04317fe15773"
      },
      "source": [
        "tf.constant(((1, 2, 3),\n",
        "            (4, 5, 6)))"
      ],
      "execution_count": null,
      "outputs": [
        {
          "output_type": "execute_result",
          "data": {
            "text/plain": [
              "<tf.Tensor: shape=(2, 3), dtype=int32, numpy=\n",
              "array([[1, 2, 3],\n",
              "       [4, 5, 6]], dtype=int32)>"
            ]
          },
          "metadata": {
            "tags": []
          },
          "execution_count": 4
        }
      ]
    },
    {
      "cell_type": "markdown",
      "metadata": {
        "id": "ZR8iX25zbfE8"
      },
      "source": [
        "ndarray -> Tensor"
      ]
    },
    {
      "cell_type": "code",
      "metadata": {
        "colab": {
          "base_uri": "https://localhost:8080/"
        },
        "id": "O6R_Ex_2b1Us",
        "outputId": "2d5aaf18-1fb5-4a25-ec13-7c2e41feb6bb"
      },
      "source": [
        "arr = np.array([1, 2, 3])\n",
        "tf. "
      ],
      "execution_count": null,
      "outputs": [
        {
          "output_type": "execute_result",
          "data": {
            "text/plain": [
              "<tf.Tensor: shape=(3,), dtype=int64, numpy=array([1, 2, 3])>"
            ]
          },
          "metadata": {
            "tags": []
          },
          "execution_count": 5
        }
      ]
    },
    {
      "cell_type": "markdown",
      "metadata": {
        "id": "V5LW1DrNb5eU"
      },
      "source": [
        "# Tensor 정보 확인\n"
      ]
    },
    {
      "cell_type": "code",
      "metadata": {
        "colab": {
          "base_uri": "https://localhost:8080/"
        },
        "id": "730ek3A4cLmL",
        "outputId": "b12c6d3f-cfa0-4462-e2ac-63750365ef28"
      },
      "source": [
        "tensor = tf.constant([1, 2, 3])\n",
        "tensor"
      ],
      "execution_count": null,
      "outputs": [
        {
          "output_type": "execute_result",
          "data": {
            "text/plain": [
              "<tf.Tensor: shape=(3,), dtype=int32, numpy=array([1, 2, 3], dtype=int32)>"
            ]
          },
          "metadata": {
            "tags": []
          },
          "execution_count": 15
        }
      ]
    },
    {
      "cell_type": "markdown",
      "metadata": {
        "id": "91gTH0VYcP39"
      },
      "source": [
        "**shape확인하기**"
      ]
    },
    {
      "cell_type": "code",
      "metadata": {
        "colab": {
          "base_uri": "https://localhost:8080/"
        },
        "id": "A6ph41lDcVRs",
        "outputId": "e6cc6c21-97c0-43ab-bffe-5c122d72078c"
      },
      "source": [
        "tensor.shape"
      ],
      "execution_count": null,
      "outputs": [
        {
          "output_type": "execute_result",
          "data": {
            "text/plain": [
              "TensorShape([3])"
            ]
          },
          "metadata": {
            "tags": []
          },
          "execution_count": 16
        }
      ]
    },
    {
      "cell_type": "markdown",
      "metadata": {
        "id": "OA0BBdRScfjc"
      },
      "source": [
        "**dtype 확인하기**"
      ]
    },
    {
      "cell_type": "code",
      "metadata": {
        "colab": {
          "base_uri": "https://localhost:8080/"
        },
        "id": "n_VCt6J8cWos",
        "outputId": "1500949c-e8bb-4ebb-a9f0-ef18ee6f1b9c"
      },
      "source": [
        "tensor.dtype"
      ],
      "execution_count": null,
      "outputs": [
        {
          "output_type": "execute_result",
          "data": {
            "text/plain": [
              "tf.int32"
            ]
          },
          "metadata": {
            "tags": []
          },
          "execution_count": 13
        }
      ]
    },
    {
      "cell_type": "markdown",
      "metadata": {
        "id": "aSz5Vszicdok"
      },
      "source": [
        "Tensor를 생성하면서 dtype 정의해주기"
      ]
    },
    {
      "cell_type": "code",
      "metadata": {
        "id": "w2MOaaU5cpK7",
        "colab": {
          "base_uri": "https://localhost:8080/"
        },
        "outputId": "60fce130-38b0-4d0f-ab66-db9afb2620ac"
      },
      "source": [
        "tensor = tf.constant([1, 2, 3], dtype=tf.float32)\n",
        "tensor.dtype"
      ],
      "execution_count": null,
      "outputs": [
        {
          "output_type": "execute_result",
          "data": {
            "text/plain": [
              "tf.float32"
            ]
          },
          "metadata": {
            "tags": []
          },
          "execution_count": 26
        }
      ]
    },
    {
      "cell_type": "markdown",
      "metadata": {
        "id": "DBN_2CVRdsN-"
      },
      "source": [
        ""
      ]
    },
    {
      "cell_type": "markdown",
      "metadata": {
        "id": "FqAKVdXAc1qL"
      },
      "source": [
        ""
      ]
    },
    {
      "cell_type": "code",
      "metadata": {
        "id": "xz7IMQ7FdNvt",
        "colab": {
          "base_uri": "https://localhost:8080/"
        },
        "outputId": "794e7833-191b-4b5c-aa92-2256b987354f"
      },
      "source": [
        "tensor"
      ],
      "execution_count": null,
      "outputs": [
        {
          "output_type": "execute_result",
          "data": {
            "text/plain": [
              "<tf.Tensor: shape=(3,), dtype=float32, numpy=array([1., 2., 3.], dtype=float32)>"
            ]
          },
          "metadata": {
            "tags": []
          },
          "execution_count": 28
        }
      ]
    },
    {
      "cell_type": "code",
      "metadata": {
        "colab": {
          "base_uri": "https://localhost:8080/"
        },
        "id": "uRvAP3L8dHOU",
        "outputId": "41e19111-6cae-4373-d935-6cc55b637eeb"
      },
      "source": [
        "tf.cast(tensor, dtype=tf.uint8)"
      ],
      "execution_count": null,
      "outputs": [
        {
          "output_type": "execute_result",
          "data": {
            "text/plain": [
              "<tf.Tensor: shape=(3,), dtype=uint8, numpy=array([1, 2, 3], dtype=uint8)>"
            ]
          },
          "metadata": {
            "tags": []
          },
          "execution_count": 30
        }
      ]
    },
    {
      "cell_type": "markdown",
      "metadata": {
        "id": "-9WSCN6XdKwr"
      },
      "source": [
        "Tensor에서 numpy 배열"
      ]
    },
    {
      "cell_type": "code",
      "metadata": {
        "id": "umjHqTaedZC6",
        "colab": {
          "base_uri": "https://localhost:8080/"
        },
        "outputId": "f4297589-7b16-417f-bfae-82bda785bce4"
      },
      "source": [
        "tensor.numpy()"
      ],
      "execution_count": null,
      "outputs": [
        {
          "output_type": "execute_result",
          "data": {
            "text/plain": [
              "array([1., 2., 3.], dtype=float32)"
            ]
          },
          "metadata": {
            "tags": []
          },
          "execution_count": 23
        }
      ]
    },
    {
      "cell_type": "code",
      "metadata": {
        "id": "AykMDwEZda7O",
        "colab": {
          "base_uri": "https://localhost:8080/"
        },
        "outputId": "677dad86-1fd5-49f0-c276-b6ed292d2d39"
      },
      "source": [
        "np.array(tensor)"
      ],
      "execution_count": null,
      "outputs": [
        {
          "output_type": "execute_result",
          "data": {
            "text/plain": [
              "array([1., 2., 3.], dtype=float32)"
            ]
          },
          "metadata": {
            "tags": []
          },
          "execution_count": 24
        }
      ]
    },
    {
      "cell_type": "markdown",
      "metadata": {
        "id": "C1kXo_7_d78N"
      },
      "source": [
        "# Tensorflow 난수 생성\n",
        "\n",
        "* `numpy`에서의 정규분포 : `np.random.randn`\n",
        "* `tensorflow`에서의 정규분포 : `tf.random.normal`"
      ]
    },
    {
      "cell_type": "code",
      "metadata": {
        "id": "KVudpzPydczz",
        "colab": {
          "base_uri": "https://localhost:8080/"
        },
        "outputId": "efe276c5-2dfc-40f2-ec9a-719388325318"
      },
      "source": [
        "tf.random.normal([3, 3])"
      ],
      "execution_count": null,
      "outputs": [
        {
          "output_type": "execute_result",
          "data": {
            "text/plain": [
              "<tf.Tensor: shape=(3, 3), dtype=float32, numpy=\n",
              "array([[-0.51041335,  0.32821316,  0.23630273],\n",
              "       [-2.829283  , -0.64822984,  0.39460635],\n",
              "       [-0.4078111 ,  1.5680463 ,  0.4663825 ]], dtype=float32)>"
            ]
          },
          "metadata": {
            "tags": []
          },
          "execution_count": 33
        }
      ]
    },
    {
      "cell_type": "code",
      "metadata": {
        "colab": {
          "base_uri": "https://localhost:8080/"
        },
        "id": "FE3RnPTTd4Zb",
        "outputId": "6bf339a2-ce99-4922-dadc-37777eaea068"
      },
      "source": [
        "#r균등분포\n",
        "tf.random.uniform([3,3])"
      ],
      "execution_count": null,
      "outputs": [
        {
          "output_type": "execute_result",
          "data": {
            "text/plain": [
              "<tf.Tensor: shape=(3, 3), dtype=float32, numpy=\n",
              "array([[0.32514417, 0.36383665, 0.28316557],\n",
              "       [0.32482564, 0.21204329, 0.95870733],\n",
              "       [0.9766555 , 0.51305807, 0.3861984 ]], dtype=float32)>"
            ]
          },
          "metadata": {
            "tags": []
          },
          "execution_count": 34
        }
      ]
    },
    {
      "cell_type": "markdown",
      "metadata": {
        "id": "l5Y0ngETeFIz"
      },
      "source": [
        "#Tensorflow 배열은 수정 불가!\n",
        "반드시 tensorflow의 session, variable 만 수정 가능!"
      ]
    },
    {
      "cell_type": "code",
      "metadata": {
        "colab": {
          "base_uri": "https://localhost:8080/",
          "height": 195
        },
        "id": "rofNjPoUenp7",
        "outputId": "8baf7bb3-8397-458c-ef28-769a3da4b2cb"
      },
      "source": [
        "tensor[0] = 1 # 불가능"
      ],
      "execution_count": null,
      "outputs": [
        {
          "output_type": "error",
          "ename": "TypeError",
          "evalue": "ignored",
          "traceback": [
            "\u001b[0;31m---------------------------------------------------------------------------\u001b[0m",
            "\u001b[0;31mTypeError\u001b[0m                                 Traceback (most recent call last)",
            "\u001b[0;32m<ipython-input-35-acc3a93c1b32>\u001b[0m in \u001b[0;36m<module>\u001b[0;34m()\u001b[0m\n\u001b[0;32m----> 1\u001b[0;31m \u001b[0mtensor\u001b[0m\u001b[0;34m[\u001b[0m\u001b[0;36m0\u001b[0m\u001b[0;34m]\u001b[0m \u001b[0;34m=\u001b[0m \u001b[0;36m1\u001b[0m \u001b[0;31m# 불가능\u001b[0m\u001b[0;34m\u001b[0m\u001b[0;34m\u001b[0m\u001b[0m\n\u001b[0m",
            "\u001b[0;31mTypeError\u001b[0m: 'tensorflow.python.framework.ops.EagerTensor' object does not support item assignment"
          ]
        }
      ]
    },
    {
      "cell_type": "code",
      "metadata": {
        "id": "LKR_L0Pqeqmu"
      },
      "source": [
        ""
      ],
      "execution_count": null,
      "outputs": []
    }
  ]
}