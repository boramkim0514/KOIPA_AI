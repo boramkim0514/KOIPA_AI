{
  "nbformat": 4,
  "nbformat_minor": 0,
  "metadata": {
    "colab": {
      "name": "day12.ipynb의 사본",
      "provenance": [],
      "authorship_tag": "ABX9TyPOT0x7/VDNjfkY3ccToWwd",
      "include_colab_link": true
    },
    "kernelspec": {
      "name": "python3",
      "display_name": "Python 3"
    },
    "language_info": {
      "name": "python"
    }
  },
  "cells": [
    {
      "cell_type": "markdown",
      "metadata": {
        "id": "view-in-github",
        "colab_type": "text"
      },
      "source": [
        "<a href=\"https://colab.research.google.com/github/boramkim0514/python01/blob/main/day12_ipynb%EC%9D%98_%EC%82%AC%EB%B3%B8.ipynb\" target=\"_parent\"><img src=\"https://colab.research.google.com/assets/colab-badge.svg\" alt=\"Open In Colab\"/></a>"
      ]
    },
    {
      "cell_type": "markdown",
      "metadata": {
        "id": "mjlBX-wxJxTB"
      },
      "source": [
        "moun//unmount HD driver 내 하드 디스크와의 연결/끊기 "
      ]
    },
    {
      "cell_type": "markdown",
      "metadata": {
        "id": "4Eg4NBeZJwjZ"
      },
      "source": [
        "pandas ndarray\n",
        "\n",
        "Series 1차원 배열 / Dataframe 2차원 배열\n",
        "\n",
        "\n",
        "파일 > Git hubdp 에 사본 저장 \n",
        "\n",
        "도구 > 설정 /편집\n",
        "\n",
        "판다스 쓰는 이유 연속적 배열이라서 처리 속도가 빠름"
      ]
    },
    {
      "cell_type": "code",
      "metadata": {
        "id": "enclxxt7Pxqa"
      },
      "source": [
        ""
      ],
      "execution_count": null,
      "outputs": []
    }
  ]
}