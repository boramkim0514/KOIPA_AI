{
  "nbformat": 4,
  "nbformat_minor": 0,
  "metadata": {
    "colab": {
      "name": "D34_01.딥러닝(퍼셉트론).ipynb",
      "provenance": [],
      "collapsed_sections": [],
      "authorship_tag": "ABX9TyN0fV45lyBQuQz6PdSAXAz6",
      "include_colab_link": true
    },
    "kernelspec": {
      "name": "python3",
      "display_name": "Python 3"
    },
    "language_info": {
      "name": "python"
    }
  },
  "cells": [
    {
      "cell_type": "markdown",
      "metadata": {
        "id": "view-in-github",
        "colab_type": "text"
      },
      "source": [
        "<a href=\"https://colab.research.google.com/github/boramkim0514/KOIPA_AI/blob/main/D34_01_%EB%94%A5%EB%9F%AC%EB%8B%9D(%ED%8D%BC%EC%85%89%ED%8A%B8%EB%A1%A0).ipynb\" target=\"_parent\"><img src=\"https://colab.research.google.com/assets/colab-badge.svg\" alt=\"Open In Colab\"/></a>"
      ]
    },
    {
      "cell_type": "code",
      "metadata": {
        "id": "xbFo-3tV-IJ4"
      },
      "source": [
        "import matplotlib.pyplot as plt\n",
        "import numpy as np"
      ],
      "execution_count": null,
      "outputs": []
    },
    {
      "cell_type": "markdown",
      "metadata": {
        "id": "G9hELRWFiwiM"
      },
      "source": [
        "# 퍼셉트론\n",
        "데이터(x) * w(가중치)를 곱해서 출력(y)를 내는 것\n",
        "\n",
        "-반응 조건 계산식 활용해 일반화 시킴\n"
      ]
    },
    {
      "cell_type": "markdown",
      "metadata": {
        "id": "OtN7W3-LFVEI"
      },
      "source": [
        "# AND 게이트\n",
        "* 입력값 $x_1$, $x_2$가 둘 다 1 일 때면 결과물 $y$가 1"
      ]
    },
    {
      "cell_type": "code",
      "metadata": {
        "id": "xAYGdO4D-oNS"
      },
      "source": [
        "def AND(x1, x2):\n",
        "    #x1,x에 대한 조건 검사(if)는 퍼셉트론 아님\n",
        "    #w1*x1 + w2*x2 > theta만 검사\n",
        "    w1, w2, theta = 0.5, 0.5, 0.7\n",
        "    tmp = w1*x1 + w2*x2\n",
        "\n",
        "    if tmp > theta:\n",
        "        return 1\n",
        "    else:\n",
        "        return 0"
      ],
      "execution_count": null,
      "outputs": []
    },
    {
      "cell_type": "markdown",
      "metadata": {
        "id": "H9WKQlw0Wbav"
      },
      "source": [
        "# AND 게이트 구현하기 2\n",
        "$\\theta$를 넘냐, 못넘냐에 대한 문제에서 0을 넘냐 못 넘냐가 됐음\n",
        "\n",
        "  * $-\\theta$를 $b$로 변경한다.( $\\theta$ = $-b$)\n",
        "\n",
        "* 바뀐 결과물 \n",
        " - $theta 를 -b로 변경/치환$(편향도입)\n",
        " - $ z = w1x1 + w2x2 + b $\n",
        "\n"
      ]
    },
    {
      "cell_type": "markdown",
      "metadata": {
        "id": "tGFNDbrsCk7N"
      },
      "source": [
        ""
      ]
    },
    {
      "cell_type": "code",
      "metadata": {
        "colab": {
          "base_uri": "https://localhost:8080/"
        },
        "id": "cGJqfaVwAjE9",
        "outputId": "8bf774b6-5108-409f-b8ac-c7a591838c98"
      },
      "source": [
        "AND(0,0), AND(1,0), AND(0, 1), AND(1,1)"
      ],
      "execution_count": null,
      "outputs": [
        {
          "output_type": "execute_result",
          "data": {
            "text/plain": [
              "(0, 0, 0, 1)"
            ]
          },
          "metadata": {
            "tags": []
          },
          "execution_count": 6
        }
      ]
    },
    {
      "cell_type": "code",
      "metadata": {
        "colab": {
          "base_uri": "https://localhost:8080/"
        },
        "id": "1Et4lb1XAtPY",
        "outputId": "368467ca-ec43-4a45-f0d2-fa0745aa9cad"
      },
      "source": [
        "def AND(x1, x2):\n",
        "    w1, w2, theta = 0.5, 0.5, 0.7\n",
        "    z = w1*x1 + w2*x2 - theta\n",
        "\n",
        "    return int(z > 0) \n",
        "AND(0,0), AND(1,0), AND(0, 1), AND(1,1)"
      ],
      "execution_count": null,
      "outputs": [
        {
          "output_type": "execute_result",
          "data": {
            "text/plain": [
              "(0, 0, 0, 1)"
            ]
          },
          "metadata": {
            "tags": []
          },
          "execution_count": 9
        }
      ]
    },
    {
      "cell_type": "markdown",
      "metadata": {
        "id": "yFxEA5TSGwQn"
      },
      "source": [
        "여러개의 입력의 경우?"
      ]
    },
    {
      "cell_type": "markdown",
      "metadata": {
        "id": "An3qL56HGIxn"
      },
      "source": [
        "행 열백터\n",
        "z = WX + b"
      ]
    },
    {
      "cell_type": "code",
      "metadata": {
        "id": "qfcR0CVHIBFg"
      },
      "source": [
        "x = np.array([0,1])"
      ],
      "execution_count": null,
      "outputs": []
    },
    {
      "cell_type": "code",
      "metadata": {
        "colab": {
          "base_uri": "https://localhost:8080/"
        },
        "id": "hl9yHb_lIO63",
        "outputId": "4d4792f5-8ef5-430a-af52-e98322c7bedd"
      },
      "source": [
        "x = np.array([0, 1])\n",
        "w = np.array([0.5, 0.5])\n",
        "b = -0.7 # theta가 0.7이면 bias = =0.7\n",
        "z = w*x +b\n",
        "# print(int(z[0] > 0))\n",
        "\n",
        "print(w*x)\n",
        "print(np.sum(w*x))\n",
        "print(np.sum(w*x) + b)\n",
        "print(np.sum(w*x) + b > 0)\n"
      ],
      "execution_count": null,
      "outputs": [
        {
          "output_type": "stream",
          "text": [
            "[0.  0.5]\n",
            "0.5\n",
            "-0.19999999999999996\n",
            "False\n"
          ],
          "name": "stdout"
        }
      ]
    },
    {
      "cell_type": "code",
      "metadata": {
        "colab": {
          "base_uri": "https://localhost:8080/"
        },
        "id": "EoZbFuqQXVyn",
        "outputId": "f7601f69-67d6-4061-a130-49b74ed80627"
      },
      "source": [
        "x = np.array([0, 1])\n",
        "x"
      ],
      "execution_count": null,
      "outputs": [
        {
          "output_type": "execute_result",
          "data": {
            "text/plain": [
              "array([0, 1])"
            ]
          },
          "metadata": {
            "tags": []
          },
          "execution_count": 32
        }
      ]
    },
    {
      "cell_type": "code",
      "metadata": {
        "colab": {
          "base_uri": "https://localhost:8080/"
        },
        "id": "u_KII4zCXZV2",
        "outputId": "871f4c0b-a9c5-4bfe-dcba-3be1dcf0030c"
      },
      "source": [
        "w = np.array([0.5, 0.5])\n",
        "w"
      ],
      "execution_count": null,
      "outputs": [
        {
          "output_type": "execute_result",
          "data": {
            "text/plain": [
              "array([0.5, 0.5])"
            ]
          },
          "metadata": {
            "tags": []
          },
          "execution_count": 33
        }
      ]
    },
    {
      "cell_type": "code",
      "metadata": {
        "colab": {
          "base_uri": "https://localhost:8080/"
        },
        "id": "kmRbkdFpIlSI",
        "outputId": "192188ff-2c52-4de5-c7b0-8cbec6928c99"
      },
      "source": [
        "def AND(x1, x2):\n",
        "\n",
        "    x = np.array([x1, x2])\n",
        "    w = np.array([0.5, 0.5])\n",
        "    b = -0.7\n",
        "\n",
        "    z =np.sum(x * w) + b\n",
        "\n",
        "    return int(z > 0)\n",
        "\n",
        "AND(0, 0), AND(1, 0), AND(0, 1), AND (1,1)"
      ],
      "execution_count": null,
      "outputs": [
        {
          "output_type": "execute_result",
          "data": {
            "text/plain": [
              "(0, 0, 0, 1)"
            ]
          },
          "metadata": {
            "tags": []
          },
          "execution_count": 19
        }
      ]
    },
    {
      "cell_type": "markdown",
      "metadata": {
        "id": "o1kHOatAJn9g"
      },
      "source": [
        "## 가중치와 편향에 대한 의미\n",
        " * 가중치: 입력값에 대한 중요도\n",
        "    * 입력된 데이터 결과물이 1로 가거나, 0으로 갈 수 있도록 입력값을 조절하는 변수\n",
        "\n",
        " * 편향: 퍼셉트론의 활성화(1 or 0) 결정\n",
        "    - 편향이 크다면, 입력 데이터, 가중치 작아도 쉽게 활성화 됨\n",
        "        - 흥분도가 큰 퍼셉트론 - 민감\n",
        "    - 편향 작으면, 입력데이터, 가중치 커도 활성화 잘안됌\n",
        "        - 흥분도가 낮은 퍼셉트론 - 둔감"
      ]
    },
    {
      "cell_type": "markdown",
      "metadata": {
        "id": "M841PZSRMtUv"
      },
      "source": [
        "#NAND 게이트\n",
        "* AND 게이트의 모든 부호를 거꾸로"
      ]
    },
    {
      "cell_type": "code",
      "metadata": {
        "colab": {
          "base_uri": "https://localhost:8080/"
        },
        "id": "DdWH3uQdKUFN",
        "outputId": "8c97a6ef-28bb-45da-8ec5-1de53677abf0"
      },
      "source": [
        "def NAND(x1, x2):\n",
        "    x = np.array([x1, x2])\n",
        "\n",
        "# 가중치와 편향의 부호를 반대로\n",
        "    w = np.array([-0.5, -0.5])\n",
        "    b = 0.7\n",
        "\n",
        "    z = np.sum(w*x) + b\n",
        "\n",
        "    return int( z > 0)\n",
        "\n",
        "NAND(0,0), NAND(1,0), NAND(0,1), NAND(1,1)"
      ],
      "execution_count": null,
      "outputs": [
        {
          "output_type": "execute_result",
          "data": {
            "text/plain": [
              "(1, 1, 1, 0)"
            ]
          },
          "metadata": {
            "tags": []
          },
          "execution_count": 12
        }
      ]
    },
    {
      "cell_type": "markdown",
      "metadata": {
        "id": "bceUpqTaMnWg"
      },
      "source": [
        "# OR 게이트\n",
        "AND게이트의 매개변수(b)를 적절히 조절"
      ]
    },
    {
      "cell_type": "code",
      "metadata": {
        "colab": {
          "base_uri": "https://localhost:8080/"
        },
        "id": "daE70VjyMz-B",
        "outputId": "7f8104fc-cf37-4a49-c7ca-79ff6d56ae20"
      },
      "source": [
        "def OR(x1, x2):\n",
        "    x = np.array([x1, x2])\n",
        "    w = np.array([0.5, 0.5])\n",
        "    b = -0.2\n",
        "\n",
        "    z = np.sum(w*x) + b\n",
        "    \n",
        "    return int(z > 0)\n",
        "\n",
        "OR(0,0), OR(1,0), OR(0,1), OR(1,1)"
      ],
      "execution_count": null,
      "outputs": [
        {
          "output_type": "execute_result",
          "data": {
            "text/plain": [
              "(0, 1, 1, 1)"
            ]
          },
          "metadata": {
            "tags": []
          },
          "execution_count": 16
        }
      ]
    },
    {
      "cell_type": "markdown",
      "metadata": {
        "id": "_ZkH7ul_NOHh"
      },
      "source": [
        "AND, NAND, OR 게이트 구축 방법은 w, b에 따라 연산이 달라짐\n",
        "한번의 입력에 대한 한번의 출력 -> 단층 퍼셉트론\n",
        "# 다층 퍼셉트론\n",
        "단층 퍼셉트론의 한계(XOR 게이트 문제 해결을 위해 등장 \n",
        "\n",
        "단층 퍼센트론을 여러개 쌓아서 한계 극복"
      ]
    },
    {
      "cell_type": "markdown",
      "metadata": {
        "id": "u6NDHKIzUWyP"
      },
      "source": [
        "## XOR 구현\n",
        "\n"
      ]
    },
    {
      "cell_type": "markdown",
      "metadata": {
        "id": "IeGQXbcxUw1Y"
      },
      "source": [
        "01. [ 퍼셉트론 개념정리]\n",
        "퍼셉트론?\n",
        "입력된 다수의 데이터에 대한 어떤 처리(가중치 w)를 곱해서 하나의 결과 y 를 내는 것\n",
        "\n",
        "반응 조건 계산식\n",
        "\n",
        "AND 게이트를 일반화 시켜 수식 변경\n",
        "\n",
        "가중치 편향에 대한 이해\n",
        "\n",
        "가중치:입력값에 대한 중요도\n",
        "편향: 활성화 수치\n",
        "\n",
        "수식 이해 \n",
        "단층 / 다층 편향이론 까지 \n",
        "다층 퍼셉트론\n",
        "XOR은 단층 퍼셉트론의 한계 극복\n",
        "\n",
        "\n",
        "02. [ 활성화 함수 ]\n",
        " **인공 신경망(Artificial Neural Network)**\n",
        "다층 퍼셉트론을 여러층 쌓아 인공신경망 구현 가능\n",
        "\n",
        "비선형 활성화 함수 사용?\n",
        "퍼셉트론은 흐른다 안흐른다 1, 0 밖예 없지만\n",
        "시그모이드는 활성화 강도 조절(1에 가까운 실수)\n",
        "\n",
        "값을 다채롭게 출력이 가능해진다 \n",
        "\n",
        "활성화 함수: WX + b의 결과물 결정하기 위한 함수\n",
        "\n",
        "퍼셉트론의 활성화 함수 - > 계단 함수로 표현\n",
        "\n",
        "활성화 함수 #1 시그모이드 의미\n",
        "신호 강도의 세기\n",
        "1 강 0 약\n",
        "0!1 사이의 정량화된 수치가 넘어감. 0, 1 정량화 된 수치를 넘김\n",
        "\n",
        "활성화 함수.. \n",
        "z 가 커진다면? \n",
        "z가 크면 활성화가 잘된다 (된다 /안된다)\n",
        "z 가 강하다 (세다/약하다) 0!1 사이 값으로 정량화 \n",
        "\n",
        "0 또는 1이 될 확률 의미..\n",
        "0.5를 기준으로 \n",
        "\n",
        "1로 분류될 확률이 시그모이드의 결과 \n",
        "예시.. \n",
        "\n",
        "연산 = 그냥 계산\n",
        "출력 = 신경망에서 결정짓기 위한 마지막 단계\n",
        "\n",
        "히든 레이어 -연산이 진\n",
        "\n",
        "<시그모이드는 확률 이야기 0-1\n",
        "하이퍼볼릭 텐젠트는 방향 의미 \n",
        "\n",
        "벡터화 : \n",
        " 크기와 방향을 같게 하는것 \n",
        "\n",
        "\n",
        "잘생김/ 멋짐 "
      ]
    },
    {
      "cell_type": "code",
      "metadata": {
        "colab": {
          "base_uri": "https://localhost:8080/"
        },
        "id": "ZIvZdcYfUPOq",
        "outputId": "7d7a32bd-05e2-4437-b895-c958f9d1bca5"
      },
      "source": [
        "def XOR(x1, x2):\n",
        "    s1 = NAND(x1, x2)\n",
        "    s2 = OR(x1, x2)\n",
        "\n",
        "# NAND 와 OR의 결과물 s1, s2 AND 게이트 입력값으로 사용하면  XOR의 결과물이 된다\n",
        "    y = AND(s1, s2)\n",
        "\n",
        "    return y\n",
        "\n",
        "XOR(0,0), XOR(1,0), XOR(0,1), XOR(1,1)"
      ],
      "execution_count": null,
      "outputs": [
        {
          "output_type": "execute_result",
          "data": {
            "text/plain": [
              "(0, 1, 1, 0)"
            ]
          },
          "metadata": {
            "tags": []
          },
          "execution_count": 17
        }
      ]
    }
  ]
}