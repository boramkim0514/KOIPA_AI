{
  "nbformat": 4,
  "nbformat_minor": 0,
  "metadata": {
    "colab": {
      "name": "day13_PM2.ipynb",
      "provenance": [],
      "collapsed_sections": [],
      "mount_file_id": "16U2GR02q1KotJuTghA4uM-wTzt9C2Xl0",
      "authorship_tag": "ABX9TyPFPFz6LjDEHaPreEhzzcsp",
      "include_colab_link": true
    },
    "kernelspec": {
      "name": "python3",
      "display_name": "Python 3"
    },
    "language_info": {
      "name": "python"
    }
  },
  "cells": [
    {
      "cell_type": "markdown",
      "metadata": {
        "id": "view-in-github",
        "colab_type": "text"
      },
      "source": [
        "<a href=\"https://colab.research.google.com/github/boramkim0514/python01/blob/main/day13_PM2.ipynb\" target=\"_parent\"><img src=\"https://colab.research.google.com/assets/colab-badge.svg\" alt=\"Open In Colab\"/></a>"
      ]
    },
    {
      "cell_type": "code",
      "metadata": {
        "colab": {
          "base_uri": "https://localhost:8080/"
        },
        "id": "XPkBqZaFgw9X",
        "outputId": "cce25bb3-7197-4d93-bf74-4a392f86f642"
      },
      "source": [
        "from google.colab import drive\n",
        "drive.mount('/content/drive')"
      ],
      "execution_count": 1,
      "outputs": [
        {
          "output_type": "stream",
          "text": [
            "Drive already mounted at /content/drive; to attempt to forcibly remount, call drive.mount(\"/content/drive\", force_remount=True).\n"
          ],
          "name": "stdout"
        }
      ]
    },
    {
      "cell_type": "markdown",
      "metadata": {
        "id": "YyBkE2PJw0Ek"
      },
      "source": [
        "#에습 복습을 위해"
      ]
    },
    {
      "cell_type": "code",
      "metadata": {
        "colab": {
          "base_uri": "https://localhost:8080/"
        },
        "id": "edIdm_nihdl1",
        "outputId": "93f0e348-26be-4d8a-d1a2-8eb44acd68c8"
      },
      "source": [
        "!whoami"
      ],
      "execution_count": 2,
      "outputs": [
        {
          "output_type": "stream",
          "text": [
            "root\n"
          ],
          "name": "stdout"
        }
      ]
    },
    {
      "cell_type": "code",
      "metadata": {
        "id": "XbQEiouVhfDr"
      },
      "source": [
        "import pandas as pd\n",
        "import numpy as np"
      ],
      "execution_count": 4,
      "outputs": []
    },
    {
      "cell_type": "code",
      "metadata": {
        "id": "pb07cWIehvXD"
      },
      "source": [
        "df = pd.read_csv('/content/drive/MyDrive/Book2/pydata-book-2nd-edition/examples/ex1.csv') #절대경로 - 파일 위치만 제대로 찾아가면 한빛 미디어 책 오류 목록 오탈자 참고보기"
      ],
      "execution_count": 33,
      "outputs": []
    },
    {
      "cell_type": "code",
      "metadata": {
        "colab": {
          "base_uri": "https://localhost:8080/",
          "height": 136
        },
        "id": "ry2LiqPCiEnm",
        "outputId": "bf73c95a-63d2-4569-c49c-8eb8a214d8bb"
      },
      "source": [
        "df"
      ],
      "execution_count": 34,
      "outputs": [
        {
          "output_type": "execute_result",
          "data": {
            "text/html": [
              "<div>\n",
              "<style scoped>\n",
              "    .dataframe tbody tr th:only-of-type {\n",
              "        vertical-align: middle;\n",
              "    }\n",
              "\n",
              "    .dataframe tbody tr th {\n",
              "        vertical-align: top;\n",
              "    }\n",
              "\n",
              "    .dataframe thead th {\n",
              "        text-align: right;\n",
              "    }\n",
              "</style>\n",
              "<table border=\"1\" class=\"dataframe\">\n",
              "  <thead>\n",
              "    <tr style=\"text-align: right;\">\n",
              "      <th></th>\n",
              "      <th>a</th>\n",
              "      <th>b</th>\n",
              "      <th>c</th>\n",
              "      <th>d</th>\n",
              "      <th>message</th>\n",
              "    </tr>\n",
              "  </thead>\n",
              "  <tbody>\n",
              "    <tr>\n",
              "      <th>0</th>\n",
              "      <td>1</td>\n",
              "      <td>2</td>\n",
              "      <td>3</td>\n",
              "      <td>4</td>\n",
              "      <td>hello</td>\n",
              "    </tr>\n",
              "    <tr>\n",
              "      <th>1</th>\n",
              "      <td>5</td>\n",
              "      <td>6</td>\n",
              "      <td>7</td>\n",
              "      <td>8</td>\n",
              "      <td>world</td>\n",
              "    </tr>\n",
              "    <tr>\n",
              "      <th>2</th>\n",
              "      <td>9</td>\n",
              "      <td>10</td>\n",
              "      <td>11</td>\n",
              "      <td>12</td>\n",
              "      <td>foo</td>\n",
              "    </tr>\n",
              "  </tbody>\n",
              "</table>\n",
              "</div>"
            ],
            "text/plain": [
              "   a   b   c   d message\n",
              "0  1   2   3   4   hello\n",
              "1  5   6   7   8   world\n",
              "2  9  10  11  12     foo"
            ]
          },
          "metadata": {
            "tags": []
          },
          "execution_count": 34
        }
      ]
    },
    {
      "cell_type": "code",
      "metadata": {
        "id": "79dxp5QXiFOK"
      },
      "source": [
        "#df = pd.read_csv? #도움말 찾아보기"
      ],
      "execution_count": 16,
      "outputs": []
    },
    {
      "cell_type": "code",
      "metadata": {
        "colab": {
          "base_uri": "https://localhost:8080/"
        },
        "id": "M4RkhyiPi8SK",
        "outputId": "70e3eaca-c920-4e94-9a31-db123955e5ee"
      },
      "source": [
        "list(open('/content/drive/MyDrive/Book2/pydata-book-2nd-edition/examples/ex3.csv')) # \\ 줄바꿈 표시, 바꾸는 방법 "
      ],
      "execution_count": 31,
      "outputs": [
        {
          "output_type": "execute_result",
          "data": {
            "text/plain": [
              "['            A         B         C\\n',\n",
              " 'aaa -0.264438 -1.026059 -0.619500\\n',\n",
              " 'bbb  0.927272  0.302904 -0.032399\\n',\n",
              " 'ccc -0.264273 -0.386314 -0.217601\\n',\n",
              " 'ddd -0.871858 -0.348382  1.100491']"
            ]
          },
          "metadata": {
            "tags": []
          },
          "execution_count": 31
        }
      ]
    },
    {
      "cell_type": "code",
      "metadata": {
        "id": "732ccacojUcy"
      },
      "source": [
        "r1 = pd.read_table('/content/drive/MyDrive/Book2/pydata-book-2nd-edition/examples/ex3.txt', sep='\\s+') #read_table #to_table to save p.298-299"
      ],
      "execution_count": 35,
      "outputs": []
    },
    {
      "cell_type": "code",
      "metadata": {
        "colab": {
          "base_uri": "https://localhost:8080/"
        },
        "id": "aDgyuF3IjvVx",
        "outputId": "50d3a728-f0b7-4ff5-8ce6-081739038a86"
      },
      "source": [
        "import sys\n",
        "df.to_csv(sys.stdout)"
      ],
      "execution_count": 36,
      "outputs": [
        {
          "output_type": "stream",
          "text": [
            ",a,b,c,d,message\n",
            "0,1,2,3,4,hello\n",
            "1,5,6,7,8,world\n",
            "2,9,10,11,12,foo\n"
          ],
          "name": "stdout"
        }
      ]
    },
    {
      "cell_type": "code",
      "metadata": {
        "colab": {
          "base_uri": "https://localhost:8080/"
        },
        "id": "V8gxS3vOlIDj",
        "outputId": "25812e18-7603-4223-d62f-6b0cbb586c65"
      },
      "source": [
        "!pwd"
      ],
      "execution_count": 37,
      "outputs": [
        {
          "output_type": "stream",
          "text": [
            "/content\n"
          ],
          "name": "stdout"
        }
      ]
    },
    {
      "cell_type": "code",
      "metadata": {
        "id": "D7snKh69lTIZ"
      },
      "source": [
        "df.to_csv('myout.csv')"
      ],
      "execution_count": 38,
      "outputs": []
    },
    {
      "cell_type": "code",
      "metadata": {
        "colab": {
          "base_uri": "https://localhost:8080/"
        },
        "id": "if1hkJa7lVr5",
        "outputId": "8f45d7ee-453a-4d90-89e1-f70cf27d8b0f"
      },
      "source": [
        "!ls"
      ],
      "execution_count": 39,
      "outputs": [
        {
          "output_type": "stream",
          "text": [
            "drive  myout.csv  sample_data\n"
          ],
          "name": "stdout"
        }
      ]
    },
    {
      "cell_type": "code",
      "metadata": {
        "colab": {
          "base_uri": "https://localhost:8080/"
        },
        "id": "B_C81PUhlY4I",
        "outputId": "e316e9ba-291f-4d21-c6f5-20dfb7b5d77f"
      },
      "source": [
        "!cat -n myout.csv #local로 stdin 출력장치 stdout 모니터로 출력하기, to 내보내기  #저장경로 주의 "
      ],
      "execution_count": 40,
      "outputs": [
        {
          "output_type": "stream",
          "text": [
            "     1\t,a,b,c,d,message\n",
            "     2\t0,1,2,3,4,hello\n",
            "     3\t1,5,6,7,8,world\n",
            "     4\t2,9,10,11,12,foo\n"
          ],
          "name": "stdout"
        }
      ]
    },
    {
      "cell_type": "markdown",
      "metadata": {
        "id": "CwIH50UkwuPU"
      },
      "source": [
        "# NA 처리 p.271\n",
        "dropna\n",
        "fillna\n",
        "\n",
        "#Fillna 결측치 채우기 p.275-276\n",
        "inplace 원본데이터를 replace하니까 위험함.. \n",
        "\n",
        "#instinct \n",
        "\n",
        "# Map 함수\n",
        "map(func, *iterables) ->> map object\n",
        "func: 함수명 콜백 함수,\n",
        "iterable: list tuple 같은 여러개의 연속된 데이터들 값 넣어야함)\n",
        "\n",
        "함수, 곱기\n",
        "함수를 4번 호출 할수 있으나 map 함수를 쓰면 \n",
        "iterables (list or tuple같은 연속된 데이터값 넣으면 됌)\n",
        "\n",
        "```\n",
        "list(map(f, [1,2,3,4])) \n",
        "\n",
        "```\n",
        "\n",
        "```\n",
        "list(map(int, input().split() ))\n",
        "list(map(f, [1, 2, 3, 4]))\n",
        "\n",
        "k = [1, 2, 3, 4, 5] \n",
        "list(map(f, k))\n",
        "\n",
        "```\n",
        "\n",
        "\n",
        "\n",
        "\n",
        "\n",
        " "
      ]
    },
    {
      "cell_type": "code",
      "metadata": {
        "id": "JaHvPVsb02vb"
      },
      "source": [
        "k = [1, 2, 3, 4, 5] \n",
        "list(map(f, k))"
      ],
      "execution_count": null,
      "outputs": []
    },
    {
      "cell_type": "markdown",
      "metadata": {
        "id": "7YsCh0QX2bFa"
      },
      "source": [
        "#escape 문자 p**.299**"
      ]
    },
    {
      "cell_type": "code",
      "metadata": {
        "id": "0MBKyfVq04Vc"
      },
      "source": [
        "k = 'aaa\\tbbb\\tccc\\nddd\\n'"
      ],
      "execution_count": 45,
      "outputs": []
    },
    {
      "cell_type": "code",
      "metadata": {
        "colab": {
          "base_uri": "https://localhost:8080/",
          "height": 35
        },
        "id": "4QEAuXn62qb7",
        "outputId": "0651dd07-0acc-41b3-cca5-72fc582f5d3a"
      },
      "source": [
        "k"
      ],
      "execution_count": 46,
      "outputs": [
        {
          "output_type": "execute_result",
          "data": {
            "application/vnd.google.colaboratory.intrinsic+json": {
              "type": "string"
            },
            "text/plain": [
              "'aaa\\tbbb\\tccc\\nddd\\n'"
            ]
          },
          "metadata": {
            "tags": []
          },
          "execution_count": 46
        }
      ]
    },
    {
      "cell_type": "code",
      "metadata": {
        "colab": {
          "base_uri": "https://localhost:8080/",
          "height": 137
        },
        "id": "BDCNPB3C2rdy",
        "outputId": "a420afe4-fbd3-4c2a-d133-9d3f52231156"
      },
      "source": [
        "# k = aaa\\t bbb\\t ccc\\ nddd\\n #"
      ],
      "execution_count": 51,
      "outputs": [
        {
          "output_type": "error",
          "ename": "SyntaxError",
          "evalue": "ignored",
          "traceback": [
            "\u001b[0;36m  File \u001b[0;32m\"<ipython-input-51-6f598b3e8f61>\"\u001b[0;36m, line \u001b[0;32m1\u001b[0m\n\u001b[0;31m    k = aaa\\t bbb\\t ccc\\ nddd\\n\u001b[0m\n\u001b[0m                               ^\u001b[0m\n\u001b[0;31mSyntaxError\u001b[0m\u001b[0;31m:\u001b[0m unexpected character after line continuation character\n"
          ]
        }
      ]
    },
    {
      "cell_type": "code",
      "metadata": {
        "colab": {
          "base_uri": "https://localhost:8080/",
          "height": 35
        },
        "id": "knhEZuqm26li",
        "outputId": "7c616123-242f-4a85-e98a-e02cd12356bd"
      },
      "source": [
        "k"
      ],
      "execution_count": 48,
      "outputs": [
        {
          "output_type": "execute_result",
          "data": {
            "application/vnd.google.colaboratory.intrinsic+json": {
              "type": "string"
            },
            "text/plain": [
              "'aaa\\tbbb\\tccc\\nddd\\n'"
            ]
          },
          "metadata": {
            "tags": []
          },
          "execution_count": 48
        }
      ]
    },
    {
      "cell_type": "markdown",
      "metadata": {
        "id": "HHFIfT8H3aaR"
      },
      "source": [
        "#아스키코드표\n",
        "비전공자들 찾아보기\n",
        "대문자 소문자 등 문자열 \n",
        "물음표 특수문자 꺽새 등등\n"
      ]
    },
    {
      "cell_type": "markdown",
      "metadata": {
        "id": "NxXNQHTl4KI4"
      },
      "source": [
        "#분산저장 - 빠른 access와 access 위해서 <->unstack \n",
        "vertical 수직분할\n",
        "horizontal 수평분할"
      ]
    },
    {
      "cell_type": "markdown",
      "metadata": {
        "id": "J721F64G90Ko"
      },
      "source": [
        "#데이터시각화"
      ]
    },
    {
      "cell_type": "code",
      "metadata": {
        "id": "GYYIaKi891uG"
      },
      "source": [
        "import numpy as np\n",
        "import matplotlib.pyplot as plt\n",
        "\n",
        "x = np.arange(1, 21) ** 2\n",
        "\n",
        "#plt.plot(x)\n"
      ],
      "execution_count": 53,
      "outputs": []
    },
    {
      "cell_type": "code",
      "metadata": {
        "colab": {
          "base_uri": "https://localhost:8080/",
          "height": 283
        },
        "id": "B_jwpbMw9-FJ",
        "outputId": "ee480a1d-dc49-46a4-b177-c5d703097756"
      },
      "source": [
        "plt.plot(x)"
      ],
      "execution_count": 55,
      "outputs": [
        {
          "output_type": "execute_result",
          "data": {
            "text/plain": [
              "[<matplotlib.lines.Line2D at 0x7f7b7bc04090>]"
            ]
          },
          "metadata": {
            "tags": []
          },
          "execution_count": 55
        },
        {
          "output_type": "display_data",
          "data": {
            "image/png": "[encoded data removed]",
            "text/plain": [
              "<Figure size 432x288 with 1 Axes>"
            ]
          },
          "metadata": {
            "tags": [],
            "needs_background": "light"
          }
        }
      ]
    },
    {
      "cell_type": "code",
      "metadata": {
        "colab": {
          "base_uri": "https://localhost:8080/",
          "height": 210
        },
        "id": "KrxSqbL9-GZO",
        "outputId": "376eb8a9-c168-476b-d4c7-3d24d897dfac"
      },
      "source": [
        "#기울기 높이기\n",
        "\n",
        "x = np.arange(1, 21) *\n",
        "y = x ** 4\n",
        "plt.plot(x, y)\n",
        "show plot (x)\n",
        "\n",
        "plt.subplot(1, 2, 1)\n",
        "plt.show()"
      ],
      "execution_count": 56,
      "outputs": [
        {
          "output_type": "error",
          "ename": "NameError",
          "evalue": "ignored",
          "traceback": [
            "\u001b[0;31m---------------------------------------------------------------------------\u001b[0m",
            "\u001b[0;31mNameError\u001b[0m                                 Traceback (most recent call last)",
            "\u001b[0;32m<ipython-input-56-813b07a2da5f>\u001b[0m in \u001b[0;36m<module>\u001b[0;34m()\u001b[0m\n\u001b[1;32m      1\u001b[0m \u001b[0;31m#기울기 높이기\u001b[0m\u001b[0;34m\u001b[0m\u001b[0;34m\u001b[0m\u001b[0;34m\u001b[0m\u001b[0m\n\u001b[1;32m      2\u001b[0m \u001b[0mx\u001b[0m \u001b[0;34m=\u001b[0m \u001b[0mnp\u001b[0m\u001b[0;34m.\u001b[0m\u001b[0marange\u001b[0m\u001b[0;34m(\u001b[0m\u001b[0;36m1\u001b[0m\u001b[0;34m,\u001b[0m \u001b[0;36m21\u001b[0m\u001b[0;34m)\u001b[0m \u001b[0;34m**\u001b[0m \u001b[0;36m4\u001b[0m\u001b[0;34m\u001b[0m\u001b[0;34m\u001b[0m\u001b[0m\n\u001b[0;32m----> 3\u001b[0;31m \u001b[0mplt\u001b[0m\u001b[0;34m.\u001b[0m\u001b[0mplot\u001b[0m\u001b[0;34m(\u001b[0m\u001b[0mx\u001b[0m\u001b[0;34m,\u001b[0m \u001b[0my\u001b[0m\u001b[0;34m)\u001b[0m\u001b[0;34m\u001b[0m\u001b[0;34m\u001b[0m\u001b[0m\n\u001b[0m",
            "\u001b[0;31mNameError\u001b[0m: name 'y' is not defined"
          ]
        }
      ]
    },
    {
      "cell_type": "code",
      "metadata": {
        "id": "luuOE8KW-zrF"
      },
      "source": [
        "x = np.arange(10)\n",
        "y = 30 + 3  np.random.randn(10) \n",
        "plot"
      ],
      "execution_count": null,
      "outputs": []
    },
    {
      "cell_type": "code",
      "metadata": {
        "id": "_mSXPUso-Sfm"
      },
      "source": [
        "#흩뿌려주기\n"
      ],
      "execution_count": null,
      "outputs": []
    },
    {
      "cell_type": "code",
      "metadata": {
        "id": "_-SjwuN0_GYO"
      },
      "source": [
        "#inlinear "
      ],
      "execution_count": 57,
      "outputs": []
    },
    {
      "cell_type": "code",
      "metadata": {
        "id": "GEx8aqi5_NaW"
      },
      "source": [
        "df = pd.DataFrame( #누적합으로 그래프 그리기"
      ],
      "execution_count": null,
      "outputs": []
    },
    {
      "cell_type": "code",
      "metadata": {
        "id": "D2R6vRP6_MzP"
      },
      "source": [
        "df.plot(kind = 'barh', stacked ')  d"
      ],
      "execution_count": null,
      "outputs": []
    },
    {
      "cell_type": "markdown",
      "metadata": {
        "id": "Y8tTe94a_FxF"
      },
      "source": [
        ""
      ]
    }
  ]
}