{
  "nbformat": 4,
  "nbformat_minor": 0,
  "metadata": {
    "colab": {
      "name": "day12_PM2.ipynb",
      "provenance": [],
      "collapsed_sections": [],
      "mount_file_id": "16U2GR02q1KotJuTghA4uM-wTzt9C2Xl0",
      "authorship_tag": "ABX9TyNfb7rzdpVCv6maN8aVVK8i",
      "include_colab_link": true
    },
    "kernelspec": {
      "name": "python3",
      "display_name": "Python 3"
    },
    "language_info": {
      "name": "python"
    }
  },
  "cells": [
    {
      "cell_type": "markdown",
      "metadata": {
        "id": "view-in-github",
        "colab_type": "text"
      },
      "source": [
        "<a href=\"https://colab.research.google.com/github/boramkim0514/python01/blob/main/day12_PM2.ipynb\" target=\"_parent\"><img src=\"https://colab.research.google.com/assets/colab-badge.svg\" alt=\"Open In Colab\"/></a>"
      ]
    },
    {
      "cell_type": "code",
      "metadata": {
        "colab": {
          "base_uri": "https://localhost:8080/"
        },
        "id": "XPkBqZaFgw9X",
        "outputId": "cce25bb3-7197-4d93-bf74-4a392f86f642"
      },
      "source": [
        "from google.colab import drive\n",
        "drive.mount('/content/drive')"
      ],
      "execution_count": 1,
      "outputs": [
        {
          "output_type": "stream",
          "text": [
            "Drive already mounted at /content/drive; to attempt to forcibly remount, call drive.mount(\"/content/drive\", force_remount=True).\n"
          ],
          "name": "stdout"
        }
      ]
    },
    {
      "cell_type": "code",
      "metadata": {
        "colab": {
          "base_uri": "https://localhost:8080/"
        },
        "id": "edIdm_nihdl1",
        "outputId": "93f0e348-26be-4d8a-d1a2-8eb44acd68c8"
      },
      "source": [
        "!whoami"
      ],
      "execution_count": 2,
      "outputs": [
        {
          "output_type": "stream",
          "text": [
            "root\n"
          ],
          "name": "stdout"
        }
      ]
    },
    {
      "cell_type": "code",
      "metadata": {
        "id": "XbQEiouVhfDr"
      },
      "source": [
        "import pandas as pd\n",
        "import numpy as np"
      ],
      "execution_count": 4,
      "outputs": []
    },
    {
      "cell_type": "code",
      "metadata": {
        "id": "pb07cWIehvXD"
      },
      "source": [
        "df = pd.read_csv('/content/drive/MyDrive/Book2/pydata-book-2nd-edition/examples/ex1.csv') #절대경로 - 파일 위치만 제대로 찾아가면 한빛 미디어 책 오류 목록 오탈자 참고보기"
      ],
      "execution_count": 33,
      "outputs": []
    },
    {
      "cell_type": "code",
      "metadata": {
        "colab": {
          "base_uri": "https://localhost:8080/",
          "height": 136
        },
        "id": "ry2LiqPCiEnm",
        "outputId": "bf73c95a-63d2-4569-c49c-8eb8a214d8bb"
      },
      "source": [
        "df"
      ],
      "execution_count": 34,
      "outputs": [
        {
          "output_type": "execute_result",
          "data": {
            "text/html": [
              "<div>\n",
              "<style scoped>\n",
              "    .dataframe tbody tr th:only-of-type {\n",
              "        vertical-align: middle;\n",
              "    }\n",
              "\n",
              "    .dataframe tbody tr th {\n",
              "        vertical-align: top;\n",
              "    }\n",
              "\n",
              "    .dataframe thead th {\n",
              "        text-align: right;\n",
              "    }\n",
              "</style>\n",
              "<table border=\"1\" class=\"dataframe\">\n",
              "  <thead>\n",
              "    <tr style=\"text-align: right;\">\n",
              "      <th></th>\n",
              "      <th>a</th>\n",
              "      <th>b</th>\n",
              "      <th>c</th>\n",
              "      <th>d</th>\n",
              "      <th>message</th>\n",
              "    </tr>\n",
              "  </thead>\n",
              "  <tbody>\n",
              "    <tr>\n",
              "      <th>0</th>\n",
              "      <td>1</td>\n",
              "      <td>2</td>\n",
              "      <td>3</td>\n",
              "      <td>4</td>\n",
              "      <td>hello</td>\n",
              "    </tr>\n",
              "    <tr>\n",
              "      <th>1</th>\n",
              "      <td>5</td>\n",
              "      <td>6</td>\n",
              "      <td>7</td>\n",
              "      <td>8</td>\n",
              "      <td>world</td>\n",
              "    </tr>\n",
              "    <tr>\n",
              "      <th>2</th>\n",
              "      <td>9</td>\n",
              "      <td>10</td>\n",
              "      <td>11</td>\n",
              "      <td>12</td>\n",
              "      <td>foo</td>\n",
              "    </tr>\n",
              "  </tbody>\n",
              "</table>\n",
              "</div>"
            ],
            "text/plain": [
              "   a   b   c   d message\n",
              "0  1   2   3   4   hello\n",
              "1  5   6   7   8   world\n",
              "2  9  10  11  12     foo"
            ]
          },
          "metadata": {
            "tags": []
          },
          "execution_count": 34
        }
      ]
    },
    {
      "cell_type": "code",
      "metadata": {
        "id": "79dxp5QXiFOK"
      },
      "source": [
        "#df = pd.read_csv? #도움말 찾아보기"
      ],
      "execution_count": 16,
      "outputs": []
    },
    {
      "cell_type": "code",
      "metadata": {
        "colab": {
          "base_uri": "https://localhost:8080/"
        },
        "id": "M4RkhyiPi8SK",
        "outputId": "70e3eaca-c920-4e94-9a31-db123955e5ee"
      },
      "source": [
        "list(open('/content/drive/MyDrive/Book2/pydata-book-2nd-edition/examples/ex3.csv')) # \\ 줄바꿈 표시, 바꾸는 방법 "
      ],
      "execution_count": 31,
      "outputs": [
        {
          "output_type": "execute_result",
          "data": {
            "text/plain": [
              "['            A         B         C\\n',\n",
              " 'aaa -0.264438 -1.026059 -0.619500\\n',\n",
              " 'bbb  0.927272  0.302904 -0.032399\\n',\n",
              " 'ccc -0.264273 -0.386314 -0.217601\\n',\n",
              " 'ddd -0.871858 -0.348382  1.100491']"
            ]
          },
          "metadata": {
            "tags": []
          },
          "execution_count": 31
        }
      ]
    },
    {
      "cell_type": "code",
      "metadata": {
        "id": "732ccacojUcy"
      },
      "source": [
        "r1 = pd.read_table('/content/drive/MyDrive/Book2/pydata-book-2nd-edition/examples/ex3.txt', sep='\\s+') #read_table #to_table to save"
      ],
      "execution_count": 35,
      "outputs": []
    },
    {
      "cell_type": "code",
      "metadata": {
        "colab": {
          "base_uri": "https://localhost:8080/"
        },
        "id": "aDgyuF3IjvVx",
        "outputId": "50d3a728-f0b7-4ff5-8ce6-081739038a86"
      },
      "source": [
        "import sys\n",
        "df.to_csv(sys.stdout)"
      ],
      "execution_count": 36,
      "outputs": [
        {
          "output_type": "stream",
          "text": [
            ",a,b,c,d,message\n",
            "0,1,2,3,4,hello\n",
            "1,5,6,7,8,world\n",
            "2,9,10,11,12,foo\n"
          ],
          "name": "stdout"
        }
      ]
    },
    {
      "cell_type": "code",
      "metadata": {
        "colab": {
          "base_uri": "https://localhost:8080/"
        },
        "id": "V8gxS3vOlIDj",
        "outputId": "25812e18-7603-4223-d62f-6b0cbb586c65"
      },
      "source": [
        "!pwd"
      ],
      "execution_count": 37,
      "outputs": [
        {
          "output_type": "stream",
          "text": [
            "/content\n"
          ],
          "name": "stdout"
        }
      ]
    },
    {
      "cell_type": "code",
      "metadata": {
        "id": "D7snKh69lTIZ"
      },
      "source": [
        "df.to_csv('myout.csv')"
      ],
      "execution_count": 38,
      "outputs": []
    },
    {
      "cell_type": "code",
      "metadata": {
        "colab": {
          "base_uri": "https://localhost:8080/"
        },
        "id": "if1hkJa7lVr5",
        "outputId": "8f45d7ee-453a-4d90-89e1-f70cf27d8b0f"
      },
      "source": [
        "!ls"
      ],
      "execution_count": 39,
      "outputs": [
        {
          "output_type": "stream",
          "text": [
            "drive  myout.csv  sample_data\n"
          ],
          "name": "stdout"
        }
      ]
    },
    {
      "cell_type": "code",
      "metadata": {
        "colab": {
          "base_uri": "https://localhost:8080/"
        },
        "id": "B_C81PUhlY4I",
        "outputId": "e316e9ba-291f-4d21-c6f5-20dfb7b5d77f"
      },
      "source": [
        "!cat -n myout.csv #local로 stdin 출력장치 stdout 모니터로 출력하기, to 내보내기  #저장경로 주의 "
      ],
      "execution_count": 40,
      "outputs": [
        {
          "output_type": "stream",
          "text": [
            "     1\t,a,b,c,d,message\n",
            "     2\t0,1,2,3,4,hello\n",
            "     3\t1,5,6,7,8,world\n",
            "     4\t2,9,10,11,12,foo\n"
          ],
          "name": "stdout"
        }
      ]
    },
    {
      "cell_type": "code",
      "metadata": {
        "id": "MQ_yp5P-l5UA"
      },
      "source": [
        ""
      ],
      "execution_count": null,
      "outputs": []
    }
  ]
}