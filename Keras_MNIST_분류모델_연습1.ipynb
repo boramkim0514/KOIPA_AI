{
  "nbformat": 4,
  "nbformat_minor": 0,
  "metadata": {
    "colab": {
      "name": "Keras_MNIST 분류모델 연습1.ipynb",
      "provenance": [],
      "collapsed_sections": [],
      "authorship_tag": "ABX9TyPSe/vm0HfLBvA8I/2lUYiw",
      "include_colab_link": true
    },
    "kernelspec": {
      "name": "python3",
      "display_name": "Python 3"
    },
    "language_info": {
      "name": "python"
    }
  },
  "cells": [
    {
      "cell_type": "markdown",
      "metadata": {
        "id": "view-in-github",
        "colab_type": "text"
      },
      "source": [
        "<a href=\"https://colab.research.google.com/github/boramkim0514/KOIPA_AI/blob/main/Keras_MNIST_%EB%B6%84%EB%A5%98%EB%AA%A8%EB%8D%B8_%EC%97%B0%EC%8A%B51.ipynb\" target=\"_parent\"><img src=\"https://colab.research.google.com/assets/colab-badge.svg\" alt=\"Open In Colab\"/></a>"
      ]
    },
    {
      "cell_type": "code",
      "metadata": {
        "id": "gY9PXquxy8Y0"
      },
      "source": [
        "import tensorflow as tf\n",
        "from tensorflow.keras import datasets"
      ],
      "execution_count": 4,
      "outputs": []
    },
    {
      "cell_type": "code",
      "metadata": {
        "colab": {
          "base_uri": "https://localhost:8080/"
        },
        "id": "ETRU_U1x__S5",
        "outputId": "1d670218-b388-4196-fe56-197d5cb3d575"
      },
      "source": [
        "mnist = datasets.mnist  #datasets에서 mnist를 찾아서 변수로  생성\n",
        "\n",
        "(X_train, y_train), (X_test, y_test) = mnist.load_data()  #훈련과 테스트용으로 데이터 세트 나누기"
      ],
      "execution_count": 5,
      "outputs": [
        {
          "output_type": "stream",
          "text": [
            "Downloading data from https://storage.googleapis.com/tensorflow/tf-keras-datasets/mnist.npz\n",
            "11493376/11490434 [==============================] - 0s 0us/step\n"
          ],
          "name": "stdout"
        }
      ]
    },
    {
      "cell_type": "code",
      "metadata": {
        "colab": {
          "base_uri": "https://localhost:8080/"
        },
        "id": "dDuJ_9WPkBwK",
        "outputId": "12e3e422-38c4-4a51-aea2-525b7f9503ee"
      },
      "source": [
        "X_train.ndim  #dimension  화인  "
      ],
      "execution_count": 48,
      "outputs": [
        {
          "output_type": "execute_result",
          "data": {
            "text/plain": [
              "3"
            ]
          },
          "metadata": {
            "tags": []
          },
          "execution_count": 48
        }
      ]
    },
    {
      "cell_type": "code",
      "metadata": {
        "id": "67X3JCIYDqiG",
        "colab": {
          "base_uri": "https://localhost:8080/"
        },
        "outputId": "85cd4ce5-c23f-41bd-d655-ab4501a9534c"
      },
      "source": [
        "X_train"
      ],
      "execution_count": 12,
      "outputs": [
        {
          "output_type": "execute_result",
          "data": {
            "text/plain": [
              "array([[[0., 0., 0., ..., 0., 0., 0.],\n",
              "        [0., 0., 0., ..., 0., 0., 0.],\n",
              "        [0., 0., 0., ..., 0., 0., 0.],\n",
              "        ...,\n",
              "        [0., 0., 0., ..., 0., 0., 0.],\n",
              "        [0., 0., 0., ..., 0., 0., 0.],\n",
              "        [0., 0., 0., ..., 0., 0., 0.]],\n",
              "\n",
              "       [[0., 0., 0., ..., 0., 0., 0.],\n",
              "        [0., 0., 0., ..., 0., 0., 0.],\n",
              "        [0., 0., 0., ..., 0., 0., 0.],\n",
              "        ...,\n",
              "        [0., 0., 0., ..., 0., 0., 0.],\n",
              "        [0., 0., 0., ..., 0., 0., 0.],\n",
              "        [0., 0., 0., ..., 0., 0., 0.]],\n",
              "\n",
              "       [[0., 0., 0., ..., 0., 0., 0.],\n",
              "        [0., 0., 0., ..., 0., 0., 0.],\n",
              "        [0., 0., 0., ..., 0., 0., 0.],\n",
              "        ...,\n",
              "        [0., 0., 0., ..., 0., 0., 0.],\n",
              "        [0., 0., 0., ..., 0., 0., 0.],\n",
              "        [0., 0., 0., ..., 0., 0., 0.]],\n",
              "\n",
              "       ...,\n",
              "\n",
              "       [[0., 0., 0., ..., 0., 0., 0.],\n",
              "        [0., 0., 0., ..., 0., 0., 0.],\n",
              "        [0., 0., 0., ..., 0., 0., 0.],\n",
              "        ...,\n",
              "        [0., 0., 0., ..., 0., 0., 0.],\n",
              "        [0., 0., 0., ..., 0., 0., 0.],\n",
              "        [0., 0., 0., ..., 0., 0., 0.]],\n",
              "\n",
              "       [[0., 0., 0., ..., 0., 0., 0.],\n",
              "        [0., 0., 0., ..., 0., 0., 0.],\n",
              "        [0., 0., 0., ..., 0., 0., 0.],\n",
              "        ...,\n",
              "        [0., 0., 0., ..., 0., 0., 0.],\n",
              "        [0., 0., 0., ..., 0., 0., 0.],\n",
              "        [0., 0., 0., ..., 0., 0., 0.]],\n",
              "\n",
              "       [[0., 0., 0., ..., 0., 0., 0.],\n",
              "        [0., 0., 0., ..., 0., 0., 0.],\n",
              "        [0., 0., 0., ..., 0., 0., 0.],\n",
              "        ...,\n",
              "        [0., 0., 0., ..., 0., 0., 0.],\n",
              "        [0., 0., 0., ..., 0., 0., 0.],\n",
              "        [0., 0., 0., ..., 0., 0., 0.]]])"
            ]
          },
          "metadata": {
            "tags": []
          },
          "execution_count": 12
        }
      ]
    },
    {
      "cell_type": "code",
      "metadata": {
        "colab": {
          "base_uri": "https://localhost:8080/"
        },
        "id": "Cau9YND_AGP0",
        "outputId": "e59bdf57-f432-4ba5-bf8c-bdc6fab68d59"
      },
      "source": [
        "X_train.shape, y_train.shape #train set shape  확인"
      ],
      "execution_count": 7,
      "outputs": [
        {
          "output_type": "execute_result",
          "data": {
            "text/plain": [
              "((60000, 28, 28), (60000,))"
            ]
          },
          "metadata": {
            "tags": []
          },
          "execution_count": 7
        }
      ]
    },
    {
      "cell_type": "code",
      "metadata": {
        "colab": {
          "base_uri": "https://localhost:8080/"
        },
        "id": "mAVRHrtJB0Gf",
        "outputId": "6962bdf8-30ae-4a91-a6cb-b0a80b649289"
      },
      "source": [
        "X_test.shape, y_test.shape  # test set shape 확인해보고싶어서  (배치  갯수의 변화)"
      ],
      "execution_count": 8,
      "outputs": [
        {
          "output_type": "execute_result",
          "data": {
            "text/plain": [
              "((10000, 28, 28), (10000,))"
            ]
          },
          "metadata": {
            "tags": []
          },
          "execution_count": 8
        }
      ]
    },
    {
      "cell_type": "markdown",
      "metadata": {
        "id": "mq2NkfaVA0Op"
      },
      "source": [
        "Fully Connected Layer 를 사용하기 위해 평탄화(필요시 OHE  진행)\n"
      ]
    },
    {
      "cell_type": "markdown",
      "metadata": {
        "id": "dBt1dZrBA-jh"
      },
      "source": [
        "#Keras\n",
        "tensorflow를 기반으로 하는 유명 논문, 레이어 구현해놓은 패키지\n"
      ]
    },
    {
      "cell_type": "markdown",
      "metadata": {
        "id": "2jVGIBHfBGOY"
      },
      "source": [
        "# Fully Connected Layer 모델링 준비\n",
        "    * 레이어들은 tf.keras.layers 패키지에 모두 들어 있음\n",
        "    * Flatten Layer : 배치를 제외한 평탄화 담당\n",
        "    * Dense Layer : Affine 연산 담당\n",
        "    * Activation Layer : 활성화  함수 레이어 (선택에 따라 사용을 안할수도 있음((\n",
        "    "
      ]
    },
    {
      "cell_type": "code",
      "metadata": {
        "id": "zre4E-LsBen2"
      },
      "source": [
        "X_train = X_train /255.0 #정규화 or 평탄화 과정??\n",
        "X_test = X_test /255.0"
      ],
      "execution_count": 9,
      "outputs": []
    },
    {
      "cell_type": "markdown",
      "metadata": {
        "id": "yQ4D8cZNBrCU"
      },
      "source": [
        "#  Fully Connected Layer  모델링\n",
        "  *  계산그래프 생성\n",
        "  * Model 객체 생성시 계산그래프 생성"
      ]
    },
    {
      "cell_type": "code",
      "metadata": {
        "colab": {
          "base_uri": "https://localhost:8080/"
        },
        "id": "leetK0xqBuwN",
        "outputId": "768561f5-b9c8-401a-9e6f-3efb237b001d"
      },
      "source": [
        "from tensorflow.keras.layers import Dense, Flatten, Activation, Input # keras tensorflow 패캐지에서 관련  layer 불러오기 \n",
        "\n",
        "input  =  Input(shape=(28, 28)) #Hin, Win에 해당할 듯? input 변수에 Input 함수 레이어에 shape이 28,  28  배열을 넣기?   \n",
        "net = Flatten()(input)\n",
        "\n",
        "# 은닉층\n",
        "net = Dense(512)(net)\n",
        "net = Activation(\"relu\")(net)\n",
        "\n",
        "net = Dense(256)(net)\n",
        "net = Activation(\"relu\")(net)\n",
        "\n",
        "# 출력층 \n",
        "net = Dense(10)(net)\n",
        "net = Activation(\"softmax\")(net)\n",
        "\n",
        "# 모델 생성 - 계산그래프 세션 내에 생성된다\n",
        "model = tf.keras.Model(inputs=input, outputs=net, name='BASIC_MNIST')\n",
        "model.summary() #모델 요약"
      ],
      "execution_count": 10,
      "outputs": [
        {
          "output_type": "stream",
          "text": [
            "Model: \"BASIC_MNIST\"\n",
            "_________________________________________________________________\n",
            "Layer (type)                 Output Shape              Param #   \n",
            "=================================================================\n",
            "input_1 (InputLayer)         [(None, 28, 28)]          0         \n",
            "_________________________________________________________________\n",
            "flatten (Flatten)            (None, 784)               0         \n",
            "_________________________________________________________________\n",
            "dense (Dense)                (None, 512)               401920    \n",
            "_________________________________________________________________\n",
            "activation (Activation)      (None, 512)               0         \n",
            "_________________________________________________________________\n",
            "dense_1 (Dense)              (None, 256)               131328    \n",
            "_________________________________________________________________\n",
            "activation_1 (Activation)    (None, 256)               0         \n",
            "_________________________________________________________________\n",
            "dense_2 (Dense)              (None, 10)                2570      \n",
            "_________________________________________________________________\n",
            "activation_2 (Activation)    (None, 10)                0         \n",
            "=================================================================\n",
            "Total params: 535,818\n",
            "Trainable params: 535,818\n",
            "Non-trainable params: 0\n",
            "_________________________________________________________________\n"
          ],
          "name": "stdout"
        }
      ]
    },
    {
      "cell_type": "markdown",
      "metadata": {
        "id": "-f-M_OnCVfoR"
      },
      "source": [
        "#  최적화 계획 세우기\n",
        "* Loss Function(손실  함수)  -  MSE, CEE 쓸지를 결정\n",
        "* Optimization(최적화 함수) - SGD, ADAM, RMSProp을 쓸지를 결정\n",
        "* Metrics - 테스트 세트에 대한 평가 기준"
      ]
    },
    {
      "cell_type": "markdown",
      "metadata": {
        "id": "EmLbFJBBWC2Z"
      },
      "source": [
        "# Loss Function 선정 기준\n",
        "  *  이진 분류를 수행하는 경우(Binary Classification)\n",
        "    *  mse : 출력층의 뉴런이 1개인 경우 -  with sigmoid\n",
        "    * cross entropy error : 출력층의 뉴런이 2개인 경우 - with softmax(제일 자주 사용되는  방법)\n",
        "        *  binary_crossentropy를 사용하면 된다\n",
        "  *  다중 분류를 수행하는 경우 (Multiclass Classification)\n",
        "    * cross entropy error : 출력층의 뉴런을 클래스의 개수만큼 설정\n",
        "        *  categorical_crossentropy 를 사용하면 된다"
      ]
    },
    {
      "cell_type": "markdown",
      "metadata": {
        "id": "OLKNkQeajFzj"
      },
      "source": [
        "# Categorical Cross Entorpy의 종류\n",
        "  *  Label이 [0,  1,  2]처럼 OHE이 안된경우, sparse_categorical_crossentropy사용\n",
        "  *  OHE 된 경우,  categorical_crossentropy  사용   "
      ]
    },
    {
      "cell_type": "markdown",
      "metadata": {
        "id": "eP9GzWDTjjT6"
      },
      "source": [
        "y_train을 확인해서 어떤 Loss function을 사용할지 결정"
      ]
    },
    {
      "cell_type": "code",
      "metadata": {
        "colab": {
          "base_uri": "https://localhost:8080/"
        },
        "id": "iEF4Sliij2cm",
        "outputId": "76593910-5e2c-48d0-d4a6-dbc69fac9eb6"
      },
      "source": [
        "y_train.shape"
      ],
      "execution_count": 11,
      "outputs": [
        {
          "output_type": "execute_result",
          "data": {
            "text/plain": [
              "(60000,)"
            ]
          },
          "metadata": {
            "tags": []
          },
          "execution_count": 11
        }
      ]
    },
    {
      "cell_type": "code",
      "metadata": {
        "colab": {
          "base_uri": "https://localhost:8080/"
        },
        "id": "q7r7pTs_j4Ty",
        "outputId": "902caff9-eccf-4eb6-f8a7-95aef1bdc365"
      },
      "source": [
        "y_train[:3]"
      ],
      "execution_count": 17,
      "outputs": [
        {
          "output_type": "execute_result",
          "data": {
            "text/plain": [
              "array([5, 0, 4], dtype=uint8)"
            ]
          },
          "metadata": {
            "tags": []
          },
          "execution_count": 17
        }
      ]
    },
    {
      "cell_type": "code",
      "metadata": {
        "colab": {
          "base_uri": "https://localhost:8080/"
        },
        "id": "5SIDORlezSRX",
        "outputId": "1726a9ab-eca2-4b33-a0c6-bd27a3616e4f"
      },
      "source": [
        "loss_func = tf.keras.losses.sparse_categorical_crossentropy\n",
        "loss_func"
      ],
      "execution_count": 19,
      "outputs": [
        {
          "output_type": "execute_result",
          "data": {
            "text/plain": [
              "<function tensorflow.python.keras.losses.sparse_categorical_crossentropy>"
            ]
          },
          "metadata": {
            "tags": []
          },
          "execution_count": 19
        }
      ]
    },
    {
      "cell_type": "code",
      "metadata": {
        "colab": {
          "base_uri": "https://localhost:8080/"
        },
        "id": "MG0V86nMzX1P",
        "outputId": "4703f9cb-c571-45db-e909-651db2033fee"
      },
      "source": [
        "y_train.shape"
      ],
      "execution_count": 23,
      "outputs": [
        {
          "output_type": "execute_result",
          "data": {
            "text/plain": [
              "(60000,)"
            ]
          },
          "metadata": {
            "tags": []
          },
          "execution_count": 23
        }
      ]
    },
    {
      "cell_type": "code",
      "metadata": {
        "colab": {
          "base_uri": "https://localhost:8080/"
        },
        "id": "_lEgBWPhzcD9",
        "outputId": "46082349-f126-4913-fe38-0a24a8402157"
      },
      "source": [
        "# OHE 되어있을 경우\n",
        "tf.keras.losses.categorical_crossentropy "
      ],
      "execution_count": 24,
      "outputs": [
        {
          "output_type": "execute_result",
          "data": {
            "text/plain": [
              "<function tensorflow.python.keras.losses.categorical_crossentropy>"
            ]
          },
          "metadata": {
            "tags": []
          },
          "execution_count": 24
        }
      ]
    },
    {
      "cell_type": "code",
      "metadata": {
        "colab": {
          "base_uri": "https://localhost:8080/"
        },
        "id": "1a89vlqgzxzv",
        "outputId": "9469d7a0-335f-4420-c070-48f1d60f6b8f"
      },
      "source": [
        "#이진분류면 binary_crossentropy\n",
        "tf.keras.losses.binary_crossentropy "
      ],
      "execution_count": 25,
      "outputs": [
        {
          "output_type": "execute_result",
          "data": {
            "text/plain": [
              "<function tensorflow.python.keras.losses.binary_crossentropy>"
            ]
          },
          "metadata": {
            "tags": []
          },
          "execution_count": 25
        }
      ]
    },
    {
      "cell_type": "markdown",
      "metadata": {
        "id": "VQixg3itz5Nx"
      },
      "source": [
        "# optimizer 설정\n",
        "*  SGD - tf.keras.optimizer.SGD()\n",
        "* rmsprops - tf.keras.optimizer.RMSprop()\n",
        "* adam - tf.keras.optimizers.Adam() #  일반적으로 제일 많이 쓰는 기법\n"
      ]
    },
    {
      "cell_type": "code",
      "metadata": {
        "colab": {
          "base_uri": "https://localhost:8080/"
        },
        "id": "tiG5_s3Mz9Uw",
        "outputId": "79fe31ad-4fa8-4dfe-cd77-fbfbaf109e09"
      },
      "source": [
        "optm = tf.keras.optimizers.Adam()\n",
        "optm"
      ],
      "execution_count": 26,
      "outputs": [
        {
          "output_type": "execute_result",
          "data": {
            "text/plain": [
              "<tensorflow.python.keras.optimizer_v2.adam.Adam at 0x7f5c9c521dd0>"
            ]
          },
          "metadata": {
            "tags": []
          },
          "execution_count": 26
        }
      ]
    },
    {
      "cell_type": "markdown",
      "metadata": {
        "id": "2Y_QIPWc0SfY"
      },
      "source": [
        "# 테스트 세트 평가방법(Metrics)선정\n",
        "    *  evalute"
      ]
    },
    {
      "cell_type": "code",
      "metadata": {
        "id": "a2cen7JW1AxH"
      },
      "source": [
        "metrics = ['accuracy']\n",
        "#metrics = ['acc']\n",
        "#metrics = [tf.keras.metrics.Accuracy()]"
      ],
      "execution_count": 27,
      "outputs": []
    },
    {
      "cell_type": "markdown",
      "metadata": {
        "id": "6zStmI2c1MAv"
      },
      "source": [
        "# 모던 컴파일\n",
        "    *  텐서플로우 세션에 위치한 계산그래프에 데이터를 집어넣기 직전 작업을 완료\n",
        "    *  손실함수 이진분류 \n",
        "        *  (출력층 1개: MSE - sigmoid, 출력층 2개 경우:CEE - softmax)binray_crossentropy 사용\n",
        "    * MSE, CEE(Sparse/categorical_rossentropy),  최적화(SGD, RMSprop,Adam),  평가 방법들(tf.keras.metrics.Accuracy())을 계산그래프에 적용\n"
      ]
    },
    {
      "cell_type": "code",
      "metadata": {
        "id": "ROIccp0s3kfI"
      },
      "source": [
        "model.compile(\n",
        "    optimizer=optm,\n",
        "    loss=loss_func,\n",
        "    metrics=metrics\n",
        "    )"
      ],
      "execution_count": 44,
      "outputs": []
    },
    {
      "cell_type": "markdown",
      "metadata": {
        "id": "LUfUjxXs4AJD"
      },
      "source": [
        "# 훈련용 하이퍼 파라미터 설정\n",
        "  * 에폭 횟수(num_epochs)\n",
        "  * 배치  크기(batch_size)"
      ]
    },
    {
      "cell_type": "code",
      "metadata": {
        "id": "TN8ImF4x4L7a"
      },
      "source": [
        "num_epochs = 10\n",
        "batch_size = 32"
      ],
      "execution_count": 45,
      "outputs": []
    },
    {
      "cell_type": "markdown",
      "metadata": {
        "id": "YZB_ziX84Q-6"
      },
      "source": [
        "# 훈련 시작\n",
        "    * fit"
      ]
    },
    {
      "cell_type": "code",
      "metadata": {
        "colab": {
          "base_uri": "https://localhost:8080/"
        },
        "id": "JJglUYhv4bgB",
        "outputId": "ef3c17b0-8033-4094-8350-f825ade3ebcf"
      },
      "source": [
        "model.fit(\n",
        "    X_train, #  훈련 X  데이터(feature)\n",
        "    y_train, # 훈련 y 레이블(target)\n",
        "    batch_size=batch_size, #배치 사이즈\n",
        "    epochs=num_epochs, #에폭 횟수\n",
        "    shuffle=True,  #데이터를 섞어가면서 훈련\n",
        "    validation_split=0.2  #검증 세트 비율 \n",
        ")"
      ],
      "execution_count": 46,
      "outputs": [
        {
          "output_type": "stream",
          "text": [
            "Epoch 1/10\n",
            "1500/1500 [==============================] - 13s 8ms/step - loss: 0.2061 - accuracy: 0.9375 - val_loss: 0.1114 - val_accuracy: 0.9667\n",
            "Epoch 2/10\n",
            "1500/1500 [==============================] - 11s 7ms/step - loss: 0.0869 - accuracy: 0.9729 - val_loss: 0.0922 - val_accuracy: 0.9737\n",
            "Epoch 3/10\n",
            "1500/1500 [==============================] - 12s 8ms/step - loss: 0.0544 - accuracy: 0.9820 - val_loss: 0.1294 - val_accuracy: 0.9609\n",
            "Epoch 4/10\n",
            "1500/1500 [==============================] - 12s 8ms/step - loss: 0.0441 - accuracy: 0.9858 - val_loss: 0.1022 - val_accuracy: 0.9736\n",
            "Epoch 5/10\n",
            "1500/1500 [==============================] - 12s 8ms/step - loss: 0.0332 - accuracy: 0.9890 - val_loss: 0.1046 - val_accuracy: 0.9739\n",
            "Epoch 6/10\n",
            "1500/1500 [==============================] - 12s 8ms/step - loss: 0.0284 - accuracy: 0.9909 - val_loss: 0.0992 - val_accuracy: 0.9757\n",
            "Epoch 7/10\n",
            "1500/1500 [==============================] - 11s 8ms/step - loss: 0.0248 - accuracy: 0.9921 - val_loss: 0.1399 - val_accuracy: 0.9676\n",
            "Epoch 8/10\n",
            "1500/1500 [==============================] - 12s 8ms/step - loss: 0.0229 - accuracy: 0.9928 - val_loss: 0.1080 - val_accuracy: 0.9755\n",
            "Epoch 9/10\n",
            "1500/1500 [==============================] - 12s 8ms/step - loss: 0.0175 - accuracy: 0.9945 - val_loss: 0.1185 - val_accuracy: 0.9741\n",
            "Epoch 10/10\n",
            "1500/1500 [==============================] - 12s 8ms/step - loss: 0.0179 - accuracy: 0.9940 - val_loss: 0.1254 - val_accuracy: 0.9759\n"
          ],
          "name": "stdout"
        },
        {
          "output_type": "execute_result",
          "data": {
            "text/plain": [
              "<tensorflow.python.keras.callbacks.History at 0x7f5c9c38add0>"
            ]
          },
          "metadata": {
            "tags": []
          },
          "execution_count": 46
        }
      ]
    },
    {
      "cell_type": "markdown",
      "metadata": {
        "id": "ZpER3_-F4zLP"
      },
      "source": [
        "#  런칭 직전 평가\n",
        "    *  evaluate\n"
      ]
    },
    {
      "cell_type": "code",
      "metadata": {
        "colab": {
          "base_uri": "https://localhost:8080/"
        },
        "id": "-NGXMio354M_",
        "outputId": "fdd0310a-c2e5-4567-e391-19800aced9b2"
      },
      "source": [
        "model.evaluate(X_test, y_test)"
      ],
      "execution_count": 47,
      "outputs": [
        {
          "output_type": "stream",
          "text": [
            "313/313 [==============================] - 2s 4ms/step - loss: 0.1043 - accuracy: 0.9779\n"
          ],
          "name": "stdout"
        },
        {
          "output_type": "execute_result",
          "data": {
            "text/plain": [
              "[0.10425996035337448, 0.9779000282287598]"
            ]
          },
          "metadata": {
            "tags": []
          },
          "execution_count": 47
        }
      ]
    },
    {
      "cell_type": "code",
      "metadata": {
        "id": "rm5H46UO56UW"
      },
      "source": [
        ""
      ],
      "execution_count": null,
      "outputs": []
    }
  ]
}