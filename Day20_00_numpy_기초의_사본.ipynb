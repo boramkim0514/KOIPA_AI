{
  "nbformat": 4,
  "nbformat_minor": 0,
  "metadata": {
    "colab": {
      "name": "Day20.00. numpy  기초의 사본",
      "provenance": [],
      "collapsed_sections": [],
      "include_colab_link": true
    },
    "kernelspec": {
      "name": "python3",
      "display_name": "Python 3"
    },
    "language_info": {
      "name": "python"
    }
  },
  "cells": [
    {
      "cell_type": "markdown",
      "metadata": {
        "id": "view-in-github",
        "colab_type": "text"
      },
      "source": [
        "<a href=\"https://colab.research.google.com/github/boramkim0514/python01/blob/main/Day20_00_numpy_%EA%B8%B0%EC%B4%88%EC%9D%98_%EC%82%AC%EB%B3%B8.ipynb\" target=\"_parent\"><img src=\"https://colab.research.google.com/assets/colab-badge.svg\" alt=\"Open In Colab\"/></a>"
      ]
    },
    {
      "cell_type": "code",
      "metadata": {
        "id": "17oAL5cYJn17"
      },
      "source": [
        "import numpy as np"
      ],
      "execution_count": 7,
      "outputs": []
    },
    {
      "cell_type": "markdown",
      "metadata": {
        "id": "k2lt4rTXJ4yP"
      },
      "source": [
        "* numeric python\n",
        "* 수치 연산을 위한 파이썬 라이브러리\n",
        "  * 과학에 관련된 모듈 `scipy`\n",
        "* 일반 파이썬을 이용할 때 보다 수치 연산에 관해 훨씬 빠르다.\n",
        "* **배열 병렬 연산에 특화**"
      ]
    },
    {
      "cell_type": "markdown",
      "metadata": {
        "id": "uacj6RUSKTiN"
      },
      "source": [
        "# 1. numpy의 배열을 ndarray라고 한다."
      ]
    },
    {
      "cell_type": "code",
      "metadata": {
        "colab": {
          "base_uri": "https://localhost:8080/"
        },
        "id": "NWOCNJYOKz0E",
        "outputId": "cefdb363-6b8e-4999-e9c7-36df3e87d8e5"
      },
      "source": [
        "# 1. python의 list를 ndarray화 할 수 있다.\n",
        "py_list = [1, 2, 3]\n",
        "arr1 = np.array(py_list)\n",
        "arr1"
      ],
      "execution_count": 8,
      "outputs": [
        {
          "output_type": "execute_result",
          "data": {
            "text/plain": [
              "array([1, 2, 3])"
            ]
          },
          "metadata": {
            "tags": []
          },
          "execution_count": 8
        }
      ]
    },
    {
      "cell_type": "code",
      "metadata": {
        "colab": {
          "base_uri": "https://localhost:8080/"
        },
        "id": "nMj314LTLD3F",
        "outputId": "e0b8b973-8909-4a6a-fcb9-37fcb0ba197b"
      },
      "source": [
        "# 타입 확인\n",
        "type(arr1)"
      ],
      "execution_count": 9,
      "outputs": [
        {
          "output_type": "execute_result",
          "data": {
            "text/plain": [
              "numpy.ndarray"
            ]
          },
          "metadata": {
            "tags": []
          },
          "execution_count": 9
        }
      ]
    },
    {
      "cell_type": "markdown",
      "metadata": {
        "id": "PVucHMHtLrJ2"
      },
      "source": [
        "# np.full\n",
        "* 사용 빈도 낮음"
      ]
    },
    {
      "cell_type": "code",
      "metadata": {
        "colab": {
          "base_uri": "https://localhost:8080/"
        },
        "id": "I0n7bP3AMV7q",
        "outputId": "ee003287-c032-4ff0-e65c-61469a98e29c"
      },
      "source": [
        "# 5로 채워진 다차원 배열을 만들고 싶어요\n",
        "np.zeros((2, 3)) # 딥러닝이나 머신러닝에서 편향(bias) 초기값"
      ],
      "execution_count": 10,
      "outputs": [
        {
          "output_type": "execute_result",
          "data": {
            "text/plain": [
              "array([[0., 0., 0.],\n",
              "       [0., 0., 0.]])"
            ]
          },
          "metadata": {
            "tags": []
          },
          "execution_count": 10
        }
      ]
    },
    {
      "cell_type": "code",
      "metadata": {
        "colab": {
          "base_uri": "https://localhost:8080/"
        },
        "id": "5Hz4EA7hMazm",
        "outputId": "0daf14e7-7dfc-4161-fe79-446afbdbeebe"
      },
      "source": [
        "np.ones((2, 3))"
      ],
      "execution_count": 11,
      "outputs": [
        {
          "output_type": "execute_result",
          "data": {
            "text/plain": [
              "array([[1., 1., 1.],\n",
              "       [1., 1., 1.]])"
            ]
          },
          "metadata": {
            "tags": []
          },
          "execution_count": 11
        }
      ]
    },
    {
      "cell_type": "code",
      "metadata": {
        "colab": {
          "base_uri": "https://localhost:8080/"
        },
        "id": "mbavhIGXMd6M",
        "outputId": "a4765588-df8f-4c3b-c3aa-3ef7bd6c8f8b"
      },
      "source": [
        "# 5로 채워진 배열 만들기\n",
        "np.ones((2, 3)) * 5"
      ],
      "execution_count": 12,
      "outputs": [
        {
          "output_type": "execute_result",
          "data": {
            "text/plain": [
              "array([[5., 5., 5.],\n",
              "       [5., 5., 5.]])"
            ]
          },
          "metadata": {
            "tags": []
          },
          "execution_count": 12
        }
      ]
    },
    {
      "cell_type": "code",
      "metadata": {
        "colab": {
          "base_uri": "https://localhost:8080/"
        },
        "id": "3QdZK9tWMhOb",
        "outputId": "9b280f79-3d66-4980-c881-fc2e1ad9ee90"
      },
      "source": [
        "np.full((2, 3), 5)"
      ],
      "execution_count": 13,
      "outputs": [
        {
          "output_type": "execute_result",
          "data": {
            "text/plain": [
              "array([[5, 5, 5],\n",
              "       [5, 5, 5]])"
            ]
          },
          "metadata": {
            "tags": []
          },
          "execution_count": 13
        }
      ]
    },
    {
      "cell_type": "markdown",
      "metadata": {
        "id": "GeEmPi-EMnmW"
      },
      "source": [
        "# 점구간 만들기\n",
        "* np.linspace\n",
        "* 시각화에서 선을 그을 용도로 보통 사용"
      ]
    },
    {
      "cell_type": "code",
      "metadata": {
        "colab": {
          "base_uri": "https://localhost:8080/"
        },
        "id": "FlxoucbRM9mk",
        "outputId": "964a4936-f444-4c5c-b0a2-08c2cbe7e7b3"
      },
      "source": [
        "np.linspace(1, 10, 3) # 1부터 10까지 3개의 수를 균일한 구간으로 만든다. -> 2개의 구간을 생성"
      ],
      "execution_count": 14,
      "outputs": [
        {
          "output_type": "execute_result",
          "data": {
            "text/plain": [
              "array([ 1. ,  5.5, 10. ])"
            ]
          },
          "metadata": {
            "tags": []
          },
          "execution_count": 14
        }
      ]
    },
    {
      "cell_type": "code",
      "metadata": {
        "colab": {
          "base_uri": "https://localhost:8080/"
        },
        "id": "sJhZKVXaNH60",
        "outputId": "6751d49f-9001-45d5-a9a5-ef231ab4aa82"
      },
      "source": [
        "np.linspace(1, 10, 4)"
      ],
      "execution_count": 15,
      "outputs": [
        {
          "output_type": "execute_result",
          "data": {
            "text/plain": [
              "array([ 1.,  4.,  7., 10.])"
            ]
          },
          "metadata": {
            "tags": []
          },
          "execution_count": 15
        }
      ]
    },
    {
      "cell_type": "code",
      "metadata": {
        "colab": {
          "base_uri": "https://localhost:8080/"
        },
        "id": "pVOBMapiNZ2D",
        "outputId": "bd46c37a-f7b1-419f-aad0-a9bda198038b"
      },
      "source": [
        "np.linspace(1, 10, 5)"
      ],
      "execution_count": 16,
      "outputs": [
        {
          "output_type": "execute_result",
          "data": {
            "text/plain": [
              "array([ 1.  ,  3.25,  5.5 ,  7.75, 10.  ])"
            ]
          },
          "metadata": {
            "tags": []
          },
          "execution_count": 16
        }
      ]
    },
    {
      "cell_type": "markdown",
      "metadata": {
        "id": "u039ZiPhNbzT"
      },
      "source": [
        "# Random을 사용하기 위한 Numpy\n",
        "* 랜덤 배열은 **딥러닝**에서 매개변수(`가중치 W`,`편향 b`)를 초기화 하기 위해서 사용\n",
        "* 초기화 : 최초에 가지고 있는 값을 만드는 과정\n",
        "\n",
        "**번외**\n",
        "* 생성자? : 객체 초기화 메소드\n",
        "  - 클래스를 이용해서 객체를 만들 때 객체가 처음 가지고 있어야 하는 값을 세팅하는 메소드"
      ]
    },
    {
      "cell_type": "markdown",
      "metadata": {
        "id": "x4H0EEZCNrxN"
      },
      "source": [
        "## 완전 랜덤 만들기\n",
        "* `np.random.rand` : 정규 분포나 균등분포가 아닌 완벽한 랜덤"
      ]
    },
    {
      "cell_type": "code",
      "metadata": {
        "colab": {
          "base_uri": "https://localhost:8080/"
        },
        "id": "Fli6t4ifTns3",
        "outputId": "dd314e1e-0278-4d6d-da36-f4e40546a1e6"
      },
      "source": [
        "np.random.rand( 2, 3 )"
      ],
      "execution_count": 17,
      "outputs": [
        {
          "output_type": "execute_result",
          "data": {
            "text/plain": [
              "array([[0.97652541, 0.27131899, 0.15435745],\n",
              "       [0.71873665, 0.43094822, 0.79057956]])"
            ]
          },
          "metadata": {
            "tags": []
          },
          "execution_count": 17
        }
      ]
    },
    {
      "cell_type": "code",
      "metadata": {
        "colab": {
          "base_uri": "https://localhost:8080/"
        },
        "id": "UxJqEqJPTu0I",
        "outputId": "ec89a159-d8f8-497f-ab52-1de88bd2f759"
      },
      "source": [
        "np.random.rand(2, 3, 4)"
      ],
      "execution_count": 18,
      "outputs": [
        {
          "output_type": "execute_result",
          "data": {
            "text/plain": [
              "array([[[0.46982977, 0.91661337, 0.0684967 , 0.41571035],\n",
              "        [0.01743807, 0.22279501, 0.21497235, 0.81062624],\n",
              "        [0.81287567, 0.4707799 , 0.59431814, 0.27171804]],\n",
              "\n",
              "       [[0.97459102, 0.25467419, 0.06029769, 0.64375299],\n",
              "        [0.42223235, 0.80887916, 0.85707717, 0.5084666 ],\n",
              "        [0.61348158, 0.4354113 , 0.61253845, 0.2156822 ]]])"
            ]
          },
          "metadata": {
            "tags": []
          },
          "execution_count": 18
        }
      ]
    },
    {
      "cell_type": "markdown",
      "metadata": {
        "id": "jksFD_fyTyL2"
      },
      "source": [
        "## 정규분포 랜덤\n",
        "* `np.random.randn`"
      ]
    },
    {
      "cell_type": "code",
      "metadata": {
        "colab": {
          "base_uri": "https://localhost:8080/"
        },
        "id": "njuDNHPRT79N",
        "outputId": "dc83fdf9-edcd-4463-9f00-1e1582441a09"
      },
      "source": [
        "np.random.randn(16)"
      ],
      "execution_count": 19,
      "outputs": [
        {
          "output_type": "execute_result",
          "data": {
            "text/plain": [
              "array([ 2.3789727 ,  0.26308476,  1.16559519, -0.47352448, -1.46524684,\n",
              "        2.34336591,  0.47271605,  1.23433884,  0.30926479, -0.89626076,\n",
              "        0.98124565, -0.20981904,  0.05544566,  0.14488608, -0.59220569,\n",
              "        0.42147656])"
            ]
          },
          "metadata": {
            "tags": []
          },
          "execution_count": 19
        }
      ]
    },
    {
      "cell_type": "markdown",
      "metadata": {
        "id": "VbzoXh-nUa5e"
      },
      "source": [
        "정규 분포 랜덤은 딥러닝의 매개변수 초깃값으로 사용된다."
      ]
    },
    {
      "cell_type": "code",
      "metadata": {
        "colab": {
          "base_uri": "https://localhost:8080/"
        },
        "id": "YwN0XHn_Umu9",
        "outputId": "54198b44-c10a-4445-a095-f9cab8d19d27"
      },
      "source": [
        "np.random.randn(2, 3, 4)"
      ],
      "execution_count": 20,
      "outputs": [
        {
          "output_type": "execute_result",
          "data": {
            "text/plain": [
              "array([[[ 0.22854749,  0.07345862, -0.8926444 ,  0.01958414],\n",
              "        [-0.19390461,  1.65425552, -0.08383847,  0.38309272],\n",
              "        [ 0.19031556,  0.03620123,  0.28716091,  0.56221034]],\n",
              "\n",
              "       [[ 1.08685556, -0.27428934,  0.92895336, -0.05820996],\n",
              "        [ 0.32002237, -1.21761203, -0.25218237,  0.52163549],\n",
              "        [ 0.92562523, -0.08809244, -0.57262467, -0.53025339]]])"
            ]
          },
          "metadata": {
            "tags": []
          },
          "execution_count": 20
        }
      ]
    },
    {
      "cell_type": "markdown",
      "metadata": {
        "id": "n_8jKH9vUqHV"
      },
      "source": [
        "## 균등분포 랜덤\n",
        "* `np.random.uniform`"
      ]
    },
    {
      "cell_type": "code",
      "metadata": {
        "colab": {
          "base_uri": "https://localhost:8080/"
        },
        "id": "1OlpNu5UUxxd",
        "outputId": "c3b6daff-4a9d-4ea1-ee7b-4d4fcf732893"
      },
      "source": [
        "np.random.uniform(1.0, 3.0, size=(3, 4) )"
      ],
      "execution_count": 21,
      "outputs": [
        {
          "output_type": "execute_result",
          "data": {
            "text/plain": [
              "array([[2.90201393, 2.57980483, 1.64169418, 1.50719508],\n",
              "       [1.22495614, 2.02598084, 1.3854291 , 1.71186578],\n",
              "       [1.40728344, 2.10612774, 1.52917765, 1.93308528]])"
            ]
          },
          "metadata": {
            "tags": []
          },
          "execution_count": 21
        }
      ]
    },
    {
      "cell_type": "markdown",
      "metadata": {
        "id": "CYp5qUfhVFr2"
      },
      "source": [
        "## 정수 랜덤 샘플링\n",
        "* `np.random.choice`\n",
        "* 샘플링 : 전체에서 일부를 추출하는 행위\n",
        "* 딥러닝에서는 `mini-batch`를 만들 때 사용"
      ]
    },
    {
      "cell_type": "code",
      "metadata": {
        "colab": {
          "base_uri": "https://localhost:8080/"
        },
        "id": "_k0P-5nYWB_w",
        "outputId": "2d0a510b-2863-4f5e-a512-b7940f08b356"
      },
      "source": [
        "# 0 ~ 9까지의 정수를 랜덤하게 (2, 3) 배열 형태로 추출\n",
        "np.random.choice(10, size=(2, 3))"
      ],
      "execution_count": 22,
      "outputs": [
        {
          "output_type": "execute_result",
          "data": {
            "text/plain": [
              "array([[0, 8, 1],\n",
              "       [3, 3, 5]])"
            ]
          },
          "metadata": {
            "tags": []
          },
          "execution_count": 22
        }
      ]
    },
    {
      "cell_type": "code",
      "metadata": {
        "colab": {
          "base_uri": "https://localhost:8080/"
        },
        "id": "XTP7O4Q8WM03",
        "outputId": "01442a3c-1b7f-4a70-8028-13eb2b21cbe6"
      },
      "source": [
        "# 배열 내에서도 랜덤 추출이 가능\n",
        "arr = np.arange(1, 6)\n",
        "\n",
        "np.random.choice(arr, size=(2, 2))"
      ],
      "execution_count": 23,
      "outputs": [
        {
          "output_type": "execute_result",
          "data": {
            "text/plain": [
              "array([[2, 3],\n",
              "       [5, 1]])"
            ]
          },
          "metadata": {
            "tags": []
          },
          "execution_count": 23
        }
      ]
    },
    {
      "cell_type": "code",
      "metadata": {
        "colab": {
          "base_uri": "https://localhost:8080/"
        },
        "id": "IorvCPLKWlOU",
        "outputId": "f4f9812a-2509-44f3-c169-dd486926aab7"
      },
      "source": [
        "# 중복 추출 x - replace 옵션을 alse 주면 중복 추출 x\n",
        "np.random.choice(arr, size=(2, 2), replace=False)"
      ],
      "execution_count": 24,
      "outputs": [
        {
          "output_type": "execute_result",
          "data": {
            "text/plain": [
              "array([[1, 2],\n",
              "       [5, 4]])"
            ]
          },
          "metadata": {
            "tags": []
          },
          "execution_count": 24
        }
      ]
    },
    {
      "cell_type": "markdown",
      "metadata": {
        "id": "k12m1s53W2V8"
      },
      "source": [
        "## 랜덤 정수 배열 만들기\n",
        "* `np.random.randint`"
      ]
    },
    {
      "cell_type": "code",
      "metadata": {
        "colab": {
          "base_uri": "https://localhost:8080/"
        },
        "id": "7QzFs_A3XGHW",
        "outputId": "ba4088d6-81a6-4a8f-c992-35b40f52f198"
      },
      "source": [
        "arr1 = np.random.randint(1, 100, size=(5, ))\n",
        "arr1"
      ],
      "execution_count": 25,
      "outputs": [
        {
          "output_type": "execute_result",
          "data": {
            "text/plain": [
              "array([ 5,  4, 11, 91, 75])"
            ]
          },
          "metadata": {
            "tags": []
          },
          "execution_count": 25
        }
      ]
    },
    {
      "cell_type": "code",
      "metadata": {
        "colab": {
          "base_uri": "https://localhost:8080/"
        },
        "id": "rX8ODgAiXNGE",
        "outputId": "470dc0b4-9448-4be9-c4fa-8aaff65ca4d4"
      },
      "source": [
        "arr2 = np.random.randint(1, 100, size=(5, 1))\n",
        "arr2"
      ],
      "execution_count": 26,
      "outputs": [
        {
          "output_type": "execute_result",
          "data": {
            "text/plain": [
              "array([[42],\n",
              "       [51],\n",
              "       [95],\n",
              "       [81],\n",
              "       [46]])"
            ]
          },
          "metadata": {
            "tags": []
          },
          "execution_count": 26
        }
      ]
    },
    {
      "cell_type": "markdown",
      "metadata": {
        "id": "ltSIpo3cXUO0"
      },
      "source": [
        "# 다차원 배열에 대한 이야기\n",
        "* notion에 자세히 설명 되어 있어요\n",
        "  * 2.1 데이터와 행렬 참고하세요"
      ]
    },
    {
      "cell_type": "markdown",
      "metadata": {
        "id": "hBBMq-YJXmJm"
      },
      "source": [
        "## 스칼라 - scalar\n",
        "\n",
        "* 어떠한 실수값 $x$라고 정의합니다.\n",
        "  ```python\n",
        "    height = 180.1\n",
        "    age = 34.3\n",
        "  ```\n",
        "  * `height, age`를 스칼라라고 합니다.\n",
        "  * 0차원 데이터"
      ]
    },
    {
      "cell_type": "markdown",
      "metadata": {
        "id": "ZoXz8YxUYFoN"
      },
      "source": [
        "## 벡터 - vector\n",
        "* 실수값 $x$가 모여져 있는 것\n",
        "  ```python\n",
        "    heights=[180.1, 175.5, 163.3]\n",
        "  ```\n",
        "  * `heights`라는 벡터를 생성한 것\n",
        "  * `scalar`를 모은 것\n",
        "  * 1차원 배열\n",
        "  * 모아진 데이터의 개수가 `N`개라면 **N차원 벡터**라고 한다.\n",
        "  * 열벡터를 기본으로 한다."
      ]
    },
    {
      "cell_type": "code",
      "metadata": {
        "colab": {
          "base_uri": "https://localhost:8080/"
        },
        "id": "FKhiCuMeYm8w",
        "outputId": "496c1c91-f626-41f0-d31c-a8fc08296c59"
      },
      "source": [
        "# 행벡터의 모양을 하고 있지만, 1차원 배열이기 때문에 열벡터로 따져야 한다.\n",
        "heights_1 = np.array([180.1, 175.5, 163.3])\n",
        "heights_1 "
      ],
      "execution_count": 27,
      "outputs": [
        {
          "output_type": "execute_result",
          "data": {
            "text/plain": [
              "array([180.1, 175.5, 163.3])"
            ]
          },
          "metadata": {
            "tags": []
          },
          "execution_count": 27
        }
      ]
    },
    {
      "cell_type": "code",
      "metadata": {
        "colab": {
          "base_uri": "https://localhost:8080/"
        },
        "id": "P0ZDuXhqZvcb",
        "outputId": "377861cf-6333-4c5c-c88a-24eb989c9d24"
      },
      "source": [
        "heights_2 = np.array([[180.1],\n",
        "                      [175.5],\n",
        "                      [163.3]])\n",
        "heights_2"
      ],
      "execution_count": 28,
      "outputs": [
        {
          "output_type": "execute_result",
          "data": {
            "text/plain": [
              "array([[180.1],\n",
              "       [175.5],\n",
              "       [163.3]])"
            ]
          },
          "metadata": {
            "tags": []
          },
          "execution_count": 28
        }
      ]
    },
    {
      "cell_type": "code",
      "metadata": {
        "colab": {
          "base_uri": "https://localhost:8080/"
        },
        "id": "MA0JsOzTaA7y",
        "outputId": "e19f2046-3e1f-4550-8ea7-ca2bc1ec06fe"
      },
      "source": [
        "heights_1.shape, heights_2.shape"
      ],
      "execution_count": 29,
      "outputs": [
        {
          "output_type": "execute_result",
          "data": {
            "text/plain": [
              "((3,), (3, 1))"
            ]
          },
          "metadata": {
            "tags": []
          },
          "execution_count": 29
        }
      ]
    },
    {
      "cell_type": "markdown",
      "metadata": {
        "id": "jwa1O9pjaWzJ"
      },
      "source": [
        "$$\n",
        "heights\\_1 \\in R^3\n",
        "$$"
      ]
    },
    {
      "cell_type": "markdown",
      "metadata": {
        "id": "vstN5n-JaizZ"
      },
      "source": [
        "$$\n",
        "heights\\_2 \\in R^{3\\times1} =  R^{3}\n",
        "$$"
      ]
    },
    {
      "cell_type": "markdown",
      "metadata": {
        "id": "a_5orSvEavrh"
      },
      "source": [
        "사이킷런, 텐서플로우 같은 머신러닝 프레임워크에서는 무조건 2차원 배열로 데이터를 받는다.\n",
        "\n",
        "* 열벡터의 모양을 띄고 있거나\n",
        "* 2차원이상의 배열을 사용해야 한다."
      ]
    },
    {
      "cell_type": "markdown",
      "metadata": {
        "id": "hRYRt44WbGTc"
      },
      "source": [
        "사람의 키 정보를 3개를 모았어요\n",
        "```python\n",
        "heights = [1,2,3] # 오류\n",
        "heights = [[1],[2],[3]] # 허용\n",
        "```"
      ]
    },
    {
      "cell_type": "markdown",
      "metadata": {
        "id": "s6o0YrtvbbdU"
      },
      "source": [
        "heights1과 heights2는 같은 배열일까요? `No`\n",
        "  * heights1은 1차원 배열, heights2는 2차원 배열\n",
        "\n",
        "heights1과 heights2는 같은 벡터일까요? `Yes`\n",
        "  * heights1은 numpy에서는 행벡터의 모양을 하고 있지만 실제 수학적으로는 `열벡터`이다.\n",
        "  * heights2는 열의 수가 1개인 열벡터의 모양을 하고 있다.\n",
        "\n",
        "대부분의 머신러닝 라이브러리는 기본적인 데이터의 취급을 **열벡터**로 하기 때문에 2차원 배열 이상부터 취급한다."
      ]
    },
    {
      "cell_type": "markdown",
      "metadata": {
        "id": "LaAVBxDlcSIb"
      },
      "source": [
        "## 행렬 - matrix\n",
        "* 2차원 배열\n",
        "* 1차원 배열인 벡터가 여러개 모여 있는 것\n",
        "  * ```python\n",
        "      person_info = [[180.1, 33, 80.5],\n",
        "                      [175.1, 32, 77.3]]\n",
        "    ```"
      ]
    },
    {
      "cell_type": "markdown",
      "metadata": {
        "id": "zoRjkZqKc65D"
      },
      "source": [
        "## 텐서 - tensor\n",
        "* 3차원 이상의 배열을 의미한다.\n",
        "* 3차원 배열(3차원 텐서)은 2차원 배열이 모여있다.\n",
        "* 4차원 배열(4차원 텐서)은 3차원 배열이 모여있다.\n",
        "* `N차원 배열`을 그냥 텐서라고 한다.\n",
        "  * `N`이 꼭 3부터는 아니에요...\n",
        "* 텐서의 개념을 활용하면 모든 배열의 모양을 이야기 할 수 있다.\n",
        "  * `0 Rank Tensor` - 스칼라\n",
        "  * `1 Rank Tensor` - 벡터\n",
        "  * `2 Rank Tensor` - 행렬\n",
        "  * `3 Rank Tensor` - 3랭크 텐서...\n",
        "* Tensorflow는 뭘까요...?\n",
        "  * 구글에서 제공하는 딥러닝 프레임워크\n",
        "  * Tensor를 흘린다(flow)\n",
        "  * 미리 흘릴 네트워크를 준비하고 거기에 배열(데이터)을 흘린다."
      ]
    },
    {
      "cell_type": "markdown",
      "metadata": {
        "id": "LAI3k4O5dhYo"
      },
      "source": [
        "# axis 이해하기\n",
        "axis : 축. 축이란? 데이터가 추가되는 방향의 **인덱스**\n",
        "\n",
        "예를 들어서 3차원 (3, 4, 5)\n",
        "* 3차원 배열에 추가되는건 2차원 배열 -> axis=0\n",
        "* 2차원 배열에 추가되는건 1차원 배열 -> axis=1\n",
        "* 1차원 배열에 추가되는건 0차원 스칼라 -> axis=2"
      ]
    },
    {
      "cell_type": "code",
      "metadata": {
        "colab": {
          "base_uri": "https://localhost:8080/"
        },
        "id": "S_LpehjLh0Z7",
        "outputId": "2e8564ae-da55-4a83-e916-f0a3b8bcdffd"
      },
      "source": [
        "arr = np.arange(1, 37).reshape(3, 4, 3)\n",
        "arr"
      ],
      "execution_count": 30,
      "outputs": [
        {
          "output_type": "execute_result",
          "data": {
            "text/plain": [
              "array([[[ 1,  2,  3],\n",
              "        [ 4,  5,  6],\n",
              "        [ 7,  8,  9],\n",
              "        [10, 11, 12]],\n",
              "\n",
              "       [[13, 14, 15],\n",
              "        [16, 17, 18],\n",
              "        [19, 20, 21],\n",
              "        [22, 23, 24]],\n",
              "\n",
              "       [[25, 26, 27],\n",
              "        [28, 29, 30],\n",
              "        [31, 32, 33],\n",
              "        [34, 35, 36]]])"
            ]
          },
          "metadata": {
            "tags": []
          },
          "execution_count": 30
        }
      ]
    },
    {
      "cell_type": "code",
      "metadata": {
        "colab": {
          "base_uri": "https://localhost:8080/"
        },
        "id": "7cYiKPriiRyp",
        "outputId": "c5481b45-8e9b-4cf1-bc68-7d2e6d2c33e2"
      },
      "source": [
        "np.max(arr, axis=0)"
      ],
      "execution_count": 31,
      "outputs": [
        {
          "output_type": "execute_result",
          "data": {
            "text/plain": [
              "array([[25, 26, 27],\n",
              "       [28, 29, 30],\n",
              "       [31, 32, 33],\n",
              "       [34, 35, 36]])"
            ]
          },
          "metadata": {
            "tags": []
          },
          "execution_count": 31
        }
      ]
    },
    {
      "cell_type": "code",
      "metadata": {
        "colab": {
          "base_uri": "https://localhost:8080/"
        },
        "id": "25-B8uhXi97T",
        "outputId": "20431769-f31a-4dc3-d9f0-45609b45de9a"
      },
      "source": [
        "arr = np.random.randint(1, 37, size=(3,4,3))\n",
        "arr"
      ],
      "execution_count": 32,
      "outputs": [
        {
          "output_type": "execute_result",
          "data": {
            "text/plain": [
              "array([[[19,  1, 33],\n",
              "        [ 6, 34, 29],\n",
              "        [ 8,  1, 17],\n",
              "        [15,  5, 14]],\n",
              "\n",
              "       [[ 8, 10, 29],\n",
              "        [ 7, 35, 18],\n",
              "        [22, 21, 33],\n",
              "        [35, 36,  2]],\n",
              "\n",
              "       [[23,  2, 11],\n",
              "        [ 4, 31, 24],\n",
              "        [23, 10,  6],\n",
              "        [12, 12, 12]]])"
            ]
          },
          "metadata": {
            "tags": []
          },
          "execution_count": 32
        }
      ]
    },
    {
      "cell_type": "code",
      "metadata": {
        "colab": {
          "base_uri": "https://localhost:8080/"
        },
        "id": "TTR4_FgxjINo",
        "outputId": "b612075a-48b0-49a5-8b5b-cabf1190fc81"
      },
      "source": [
        "np.max(arr, axis=2)"
      ],
      "execution_count": 33,
      "outputs": [
        {
          "output_type": "execute_result",
          "data": {
            "text/plain": [
              "array([[33, 34, 17, 15],\n",
              "       [29, 35, 33, 36],\n",
              "       [23, 31, 23, 12]])"
            ]
          },
          "metadata": {
            "tags": []
          },
          "execution_count": 33
        }
      ]
    },
    {
      "cell_type": "code",
      "metadata": {
        "colab": {
          "base_uri": "https://localhost:8080/"
        },
        "id": "CVoEWE67jZ5m",
        "outputId": "0f56008e-1f7a-48ac-e72e-0a60fbddca34"
      },
      "source": [
        "arr = np.random.randint(1, 37, size=(3,3,3,3))\n",
        "arr"
      ],
      "execution_count": 34,
      "outputs": [
        {
          "output_type": "execute_result",
          "data": {
            "text/plain": [
              "array([[[[18, 23, 31],\n",
              "         [26, 22, 35],\n",
              "         [29, 11, 29]],\n",
              "\n",
              "        [[ 5, 33, 10],\n",
              "         [13, 17,  8],\n",
              "         [22, 12, 35]],\n",
              "\n",
              "        [[33, 19, 25],\n",
              "         [ 7, 17, 32],\n",
              "         [13, 33, 13]]],\n",
              "\n",
              "\n",
              "       [[[27, 29, 14],\n",
              "         [ 6, 15, 12],\n",
              "         [22, 29, 20]],\n",
              "\n",
              "        [[ 1, 29, 32],\n",
              "         [32,  8, 28],\n",
              "         [33, 20, 25]],\n",
              "\n",
              "        [[ 4, 11, 31],\n",
              "         [17, 19,  6],\n",
              "         [10, 32, 23]]],\n",
              "\n",
              "\n",
              "       [[[ 1,  6, 16],\n",
              "         [20, 18, 11],\n",
              "         [25, 27, 10]],\n",
              "\n",
              "        [[ 2, 26,  8],\n",
              "         [33,  6, 11],\n",
              "         [22, 17, 34]],\n",
              "\n",
              "        [[23, 32, 14],\n",
              "         [32, 15, 31],\n",
              "         [24, 16,  7]]]])"
            ]
          },
          "metadata": {
            "tags": []
          },
          "execution_count": 34
        }
      ]
    },
    {
      "cell_type": "code",
      "metadata": {
        "colab": {
          "base_uri": "https://localhost:8080/"
        },
        "id": "VNt9-M3ikAfj",
        "outputId": "3873dd53-a9df-4cdd-c237-dc41e75d7782"
      },
      "source": [
        "np.max(arr, axis=0)"
      ],
      "execution_count": 35,
      "outputs": [
        {
          "output_type": "execute_result",
          "data": {
            "text/plain": [
              "array([[[27, 29, 31],\n",
              "        [26, 22, 35],\n",
              "        [29, 29, 29]],\n",
              "\n",
              "       [[ 5, 33, 32],\n",
              "        [33, 17, 28],\n",
              "        [33, 20, 35]],\n",
              "\n",
              "       [[33, 32, 31],\n",
              "        [32, 19, 32],\n",
              "        [24, 33, 23]]])"
            ]
          },
          "metadata": {
            "tags": []
          },
          "execution_count": 35
        }
      ]
    },
    {
      "cell_type": "code",
      "metadata": {
        "colab": {
          "base_uri": "https://localhost:8080/"
        },
        "id": "sr9bpgfx9Y4I",
        "outputId": "56990ae1-0b85-46de-d8f6-a90c3357ffd3"
      },
      "source": [
        "# 스칼라에는 axis가 있을까? x\n",
        "# 1차원 배열에는 axis가 몇개이라요? 1개 -> axis=0 밖에 없음\n",
        "\n",
        "a = np.arange(5) # 1차원 배열에는 스칼라만 추가 되니까...\n",
        "a"
      ],
      "execution_count": 36,
      "outputs": [
        {
          "output_type": "execute_result",
          "data": {
            "text/plain": [
              "array([0, 1, 2, 3, 4])"
            ]
          },
          "metadata": {
            "tags": []
          },
          "execution_count": 36
        }
      ]
    },
    {
      "cell_type": "code",
      "metadata": {
        "colab": {
          "base_uri": "https://localhost:8080/"
        },
        "id": "7RuFAZaq9ZVD",
        "outputId": "28f53b6c-dcec-45c9-b9d8-b1da1cca829e"
      },
      "source": [
        "np.max(a, axis=0) # OK"
      ],
      "execution_count": 37,
      "outputs": [
        {
          "output_type": "execute_result",
          "data": {
            "text/plain": [
              "4"
            ]
          },
          "metadata": {
            "tags": []
          },
          "execution_count": 37
        }
      ]
    },
    {
      "cell_type": "code",
      "metadata": {
        "colab": {
          "base_uri": "https://localhost:8080/"
        },
        "id": "LWlfmYx39ZP_",
        "outputId": "a69297a5-188e-461f-ee1a-bc1fb8976519"
      },
      "source": [
        "a = np.random.randint(6, size=(2, 3)) # 2차원 배열\n",
        "a"
      ],
      "execution_count": 38,
      "outputs": [
        {
          "output_type": "execute_result",
          "data": {
            "text/plain": [
              "array([[1, 1, 4],\n",
              "       [1, 3, 5]])"
            ]
          },
          "metadata": {
            "tags": []
          },
          "execution_count": 38
        }
      ]
    },
    {
      "cell_type": "markdown",
      "metadata": {
        "id": "y73DBP6A9Y7c"
      },
      "source": [
        "* a는 2차원 배열임\n",
        "* a에서 어떤 데이터가 늘어나나요? -> 1차원 배열이 늘어나죠 -> axis=0\n",
        "* a[???] -> 2차원 배열인 a에서 1차원 배열을 선택을 한거죠 -> 1차원 배열에서 스칼라가 늘어나는 방향 -> axis=1 "
      ]
    },
    {
      "cell_type": "code",
      "metadata": {
        "colab": {
          "base_uri": "https://localhost:8080/"
        },
        "id": "tMP_6T4A9Y_Q",
        "outputId": "7a2678f0-f625-43e0-f5c9-153c23ef45fa"
      },
      "source": [
        "np.max(a, axis=0) # 1차원 배열이 추가되는 방향"
      ],
      "execution_count": 39,
      "outputs": [
        {
          "output_type": "execute_result",
          "data": {
            "text/plain": [
              "array([1, 3, 5])"
            ]
          },
          "metadata": {
            "tags": []
          },
          "execution_count": 39
        }
      ]
    },
    {
      "cell_type": "code",
      "metadata": {
        "colab": {
          "base_uri": "https://localhost:8080/"
        },
        "id": "lmb7Fb3Y9ZA0",
        "outputId": "aa18a4de-0495-45d0-871d-9e7312ad030c"
      },
      "source": [
        "a = np.arange(36).reshape(3,4,3)\n",
        "a"
      ],
      "execution_count": 40,
      "outputs": [
        {
          "output_type": "execute_result",
          "data": {
            "text/plain": [
              "array([[[ 0,  1,  2],\n",
              "        [ 3,  4,  5],\n",
              "        [ 6,  7,  8],\n",
              "        [ 9, 10, 11]],\n",
              "\n",
              "       [[12, 13, 14],\n",
              "        [15, 16, 17],\n",
              "        [18, 19, 20],\n",
              "        [21, 22, 23]],\n",
              "\n",
              "       [[24, 25, 26],\n",
              "        [27, 28, 29],\n",
              "        [30, 31, 32],\n",
              "        [33, 34, 35]]])"
            ]
          },
          "metadata": {
            "tags": []
          },
          "execution_count": 40
        }
      ]
    },
    {
      "cell_type": "markdown",
      "metadata": {
        "id": "NW-w4hk8ALZR"
      },
      "source": [
        ""
      ]
    },
    {
      "cell_type": "markdown",
      "metadata": {
        "id": "wdSd0RaBkMkS"
      },
      "source": [
        "# 슬라이싱"
      ]
    },
    {
      "cell_type": "code",
      "metadata": {
        "colab": {
          "base_uri": "https://localhost:8080/"
        },
        "id": "KYJzp84HkgCl",
        "outputId": "1685388d-309b-48bd-eb65-c4f8da05bb54"
      },
      "source": [
        "arr = np.arange(1, 37).reshape(3,4,3)\n",
        "arr"
      ],
      "execution_count": 41,
      "outputs": [
        {
          "output_type": "execute_result",
          "data": {
            "text/plain": [
              "array([[[ 1,  2,  3],\n",
              "        [ 4,  5,  6],\n",
              "        [ 7,  8,  9],\n",
              "        [10, 11, 12]],\n",
              "\n",
              "       [[13, 14, 15],\n",
              "        [16, 17, 18],\n",
              "        [19, 20, 21],\n",
              "        [22, 23, 24]],\n",
              "\n",
              "       [[25, 26, 27],\n",
              "        [28, 29, 30],\n",
              "        [31, 32, 33],\n",
              "        [34, 35, 36]]])"
            ]
          },
          "metadata": {
            "tags": []
          },
          "execution_count": 41
        }
      ]
    },
    {
      "cell_type": "code",
      "metadata": {
        "colab": {
          "base_uri": "https://localhost:8080/"
        },
        "id": "3thGCnVakmH8",
        "outputId": "4cf57600-7524-4c5d-dba8-a95a31bcac39"
      },
      "source": [
        "arr[ : , 1:3, 1:]"
      ],
      "execution_count": 42,
      "outputs": [
        {
          "output_type": "execute_result",
          "data": {
            "text/plain": [
              "array([[[ 5,  6],\n",
              "        [ 8,  9]],\n",
              "\n",
              "       [[17, 18],\n",
              "        [20, 21]],\n",
              "\n",
              "       [[29, 30],\n",
              "        [32, 33]]])"
            ]
          },
          "metadata": {
            "tags": []
          },
          "execution_count": 42
        }
      ]
    },
    {
      "cell_type": "markdown",
      "metadata": {
        "id": "9HTdzhlclaL5"
      },
      "source": [
        "spread 연산자"
      ]
    },
    {
      "cell_type": "code",
      "metadata": {
        "colab": {
          "base_uri": "https://localhost:8080/"
        },
        "id": "_JSP6HRblvHk",
        "outputId": "4580157b-d22d-4227-c256-88710cde73b0"
      },
      "source": [
        "arr = np.arange(36).reshape(2, 3, 3, 2)\n",
        "arr"
      ],
      "execution_count": 43,
      "outputs": [
        {
          "output_type": "execute_result",
          "data": {
            "text/plain": [
              "array([[[[ 0,  1],\n",
              "         [ 2,  3],\n",
              "         [ 4,  5]],\n",
              "\n",
              "        [[ 6,  7],\n",
              "         [ 8,  9],\n",
              "         [10, 11]],\n",
              "\n",
              "        [[12, 13],\n",
              "         [14, 15],\n",
              "         [16, 17]]],\n",
              "\n",
              "\n",
              "       [[[18, 19],\n",
              "         [20, 21],\n",
              "         [22, 23]],\n",
              "\n",
              "        [[24, 25],\n",
              "         [26, 27],\n",
              "         [28, 29]],\n",
              "\n",
              "        [[30, 31],\n",
              "         [32, 33],\n",
              "         [34, 35]]]])"
            ]
          },
          "metadata": {
            "tags": []
          },
          "execution_count": 43
        }
      ]
    },
    {
      "cell_type": "code",
      "metadata": {
        "colab": {
          "base_uri": "https://localhost:8080/"
        },
        "id": "nonoJDegly5r",
        "outputId": "183e49c1-5781-4562-925c-ec55c5402d3b"
      },
      "source": [
        "arr[0, :, :, 0]"
      ],
      "execution_count": 44,
      "outputs": [
        {
          "output_type": "execute_result",
          "data": {
            "text/plain": [
              "array([[ 0,  2,  4],\n",
              "       [ 6,  8, 10],\n",
              "       [12, 14, 16]])"
            ]
          },
          "metadata": {
            "tags": []
          },
          "execution_count": 44
        }
      ]
    },
    {
      "cell_type": "code",
      "metadata": {
        "colab": {
          "base_uri": "https://localhost:8080/"
        },
        "id": "qdTZy7w5l-68",
        "outputId": "93557a1f-e91a-4d53-af45-7465f7cb485b"
      },
      "source": [
        "arr[0, ..., 0] # spread 연산자"
      ],
      "execution_count": 45,
      "outputs": [
        {
          "output_type": "execute_result",
          "data": {
            "text/plain": [
              "array([[ 0,  2,  4],\n",
              "       [ 6,  8, 10],\n",
              "       [12, 14, 16]])"
            ]
          },
          "metadata": {
            "tags": []
          },
          "execution_count": 45
        }
      ]
    },
    {
      "cell_type": "markdown",
      "metadata": {
        "id": "zhaNjUlOmE0x"
      },
      "source": [
        "이런게 있다 정도만 보고 넘어가세요"
      ]
    },
    {
      "cell_type": "markdown",
      "metadata": {
        "id": "eGM1y2H1mXm2"
      },
      "source": [
        "보통 이미지 데이터를 딥러닝에서 사용하고자 하면 : `(N, H, W, C)`\n",
        "* `N` : 이미지의 개수\n",
        "* `H` : 세로 픽셀의 개수\n",
        "* `W` : 가로 픽셀의 개수\n",
        "* `C` : 채널수(컬러 RGB : 3, GRAYSCALE : 1)"
      ]
    },
    {
      "cell_type": "code",
      "metadata": {
        "id": "mjSMBG0NmoBQ"
      },
      "source": [
        "# 훈련에 사용할 이미지의 형상(shape)을 확인 : (60000, 28, 28, 1)\n",
        "# matplotlib에서 흑백 이미지를 표시하고 싶으면 (28, 28)\n",
        "# images = [60000, 28, 28, 1] -> images[0, ..., 0] -> (28, 28)"
      ],
      "execution_count": 46,
      "outputs": []
    },
    {
      "cell_type": "markdown",
      "metadata": {
        "id": "y1urNioXnbkz"
      },
      "source": [
        "# 차원 추가( 차원수 확장 )\n",
        "* 흑백 이미지를 가져 왔는데 형상이 `(28, 28)`\n",
        "* 딥러닝에서 이미지를 다루고자 하면 `(N,H,W,C)`를 유지 해야 한다.\n",
        "* `(28, 28)` -> `(1, 28, 28, 1)`로 만들어야 딥러닝에서 다룰 수가 있다.\n",
        "* 원하는 차원 위치에 `np.newaxis`를 추가하면 된다.\n",
        "  * numpy : `np.newaxis`\n",
        "  * tensorflow : `tf.newaxis`"
      ]
    },
    {
      "cell_type": "code",
      "metadata": {
        "colab": {
          "base_uri": "https://localhost:8080/"
        },
        "id": "3Znhx0Vknf-z",
        "outputId": "5aa3cbf3-70b5-41fd-d2fc-cc18a1f67f35"
      },
      "source": [
        "arr = np.random.rand(28, 28)\n",
        "arr.shape"
      ],
      "execution_count": 47,
      "outputs": [
        {
          "output_type": "execute_result",
          "data": {
            "text/plain": [
              "(28, 28)"
            ]
          },
          "metadata": {
            "tags": []
          },
          "execution_count": 47
        }
      ]
    },
    {
      "cell_type": "markdown",
      "metadata": {
        "id": "rKJtTXdDoDWJ"
      },
      "source": [
        "`(28, 28)`형식의 배열은 `(H, W)` 정보만 존재하는 상태 -> `(1, 28, 28, 1)` 형태로 만들어 줘야 이미지 분석(CNN)을 할 수 있다."
      ]
    },
    {
      "cell_type": "code",
      "metadata": {
        "colab": {
          "base_uri": "https://localhost:8080/"
        },
        "id": "j4-k1Hi6oNi_",
        "outputId": "641f78fd-9c54-41e5-869a-c8e4851c88d9"
      },
      "source": [
        "temp_arr = arr[np.newaxis, :, :, np.newaxis]\n",
        "temp_arr.shape"
      ],
      "execution_count": 48,
      "outputs": [
        {
          "output_type": "execute_result",
          "data": {
            "text/plain": [
              "(1, 28, 28, 1)"
            ]
          },
          "metadata": {
            "tags": []
          },
          "execution_count": 48
        }
      ]
    },
    {
      "cell_type": "code",
      "metadata": {
        "colab": {
          "base_uri": "https://localhost:8080/"
        },
        "id": "SJPz3FUtoTs5",
        "outputId": "c1110c36-5142-468b-da96-0b9afc6bdee1"
      },
      "source": [
        "temp_arr = arr[np.newaxis, ..., np.newaxis]\n",
        "temp_arr.shape"
      ],
      "execution_count": 49,
      "outputs": [
        {
          "output_type": "execute_result",
          "data": {
            "text/plain": [
              "(1, 28, 28, 1)"
            ]
          },
          "metadata": {
            "tags": []
          },
          "execution_count": 49
        }
      ]
    },
    {
      "cell_type": "markdown",
      "metadata": {
        "id": "RL7sA31LoYG3"
      },
      "source": [
        "# 차원 쥐어 짜기\n",
        "* `np.squeeze`\n",
        "* 개수가 1인 차원의 내용을 없애는 기법"
      ]
    },
    {
      "cell_type": "code",
      "metadata": {
        "colab": {
          "base_uri": "https://localhost:8080/"
        },
        "id": "9ayklmw8osIj",
        "outputId": "7bb09b18-05d4-48e6-d55d-4715d5562b5c"
      },
      "source": [
        "temp_arr.shape"
      ],
      "execution_count": 50,
      "outputs": [
        {
          "output_type": "execute_result",
          "data": {
            "text/plain": [
              "(1, 28, 28, 1)"
            ]
          },
          "metadata": {
            "tags": []
          },
          "execution_count": 50
        }
      ]
    },
    {
      "cell_type": "code",
      "metadata": {
        "colab": {
          "base_uri": "https://localhost:8080/"
        },
        "id": "vGT2UGFEovAe",
        "outputId": "26e26649-1ee9-4ce6-b225-de35f78d437e"
      },
      "source": [
        "temp_squeeze = np.squeeze(temp_arr)\n",
        "temp_squeeze.shape"
      ],
      "execution_count": 51,
      "outputs": [
        {
          "output_type": "execute_result",
          "data": {
            "text/plain": [
              "(28, 28)"
            ]
          },
          "metadata": {
            "tags": []
          },
          "execution_count": 51
        }
      ]
    },
    {
      "cell_type": "markdown",
      "metadata": {
        "id": "Op7lSVcJo6B5"
      },
      "source": [
        "# 평탄화\n",
        "* 2차원 이상의 배열을 1차원 배열로 평평하게 펴주는 것 (★★★★★)\n",
        "  * `ravel` : 원본 배열을 평탄화 시킨 **참조**배열을 만들어 낸다. (View 또는 Reference라고 한다.)\n",
        "  * `flatten` : 원본 배열을 평탄화 시킨 **복사된**배열을 만들어 낸다.\n",
        "\n",
        "`ravel`은 원본 배열에 수정이 가해질 가능성이 있고, `flatten`은 원본 배열에 영향을 미치지 않는다."
      ]
    },
    {
      "cell_type": "code",
      "metadata": {
        "colab": {
          "base_uri": "https://localhost:8080/"
        },
        "id": "1YCrdiflpUzI",
        "outputId": "c0cfa0f5-10ac-480c-b8aa-d0e728d70880"
      },
      "source": [
        "x = np.random.randint(15, size=(3, 5))\n",
        "x.shape"
      ],
      "execution_count": 52,
      "outputs": [
        {
          "output_type": "execute_result",
          "data": {
            "text/plain": [
              "(3, 5)"
            ]
          },
          "metadata": {
            "tags": []
          },
          "execution_count": 52
        }
      ]
    },
    {
      "cell_type": "code",
      "metadata": {
        "colab": {
          "base_uri": "https://localhost:8080/"
        },
        "id": "KvszRxh1pvi_",
        "outputId": "cca85c6e-fa42-440a-8e2c-9c36ef01f250"
      },
      "source": [
        "x"
      ],
      "execution_count": 53,
      "outputs": [
        {
          "output_type": "execute_result",
          "data": {
            "text/plain": [
              "array([[ 8,  0,  5,  5, 13],\n",
              "       [ 7,  7,  9,  4, 14],\n",
              "       [11, 13,  4,  0,  6]])"
            ]
          },
          "metadata": {
            "tags": []
          },
          "execution_count": 53
        }
      ]
    },
    {
      "cell_type": "markdown",
      "metadata": {
        "id": "bpGXv8Fkpwke"
      },
      "source": [
        "## ravel"
      ]
    },
    {
      "cell_type": "code",
      "metadata": {
        "colab": {
          "base_uri": "https://localhost:8080/"
        },
        "id": "HK3IoZnDp4NG",
        "outputId": "98804d3e-7cd1-4fa8-b5c1-86ad25472aa2"
      },
      "source": [
        "temp = np.ravel(x)\n",
        "temp.shape"
      ],
      "execution_count": 54,
      "outputs": [
        {
          "output_type": "execute_result",
          "data": {
            "text/plain": [
              "(15,)"
            ]
          },
          "metadata": {
            "tags": []
          },
          "execution_count": 54
        }
      ]
    },
    {
      "cell_type": "code",
      "metadata": {
        "colab": {
          "base_uri": "https://localhost:8080/"
        },
        "id": "9kqosKprp7X4",
        "outputId": "61f01c91-fe4c-47d1-bd0f-cf4b7722e7b8"
      },
      "source": [
        "temp"
      ],
      "execution_count": 55,
      "outputs": [
        {
          "output_type": "execute_result",
          "data": {
            "text/plain": [
              "array([ 8,  0,  5,  5, 13,  7,  7,  9,  4, 14, 11, 13,  4,  0,  6])"
            ]
          },
          "metadata": {
            "tags": []
          },
          "execution_count": 55
        }
      ]
    },
    {
      "cell_type": "code",
      "metadata": {
        "colab": {
          "base_uri": "https://localhost:8080/"
        },
        "id": "wEj0m188p9R-",
        "outputId": "f7f7c243-183b-4d32-c054-7f7bca766215"
      },
      "source": [
        "temp[0] = 100\n",
        "temp"
      ],
      "execution_count": 56,
      "outputs": [
        {
          "output_type": "execute_result",
          "data": {
            "text/plain": [
              "array([100,   0,   5,   5,  13,   7,   7,   9,   4,  14,  11,  13,   4,\n",
              "         0,   6])"
            ]
          },
          "metadata": {
            "tags": []
          },
          "execution_count": 56
        }
      ]
    },
    {
      "cell_type": "code",
      "metadata": {
        "colab": {
          "base_uri": "https://localhost:8080/"
        },
        "id": "KINHjwxeqD8u",
        "outputId": "fad1c379-6d24-4a2f-c679-88085685cf6c"
      },
      "source": [
        "x"
      ],
      "execution_count": 57,
      "outputs": [
        {
          "output_type": "execute_result",
          "data": {
            "text/plain": [
              "array([[100,   0,   5,   5,  13],\n",
              "       [  7,   7,   9,   4,  14],\n",
              "       [ 11,  13,   4,   0,   6]])"
            ]
          },
          "metadata": {
            "tags": []
          },
          "execution_count": 57
        }
      ]
    },
    {
      "cell_type": "code",
      "metadata": {
        "colab": {
          "base_uri": "https://localhost:8080/"
        },
        "id": "0ihszoAzrLkm",
        "outputId": "d1cd74ca-495a-4d77-e98d-083f9afccbe6"
      },
      "source": [
        "x[1][3] = 50000\n",
        "temp"
      ],
      "execution_count": 58,
      "outputs": [
        {
          "output_type": "execute_result",
          "data": {
            "text/plain": [
              "array([  100,     0,     5,     5,    13,     7,     7,     9, 50000,\n",
              "          14,    11,    13,     4,     0,     6])"
            ]
          },
          "metadata": {
            "tags": []
          },
          "execution_count": 58
        }
      ]
    },
    {
      "cell_type": "markdown",
      "metadata": {
        "id": "FILzpid2ril9"
      },
      "source": [
        "## flatten"
      ]
    },
    {
      "cell_type": "code",
      "metadata": {
        "colab": {
          "base_uri": "https://localhost:8080/"
        },
        "id": "a8K8tkASro9t",
        "outputId": "8e0a8dc9-db50-49a6-b6f6-ecc3a027de2a"
      },
      "source": [
        "x = np.random.randint(15, size=(3, 5))\n",
        "x.shape"
      ],
      "execution_count": 59,
      "outputs": [
        {
          "output_type": "execute_result",
          "data": {
            "text/plain": [
              "(3, 5)"
            ]
          },
          "metadata": {
            "tags": []
          },
          "execution_count": 59
        }
      ]
    },
    {
      "cell_type": "code",
      "metadata": {
        "colab": {
          "base_uri": "https://localhost:8080/"
        },
        "id": "12K2Oi17rrqF",
        "outputId": "9cafae70-fca9-4f6a-8e9b-82f674693ba0"
      },
      "source": [
        "temp_flatten = x.flatten()\n",
        "temp_flatten.shape"
      ],
      "execution_count": 60,
      "outputs": [
        {
          "output_type": "execute_result",
          "data": {
            "text/plain": [
              "(15,)"
            ]
          },
          "metadata": {
            "tags": []
          },
          "execution_count": 60
        }
      ]
    },
    {
      "cell_type": "code",
      "metadata": {
        "colab": {
          "base_uri": "https://localhost:8080/"
        },
        "id": "htl83qeOrucb",
        "outputId": "6ac0c86c-18d5-48a1-cffd-1617484c1711"
      },
      "source": [
        "temp_flatten[0] = 100\n",
        "temp_flatten"
      ],
      "execution_count": 61,
      "outputs": [
        {
          "output_type": "execute_result",
          "data": {
            "text/plain": [
              "array([100,  12,   7,   3,   9,   0,  12,  12,  10,   9,   3,   2,   3,\n",
              "         8,  13])"
            ]
          },
          "metadata": {
            "tags": []
          },
          "execution_count": 61
        }
      ]
    },
    {
      "cell_type": "code",
      "metadata": {
        "colab": {
          "base_uri": "https://localhost:8080/"
        },
        "id": "lFOYLl0KrwEQ",
        "outputId": "a694404d-7067-42e4-dfc9-511b36b50b20"
      },
      "source": [
        "x"
      ],
      "execution_count": 62,
      "outputs": [
        {
          "output_type": "execute_result",
          "data": {
            "text/plain": [
              "array([[ 6, 12,  7,  3,  9],\n",
              "       [ 0, 12, 12, 10,  9],\n",
              "       [ 3,  2,  3,  8, 13]])"
            ]
          },
          "metadata": {
            "tags": []
          },
          "execution_count": 62
        }
      ]
    },
    {
      "cell_type": "markdown",
      "metadata": {
        "id": "rCKlVq-SrxGF"
      },
      "source": [
        "원본 데이터를 안전하게 관리할 수 있기 때문에 ravel보다 flatten을 많이 사용해요"
      ]
    },
    {
      "cell_type": "markdown",
      "metadata": {
        "id": "g9qHFBMjr8VE"
      },
      "source": [
        "# reshape\n",
        "배열의 형상을 재구성하는 것"
      ]
    },
    {
      "cell_type": "code",
      "metadata": {
        "colab": {
          "base_uri": "https://localhost:8080/"
        },
        "id": "lG6iTyjusV7c",
        "outputId": "1d618ad2-9812-4067-8be3-93069f44255a"
      },
      "source": [
        "x = np.arange(20)\n",
        "x"
      ],
      "execution_count": 63,
      "outputs": [
        {
          "output_type": "execute_result",
          "data": {
            "text/plain": [
              "array([ 0,  1,  2,  3,  4,  5,  6,  7,  8,  9, 10, 11, 12, 13, 14, 15, 16,\n",
              "       17, 18, 19])"
            ]
          },
          "metadata": {
            "tags": []
          },
          "execution_count": 63
        }
      ]
    },
    {
      "cell_type": "code",
      "metadata": {
        "colab": {
          "base_uri": "https://localhost:8080/"
        },
        "id": "jPiLUILdBFGK",
        "outputId": "c7b3626c-b391-47bd-92c6-895db55631bc"
      },
      "source": [
        "x.reshape(2, 10)"
      ],
      "execution_count": 64,
      "outputs": [
        {
          "output_type": "execute_result",
          "data": {
            "text/plain": [
              "array([[ 0,  1,  2,  3,  4,  5,  6,  7,  8,  9],\n",
              "       [10, 11, 12, 13, 14, 15, 16, 17, 18, 19]])"
            ]
          },
          "metadata": {
            "tags": []
          },
          "execution_count": 64
        }
      ]
    },
    {
      "cell_type": "code",
      "metadata": {
        "colab": {
          "base_uri": "https://localhost:8080/"
        },
        "id": "H6yuRaWyBVKF",
        "outputId": "d10269da-fdf7-420f-befe-c6e33d885840"
      },
      "source": [
        "x.reshape(4, 5)"
      ],
      "execution_count": 65,
      "outputs": [
        {
          "output_type": "execute_result",
          "data": {
            "text/plain": [
              "array([[ 0,  1,  2,  3,  4],\n",
              "       [ 5,  6,  7,  8,  9],\n",
              "       [10, 11, 12, 13, 14],\n",
              "       [15, 16, 17, 18, 19]])"
            ]
          },
          "metadata": {
            "tags": []
          },
          "execution_count": 65
        }
      ]
    },
    {
      "cell_type": "code",
      "metadata": {
        "colab": {
          "base_uri": "https://localhost:8080/"
        },
        "id": "Vo_4QCqrBbpV",
        "outputId": "1285cf38-6e7d-45a0-f28e-25998f960eeb"
      },
      "source": [
        "x.reshape(5, 4)"
      ],
      "execution_count": 66,
      "outputs": [
        {
          "output_type": "execute_result",
          "data": {
            "text/plain": [
              "array([[ 0,  1,  2,  3],\n",
              "       [ 4,  5,  6,  7],\n",
              "       [ 8,  9, 10, 11],\n",
              "       [12, 13, 14, 15],\n",
              "       [16, 17, 18, 19]])"
            ]
          },
          "metadata": {
            "tags": []
          },
          "execution_count": 66
        }
      ]
    },
    {
      "cell_type": "markdown",
      "metadata": {
        "id": "LumfF-esBftt"
      },
      "source": [
        "reshape 팁 : reshape 함수 내의 모든 숫자를 곱했을 때 스칼라 원소의 개수와 같으면 된다."
      ]
    },
    {
      "cell_type": "code",
      "metadata": {
        "colab": {
          "base_uri": "https://localhost:8080/"
        },
        "id": "FsfSBivaBmAV",
        "outputId": "ee328b4d-94c4-444d-8a9b-4f1eb28fed12"
      },
      "source": [
        "x.reshape(2, 5, 2) # 가능"
      ],
      "execution_count": 67,
      "outputs": [
        {
          "output_type": "execute_result",
          "data": {
            "text/plain": [
              "array([[[ 0,  1],\n",
              "        [ 2,  3],\n",
              "        [ 4,  5],\n",
              "        [ 6,  7],\n",
              "        [ 8,  9]],\n",
              "\n",
              "       [[10, 11],\n",
              "        [12, 13],\n",
              "        [14, 15],\n",
              "        [16, 17],\n",
              "        [18, 19]]])"
            ]
          },
          "metadata": {
            "tags": []
          },
          "execution_count": 67
        }
      ]
    },
    {
      "cell_type": "markdown",
      "metadata": {
        "id": "iQSAEyKPBt49"
      },
      "source": [
        "reshape의 -1은 조커"
      ]
    },
    {
      "cell_type": "code",
      "metadata": {
        "colab": {
          "base_uri": "https://localhost:8080/"
        },
        "id": "v1OOrMb3B4pI",
        "outputId": "8c13afe6-483b-4844-e395-15da6e706002"
      },
      "source": [
        "x.reshape(2, -1, 2)"
      ],
      "execution_count": 68,
      "outputs": [
        {
          "output_type": "execute_result",
          "data": {
            "text/plain": [
              "array([[[ 0,  1],\n",
              "        [ 2,  3],\n",
              "        [ 4,  5],\n",
              "        [ 6,  7],\n",
              "        [ 8,  9]],\n",
              "\n",
              "       [[10, 11],\n",
              "        [12, 13],\n",
              "        [14, 15],\n",
              "        [16, 17],\n",
              "        [18, 19]]])"
            ]
          },
          "metadata": {
            "tags": []
          },
          "execution_count": 68
        }
      ]
    },
    {
      "cell_type": "code",
      "metadata": {
        "colab": {
          "base_uri": "https://localhost:8080/",
          "height": 176
        },
        "id": "zi-SW7N4B9Nm",
        "outputId": "3ce8db83-9773-4e9f-b13b-9d5bcb4affdc"
      },
      "source": [
        "x.reshape(2, -1, -1)"
      ],
      "execution_count": 70,
      "outputs": [
        {
          "output_type": "error",
          "ename": "ValueError",
          "evalue": "ignored",
          "traceback": [
            "\u001b[0;31m---------------------------------------------------------------------------\u001b[0m",
            "\u001b[0;31mValueError\u001b[0m                                Traceback (most recent call last)",
            "\u001b[0;32m<ipython-input-70-4e44a6058e80>\u001b[0m in \u001b[0;36m<module>\u001b[0;34m()\u001b[0m\n\u001b[0;32m----> 1\u001b[0;31m \u001b[0mx\u001b[0m\u001b[0;34m.\u001b[0m\u001b[0mreshape\u001b[0m\u001b[0;34m(\u001b[0m\u001b[0;36m2\u001b[0m\u001b[0;34m,\u001b[0m \u001b[0;34m-\u001b[0m\u001b[0;36m1\u001b[0m\u001b[0;34m,\u001b[0m \u001b[0;34m-\u001b[0m\u001b[0;36m1\u001b[0m\u001b[0;34m)\u001b[0m\u001b[0;34m\u001b[0m\u001b[0;34m\u001b[0m\u001b[0m\n\u001b[0m",
            "\u001b[0;31mValueError\u001b[0m: can only specify one unknown dimension"
          ]
        }
      ]
    },
    {
      "cell_type": "markdown",
      "metadata": {
        "id": "pPKQEWGACC9U"
      },
      "source": [
        "`(60000, 28, 28, 1)` -> `(60000, ?)`"
      ]
    },
    {
      "cell_type": "code",
      "metadata": {
        "id": "2liNnFQvCNIk"
      },
      "source": [
        "arr = np.random.randn(60000, 28, 28, 3)\n",
        "arr.shape"
      ],
      "execution_count": null,
      "outputs": []
    },
    {
      "cell_type": "code",
      "metadata": {
        "id": "n1g44oocCUCP"
      },
      "source": [
        "arr1 = arr.reshape(60000, -1, 3)\n",
        "arr1.shape"
      ],
      "execution_count": null,
      "outputs": []
    },
    {
      "cell_type": "code",
      "metadata": {
        "id": "NMY_62qRChys"
      },
      "source": [
        "# 코드 리펙터링\n",
        "IMAGE_SIZE = arr.shape[0]\n",
        "IMAGE_CH   = arr.shape[-1]\n",
        "\n",
        "arr.reshape(IMAGE_SIZE, -1 ,IMAGE_CH).shape"
      ],
      "execution_count": null,
      "outputs": []
    },
    {
      "cell_type": "markdown",
      "metadata": {
        "id": "BQ-xr-pLDz4V"
      },
      "source": [
        "# 브로드캐스팅\n",
        "* 차원 수가 다른 배열끼리 연산\n",
        "* 차원이 달라도 0차원 스칼라의 개수가 똑같으면 연산이 가능\n",
        "* 저차원 배열을 고차원 배열로 확장\n",
        "  * 수학적으로 따지게 되면 고차원 배열의 shape과 똑같이 생긴 1벡터(np.ones)를 만들어서 저차원 배열과 곱한 배열을 만들어서 계산\n"
      ]
    },
    {
      "cell_type": "code",
      "metadata": {
        "id": "U0uB9vZ6ES2_"
      },
      "source": [
        "x = np.arange(20).reshape(4, 5)\n",
        "y = np.arange(20, 40).reshape(4, 5)\n",
        "\n",
        "x.shape, y.shape"
      ],
      "execution_count": null,
      "outputs": []
    },
    {
      "cell_type": "code",
      "metadata": {
        "id": "FZMqkldwE6qM"
      },
      "source": [
        "x + y"
      ],
      "execution_count": null,
      "outputs": []
    },
    {
      "cell_type": "code",
      "metadata": {
        "id": "s-eOza2SE7_D"
      },
      "source": [
        "x * y"
      ],
      "execution_count": null,
      "outputs": []
    },
    {
      "cell_type": "markdown",
      "metadata": {
        "id": "6QJ256JzE_66"
      },
      "source": [
        "브로드 캐스팅은 저차원을 고차원으로 임시로 늘려주는 것"
      ]
    },
    {
      "cell_type": "code",
      "metadata": {
        "id": "zVqjWvC0FHJG"
      },
      "source": [
        "x + 2"
      ],
      "execution_count": null,
      "outputs": []
    },
    {
      "cell_type": "markdown",
      "metadata": {
        "id": "c5Cd8xKiFJRa"
      },
      "source": [
        "# shape이 다를 때의 연산"
      ]
    },
    {
      "cell_type": "code",
      "metadata": {
        "id": "PTy7yTHnGBOn"
      },
      "source": [
        "a = np.arange(12).reshape(4, 3)  # (4, 3)\n",
        "b = np.arange(100, 103)          # (3, )\n",
        "c = np.arange(1000, 1004)        # (4, )\n",
        "d = b.reshape(1, 3)              # (1, 3)\n",
        "e = np.arange(0, 4).reshape(4, 1)# (4, 1)"
      ],
      "execution_count": null,
      "outputs": []
    },
    {
      "cell_type": "code",
      "metadata": {
        "id": "o2jWHLGhGdwY"
      },
      "source": [
        "a + b"
      ],
      "execution_count": null,
      "outputs": []
    },
    {
      "cell_type": "code",
      "metadata": {
        "id": "ABcus7nRGlqQ"
      },
      "source": [
        "a + c"
      ],
      "execution_count": null,
      "outputs": []
    },
    {
      "cell_type": "code",
      "metadata": {
        "id": "hJiH0MIOHH8A"
      },
      "source": [
        "a = np.arange(12).reshape(4, 3)  # (4, 3)\n",
        "a"
      ],
      "execution_count": null,
      "outputs": []
    },
    {
      "cell_type": "code",
      "metadata": {
        "id": "2K77jM_JIWmD"
      },
      "source": [
        "a"
      ],
      "execution_count": null,
      "outputs": []
    },
    {
      "cell_type": "code",
      "metadata": {
        "colab": {
          "base_uri": "https://localhost:8080/"
        },
        "id": "GktJokreIYb6",
        "outputId": "036f22ea-5394-4389-bf12-5415351a129e"
      },
      "source": [
        "a = np.arange(12).reshape(4, 3)\n",
        "a"
      ],
      "execution_count": 71,
      "outputs": [
        {
          "output_type": "execute_result",
          "data": {
            "text/plain": [
              "array([[ 0,  1,  2],\n",
              "       [ 3,  4,  5],\n",
              "       [ 6,  7,  8],\n",
              "       [ 9, 10, 11]])"
            ]
          },
          "metadata": {
            "tags": []
          },
          "execution_count": 71
        }
      ]
    },
    {
      "cell_type": "code",
      "metadata": {
        "colab": {
          "base_uri": "https://localhost:8080/"
        },
        "id": "FIsWYtqMKNcC",
        "outputId": "235f1283-f03c-4834-84e1-3abcbcfff356"
      },
      "source": [
        "b = np.arange(100, 103)  \n",
        "b"
      ],
      "execution_count": 73,
      "outputs": [
        {
          "output_type": "execute_result",
          "data": {
            "text/plain": [
              "array([100, 101, 102])"
            ]
          },
          "metadata": {
            "tags": []
          },
          "execution_count": 73
        }
      ]
    },
    {
      "cell_type": "code",
      "metadata": {
        "id": "9x5VO2uCKQov"
      },
      "source": [
        ""
      ],
      "execution_count": null,
      "outputs": []
    }
  ]
}