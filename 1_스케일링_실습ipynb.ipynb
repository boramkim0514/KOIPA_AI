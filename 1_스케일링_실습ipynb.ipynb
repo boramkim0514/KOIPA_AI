{
  "nbformat": 4,
  "nbformat_minor": 0,
  "metadata": {
    "colab": {
      "name": "1.스케일링 실습ipynb",
      "provenance": [],
      "authorship_tag": "ABX9TyNJOkkPzNkt3kusvF8tDjAf",
      "include_colab_link": true
    },
    "kernelspec": {
      "name": "python3",
      "display_name": "Python 3"
    },
    "language_info": {
      "name": "python"
    }
  },
  "cells": [
    {
      "cell_type": "markdown",
      "metadata": {
        "id": "view-in-github",
        "colab_type": "text"
      },
      "source": [
        "<a href=\"https://colab.research.google.com/github/boramkim0514/KOIPA_AI/blob/main/1_%EC%8A%A4%EC%BC%80%EC%9D%BC%EB%A7%81_%EC%8B%A4%EC%8A%B5ipynb.ipynb\" target=\"_parent\"><img src=\"https://colab.research.google.com/assets/colab-badge.svg\" alt=\"Open In Colab\"/></a>"
      ]
    },
    {
      "cell_type": "code",
      "metadata": {
        "id": "h9PqYV7EgMxI"
      },
      "source": [
        "from sklearn.datasets import load_breast_cancer\n",
        "from sklearn.model_selection import train_test_split"
      ],
      "execution_count": 1,
      "outputs": []
    },
    {
      "cell_type": "code",
      "metadata": {
        "id": "2qMp_bjpgYRh"
      },
      "source": [
        "cancer = load_breast_cancer()"
      ],
      "execution_count": 2,
      "outputs": []
    },
    {
      "cell_type": "code",
      "metadata": {
        "colab": {
          "base_uri": "https://localhost:8080/"
        },
        "id": "L57x7ly_gbd_",
        "outputId": "f84dc85d-86fd-4471-f0d3-97759eb460c2"
      },
      "source": [
        "X_train, X_test, y_train, y_test = train_test_split(\n",
        "    cancer['data'],\n",
        "    cancer['target'],\n",
        "    random_state=1\n",
        "\n",
        ")\n",
        "X_train.shape, X_test.shape\n"
      ],
      "execution_count": 3,
      "outputs": [
        {
          "output_type": "execute_result",
          "data": {
            "text/plain": [
              "((426, 30), (143, 30))"
            ]
          },
          "metadata": {
            "tags": []
          },
          "execution_count": 3
        }
      ]
    },
    {
      "cell_type": "code",
      "metadata": {
        "colab": {
          "base_uri": "https://localhost:8080/"
        },
        "id": "DoCd77FQgstO",
        "outputId": "2f192b60-dca7-47e0-d63b-a1de98254910"
      },
      "source": [
        "from sklearn.preprocessing import MinMaxScaler\n",
        "minmax_scaler = MinMaxScaler()\n",
        "\n",
        "#각 특성마다 최소, 최대값 계산\n",
        "minmax_scaler.fit(X_train)"
      ],
      "execution_count": 5,
      "outputs": [
        {
          "output_type": "execute_result",
          "data": {
            "text/plain": [
              "MinMaxScaler(copy=True, feature_range=(0, 1))"
            ]
          },
          "metadata": {
            "tags": []
          },
          "execution_count": 5
        }
      ]
    },
    {
      "cell_type": "code",
      "metadata": {
        "id": "LzgYOy4qgzx-"
      },
      "source": [
        "#실제 변환은 transform!\n",
        "X_train_scaled = minmax_scaler.transform(X_train)"
      ],
      "execution_count": 6,
      "outputs": []
    },
    {
      "cell_type": "markdown",
      "metadata": {
        "id": "-KoKRJnGhPHO"
      },
      "source": [
        "원본 데이터와 비교해보기"
      ]
    },
    {
      "cell_type": "code",
      "metadata": {
        "colab": {
          "base_uri": "https://localhost:8080/"
        },
        "id": "_KFN-oa5hU0_",
        "outputId": "f6704496-ac19-40d3-fa2c-445fbd2e4c53"
      },
      "source": [
        "print(\"스케일 조정 전 특성별 최소값 : \\n{}\".format(X_train.min(axis=0)))\n",
        "print(\"스케일 조정 전 특성별 최대값 : \\n{}\".format(X_train.max(axis=0)))\n",
        "\n",
        "print(\"스케일 조정 후 특성별 최소값 : \\n{}\".format(X_train_scaled.min(axis=0)))\n",
        "print(\"스케일 조정 후 특성별 최대값 : \\n{}\".format(X_train_scaled.max(axis=0)))"
      ],
      "execution_count": 12,
      "outputs": [
        {
          "output_type": "stream",
          "text": [
            "스케일 조정 전 특성별 최소값 : \n",
            "[6.981e+00 9.710e+00 4.379e+01 1.435e+02 5.263e-02 1.938e-02 0.000e+00\n",
            " 0.000e+00 1.060e-01 5.024e-02 1.153e-01 3.602e-01 7.570e-01 6.802e+00\n",
            " 1.713e-03 2.252e-03 0.000e+00 0.000e+00 9.539e-03 8.948e-04 7.930e+00\n",
            " 1.202e+01 5.041e+01 1.852e+02 7.117e-02 2.729e-02 0.000e+00 0.000e+00\n",
            " 1.566e-01 5.521e-02]\n",
            "스케일 조정 전 특성별 최대값 : \n",
            "[2.811e+01 3.928e+01 1.885e+02 2.501e+03 1.634e-01 2.867e-01 4.268e-01\n",
            " 2.012e-01 3.040e-01 9.575e-02 2.873e+00 4.885e+00 2.198e+01 5.422e+02\n",
            " 3.113e-02 1.354e-01 3.960e-01 5.279e-02 6.146e-02 2.984e-02 3.604e+01\n",
            " 4.954e+01 2.512e+02 4.254e+03 2.226e-01 9.379e-01 1.170e+00 2.910e-01\n",
            " 5.774e-01 1.486e-01]\n",
            "스케일 조정 후 특성별 최소값 : \n",
            "[0. 0. 0. 0. 0. 0. 0. 0. 0. 0. 0. 0. 0. 0. 0. 0. 0. 0. 0. 0. 0. 0. 0. 0.\n",
            " 0. 0. 0. 0. 0. 0.]\n",
            "스케일 조정 후 특성별 최대값 : \n",
            "[1. 1. 1. 1. 1. 1. 1. 1. 1. 1. 1. 1. 1. 1. 1. 1. 1. 1. 1. 1. 1. 1. 1. 1.\n",
            " 1. 1. 1. 1. 1. 1.]\n"
          ],
          "name": "stdout"
        }
      ]
    },
    {
      "cell_type": "markdown",
      "metadata": {
        "id": "Er6_p7DJhlUu"
      },
      "source": [
        "훈련 데이터를 바꿨으니까 테스트 데이터도 스케일링"
      ]
    },
    {
      "cell_type": "code",
      "metadata": {
        "colab": {
          "base_uri": "https://localhost:8080/"
        },
        "id": "UpJVhOhdixm_",
        "outputId": "a456f4b2-302b-4365-b067-435b681e50c3"
      },
      "source": [
        "X_test_scaled = minmax_scaler.transform(X_test)\n",
        "\n",
        "print(\"스케일 조정 후 테스트 세트의 특성별 최소값 \\n{}\".format(X_test_scaled.min(axis=0)))\n",
        "print(\"스케일 조정 후 테스트 세트의 특성별 최대값 \\n{}\".format(X_test_scaled.max(axis=0)))"
      ],
      "execution_count": 13,
      "outputs": [
        {
          "output_type": "stream",
          "text": [
            "스케일 조정 후 테스트 세트의 특성별 최소값 \n",
            "[ 0.0336031   0.0226581   0.03144219  0.01141039  0.14128374  0.04406704\n",
            "  0.          0.          0.1540404  -0.00615249 -0.00137796  0.00594501\n",
            "  0.00430665  0.00079567  0.03919502  0.0112206   0.          0.\n",
            " -0.03191387  0.00664013  0.02660975  0.05810235  0.02031974  0.00943767\n",
            "  0.1094235   0.02637792  0.          0.         -0.00023764 -0.00182032]\n",
            "스케일 조정 후 테스트 세트의 특성별 최대값 \n",
            "[0.9578778  0.81501522 0.95577362 0.89353128 0.81132075 1.21958701\n",
            " 0.87956888 0.9333996  0.93232323 1.0371347  0.42669616 0.49765736\n",
            " 0.44117231 0.28371044 0.48703131 0.73863671 0.76717172 0.62928585\n",
            " 1.33685792 0.39057253 0.89612238 0.79317697 0.84859804 0.74488793\n",
            " 0.9154725  1.13188961 1.07008547 0.92371134 1.20532319 1.63068851]\n"
          ],
          "name": "stdout"
        }
      ]
    },
    {
      "cell_type": "markdown",
      "metadata": {
        "id": "dppbq0EmkKnT"
      },
      "source": [
        "항상 스케일러는 TRAIN DATA SET로만 만들자!\n",
        "TEST DATA SET으로 만들면 원본 데이터 분포가 깨져버림"
      ]
    },
    {
      "cell_type": "code",
      "metadata": {
        "id": "E87eOTS6kVgv"
      },
      "source": [
        "SVC 모델과 스케일러의 "
      ],
      "execution_count": null,
      "outputs": []
    },
    {
      "cell_type": "markdown",
      "metadata": {
        "id": "mcYEvkwpoW6n"
      },
      "source": [
        "지도학습에서 데이터 전처리 효과"
      ]
    },
    {
      "cell_type": "code",
      "metadata": {
        "colab": {
          "base_uri": "https://localhost:8080/"
        },
        "id": "T7s0km_KiyMY",
        "outputId": "04d4a113-a519-4aa2-8ff4-0a038d916cd9"
      },
      "source": [
        "from sklearn.svm import SVC\n",
        "\n",
        "X_train, X_test, y_train, y_test = train_test_split(\n",
        "    cancer['data'],\n",
        "    cancer['target'],\n",
        "    random_state=0\n",
        ")\n",
        "\n",
        "svm = SVC(C=100)\n",
        "svm.fit(X_train, y_train)\n",
        "print(\"테스트 세트의 정확도: {:.2f}\".format(svm.score(X_test, y_test)))\n"
      ],
      "execution_count": 15,
      "outputs": [
        {
          "output_type": "stream",
          "text": [
            "테스트 세트의 정확도: 0.94\n"
          ],
          "name": "stdout"
        }
      ]
    },
    {
      "cell_type": "markdown",
      "metadata": {
        "id": "on3KYZjXpBLi"
      },
      "source": [
        "스케일 조중 하고 확인"
      ]
    },
    {
      "cell_type": "code",
      "metadata": {
        "id": "Pb1ELBG0pXie"
      },
      "source": [
        "scaler = MinMaxScaler() #모델 선정\n",
        "X_train_scaled = scaler.fit_transform(X_test) #X test 기준으로 핏과 트랜스폼을 동시에 \n",
        "X_test_scaled = scaler.transform(X_test) #항상 스케일러는 TRAIN DATA SET로만 만들자!TEST DATA SET으로 만들면 원본 데이터 분포가 깨져버림"
      ],
      "execution_count": 23,
      "outputs": []
    },
    {
      "cell_type": "code",
      "metadata": {
        "id": "FWOG4BuQplTO"
      },
      "source": [
        "#조정된 데이터로 SVM 학습\n",
        "svm.fit(X_train_scaled, y_train)\n",
        "\n",
        "#스케일 조정된 테스트 세트의 정확도\n",
        "#print(\"스케일 조정된 테스트 세트의 정확도: { :.2f}\".format(svm.score(X_test_scaled, y_test)))\n",
        "print(\"스케일 조정된 테스트 세트의 정확도 : {:.2f}\".format(svm.score(X_test_scaled, y_test)))"
      ],
      "execution_count": null,
      "outputs": []
    },
    {
      "cell_type": "markdown",
      "metadata": {
        "id": "awLjhiBKp8e3"
      },
      "source": [
        ""
      ]
    }
  ]
}