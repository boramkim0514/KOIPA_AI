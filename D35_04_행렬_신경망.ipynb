{
  "nbformat": 4,
  "nbformat_minor": 0,
  "metadata": {
    "colab": {
      "name": "D35_04.행렬 신경망.ipynb",
      "provenance": [],
      "authorship_tag": "ABX9TyPDjeYEvMoMfBezSdZriJfV",
      "include_colab_link": true
    },
    "kernelspec": {
      "name": "python3",
      "display_name": "Python 3"
    },
    "language_info": {
      "name": "python"
    }
  },
  "cells": [
    {
      "cell_type": "markdown",
      "metadata": {
        "id": "view-in-github",
        "colab_type": "text"
      },
      "source": [
        "<a href=\"https://colab.research.google.com/github/boramkim0514/KOIPA_AI/blob/main/D35_04_%ED%96%89%EB%A0%AC_%EC%8B%A0%EA%B2%BD%EB%A7%9D.ipynb\" target=\"_parent\"><img src=\"https://colab.research.google.com/assets/colab-badge.svg\" alt=\"Open In Colab\"/></a>"
      ]
    },
    {
      "cell_type": "code",
      "metadata": {
        "id": "vdan_M5fHweL"
      },
      "source": [
        "import numpy as np\n",
        "\n",
        "X = np.array([1, 2]) \n",
        "W = np.array([[1, 2, 3],\n",
        "              [4, 5, 6]]) #2개의 입력을 받는 3개의 뉴런 "
      ],
      "execution_count": 2,
      "outputs": []
    },
    {
      "cell_type": "code",
      "metadata": {
        "colab": {
          "base_uri": "https://localhost:8080/"
        },
        "id": "irv-HRu4IyWz",
        "outputId": "14693d2b-2698-454b-8cfd-f6df3535c994"
      },
      "source": [
        "print(\"입력값 x의 shape : {}\".format(X.shape))\n",
        "print(\"가중치 W의 shape : {}\".format(W.shape)) "
      ],
      "execution_count": 5,
      "outputs": [
        {
          "output_type": "stream",
          "text": [
            "입력값 x의 shape : (2,)\n",
            "가중치 W의 shape : (2, 3)\n"
          ],
          "name": "stdout"
        }
      ]
    },
    {
      "cell_type": "code",
      "metadata": {
        "colab": {
          "base_uri": "https://localhost:8080/"
        },
        "id": "nvfumYXjJX8L",
        "outputId": "d17494db-9315-4318-cc12-4e8d91552956"
      },
      "source": [
        "z = np.dot(X, W)\n",
        "print(\"출력값 z : {}\".format(z))"
      ],
      "execution_count": 6,
      "outputs": [
        {
          "output_type": "stream",
          "text": [
            "출력값 z : [ 9 12 15]\n"
          ],
          "name": "stdout"
        }
      ]
    },
    {
      "cell_type": "code",
      "metadata": {
        "colab": {
          "base_uri": "https://localhost:8080/"
        },
        "id": "qR5tYOMdJtED",
        "outputId": "839571fc-ba59-4ab8-b8f8-1376ca2883c6"
      },
      "source": [
        "W.T @ X"
      ],
      "execution_count": 7,
      "outputs": [
        {
          "output_type": "execute_result",
          "data": {
            "text/plain": [
              "array([ 9, 12, 15])"
            ]
          },
          "metadata": {
            "tags": []
          },
          "execution_count": 7
        }
      ]
    },
    {
      "cell_type": "markdown",
      "metadata": {
        "id": "9ptdCPavJ1QK"
      },
      "source": [
        "\n",
        "Z = W TX + B"
      ]
    },
    {
      "cell_type": "code",
      "metadata": {
        "id": "ZTsfmRumKsrj"
      },
      "source": [
        "# 시그모이드 함수 - 은닉층에서 사용 \n",
        "def sigmoid(x):\n",
        "    return 1 / (1 + np.exp(-x))\n",
        "\n",
        "# 항등 함수 구현 - 출력층에서 사용 할 것\n",
        "def identity_funtion(x):\n",
        "    return x\n",
        "    "
      ],
      "execution_count": 9,
      "outputs": []
    },
    {
      "cell_type": "code",
      "metadata": {
        "colab": {
          "base_uri": "https://localhost:8080/"
        },
        "id": "TEoNx-QcLPta",
        "outputId": "81ddd470-c4cf-4259-84fa-dd6d5e954bb6"
      },
      "source": [
        "X = np.array([1.0, 0.5])\n",
        "W1 = np.array([[0.1, 0.3, 0.5],\n",
        "               [0.2, 0.4, 0.6]])\n",
        "B1 = np.array([0.1, 0.2, 0.3])\n",
        "\n",
        "Z1 = np.dot(X, W1) + B1\n",
        "A1 = sigmoid(Z1)\n",
        "\n",
        "print(\"1층의 결과 : {}\".format(A1))"
      ],
      "execution_count": 10,
      "outputs": [
        {
          "output_type": "stream",
          "text": [
            "1층의 결과 : [0.57444252 0.66818777 0.75026011]\n"
          ],
          "name": "stdout"
        }
      ]
    },
    {
      "cell_type": "markdown",
      "metadata": {
        "id": "qmgkyJm5L2uF"
      },
      "source": [
        "\n",
        "# 2층 구현"
      ]
    },
    {
      "cell_type": "code",
      "metadata": {
        "colab": {
          "base_uri": "https://localhost:8080/"
        },
        "id": "HMoDrIwOMIQK",
        "outputId": "44925469-ffaf-4810-b717-f14b29920056"
      },
      "source": [
        "W2 = np.array([[0.1, 0.4],\n",
        "              [0.2, 0.5],\n",
        "              [0.3, 0.6]]) #3개의 입력 받는 2개의 뉴런 \n",
        "\n",
        "B2 = np.array([0.1, 0.2])\n",
        "\n",
        "Z2 = np.dot(A1, W2) + B2\n",
        "\n",
        "A2 = sigmoid(Z2)\n",
        "\n",
        "print(A1.shape, W2.shape, B2.shape) \n",
        "print(Z2.shape, A2.shape)\n",
        "print(\"2층의 결과 : {}\".format(A2))"
      ],
      "execution_count": 33,
      "outputs": [
        {
          "output_type": "stream",
          "text": [
            "(3,) (3, 2) (2,)\n",
            "(2,) (2,)\n",
            "2층의 결과 : [0.62624937 0.7710107 ]\n"
          ],
          "name": "stdout"
        }
      ]
    },
    {
      "cell_type": "markdown",
      "metadata": {
        "id": "PjycqyI4Nc_j"
      },
      "source": [
        "# 3층 구현\n"
      ]
    },
    {
      "cell_type": "code",
      "metadata": {
        "colab": {
          "base_uri": "https://localhost:8080/"
        },
        "id": "KEnCk175MeMy",
        "outputId": "4b1fb264-f2fe-4e15-c9ff-9c8ddf1c6d8e"
      },
      "source": [
        "W3 = np.array([[0.1, 0.4],\n",
        "              [0.1, 0.2]]) #2개의 입력을 받는 2개의 뉴런\n",
        "\n",
        "B3 = np.array([0.1, 0.4])\n",
        "\n",
        "#Z3 = np.dot(A2, W3) + B3\n",
        "Z3= A2 @ W3 + B3 # @ 내적\n",
        "\n",
        "A3 = identity_funtion(Z3)\n",
        "\n",
        "print(\"3층의 결과 :{}\".format(A3))\n",
        "\n",
        "print(A3)\n",
        "print(A2.shape, W3.shape, B3.shape)\n",
        "print(Z3.shape, A3.shape)"
      ],
      "execution_count": 35,
      "outputs": [
        {
          "output_type": "stream",
          "text": [
            "3층의 결과 :[0.23972601 0.80470189]\n",
            "[0.23972601 0.80470189]\n",
            "(2,) (2, 2) (2,)\n",
            "(2,) (2,)\n"
          ],
          "name": "stdout"
        }
      ]
    },
    {
      "cell_type": "markdown",
      "metadata": {
        "id": "xgf1da4bT6cD"
      },
      "source": [
        "# 순전파(Forward Propagation) 최종 구현"
      ]
    },
    {
      "cell_type": "code",
      "metadata": {
        "id": "BhuFB1yET-Ly"
      },
      "source": [
        "# 네트워크 초기화\n",
        "# 네트워크 최초로 가지고 있어야할 가중과 편향 설정\n",
        "# 보통 정규분포 랜덤으로 초기화 하거나, 카이밍 히, 사비에르 초깃값 활용\n",
        "\n",
        "def init_network(): \n",
        "    network = {}\n",
        "\n",
        "#1층 매개변수 초기화 \n",
        "    network[\"W1\"] = np.array([[0.1, 0.3, 0.5],\n",
        "                             [0.2, 0.4, 0.6]])\n",
        "    network[\"B1\"] = np.array([0.1, 0.2, 0.3])\n",
        "\n",
        "    # 2층 매개변호 초기화\n",
        "\n",
        "    network[\"W2\"] = np.array([[0.1, 0.4],\n",
        "                            [0.2, 0.5],\n",
        "                            [0.3, 0.6]])\n",
        "    \n",
        "    network[\"B2\"] = np.array([0.1, 0.2])\n",
        "\n",
        "    # 3층 매개변수 초기화\n",
        "    network[\"W3\"] = np.array([[0.1, 0.4],\n",
        "                            [0.1, 0.2]])\n",
        "    network[\"B3\"] = np.array([0.1, 0.2])\n",
        "\n",
        "    return network\n",
        "\n",
        "# 순전파 XW+B\n",
        "def forward(network, x): #x를 보내서 network에 넣어서 보냄 \n",
        "    # 가중치, 편향 꺼내기\n",
        "    W1, W2, W3 = network[\"W1\"], network[\"W2\"], network[\"W3\"] # 언팩킹\n",
        "    b1, b2, b3 = network[\"B1\"], network[\"B2\"], network[\"B3\"]\n",
        "\n",
        "    #1층 계산\n",
        "    Z1 = x @ W1 + b1\n",
        "    A1 = sigmoid(Z1)\n",
        "\n",
        "    #2층 계산\n",
        "    Z2 = A1 @ W2 + b2\n",
        "    A2 = sigmoid(Z2)\n",
        "\n",
        "    #3층 계산\n",
        "    Z3 = A2 @ W3 + b3\n",
        "    y = identity_funtion(Z3)\n",
        "\n",
        "    return y"
      ],
      "execution_count": 70,
      "outputs": []
    },
    {
      "cell_type": "code",
      "metadata": {
        "colab": {
          "base_uri": "https://localhost:8080/"
        },
        "id": "8YvXx-KdYju6",
        "outputId": "d2abd070-b7a4-4a1f-afd0-eebb199551f5"
      },
      "source": [
        "network = init_network() #network 변수에 init_network() 함수를 넣어주자\n",
        "x = np.array([1.0, 0.5]) # x 변수에 1.0과 0.5라는 실수 넘파이 배열을 담자\n",
        "y = forward(network, x) # y 변수에 forward 함수(network,? 를 넣어주자\n",
        "print(y)"
      ],
      "execution_count": 73,
      "outputs": [
        {
          "output_type": "stream",
          "text": [
            "[0.23972601 0.60470189]\n"
          ],
          "name": "stdout"
        }
      ]
    },
    {
      "cell_type": "markdown",
      "metadata": {
        "id": "ukNxnUrYctQS"
      },
      "source": [
        "# 5. "
      ]
    },
    {
      "cell_type": "code",
      "metadata": {
        "colab": {
          "base_uri": "https://localhost:8080/"
        },
        "id": "jjr8rP0lboUa",
        "outputId": "7f9d558b-d858-46e6-a950-6dd3cf9ec556"
      },
      "source": [
        "x = np.array([1.0, 0.5])\n",
        "x"
      ],
      "execution_count": 3,
      "outputs": [
        {
          "output_type": "execute_result",
          "data": {
            "text/plain": [
              "array([1. , 0.5])"
            ]
          },
          "metadata": {
            "tags": []
          },
          "execution_count": 3
        }
      ]
    },
    {
      "cell_type": "code",
      "metadata": {
        "id": "jmj5XD_TsfPP"
      },
      "source": [
        ""
      ],
      "execution_count": null,
      "outputs": []
    }
  ]
}